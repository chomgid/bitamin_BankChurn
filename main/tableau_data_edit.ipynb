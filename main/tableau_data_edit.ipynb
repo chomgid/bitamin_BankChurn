{
 "cells": [
  {
   "cell_type": "code",
   "execution_count": 1,
   "metadata": {
    "collapsed": true
   },
   "outputs": [],
   "source": [
    "import pandas as pd\n",
    "import numpy as np"
   ]
  },
  {
   "cell_type": "code",
   "execution_count": 42,
   "outputs": [
    {
     "name": "stdout",
     "output_type": "stream",
     "text": [
      "churn_proba.shape:  (115059, 1)\n",
      "full_data.shape:  (115059, 85)\n"
     ]
    }
   ],
   "source": [
    "churn_proba = pd.read_csv('../data/tableau_data/churn_proba.csv')\n",
    "full_data = pd.read_csv('../data/fill_data/full_data.csv')\n",
    "\n",
    "print(\"churn_proba.shape: \", churn_proba.shape)\n",
    "print(\"full_data.shape: \", full_data.shape)"
   ],
   "metadata": {
    "collapsed": false
   }
  },
  {
   "cell_type": "markdown",
   "source": [
    "#### set label"
   ],
   "metadata": {
    "collapsed": false
   }
  },
  {
   "cell_type": "code",
   "execution_count": 43,
   "outputs": [],
   "source": [
    "def set_label(prob):\n",
    "    if prob < 0.2:\n",
    "        return \"UnderTwo\"\n",
    "    elif (0.2 <= prob) & (prob < 0.4):\n",
    "        return \"TwotoFour\"\n",
    "    elif (0.4 <= prob) & (prob < 0.6):\n",
    "        return \"FourtoSix\"\n",
    "    elif (0.6 <= prob) & (prob < 0.8):\n",
    "        return \"SixtoEight\"\n",
    "    else:\n",
    "        return \"OverEight\""
   ],
   "metadata": {
    "collapsed": false
   }
  },
  {
   "cell_type": "code",
   "execution_count": 44,
   "outputs": [],
   "source": [
    "churn_proba.columns = ['prob']"
   ],
   "metadata": {
    "collapsed": false
   }
  },
  {
   "cell_type": "code",
   "execution_count": 45,
   "outputs": [],
   "source": [
    "churn_proba['churn_label'] = churn_proba.prob.apply(set_label)"
   ],
   "metadata": {
    "collapsed": false
   }
  },
  {
   "cell_type": "code",
   "execution_count": 46,
   "outputs": [],
   "source": [
    "churn_proba['num'] = 1"
   ],
   "metadata": {
    "collapsed": false
   }
  },
  {
   "cell_type": "code",
   "execution_count": 47,
   "outputs": [
    {
     "data": {
      "text/plain": "            prob churn_label  num\n0       0.791554  SixtoEight    1\n1       0.829057   OverEight    1\n2       0.749934  SixtoEight    1\n3       0.384220   TwotoFour    1\n4       0.718923  SixtoEight    1\n...          ...         ...  ...\n115054  0.622695  SixtoEight    1\n115055  0.788018  SixtoEight    1\n115056  0.818909   OverEight    1\n115057  0.827668   OverEight    1\n115058  0.549302   FourtoSix    1\n\n[115059 rows x 3 columns]",
      "text/html": "<div>\n<style scoped>\n    .dataframe tbody tr th:only-of-type {\n        vertical-align: middle;\n    }\n\n    .dataframe tbody tr th {\n        vertical-align: top;\n    }\n\n    .dataframe thead th {\n        text-align: right;\n    }\n</style>\n<table border=\"1\" class=\"dataframe\">\n  <thead>\n    <tr style=\"text-align: right;\">\n      <th></th>\n      <th>prob</th>\n      <th>churn_label</th>\n      <th>num</th>\n    </tr>\n  </thead>\n  <tbody>\n    <tr>\n      <th>0</th>\n      <td>0.791554</td>\n      <td>SixtoEight</td>\n      <td>1</td>\n    </tr>\n    <tr>\n      <th>1</th>\n      <td>0.829057</td>\n      <td>OverEight</td>\n      <td>1</td>\n    </tr>\n    <tr>\n      <th>2</th>\n      <td>0.749934</td>\n      <td>SixtoEight</td>\n      <td>1</td>\n    </tr>\n    <tr>\n      <th>3</th>\n      <td>0.384220</td>\n      <td>TwotoFour</td>\n      <td>1</td>\n    </tr>\n    <tr>\n      <th>4</th>\n      <td>0.718923</td>\n      <td>SixtoEight</td>\n      <td>1</td>\n    </tr>\n    <tr>\n      <th>...</th>\n      <td>...</td>\n      <td>...</td>\n      <td>...</td>\n    </tr>\n    <tr>\n      <th>115054</th>\n      <td>0.622695</td>\n      <td>SixtoEight</td>\n      <td>1</td>\n    </tr>\n    <tr>\n      <th>115055</th>\n      <td>0.788018</td>\n      <td>SixtoEight</td>\n      <td>1</td>\n    </tr>\n    <tr>\n      <th>115056</th>\n      <td>0.818909</td>\n      <td>OverEight</td>\n      <td>1</td>\n    </tr>\n    <tr>\n      <th>115057</th>\n      <td>0.827668</td>\n      <td>OverEight</td>\n      <td>1</td>\n    </tr>\n    <tr>\n      <th>115058</th>\n      <td>0.549302</td>\n      <td>FourtoSix</td>\n      <td>1</td>\n    </tr>\n  </tbody>\n</table>\n<p>115059 rows × 3 columns</p>\n</div>"
     },
     "execution_count": 47,
     "metadata": {},
     "output_type": "execute_result"
    }
   ],
   "source": [
    "churn_proba"
   ],
   "metadata": {
    "collapsed": false
   }
  },
  {
   "cell_type": "markdown",
   "source": [
    "#### rfm"
   ],
   "metadata": {
    "collapsed": false
   }
  },
  {
   "cell_type": "code",
   "execution_count": 48,
   "outputs": [
    {
     "data": {
      "text/plain": "         E1  C2_m3       C1_m3\n0       965    2.0    50024.17\n1       368    7.0   420114.56\n2       199    2.0    67007.14\n3       120    1.0      610.81\n4        40    1.0     4781.40\n...     ...    ...         ...\n115054  267    2.0    20000.21\n115055   54    2.0    50003.17\n115056   34    2.0    80002.53\n115057   39    2.0   200010.95\n115058  859    1.0  1025322.07\n\n[115059 rows x 3 columns]",
      "text/html": "<div>\n<style scoped>\n    .dataframe tbody tr th:only-of-type {\n        vertical-align: middle;\n    }\n\n    .dataframe tbody tr th {\n        vertical-align: top;\n    }\n\n    .dataframe thead th {\n        text-align: right;\n    }\n</style>\n<table border=\"1\" class=\"dataframe\">\n  <thead>\n    <tr style=\"text-align: right;\">\n      <th></th>\n      <th>E1</th>\n      <th>C2_m3</th>\n      <th>C1_m3</th>\n    </tr>\n  </thead>\n  <tbody>\n    <tr>\n      <th>0</th>\n      <td>965</td>\n      <td>2.0</td>\n      <td>50024.17</td>\n    </tr>\n    <tr>\n      <th>1</th>\n      <td>368</td>\n      <td>7.0</td>\n      <td>420114.56</td>\n    </tr>\n    <tr>\n      <th>2</th>\n      <td>199</td>\n      <td>2.0</td>\n      <td>67007.14</td>\n    </tr>\n    <tr>\n      <th>3</th>\n      <td>120</td>\n      <td>1.0</td>\n      <td>610.81</td>\n    </tr>\n    <tr>\n      <th>4</th>\n      <td>40</td>\n      <td>1.0</td>\n      <td>4781.40</td>\n    </tr>\n    <tr>\n      <th>...</th>\n      <td>...</td>\n      <td>...</td>\n      <td>...</td>\n    </tr>\n    <tr>\n      <th>115054</th>\n      <td>267</td>\n      <td>2.0</td>\n      <td>20000.21</td>\n    </tr>\n    <tr>\n      <th>115055</th>\n      <td>54</td>\n      <td>2.0</td>\n      <td>50003.17</td>\n    </tr>\n    <tr>\n      <th>115056</th>\n      <td>34</td>\n      <td>2.0</td>\n      <td>80002.53</td>\n    </tr>\n    <tr>\n      <th>115057</th>\n      <td>39</td>\n      <td>2.0</td>\n      <td>200010.95</td>\n    </tr>\n    <tr>\n      <th>115058</th>\n      <td>859</td>\n      <td>1.0</td>\n      <td>1025322.07</td>\n    </tr>\n  </tbody>\n</table>\n<p>115059 rows × 3 columns</p>\n</div>"
     },
     "execution_count": 48,
     "metadata": {},
     "output_type": "execute_result"
    }
   ],
   "source": [
    "full_data[['E1', 'C2_m3', 'C1_m3']] # recency, frequency, monetary"
   ],
   "metadata": {
    "collapsed": false
   }
  },
  {
   "cell_type": "code",
   "execution_count": 49,
   "outputs": [],
   "source": [
    "tableau_data = pd.concat([churn_proba, full_data], axis = 1)"
   ],
   "metadata": {
    "collapsed": false
   }
  },
  {
   "cell_type": "code",
   "execution_count": 27,
   "outputs": [],
   "source": [
    "tableau_data.to_csv('../data/tableau_data/tableau_data.csv', index = None)"
   ],
   "metadata": {
    "collapsed": false,
    "pycharm": {
     "name": "#%%ㅇ\n"
    }
   }
  },
  {
   "cell_type": "markdown",
   "source": [
    "#### table join"
   ],
   "metadata": {
    "collapsed": false
   }
  },
  {
   "cell_type": "code",
   "execution_count": 28,
   "outputs": [],
   "source": [
    "rfm_data = pd.read_csv('../data/tableau_data/rfm.csv')"
   ],
   "metadata": {
    "collapsed": false
   }
  },
  {
   "cell_type": "code",
   "execution_count": 30,
   "outputs": [
    {
     "name": "stdout",
     "output_type": "stream",
     "text": [
      "rfm_data.shape:  (54719, 28)\n"
     ]
    }
   ],
   "source": [
    "print(\"rfm_data.shape: \", rfm_data.shape)"
   ],
   "metadata": {
    "collapsed": false
   }
  },
  {
   "cell_type": "code",
   "execution_count": 31,
   "outputs": [
    {
     "data": {
      "text/plain": "42309"
     },
     "execution_count": 31,
     "metadata": {},
     "output_type": "execute_result"
    }
   ],
   "source": [
    "len(rfm_data.cust_no.unique())"
   ],
   "metadata": {
    "collapsed": false
   }
  },
  {
   "cell_type": "code",
   "execution_count": 33,
   "outputs": [],
   "source": [
    "rfm_data.loc[rfm_data.duplicated(subset = ['cust_no']), 'cust_no'] = rfm_data.loc[rfm_data.duplicated(subset = ['cust_no']), 'cust_no'].apply(lambda x : x + \"d\")"
   ],
   "metadata": {
    "collapsed": false
   }
  },
  {
   "cell_type": "code",
   "execution_count": 35,
   "outputs": [
    {
     "data": {
      "text/plain": "54719"
     },
     "execution_count": 35,
     "metadata": {},
     "output_type": "execute_result"
    }
   ],
   "source": [
    "len(rfm_data.cust_no.unique())"
   ],
   "metadata": {
    "collapsed": false
   }
  },
  {
   "cell_type": "code",
   "execution_count": 54,
   "outputs": [],
   "source": [
    "# merge\n",
    "final_tableau = pd.merge(tableau_data, rfm_data)\n",
    "final_tableau.to_csv('../data/tableau_data/final_tableau.csv', index = None)"
   ],
   "metadata": {
    "collapsed": false
   }
  },
  {
   "cell_type": "code",
   "execution_count": 55,
   "outputs": [
    {
     "data": {
      "text/plain": "           prob churn_label  num      cust_no    E1      E2      E3  E4  E5  \\\n0      0.791554  SixtoEight    1   0xb2d283b6   965   965.0   965.0   1   0   \n1      0.829057   OverEight    1   0xb2d62fab   368   368.0   368.0   0   1   \n2      0.242605   TwotoFour    1   0xb2d50930   441   441.0   441.0   1   1   \n3      0.684543  SixtoEight    1   0xb2d6c8b9   167   167.0   167.0   1   1   \n4      0.825115   OverEight    1   0xb2d1fa70  1272  1272.0  1272.0   1   1   \n...         ...         ...  ...          ...   ...     ...     ...  ..  ..   \n54714  0.703219  SixtoEight    1  0xb2d23dc6d  1078  1078.0  1078.0   1   0   \n54715  0.816060   OverEight    1  0xb2d0bb2ad  1639  1639.0  1639.0   1   1   \n54716  0.829829   OverEight    1  0xb2d0756fd  1816  1448.0  1448.0   1   1   \n54717  0.826207   OverEight    1   0xb2d1031b  1545  1545.0  1545.0   1   0   \n54718  0.549302   FourtoSix    1  0xb2d32b39d   859   859.0   859.0   1   1   \n\n          E6  ...  정기 예금 평균잔액    입출금 통장 평균잔액    금융 상품 평균잔액  펀드 평균잔액  \\\n0      209.0  ...         0.0      62.220000      0.000000      0.0   \n1      173.0  ...         0.0   16704.573333  60000.000000      0.0   \n2      441.0  ...         0.0     152.823333      0.000000      0.0   \n3      100.0  ...         0.0   32914.293333      0.000000      0.0   \n4      230.0  ...         0.0     225.276667  56666.666667      0.0   \n...      ...  ...         ...            ...           ...      ...   \n54714  374.0  ...         0.0     645.100000      0.000000      0.0   \n54715  510.0  ...         0.0    1626.273333      0.000000      0.0   \n54716  566.0  ...         0.0    4318.353333      0.000000      0.0   \n54717  599.0  ...         0.0      65.013333      0.000000      0.0   \n54718  306.0  ...         0.0  358652.016667      0.000000      0.0   \n\n            대출 평균잔액           ltv  predicted_transactions  \\\n0      0.000000e+00  2.000887e+04                1.313113   \n1      0.000000e+00  1.000263e+06               11.357649   \n2      0.000000e+00  4.359387e+01                0.295517   \n3      0.000000e+00  6.416033e+05               23.532572   \n4      0.000000e+00  6.855655e+05                3.239118   \n...             ...           ...                     ...   \n54714  1.537608e+06  1.334006e+06                1.823539   \n54715  0.000000e+00  1.370431e+05                0.430691   \n54716  0.000000e+00  4.016812e+04                0.198846   \n54717  0.000000e+00  1.945469e+04                0.665285   \n54718  2.446667e+06  1.893763e+06                1.581556   \n\n       predicted_monetary_value    scaled_ltv  segment  \n0                  2.804109e+04  1.131649e-05      4등급  \n1                  1.620640e+05  5.657226e-04      1등급  \n2                  2.714704e+02  2.465556e-08      4등급  \n3                  5.016919e+04  3.628741e-04      1등급  \n4                  3.894851e+05  3.877380e-04      1등급  \n...                         ...           ...      ...  \n54714              1.346163e+06  7.544791e-04      1등급  \n54715              5.855656e+05  7.750802e-05      3등급  \n54716              3.717506e+05  2.271804e-05      3등급  \n54717              5.381513e+04  1.100306e-05      4등급  \n54718              2.203517e+06  1.071063e-03      1등급  \n\n[54719 rows x 115 columns]",
      "text/html": "<div>\n<style scoped>\n    .dataframe tbody tr th:only-of-type {\n        vertical-align: middle;\n    }\n\n    .dataframe tbody tr th {\n        vertical-align: top;\n    }\n\n    .dataframe thead th {\n        text-align: right;\n    }\n</style>\n<table border=\"1\" class=\"dataframe\">\n  <thead>\n    <tr style=\"text-align: right;\">\n      <th></th>\n      <th>prob</th>\n      <th>churn_label</th>\n      <th>num</th>\n      <th>cust_no</th>\n      <th>E1</th>\n      <th>E2</th>\n      <th>E3</th>\n      <th>E4</th>\n      <th>E5</th>\n      <th>E6</th>\n      <th>...</th>\n      <th>정기 예금 평균잔액</th>\n      <th>입출금 통장 평균잔액</th>\n      <th>금융 상품 평균잔액</th>\n      <th>펀드 평균잔액</th>\n      <th>대출 평균잔액</th>\n      <th>ltv</th>\n      <th>predicted_transactions</th>\n      <th>predicted_monetary_value</th>\n      <th>scaled_ltv</th>\n      <th>segment</th>\n    </tr>\n  </thead>\n  <tbody>\n    <tr>\n      <th>0</th>\n      <td>0.791554</td>\n      <td>SixtoEight</td>\n      <td>1</td>\n      <td>0xb2d283b6</td>\n      <td>965</td>\n      <td>965.0</td>\n      <td>965.0</td>\n      <td>1</td>\n      <td>0</td>\n      <td>209.0</td>\n      <td>...</td>\n      <td>0.0</td>\n      <td>62.220000</td>\n      <td>0.000000</td>\n      <td>0.0</td>\n      <td>0.000000e+00</td>\n      <td>2.000887e+04</td>\n      <td>1.313113</td>\n      <td>2.804109e+04</td>\n      <td>1.131649e-05</td>\n      <td>4등급</td>\n    </tr>\n    <tr>\n      <th>1</th>\n      <td>0.829057</td>\n      <td>OverEight</td>\n      <td>1</td>\n      <td>0xb2d62fab</td>\n      <td>368</td>\n      <td>368.0</td>\n      <td>368.0</td>\n      <td>0</td>\n      <td>1</td>\n      <td>173.0</td>\n      <td>...</td>\n      <td>0.0</td>\n      <td>16704.573333</td>\n      <td>60000.000000</td>\n      <td>0.0</td>\n      <td>0.000000e+00</td>\n      <td>1.000263e+06</td>\n      <td>11.357649</td>\n      <td>1.620640e+05</td>\n      <td>5.657226e-04</td>\n      <td>1등급</td>\n    </tr>\n    <tr>\n      <th>2</th>\n      <td>0.242605</td>\n      <td>TwotoFour</td>\n      <td>1</td>\n      <td>0xb2d50930</td>\n      <td>441</td>\n      <td>441.0</td>\n      <td>441.0</td>\n      <td>1</td>\n      <td>1</td>\n      <td>441.0</td>\n      <td>...</td>\n      <td>0.0</td>\n      <td>152.823333</td>\n      <td>0.000000</td>\n      <td>0.0</td>\n      <td>0.000000e+00</td>\n      <td>4.359387e+01</td>\n      <td>0.295517</td>\n      <td>2.714704e+02</td>\n      <td>2.465556e-08</td>\n      <td>4등급</td>\n    </tr>\n    <tr>\n      <th>3</th>\n      <td>0.684543</td>\n      <td>SixtoEight</td>\n      <td>1</td>\n      <td>0xb2d6c8b9</td>\n      <td>167</td>\n      <td>167.0</td>\n      <td>167.0</td>\n      <td>1</td>\n      <td>1</td>\n      <td>100.0</td>\n      <td>...</td>\n      <td>0.0</td>\n      <td>32914.293333</td>\n      <td>0.000000</td>\n      <td>0.0</td>\n      <td>0.000000e+00</td>\n      <td>6.416033e+05</td>\n      <td>23.532572</td>\n      <td>5.016919e+04</td>\n      <td>3.628741e-04</td>\n      <td>1등급</td>\n    </tr>\n    <tr>\n      <th>4</th>\n      <td>0.825115</td>\n      <td>OverEight</td>\n      <td>1</td>\n      <td>0xb2d1fa70</td>\n      <td>1272</td>\n      <td>1272.0</td>\n      <td>1272.0</td>\n      <td>1</td>\n      <td>1</td>\n      <td>230.0</td>\n      <td>...</td>\n      <td>0.0</td>\n      <td>225.276667</td>\n      <td>56666.666667</td>\n      <td>0.0</td>\n      <td>0.000000e+00</td>\n      <td>6.855655e+05</td>\n      <td>3.239118</td>\n      <td>3.894851e+05</td>\n      <td>3.877380e-04</td>\n      <td>1등급</td>\n    </tr>\n    <tr>\n      <th>...</th>\n      <td>...</td>\n      <td>...</td>\n      <td>...</td>\n      <td>...</td>\n      <td>...</td>\n      <td>...</td>\n      <td>...</td>\n      <td>...</td>\n      <td>...</td>\n      <td>...</td>\n      <td>...</td>\n      <td>...</td>\n      <td>...</td>\n      <td>...</td>\n      <td>...</td>\n      <td>...</td>\n      <td>...</td>\n      <td>...</td>\n      <td>...</td>\n      <td>...</td>\n      <td>...</td>\n    </tr>\n    <tr>\n      <th>54714</th>\n      <td>0.703219</td>\n      <td>SixtoEight</td>\n      <td>1</td>\n      <td>0xb2d23dc6d</td>\n      <td>1078</td>\n      <td>1078.0</td>\n      <td>1078.0</td>\n      <td>1</td>\n      <td>0</td>\n      <td>374.0</td>\n      <td>...</td>\n      <td>0.0</td>\n      <td>645.100000</td>\n      <td>0.000000</td>\n      <td>0.0</td>\n      <td>1.537608e+06</td>\n      <td>1.334006e+06</td>\n      <td>1.823539</td>\n      <td>1.346163e+06</td>\n      <td>7.544791e-04</td>\n      <td>1등급</td>\n    </tr>\n    <tr>\n      <th>54715</th>\n      <td>0.816060</td>\n      <td>OverEight</td>\n      <td>1</td>\n      <td>0xb2d0bb2ad</td>\n      <td>1639</td>\n      <td>1639.0</td>\n      <td>1639.0</td>\n      <td>1</td>\n      <td>1</td>\n      <td>510.0</td>\n      <td>...</td>\n      <td>0.0</td>\n      <td>1626.273333</td>\n      <td>0.000000</td>\n      <td>0.0</td>\n      <td>0.000000e+00</td>\n      <td>1.370431e+05</td>\n      <td>0.430691</td>\n      <td>5.855656e+05</td>\n      <td>7.750802e-05</td>\n      <td>3등급</td>\n    </tr>\n    <tr>\n      <th>54716</th>\n      <td>0.829829</td>\n      <td>OverEight</td>\n      <td>1</td>\n      <td>0xb2d0756fd</td>\n      <td>1816</td>\n      <td>1448.0</td>\n      <td>1448.0</td>\n      <td>1</td>\n      <td>1</td>\n      <td>566.0</td>\n      <td>...</td>\n      <td>0.0</td>\n      <td>4318.353333</td>\n      <td>0.000000</td>\n      <td>0.0</td>\n      <td>0.000000e+00</td>\n      <td>4.016812e+04</td>\n      <td>0.198846</td>\n      <td>3.717506e+05</td>\n      <td>2.271804e-05</td>\n      <td>3등급</td>\n    </tr>\n    <tr>\n      <th>54717</th>\n      <td>0.826207</td>\n      <td>OverEight</td>\n      <td>1</td>\n      <td>0xb2d1031b</td>\n      <td>1545</td>\n      <td>1545.0</td>\n      <td>1545.0</td>\n      <td>1</td>\n      <td>0</td>\n      <td>599.0</td>\n      <td>...</td>\n      <td>0.0</td>\n      <td>65.013333</td>\n      <td>0.000000</td>\n      <td>0.0</td>\n      <td>0.000000e+00</td>\n      <td>1.945469e+04</td>\n      <td>0.665285</td>\n      <td>5.381513e+04</td>\n      <td>1.100306e-05</td>\n      <td>4등급</td>\n    </tr>\n    <tr>\n      <th>54718</th>\n      <td>0.549302</td>\n      <td>FourtoSix</td>\n      <td>1</td>\n      <td>0xb2d32b39d</td>\n      <td>859</td>\n      <td>859.0</td>\n      <td>859.0</td>\n      <td>1</td>\n      <td>1</td>\n      <td>306.0</td>\n      <td>...</td>\n      <td>0.0</td>\n      <td>358652.016667</td>\n      <td>0.000000</td>\n      <td>0.0</td>\n      <td>2.446667e+06</td>\n      <td>1.893763e+06</td>\n      <td>1.581556</td>\n      <td>2.203517e+06</td>\n      <td>1.071063e-03</td>\n      <td>1등급</td>\n    </tr>\n  </tbody>\n</table>\n<p>54719 rows × 115 columns</p>\n</div>"
     },
     "execution_count": 55,
     "metadata": {},
     "output_type": "execute_result"
    }
   ],
   "source": [
    "final_tableau"
   ],
   "metadata": {
    "collapsed": false
   }
  },
  {
   "cell_type": "code",
   "execution_count": null,
   "outputs": [],
   "source": [],
   "metadata": {
    "collapsed": false
   }
  }
 ],
 "metadata": {
  "kernelspec": {
   "display_name": "Python 3",
   "language": "python",
   "name": "python3"
  },
  "language_info": {
   "codemirror_mode": {
    "name": "ipython",
    "version": 2
   },
   "file_extension": ".py",
   "mimetype": "text/x-python",
   "name": "python",
   "nbconvert_exporter": "python",
   "pygments_lexer": "ipython2",
   "version": "2.7.6"
  }
 },
 "nbformat": 4,
 "nbformat_minor": 0
}
