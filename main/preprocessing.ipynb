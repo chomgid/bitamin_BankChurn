{
 "cells": [
  {
   "cell_type": "code",
   "execution_count": 1,
   "outputs": [],
   "source": [
    "# import required library\n",
    "import pandas as pd\n",
    "import numpy as np\n",
    "import warnings\n",
    "warnings.simplefilter(action='ignore', category=FutureWarning)"
   ],
   "metadata": {
    "collapsed": false
   }
  },
  {
   "cell_type": "markdown",
   "source": [
    "### **데이터 불러오기**"
   ],
   "metadata": {
    "collapsed": false
   }
  },
  {
   "cell_type": "code",
   "execution_count": 2,
   "outputs": [
    {
     "name": "stderr",
     "output_type": "stream",
     "text": [
      "/Users/yschoi/bitamin/ChurnProject/venv/lib/python3.7/site-packages/IPython/core/interactiveshell.py:3553: DtypeWarning: Columns (9) have mixed types.Specify dtype option on import or set low_memory=False.\n",
      "  exec(code_obj, self.user_global_ns, self.user_ns)\n"
     ]
    }
   ],
   "source": [
    "# read data\n",
    "aum_m7 = pd.read_csv('../data/rawdata/aum_train/aum_m7.csv')\n",
    "aum_m8 = pd.read_csv('../data/rawdata/aum_train/aum_m8.csv')\n",
    "aum_m9 = pd.read_csv('../data/rawdata/aum_train/aum_m9.csv')\n",
    "aum_m10 = pd.read_csv('../data/rawdata/aum_train/aum_m10.csv')\n",
    "aum_m11 = pd.read_csv('../data/rawdata/aum_train/aum_m11.csv')\n",
    "aum_m12 = pd.read_csv('../data/rawdata/aum_train/aum_m12.csv')\n",
    "\n",
    "behavior_m7 = pd.read_csv('../data/rawdata/behavior_train/behavior_m7.csv')\n",
    "behavior_m8 = pd.read_csv('../data/rawdata/behavior_train/behavior_m8.csv')\n",
    "behavior_m9 = pd.read_csv('../data/rawdata/behavior_train/behavior_m9.csv')\n",
    "behavior_m10 = pd.read_csv('../data/rawdata/behavior_train/behavior_m10.csv')\n",
    "behavior_m11 = pd.read_csv('../data/rawdata/behavior_train/behavior_m11.csv')\n",
    "behavior_m12 = pd.read_csv('../data/rawdata/behavior_train/behavior_m12.csv')\n",
    "\n",
    "big_event_Q3 = pd.read_csv('../data/rawdata/big_event_train/big_event_Q3.csv')\n",
    "big_event_Q4 = pd.read_csv('../data/rawdata/big_event_train/big_event_Q4.csv')\n",
    "\n",
    "cunkuan_m7 = pd.read_csv('../data/rawdata/cunkuan_train/cunkuan_m7.csv')\n",
    "cunkuan_m8 = pd.read_csv('../data/rawdata/cunkuan_train/cunkuan_m8.csv')\n",
    "cunkuan_m9 = pd.read_csv('../data/rawdata/cunkuan_train/cunkuan_m9.csv')\n",
    "cunkuan_m10 = pd.read_csv('../data/rawdata/cunkuan_train/cunkuan_m10.csv')\n",
    "cunkuan_m11 = pd.read_csv('../data/rawdata/cunkuan_train/cunkuan_m11.csv')\n",
    "cunkuan_m12 = pd.read_csv('../data/rawdata/cunkuan_train/cunkuan_m12.csv')\n",
    "\n",
    "cust_info_q3 = pd.read_csv('../data/rawdata/cust_info_train/cust_info_q3.csv')\n",
    "cust_info_q4 = pd.read_csv('../data/rawdata/cust_info_train/cust_info_q4.csv')\n",
    "\n",
    "y_Q3_3 = pd.read_csv('../data/rawdata/train_label/y_Q3_3.csv')\n",
    "y_Q4_3 = pd.read_csv('../data/rawdata/train_label/y_Q4_3.csv')\n"
   ],
   "metadata": {
    "collapsed": false
   }
  },
  {
   "cell_type": "markdown",
   "source": [],
   "metadata": {
    "collapsed": false
   }
  },
  {
   "cell_type": "code",
   "execution_count": 3,
   "outputs": [
    {
     "name": "stdout",
     "output_type": "stream",
     "text": [
      "aum_m7 shape:  (465441, 9)\n",
      "aum_m8 shape:  (479063, 9)\n",
      "aum_m9 shape:  (493441, 9)\n",
      "aum_m10 shape:  (506513, 9)\n",
      "aum_m11 shape:  (521566, 9)\n",
      "aum_m12 shape:  (543823, 9)\n",
      "behavior_m7 shape:  (465441, 6)\n",
      "behavior_m8 shape:  (479063, 6)\n",
      "behavior_m9 shape:  (493441, 8)\n",
      "behavior_m10 shape:  (506513, 6)\n",
      "behavior_m11 shape:  (521566, 6)\n",
      "behavior_m12 shape:  (543823, 8)\n",
      "big_event_Q3 shape:  (493441, 19)\n",
      "big_event_Q4 shape:  (543823, 19)\n",
      "cunkuan_m7 shape:  (181220, 3)\n",
      "cunkuan_m8 shape:  (190278, 3)\n",
      "cunkuan_m9 shape:  (200711, 3)\n",
      "cunkuan_m10 shape:  (209862, 3)\n",
      "cunkuan_m11 shape:  (219928, 3)\n",
      "cunkuan_m12 shape:  (237042, 3)\n",
      "cust_info_q3 shape:  (493441, 21)\n",
      "cust_info_q4 shape:  (543823, 21)\n",
      "y_Q3_3 shape:  (69126, 2)\n",
      "y_Q4_3 shape:  (76170, 2)\n"
     ]
    }
   ],
   "source": [
    "# print data shape\n",
    "print(\"aum_m7 shape: \", aum_m7.shape)\n",
    "print(\"aum_m8 shape: \", aum_m8.shape)\n",
    "print(\"aum_m9 shape: \", aum_m9.shape)\n",
    "print(\"aum_m10 shape: \", aum_m10.shape)\n",
    "print(\"aum_m11 shape: \", aum_m11.shape)\n",
    "print(\"aum_m12 shape: \", aum_m12.shape)\n",
    "\n",
    "print(\"behavior_m7 shape: \", behavior_m7.shape)\n",
    "print(\"behavior_m8 shape: \", behavior_m8.shape)\n",
    "print(\"behavior_m9 shape: \", behavior_m9.shape)\n",
    "print(\"behavior_m10 shape: \", behavior_m10.shape)\n",
    "print(\"behavior_m11 shape: \", behavior_m11.shape)\n",
    "print(\"behavior_m12 shape: \", behavior_m12.shape)\n",
    "\n",
    "print(\"big_event_Q3 shape: \", big_event_Q3.shape)\n",
    "print(\"big_event_Q4 shape: \", big_event_Q4.shape)\n",
    "\n",
    "print(\"cunkuan_m7 shape: \", cunkuan_m7.shape)\n",
    "print(\"cunkuan_m8 shape: \", cunkuan_m8.shape)\n",
    "print(\"cunkuan_m9 shape: \", cunkuan_m9.shape)\n",
    "print(\"cunkuan_m10 shape: \", cunkuan_m10.shape)\n",
    "print(\"cunkuan_m11 shape: \", cunkuan_m11.shape)\n",
    "print(\"cunkuan_m12 shape: \", cunkuan_m12.shape)\n",
    "\n",
    "print(\"cust_info_q3 shape: \", cust_info_q3.shape)\n",
    "print(\"cust_info_q4 shape: \", cust_info_q4.shape)\n",
    "\n",
    "print(\"y_Q3_3 shape: \", y_Q3_3.shape)\n",
    "print(\"y_Q4_3 shape: \", y_Q4_3.shape)"
   ],
   "metadata": {
    "collapsed": false
   }
  },
  {
   "cell_type": "markdown",
   "source": [
    "### **테이블 병합하기**\n",
    "\n",
    "- 모든 테이블에서 label이 있는 데이터만 남기고 행 삭제. 즉, y_Q3_3, y_Q4_3에 존재하는 'cust_no'에 해당하지 않는 데이터 행 삭제"
   ],
   "metadata": {
    "collapsed": false
   }
  },
  {
   "cell_type": "code",
   "execution_count": 4,
   "outputs": [],
   "source": [
    "# y label merge and get cust_no in y_train\n",
    "y_Q3_3.rename(columns={'cust_no':'cust_no', 'label':'label_Q3'}, inplace=True)\n",
    "y_Q4_3.rename(columns={'cust_no':'cust_no', 'label':'label_Q4'}, inplace=True)\n",
    "y_train = pd.merge(y_Q3_3, y_Q4_3, on='cust_no', how='outer')\n",
    "y_train_idx = y_train.cust_no"
   ],
   "metadata": {
    "collapsed": false
   }
  },
  {
   "cell_type": "code",
   "execution_count": 5,
   "outputs": [],
   "source": [
    "# remove row data that not in y_train_idx\n",
    "\n",
    "# aum table\n",
    "aum_m7 = aum_m7[aum_m7.cust_no.isin(y_train_idx)]\n",
    "aum_m8 = aum_m8[aum_m8.cust_no.isin(y_train_idx)]\n",
    "aum_m9 = aum_m9[aum_m9.cust_no.isin(y_train_idx)]\n",
    "aum_m10 = aum_m10[aum_m10.cust_no.isin(y_train_idx)]\n",
    "aum_m11 = aum_m11[aum_m11.cust_no.isin(y_train_idx)]\n",
    "aum_m12 = aum_m12[aum_m12.cust_no.isin(y_train_idx)]\n",
    "\n",
    "# behavior table\n",
    "behavior_m7 = behavior_m7[behavior_m7.cust_no.isin(y_train_idx)]\n",
    "behavior_m8 = behavior_m8[behavior_m8.cust_no.isin(y_train_idx)]\n",
    "behavior_m9 = behavior_m9[behavior_m9.cust_no.isin(y_train_idx)]\n",
    "behavior_m10 = behavior_m10[behavior_m10.cust_no.isin(y_train_idx)]\n",
    "behavior_m11 = behavior_m11[behavior_m11.cust_no.isin(y_train_idx)]\n",
    "behavior_m12 = behavior_m12[behavior_m12.cust_no.isin(y_train_idx)]\n",
    "\n",
    "# big_event table\n",
    "big_event_Q3 = big_event_Q3[big_event_Q3.cust_no.isin(y_train_idx)]\n",
    "big_event_Q4 = big_event_Q4[big_event_Q4.cust_no.isin(y_train_idx)]\n",
    "\n",
    "# cunkuan table\n",
    "cunkuan_m7 = cunkuan_m7[cunkuan_m7.cust_no.isin(y_train_idx)]\n",
    "cunkuan_m8 = cunkuan_m8[cunkuan_m8.cust_no.isin(y_train_idx)]\n",
    "cunkuan_m9 = cunkuan_m9[cunkuan_m9.cust_no.isin(y_train_idx)]\n",
    "cunkuan_m10 = cunkuan_m10[cunkuan_m10.cust_no.isin(y_train_idx)]\n",
    "cunkuan_m11 = cunkuan_m11[cunkuan_m11.cust_no.isin(y_train_idx)]\n",
    "cunkuan_m12 = cunkuan_m12[cunkuan_m12.cust_no.isin(y_train_idx)]\n",
    "\n",
    "# cust_info table\n",
    "cust_info_q3 = cust_info_q3[cust_info_q3.cust_no.isin(y_train_idx)]\n",
    "cust_info_q4 = cust_info_q4[cust_info_q4.cust_no.isin(y_train_idx)]\n"
   ],
   "metadata": {
    "collapsed": false
   }
  },
  {
   "cell_type": "code",
   "execution_count": 6,
   "outputs": [],
   "source": [
    "# rename for merge\n",
    "aum_m7 = aum_m7.rename(columns={'X1':'X1_m7', 'X2':'X2_m7', 'X3':'X3_m7', 'X4':'X4_m7', 'X5':'X5_m7', 'X6':'X6_m7', 'X7':'X7_m7', 'X8':'X8_m7'})\n",
    "aum_m8 = aum_m8.rename(columns={'X1':'X1_m8', 'X2':'X2_m8', 'X3':'X3_m8', 'X4':'X4_m8', 'X5':'X5_m8', 'X6':'X6_m8', 'X7':'X7_m8', 'X8':'X8_m8'})\n",
    "aum_m9 = aum_m9.rename(columns={'X1':'X1_m9', 'X2':'X2_m9', 'X3':'X3_m9', 'X4':'X4_m9', 'X5':'X5_m9', 'X6':'X6_m9', 'X7':'X7_m9', 'X8':'X8_m9'})\n",
    "aum_m10 = aum_m10.rename(columns={'X1':'X1_m10', 'X2':'X2_m10', 'X3':'X3_m10', 'X4':'X4_m10', 'X5':'X5_m10', 'X6':'X6_m10', 'X7':'X7_m10', 'X8':'X8_m10'})\n",
    "aum_m11 = aum_m11.rename(columns={'X1':'X1_m11', 'X2':'X2_m11', 'X3':'X3_m11', 'X4':'X4_m11', 'X5':'X5_m11', 'X6':'X6_m11', 'X7':'X7_m11', 'X8':'X8_m11'})\n",
    "aum_m12 = aum_m12.rename(columns={'X1':'X1_m12', 'X2':'X2_m12', 'X3':'X3_m12', 'X4':'X4_m12', 'X5':'X5_m12', 'X6':'X6_m12', 'X7':'X7_m12', 'X8':'X8_m12'})\n",
    "\n",
    "behavior_m7 = behavior_m7.rename(columns={'B1':'B1_m7', 'B2':'B2_m7', 'B3':'B3_m7', 'B4':'B4_m7', 'B5':'B5_m7'})\n",
    "behavior_m8 = behavior_m8.rename(columns={'B1':'B1_m8', 'B2':'B2_m8', 'B3':'B3_m8', 'B4':'B4_m8', 'B5':'B5_m8'})\n",
    "behavior_m9 = behavior_m9.rename(columns={'B1':'B1_m9', 'B2':'B2_m9', 'B3':'B3_m9', 'B4':'B4_m9', 'B5':'B5_m9', 'B6':'B6_m9', 'B7':'B7_m9'})\n",
    "behavior_m10 = behavior_m10.rename(columns={'B1':'B1_m10', 'B2':'B2_m10', 'B3':'B3_m10', 'B4':'B4_m10', 'B5':'B5_m10'})\n",
    "behavior_m11 = behavior_m11.rename(columns={'B1':'B1_m11', 'B2':'B2_m11', 'B3':'B3_m11', 'B4':'B4_m11', 'B5':'B5_m11'})\n",
    "behavior_m12 = behavior_m12.rename(columns={'B1':'B1_m12', 'B2':'B2_m12', 'B3':'B3_m12', 'B4':'B4_m12', 'B5':'B5_m12', 'B6':'B6_m12', 'B7':'B7_m12'})\n",
    "\n",
    "cunkuan_m7 = cunkuan_m7.rename(columns = {'C1':'C1_m7', 'C2':'C2_m7'})\n",
    "cunkuan_m8 = cunkuan_m8.rename(columns = {'C1':'C1_m8', 'C2':'C2_m8'})\n",
    "cunkuan_m9 = cunkuan_m9.rename(columns = {'C1':'C1_m9', 'C2':'C2_m9'})\n",
    "cunkuan_m10 = cunkuan_m10.rename(columns = {'C1':'C1_m10', 'C2':'C2_m10'})\n",
    "cunkuan_m11 = cunkuan_m11.rename(columns = {'C1':'C1_m11', 'C2':'C2_m11'})\n",
    "cunkuan_m12 = cunkuan_m12.rename(columns = {'C1':'C1_m12', 'C2':'C2_m12'})\n",
    "\n",
    "\n",
    "big_event_Q3 = big_event_Q3.rename(columns = {'E1':'E1_Q3', 'E2':'E2_Q3', 'E3':'E3_Q3', 'E4':'E4_Q3',\n",
    "                                              'E5':'E5_Q3', 'E6':'E6_Q3', 'E7':'E7_Q3', 'E8':'E8_Q3',\n",
    "                                              'E9':'E9_Q3', 'E10':'E10_Q3', 'E11':'E11_Q3', 'E12':'E12_Q3',\n",
    "                                              'E13':'E13_Q3', 'E14':'E14_Q3', 'E15':'E15_Q3', 'E16':'E16_Q3',\n",
    "                                              'E17':'E17_Q3', 'E18':'E18_Q3'})\n",
    "big_event_Q4 = big_event_Q4.rename(columns = {'E1':'E1_Q4', 'E2':'E2_Q4', 'E3':'E3_Q4', 'E4':'E4_Q4',\n",
    "                                                'E5':'E5_Q4', 'E6':'E6_Q4', 'E7':'E7_Q4', 'E8':'E8_Q4',\n",
    "                                                'E9':'E9_Q4', 'E10':'E10_Q4', 'E11':'E11_Q4', 'E12':'E12_Q4',\n",
    "                                                'E13':'E13_Q4', 'E14':'E14_Q4', 'E15':'E15_Q4', 'E16':'E16_Q4',\n",
    "                                                'E17':'E17_Q4', 'E18':'E18_Q4'})\n",
    "\n",
    "cust_info_q3 = cust_info_q3.rename(columns = {'I1':'I1_Q3', 'I2':'I2_Q3', 'I3':'I3_Q3', 'I4':'I4_Q3',\n",
    "                                    'I5':'I5_Q3', 'I6':'I6_Q3', 'I7':'I7_Q3', 'I8':'I8_Q3',\n",
    "                                    'I9':'I9_Q3', 'I10':'I10_Q3', 'I11':'I11_Q3', 'I12':'I12_Q3',\n",
    "                                    'I13':'I13_Q3', 'I14':'I14_Q3', 'I15':'I15_Q3', 'I16':'I16_Q3',\n",
    "                                    'I17':'I17_Q3', 'I18':'I18_Q3', 'I19':'I19_Q3', 'I20':'I20_Q3'})\n",
    "cust_info_q4 = cust_info_q4.rename(columns = {'I1':'I1_Q4', 'I2':'I2_Q4', 'I3':'I3_Q4', 'I4':'I4_Q4',\n",
    "                                    'I5':'I5_Q4', 'I6':'I6_Q4', 'I7':'I7_Q4', 'I8':'I8_Q4',\n",
    "                                    'I9':'I9_Q4', 'I10':'I10_Q4', 'I11':'I11_Q4', 'I12':'I12_Q4',\n",
    "                                    'I13':'I13_Q4', 'I14':'I14_Q4', 'I15':'I15_Q4', 'I16':'I16_Q4',\n",
    "                                    'I17':'I17_Q4', 'I18':'I18_Q4', 'I19':'I19_Q4', 'I20':'I20_Q4'})\n"
   ],
   "metadata": {
    "collapsed": false
   }
  },
  {
   "cell_type": "code",
   "execution_count": 7,
   "outputs": [],
   "source": [
    "# merge table\n",
    "\n",
    "# aum\n",
    "aum_m = pd.merge(aum_m7, aum_m8, on='cust_no', how='outer')\n",
    "aum_m = pd.merge(aum_m, aum_m9, on='cust_no', how='outer')\n",
    "aum_m = pd.merge(aum_m, aum_m10, on='cust_no', how='outer')\n",
    "aum_m = pd.merge(aum_m, aum_m11, on='cust_no', how='outer')\n",
    "aum_m = pd.merge(aum_m, aum_m12, on='cust_no', how='outer')\n",
    "\n",
    "del aum_m7, aum_m8, aum_m9, aum_m10, aum_m11, aum_m12\n",
    "\n",
    "\n",
    "# behavior\n",
    "behavior_m = pd.merge(behavior_m7, behavior_m8, on='cust_no', how='outer')\n",
    "behavior_m = pd.merge(behavior_m, behavior_m9, on='cust_no', how='outer')\n",
    "behavior_m = pd.merge(behavior_m, behavior_m10, on='cust_no', how='outer')\n",
    "behavior_m = pd.merge(behavior_m, behavior_m11, on='cust_no', how='outer')\n",
    "behavior_m = pd.merge(behavior_m, behavior_m12, on='cust_no', how='outer')\n",
    "\n",
    "del behavior_m7, behavior_m8, behavior_m9, behavior_m10, behavior_m11, behavior_m12\n",
    "\n",
    "# cunkuan\n",
    "cunkuan_m = pd.merge(cunkuan_m7, cunkuan_m8, on='cust_no', how='outer')\n",
    "cunkuan_m = pd.merge(cunkuan_m, cunkuan_m9, on='cust_no', how='outer')\n",
    "cunkuan_m = pd.merge(cunkuan_m, cunkuan_m10, on='cust_no', how='outer')\n",
    "cunkuan_m = pd.merge(cunkuan_m, cunkuan_m11, on='cust_no', how='outer')\n",
    "cunkuan_m = pd.merge(cunkuan_m, cunkuan_m12, on='cust_no', how='outer')\n",
    "\n",
    "del cunkuan_m7, cunkuan_m8, cunkuan_m9, cunkuan_m10, cunkuan_m11, cunkuan_m12\n",
    "\n",
    "\n",
    "# big_event\n",
    "big_event_Q = pd.merge(big_event_Q3, big_event_Q4, on='cust_no', how='outer')\n",
    "\n",
    "del big_event_Q3, big_event_Q4\n",
    "\n",
    "\n",
    "# cust_info\n",
    "cust_info_q = pd.merge(cust_info_q3, cust_info_q4, on='cust_no', how='outer')\n",
    "\n",
    "del cust_info_q3, cust_info_q4"
   ],
   "metadata": {
    "collapsed": false
   }
  },
  {
   "cell_type": "code",
   "execution_count": 8,
   "outputs": [
    {
     "name": "stdout",
     "output_type": "stream",
     "text": [
      "(82899, 49)\n",
      "(82899, 35)\n",
      "(82896, 13)\n",
      "(82899, 37)\n",
      "(82899, 41)\n"
     ]
    }
   ],
   "source": [
    "# check table shape\n",
    "print(aum_m.shape)       # 82899\n",
    "print(behavior_m.shape)  # 82899\n",
    "print(cunkuan_m.shape)   # 82896\n",
    "print(big_event_Q.shape) # 82899\n",
    "print(cust_info_q.shape) # 82899"
   ],
   "metadata": {
    "collapsed": false
   }
  },
  {
   "cell_type": "markdown",
   "source": [
    "### **결측치 처리하기**"
   ],
   "metadata": {
    "collapsed": false
   }
  },
  {
   "cell_type": "markdown",
   "source": [
    "#### **aum table**\n",
    "\n",
    "**변수 설명**\n",
    "- X1 : structured deposit balance(구조화 예금 잔액)\n",
    "    - 금리, 환률, 지수 등의 변동이나 기업의 신용에 연동된 금융파생상품을 시중은행이 흡수하여, 고객이 일정한 금액을 받아 그에 상응하는 수익을 얻을 수 있도록 하는 예금\n",
    "- X2 : time deposit balance (정기 예금 잔액)\n",
    "    - 적금과 비슷한 형태의 예금\n",
    "- X3 : demand deposit balance (입출금 통장 잔액)\n",
    "    - 은행에 사전 통지 없이 요청 시 인출할 수 있는 은행 예금\n",
    "- X4 : financial products balance (금융 상품 잔액)\n",
    "- X5 : fund balance (펀드 잔액)\n",
    "- X6 : asset management balance (자산 관리 잔액)\n",
    "- X7 : loan balance (대출 잔액)\n",
    "- X8 : large deposit certificate balance (거액 예금 증서 잔액)\n",
    "    - 일정 기간 동안 고정된 금액을 보유하고 그 대가로 개설 은행에서 이자를 지급하는 예금 계좌. 예금 증서(CD)를 현금으로 바꾸거나 상환하면 원래 투자한 금액과 이자를 받게 된다.\n",
    "\n",
    "\n",
    "**결측치 형태**\n",
    "\n",
    "| cust_no   | m7                                   | m8   | m9   | m10  | m11  | m12  |\n",
    "|-----------|--------------------------------------|------|------|------|------|------|\n",
    "| 7월 이전 고객  | data                                 | data | data | data | data | data |\n",
    "| 8월 신규 고객  | <span style=\"color:red\"> nan </span> | data | data | data | data | data |\n",
    "| 9월 신규 고객  | <span style=\"color:red\"> nan </span> | <span style=\"color:red\"> nan </span> | data | data | data | data |\n",
    "| 10월 신규 고객 | <span style=\"color:red\"> nan </span> | <span style=\"color:red\"> nan </span> |<span style=\"color:red\"> nan </span> | data | data | data |\n",
    "| 11월 신규 고객 | <span style=\"color:red\"> nan </span> | <span style=\"color:red\"> nan </span> | <span style=\"color:red\"> nan </span>  | <span style=\"color:red\"> nan </span> | data | data |\n",
    "| 12월 신규 고객 | <span style=\"color:red\"> nan </span>  | <span style=\"color:red\"> nan </span>  | <span style=\"color:red\"> nan </span>  | <span style=\"color:red\"> nan </span>  | <span style=\"color:red\"> nan </span> | data |\n",
    "| 결측수 | 13485 | 10385 | 7132 | 4674 | 2239 | 0 |\n",
    "\n",
    "\n",
    "\n",
    "**결측치 처리 방법**\n",
    "\n",
    "- aum table 내의 변수는 은행 상품에 대한 잔액을 나타내는 변수이므로 새롭게 8월 이후에 들어온 신규 고객이 가진 결측치를 0으로 채우는 것이 타당하다고 판단함.\n",
    "\n"
   ],
   "metadata": {
    "collapsed": false
   }
  },
  {
   "cell_type": "code",
   "execution_count": 9,
   "outputs": [
    {
     "data": {
      "text/plain": "cust_no        0\nX1_m7      13485\nX2_m7      13485\nX3_m7      13485\nX4_m7      13485\nX5_m7      13485\nX6_m7      13485\nX7_m7      13485\nX8_m7      13485\nX1_m8      10385\nX2_m8      10385\nX3_m8      10385\nX4_m8      10385\nX5_m8      10385\nX6_m8      10385\nX7_m8      10385\nX8_m8      10385\nX1_m9       7132\nX2_m9       7132\nX3_m9       7132\nX4_m9       7132\nX5_m9       7132\nX6_m9       7132\nX7_m9       7132\nX8_m9       7132\nX1_m10      4674\nX2_m10      4674\nX3_m10      4674\nX4_m10      4674\nX5_m10      4674\nX6_m10      4674\nX7_m10      4674\nX8_m10      4674\nX1_m11      2239\nX2_m11      2239\nX3_m11      2239\nX4_m11      2239\nX5_m11      2239\nX6_m11      2239\nX7_m11      2239\nX8_m11      2239\nX1_m12         0\nX2_m12         0\nX3_m12         0\nX4_m12         0\nX5_m12         0\nX6_m12         0\nX7_m12         0\nX8_m12         0\ndtype: int64"
     },
     "execution_count": 9,
     "metadata": {},
     "output_type": "execute_result"
    }
   ],
   "source": [
    "# check # of missing values by column\n",
    "aum_m.isnull().sum()"
   ],
   "metadata": {
    "collapsed": false
   }
  },
  {
   "cell_type": "code",
   "execution_count": 10,
   "outputs": [],
   "source": [
    "# fill missing values with zeros\n",
    "aum_m.fillna(0, inplace = True)"
   ],
   "metadata": {
    "collapsed": false,
    "pycharm": {
     "name": "#%% \n"
    }
   }
  },
  {
   "cell_type": "code",
   "execution_count": 11,
   "outputs": [
    {
     "data": {
      "text/plain": "cust_no    0\nX1_m7      0\nX2_m7      0\nX3_m7      0\nX4_m7      0\nX5_m7      0\nX6_m7      0\nX7_m7      0\nX8_m7      0\nX1_m8      0\nX2_m8      0\nX3_m8      0\nX4_m8      0\nX5_m8      0\nX6_m8      0\nX7_m8      0\nX8_m8      0\nX1_m9      0\nX2_m9      0\nX3_m9      0\nX4_m9      0\nX5_m9      0\nX6_m9      0\nX7_m9      0\nX8_m9      0\nX1_m10     0\nX2_m10     0\nX3_m10     0\nX4_m10     0\nX5_m10     0\nX6_m10     0\nX7_m10     0\nX8_m10     0\nX1_m11     0\nX2_m11     0\nX3_m11     0\nX4_m11     0\nX5_m11     0\nX6_m11     0\nX7_m11     0\nX8_m11     0\nX1_m12     0\nX2_m12     0\nX3_m12     0\nX4_m12     0\nX5_m12     0\nX6_m12     0\nX7_m12     0\nX8_m12     0\ndtype: int64"
     },
     "execution_count": 11,
     "metadata": {},
     "output_type": "execute_result"
    }
   ],
   "source": [
    "# check # of missing values by column\n",
    "aum_m.isnull().sum()"
   ],
   "metadata": {
    "collapsed": false
   }
  },
  {
   "cell_type": "markdown",
   "source": [
    "#### **behavior table**\n",
    "\n",
    "**변수 설명**\n",
    "- B1 : mobile banking login times (로그인 횟수)\n",
    "- B2 : transfer-in times (입금 횟수)\n",
    "- B3 : transfer-in money amount (입금 금액)\n",
    "- B4 : transfer-out times (출금 횟수)\n",
    "- B5 : transfer-out money amount (출금 금액)\n",
    "- B6 : latest transfer time (마지막 거래 시간) (type : date) (9, 12월에만 존재)\n",
    "- B7 : number of transfers in a season (해당 시즌에 거래 횟수) (9, 12월에만 존재)\n",
    "\n",
    "**결측치 형태(B1 ~ B5, B7)**\n",
    "\n",
    "| cust_no   | m7                                   | m8   | m9   | m10  | m11  | m12  |\n",
    "|-----------|--------------------------------------|------|------|------|------|------|\n",
    "| 7월 이전 고객  | data                                 | data | data | data | data | data |\n",
    "| 8월 신규 고객  | <span style=\"color:red\"> nan </span> | data | data | data | data | data |\n",
    "| 9월 신규 고객  | <span style=\"color:red\"> nan </span> | <span style=\"color:red\"> nan </span> | data | data | data | data |\n",
    "| 10월 신규 고객 | <span style=\"color:red\"> nan </span> | <span style=\"color:red\"> nan </span> |<span style=\"color:red\"> nan </span> | data | data | data |\n",
    "| 11월 신규 고객 | <span style=\"color:red\"> nan </span> | <span style=\"color:red\"> nan </span> | <span style=\"color:red\"> nan </span>  | <span style=\"color:red\"> nan </span> | data | data |\n",
    "| 12월 신규 고객 | <span style=\"color:red\"> nan </span>  | <span style=\"color:red\"> nan </span>  | <span style=\"color:red\"> nan </span>  | <span style=\"color:red\"> nan </span>  | <span style=\"color:red\"> nan </span> | data |\n",
    "| 결측수 | 13485 | 10385 | 7132 | 4674 | 2239 | 0 |\n",
    "\n",
    "\n",
    "\n",
    "**결측치 처리 방법(B1 ~ B5, B7)**\n",
    "\n",
    "- behavior table 내의 변수는 은행을 사용한 행동의 횟수, 행동에 대한 금액을 나타내는 변수이므로 새롭게 8월 이후에 들어온 신규 고객이 가진 결측치를 0으로 채우는 것이 타당하다고 판단함.\n",
    "\n",
    "**결측치 처리 방법(B6)**\n",
    "\n",
    "- B6 변수는 마지막 거래 날짜를 의미하므로 B2, B4가 0이 아닌 마지막 시점으로 결측치를 대체한다.\n",
    "\n"
   ],
   "metadata": {
    "collapsed": false
   }
  },
  {
   "cell_type": "code",
   "execution_count": 12,
   "outputs": [
    {
     "data": {
      "text/plain": "cust_no        0\nB1_m7      13485\nB2_m7      13485\nB3_m7      13485\nB4_m7      13485\nB5_m7      13485\nB1_m8      10385\nB2_m8      10385\nB3_m8      10385\nB4_m8      10385\nB5_m8      10385\nB1_m9       7132\nB2_m9       7132\nB3_m9       7132\nB4_m9       7132\nB5_m9       7132\nB6_m9      13909\nB7_m9       7132\nB1_m10      4674\nB2_m10      4674\nB3_m10      4674\nB4_m10      4674\nB5_m10      4674\nB1_m11      2239\nB2_m11      2239\nB3_m11      2239\nB4_m11      2239\nB5_m11      2239\nB1_m12         0\nB2_m12         0\nB3_m12         0\nB4_m12         0\nB5_m12         0\nB6_m12      3932\nB7_m12         0\ndtype: int64"
     },
     "execution_count": 12,
     "metadata": {},
     "output_type": "execute_result"
    }
   ],
   "source": [
    "behavior_m.isna().sum()"
   ],
   "metadata": {
    "collapsed": false
   }
  },
  {
   "cell_type": "code",
   "execution_count": 13,
   "outputs": [
    {
     "data": {
      "text/plain": "       B1_m7  B1_m8  B1_m9  B2_m7  B2_m8  B2_m9  B4_m7  B4_m8  B4_m9  B7_m9\n0        4.0    2.0    1.0    0.0    0.0    1.0    0.0    0.0    0.0    1.0\n1       91.0   60.0   93.0  102.0   50.0   75.0   68.0   39.0   82.0  454.0\n2        0.0    0.0    0.0    0.0    0.0    0.0    0.0    0.0    0.0    0.0\n3        0.0    0.0    0.0    1.0    1.0    1.0    0.0    0.0    0.0    3.0\n4        0.0    1.0    0.0    1.0    2.0    0.0    0.0    2.0    0.0    5.0\n...      ...    ...    ...    ...    ...    ...    ...    ...    ...    ...\n82894    NaN    NaN    NaN    NaN    NaN    NaN    NaN    NaN    NaN    NaN\n82895    NaN    NaN    NaN    NaN    NaN    NaN    NaN    NaN    NaN    NaN\n82896    NaN    NaN    NaN    NaN    NaN    NaN    NaN    NaN    NaN    NaN\n82897    NaN    NaN    NaN    NaN    NaN    NaN    NaN    NaN    NaN    NaN\n82898    NaN    NaN    NaN    NaN    NaN    NaN    NaN    NaN    NaN    NaN\n\n[82899 rows x 10 columns]",
      "text/html": "<div>\n<style scoped>\n    .dataframe tbody tr th:only-of-type {\n        vertical-align: middle;\n    }\n\n    .dataframe tbody tr th {\n        vertical-align: top;\n    }\n\n    .dataframe thead th {\n        text-align: right;\n    }\n</style>\n<table border=\"1\" class=\"dataframe\">\n  <thead>\n    <tr style=\"text-align: right;\">\n      <th></th>\n      <th>B1_m7</th>\n      <th>B1_m8</th>\n      <th>B1_m9</th>\n      <th>B2_m7</th>\n      <th>B2_m8</th>\n      <th>B2_m9</th>\n      <th>B4_m7</th>\n      <th>B4_m8</th>\n      <th>B4_m9</th>\n      <th>B7_m9</th>\n    </tr>\n  </thead>\n  <tbody>\n    <tr>\n      <th>0</th>\n      <td>4.0</td>\n      <td>2.0</td>\n      <td>1.0</td>\n      <td>0.0</td>\n      <td>0.0</td>\n      <td>1.0</td>\n      <td>0.0</td>\n      <td>0.0</td>\n      <td>0.0</td>\n      <td>1.0</td>\n    </tr>\n    <tr>\n      <th>1</th>\n      <td>91.0</td>\n      <td>60.0</td>\n      <td>93.0</td>\n      <td>102.0</td>\n      <td>50.0</td>\n      <td>75.0</td>\n      <td>68.0</td>\n      <td>39.0</td>\n      <td>82.0</td>\n      <td>454.0</td>\n    </tr>\n    <tr>\n      <th>2</th>\n      <td>0.0</td>\n      <td>0.0</td>\n      <td>0.0</td>\n      <td>0.0</td>\n      <td>0.0</td>\n      <td>0.0</td>\n      <td>0.0</td>\n      <td>0.0</td>\n      <td>0.0</td>\n      <td>0.0</td>\n    </tr>\n    <tr>\n      <th>3</th>\n      <td>0.0</td>\n      <td>0.0</td>\n      <td>0.0</td>\n      <td>1.0</td>\n      <td>1.0</td>\n      <td>1.0</td>\n      <td>0.0</td>\n      <td>0.0</td>\n      <td>0.0</td>\n      <td>3.0</td>\n    </tr>\n    <tr>\n      <th>4</th>\n      <td>0.0</td>\n      <td>1.0</td>\n      <td>0.0</td>\n      <td>1.0</td>\n      <td>2.0</td>\n      <td>0.0</td>\n      <td>0.0</td>\n      <td>2.0</td>\n      <td>0.0</td>\n      <td>5.0</td>\n    </tr>\n    <tr>\n      <th>...</th>\n      <td>...</td>\n      <td>...</td>\n      <td>...</td>\n      <td>...</td>\n      <td>...</td>\n      <td>...</td>\n      <td>...</td>\n      <td>...</td>\n      <td>...</td>\n      <td>...</td>\n    </tr>\n    <tr>\n      <th>82894</th>\n      <td>NaN</td>\n      <td>NaN</td>\n      <td>NaN</td>\n      <td>NaN</td>\n      <td>NaN</td>\n      <td>NaN</td>\n      <td>NaN</td>\n      <td>NaN</td>\n      <td>NaN</td>\n      <td>NaN</td>\n    </tr>\n    <tr>\n      <th>82895</th>\n      <td>NaN</td>\n      <td>NaN</td>\n      <td>NaN</td>\n      <td>NaN</td>\n      <td>NaN</td>\n      <td>NaN</td>\n      <td>NaN</td>\n      <td>NaN</td>\n      <td>NaN</td>\n      <td>NaN</td>\n    </tr>\n    <tr>\n      <th>82896</th>\n      <td>NaN</td>\n      <td>NaN</td>\n      <td>NaN</td>\n      <td>NaN</td>\n      <td>NaN</td>\n      <td>NaN</td>\n      <td>NaN</td>\n      <td>NaN</td>\n      <td>NaN</td>\n      <td>NaN</td>\n    </tr>\n    <tr>\n      <th>82897</th>\n      <td>NaN</td>\n      <td>NaN</td>\n      <td>NaN</td>\n      <td>NaN</td>\n      <td>NaN</td>\n      <td>NaN</td>\n      <td>NaN</td>\n      <td>NaN</td>\n      <td>NaN</td>\n      <td>NaN</td>\n    </tr>\n    <tr>\n      <th>82898</th>\n      <td>NaN</td>\n      <td>NaN</td>\n      <td>NaN</td>\n      <td>NaN</td>\n      <td>NaN</td>\n      <td>NaN</td>\n      <td>NaN</td>\n      <td>NaN</td>\n      <td>NaN</td>\n      <td>NaN</td>\n    </tr>\n  </tbody>\n</table>\n<p>82899 rows × 10 columns</p>\n</div>"
     },
     "execution_count": 13,
     "metadata": {},
     "output_type": "execute_result"
    }
   ],
   "source": [
    "# Q. B7변수가 해당 분기의 3개월 간의 B2, B4 변수의 단순 합인가? (no)\n",
    "behavior_m[['B1_m7','B1_m8','B1_m9','B2_m7', 'B2_m8', 'B2_m9', 'B4_m7', 'B4_m8', 'B4_m9','B7_m9']]"
   ],
   "metadata": {
    "collapsed": false
   }
  },
  {
   "cell_type": "code",
   "execution_count": 14,
   "outputs": [],
   "source": [
    "# B6 : B2, B4가 0이 아닌 마지막 달의 1일로 결측치 채우기\n",
    "\n",
    "def fill_last_month7to9(row_data):\n",
    "    l_month = 7\n",
    "    for m in range(7, 10):\n",
    "        value1 = eval('row_data.B2_m' + str(m))\n",
    "        value2 = eval(\"row_data.B4_m\" + str(m))\n",
    "        if ((value1 != 0) and (str(value1) != 'nan')) | ((value2 != 0) and (str(value2) != 'nan')):\n",
    "            l_month = m\n",
    "    return pd.datetime(2019, l_month, 1).strftime(\"%Y-%m-%d %H:%M:%S\")\n",
    "\n",
    "\n",
    "def fill_last_month7to12(row_data):\n",
    "    l_month = 7\n",
    "    for m in range(7, 12):\n",
    "        value1 = eval('row_data.B2_m' + str(m))\n",
    "        value2 = eval(\"row_data.B4_m\" + str(m))\n",
    "        if ((value1 != 0) and (str(value1) != 'nan')) | ((value2 != 0) and (str(value2) != 'nan')):\n",
    "            l_month = m\n",
    "    return pd.datetime(2019, l_month, 1).strftime(\"%Y-%m-%d %H:%M:%S\")\n"
   ],
   "metadata": {
    "collapsed": false
   }
  },
  {
   "cell_type": "code",
   "execution_count": 15,
   "outputs": [],
   "source": [
    "behavior_m.loc[behavior_m.B6_m9.isna(), 'B6_m9'] = behavior_m[behavior_m.B6_m9.isna()].apply(fill_last_month7to9, axis = 1)\n",
    "behavior_m.loc[behavior_m.B6_m12.isna(), 'B6_m12'] = behavior_m[behavior_m.B6_m12.isna()].apply(fill_last_month7to12, axis=1)"
   ],
   "metadata": {
    "collapsed": false
   }
  },
  {
   "cell_type": "code",
   "execution_count": 16,
   "outputs": [],
   "source": [
    "# fill missing data with zeros\n",
    "behavior_m.fillna(0,inplace = True)"
   ],
   "metadata": {
    "collapsed": false
   }
  },
  {
   "cell_type": "code",
   "execution_count": 17,
   "outputs": [
    {
     "data": {
      "text/plain": "cust_no    0\nB1_m7      0\nB2_m7      0\nB3_m7      0\nB4_m7      0\nB5_m7      0\nB1_m8      0\nB2_m8      0\nB3_m8      0\nB4_m8      0\nB5_m8      0\nB1_m9      0\nB2_m9      0\nB3_m9      0\nB4_m9      0\nB5_m9      0\nB6_m9      0\nB7_m9      0\nB1_m10     0\nB2_m10     0\nB3_m10     0\nB4_m10     0\nB5_m10     0\nB1_m11     0\nB2_m11     0\nB3_m11     0\nB4_m11     0\nB5_m11     0\nB1_m12     0\nB2_m12     0\nB3_m12     0\nB4_m12     0\nB5_m12     0\nB6_m12     0\nB7_m12     0\ndtype: int64"
     },
     "execution_count": 17,
     "metadata": {},
     "output_type": "execute_result"
    }
   ],
   "source": [
    "# check missing data\n",
    "behavior_m.isna().sum()"
   ],
   "metadata": {
    "collapsed": false
   }
  },
  {
   "cell_type": "markdown",
   "source": [
    "#### **cunkuan table**\n",
    "\n",
    "**변수 설명**\n",
    "- C1 : deposit products value (예금 상품 가치)\n",
    "    - 결측치 0으로 대체\n",
    "- C2 : number of deposit products (예금 상품 수)\n",
    "    - 결측치 0으로 대체\n",
    "\n",
    "**결측치 형태**\n",
    "\n",
    "| cust_no   | m7                                   | m8                                   | m9                                   | m10                                  | m11                                  | m12  |\n",
    "|-----------|--------------------------------------|--------------------------------------|--------------------------------------|--------------------------------------|--------------------------------------|------|\n",
    "| 7월 이전 고객  | data                                 | data                                 | data                                 | data                                 | data                                 | data |\n",
    "| 8월 신규 고객  | <span style=\"color:red\"> nan </span> | data                                 | data                                 | data                                 | data                                 | data |\n",
    "| 9월 신규 고객  | <span style=\"color:red\"> nan </span> | <span style=\"color:red\"> nan </span> | data                                 | data                                 | data                                 | data |\n",
    "| 10월 신규 고객 | <span style=\"color:red\"> nan </span> | <span style=\"color:red\"> nan </span> | <span style=\"color:red\"> nan </span> | data                                 | data                                 | data |\n",
    "| 11월 신규 고객 | <span style=\"color:red\"> nan </span> | <span style=\"color:red\"> nan </span> | <span style=\"color:red\"> nan </span> | <span style=\"color:red\"> nan </span> | data                                 | data |\n",
    "| 12월 신규 고객 | <span style=\"color:red\"> nan </span> | <span style=\"color:red\"> nan </span> | <span style=\"color:red\"> nan </span> | <span style=\"color:red\"> nan </span> | <span style=\"color:red\"> nan </span> | data |\n",
    "| 결측수 | 15296 | 12157 | 8623  | 5803 | 2822 | 0 |\n",
    "\n",
    "\n",
    "\n",
    "**결측치 처리 방법**\n",
    "\n",
    "- cunkuan table 내의 변수는 예금 상품 가치 상품 수를 나타내는 변수이므로 새롭게 8월 이후에 들어온 신규 고객이 가진 결측치를 0으로 채우는 것이 타당하다고 판단함.\n",
    "\n"
   ],
   "metadata": {
    "collapsed": false
   }
  },
  {
   "cell_type": "code",
   "execution_count": 18,
   "outputs": [
    {
     "data": {
      "text/plain": "cust_no        0\nC1_m7      15296\nC2_m7      15296\nC1_m8      12157\nC2_m8      12157\nC1_m9       8623\nC2_m9       8623\nC1_m10      5803\nC2_m10      5803\nC1_m11      2822\nC2_m11      2822\nC1_m12         0\nC2_m12         0\ndtype: int64"
     },
     "execution_count": 18,
     "metadata": {},
     "output_type": "execute_result"
    }
   ],
   "source": [
    "# check missing values\n",
    "cunkuan_m.isna().sum()"
   ],
   "metadata": {
    "collapsed": false
   }
  },
  {
   "cell_type": "code",
   "execution_count": 19,
   "outputs": [],
   "source": [
    "# fill missing values with zeros\n",
    "cunkuan_m.fillna(0, inplace=True)"
   ],
   "metadata": {
    "collapsed": false
   }
  },
  {
   "cell_type": "code",
   "execution_count": 20,
   "outputs": [
    {
     "data": {
      "text/plain": "cust_no    0\nC1_m7      0\nC2_m7      0\nC1_m8      0\nC2_m8      0\nC1_m9      0\nC2_m9      0\nC1_m10     0\nC2_m10     0\nC1_m11     0\nC2_m11     0\nC1_m12     0\nC2_m12     0\ndtype: int64"
     },
     "execution_count": 20,
     "metadata": {},
     "output_type": "execute_result"
    }
   ],
   "source": [
    "# check missing values\n",
    "cunkuan_m.isna().sum()"
   ],
   "metadata": {
    "collapsed": false
   }
  },
  {
   "cell_type": "markdown",
   "source": [
    "#### **big_event table**\n",
    "\n",
    "**변수 설명**\n",
    "\n",
    "- E1 : account opening date (계좌 오픈 날짜)\n",
    "- E2 : online banking opening date (온라인 뱅킹 오픈 날짜)\n",
    "- E3 : mobile banking opening date (모바일 뱅킹 오픈 날짜)\n",
    "- E4 : first online banking login date (첫번째 온라인 뱅킹 로그인 날짜)\n",
    "- E5 : first mobile banking login date (첫번째 모바일 뱅킹 로그인 날짜)\n",
    "- E6 : first demand deposit date (첫번째 입출금 날짜)\n",
    "- E7 : first time deposit date (최초 입금 일)\n",
    "- E8 : first loan date (최초 대출 일)\n",
    "- E9 : first overdue date (최초 연체 날짜)\n",
    "- E10 : first cash transaction date (최초 현금 거래일)\n",
    "- E11 : first bank-securities transfer date (최초 은행 - 증권 이체 날짜)\n",
    "- E12 : first transfer at counter date (최초 카운터에서 이체 날짜)\n",
    "- E13 : first transfer via online banking date (온라인 뱅킹을 이용한 최초 이체 날짜)\n",
    "- E14 : first transfer via mobile banking date (모바일 뱅킹을 이용한 최초 이체 날짜)\n",
    "- E15 : maximum amount transferred out of another bank (다른 은행에서 이체된 최대 금액)\n",
    "- E16 : maximum amount transferred out of another bank date (다른 은행에서 이체된 최대 금액이 이체된 날짜)\n",
    "- E17 : Maximum transfer amount from other bank (타 은행 최대 이체 금액)\n",
    "- E18 : Maximum transfer amount from other bank date (타 은행 최대 이체 금액 이체 날짜)\n",
    "\n",
    "**결측치 처리 방법**\n",
    "\n",
    "- Q3, Q4 분리 후 처리. 아래에서 다시 다룸."
   ],
   "metadata": {
    "collapsed": false
   }
  },
  {
   "cell_type": "code",
   "execution_count": 20,
   "outputs": [],
   "source": [],
   "metadata": {
    "collapsed": false
   }
  },
  {
   "cell_type": "markdown",
   "source": [
    "#### **cust_info table**\n",
    "\n",
    "**변수 설명**\n",
    "- l1 : gender (성별)\n",
    "- l2 : age (나이)\n",
    "- l3 : class\n",
    "- l4 : tag\n",
    "- I5 : occupation (직업)\n",
    "- I6 : deposit customer tag (예금 고객 태그)\n",
    "- I7 : number of products owning (보유 제품 수)\n",
    "- I8 : constellation (별자리)\n",
    "- I9 : contribution (기부금)\n",
    "- I10 : education level (교육 수준)\n",
    "- I11 : family annual income (가구 연간 소득)\n",
    "- I12 : field description\n",
    "- I13 : marriage description\n",
    "- I14 : occupation description\n",
    "- I15 : QR code recipient\n",
    "- I16 : VIP (vip 여부)\n",
    "- I17 : online banking client\n",
    "- I18 : mobile banking client\n",
    "- I19 : SMS client\n",
    "- I20 : WeChat Pay client\n",
    "\n",
    "**결측치 처리 방법**\n",
    "\n",
    "- I8 삭제 - 불필요한 정보\n",
    "- I12 삭제 - 1행만 제외하고 가진 정보가 동일함.\n",
    "- I9, I10, I13, I14 삭제 - 결측치가 너무 많음.\n",
    "- 나머지 변수는 Q4의 값으로 Q3값 대체. 변하지 않는 고객 일반 정보거나, 분기별로 크게 변하지 않는 등급, 직업과 같은 정보이기 때문이다.\n",
    "- I5 결측 : '무직'으로 대체\n"
   ],
   "metadata": {
    "collapsed": false
   }
  },
  {
   "cell_type": "code",
   "execution_count": 21,
   "outputs": [],
   "source": [
    "# del I9, I10, I13, I14\n",
    "cust_info_q.drop(columns = ['I9_Q3', 'I9_Q4', 'I10_Q3', 'I10_Q4', 'I13_Q3', 'I13_Q4', 'I14_Q3', 'I14_Q4'], inplace=True)"
   ],
   "metadata": {
    "collapsed": false
   }
  },
  {
   "cell_type": "code",
   "execution_count": 22,
   "outputs": [],
   "source": [
    "# del I8, I12\n",
    "cust_info_q.drop(columns = ['I8_Q3', 'I8_Q4', 'I12_Q3', 'I12_Q4'], inplace=True)"
   ],
   "metadata": {
    "collapsed": false
   }
  },
  {
   "cell_type": "code",
   "execution_count": 23,
   "outputs": [],
   "source": [
    "# Replace the value of Q3 with the value of Q4\n",
    "cust_info_q.I1_Q3.fillna(cust_info_q.I1_Q4, inplace=True)\n",
    "cust_info_q.I2_Q3.fillna(cust_info_q.I2_Q4, inplace=True)\n",
    "cust_info_q.I3_Q3.fillna(cust_info_q.I3_Q4, inplace=True)\n",
    "cust_info_q.I4_Q3.fillna(cust_info_q.I4_Q4, inplace=True)\n",
    "cust_info_q.I5_Q3.fillna(cust_info_q.I5_Q4, inplace=True)\n",
    "cust_info_q.I6_Q3.fillna(cust_info_q.I6_Q4, inplace=True)\n",
    "cust_info_q.I7_Q3.fillna(cust_info_q.I7_Q4, inplace=True)\n",
    "cust_info_q.I11_Q3.fillna(cust_info_q.I11_Q4, inplace=True)\n",
    "cust_info_q.I15_Q3.fillna(cust_info_q.I15_Q4, inplace=True)\n",
    "cust_info_q.I16_Q3.fillna(cust_info_q.I16_Q4, inplace=True)\n",
    "cust_info_q.I17_Q3.fillna(cust_info_q.I17_Q4, inplace=True)\n",
    "cust_info_q.I18_Q3.fillna(cust_info_q.I18_Q4, inplace=True)\n",
    "cust_info_q.I19_Q3.fillna(cust_info_q.I19_Q4, inplace=True)\n",
    "cust_info_q.I20_Q3.fillna(cust_info_q.I20_Q4, inplace=True)"
   ],
   "metadata": {
    "collapsed": false,
    "pycharm": {
     "name": "#%% \n"
    }
   }
  },
  {
   "cell_type": "code",
   "execution_count": 24,
   "outputs": [
    {
     "data": {
      "text/plain": "cust_no       0\nI1_Q3        32\nI2_Q3         0\nI3_Q3         0\nI4_Q3         0\nI5_Q3      4947\nI6_Q3         0\nI7_Q3         0\nI11_Q3        0\nI15_Q3        0\nI16_Q3        0\nI17_Q3        0\nI18_Q3        0\nI19_Q3        0\nI20_Q3        0\nI1_Q4        32\nI2_Q4         0\nI3_Q4         0\nI4_Q4         0\nI5_Q4      4947\nI6_Q4         0\nI7_Q4         0\nI11_Q4        0\nI15_Q4        0\nI16_Q4        0\nI17_Q4        0\nI18_Q4        0\nI19_Q4        0\nI20_Q4        0\ndtype: int64"
     },
     "execution_count": 24,
     "metadata": {},
     "output_type": "execute_result"
    }
   ],
   "source": [
    "cust_info_q.isna().sum()"
   ],
   "metadata": {
    "collapsed": false
   }
  },
  {
   "cell_type": "code",
   "execution_count": 25,
   "outputs": [
    {
     "data": {
      "text/plain": "女性    44431\n男性    38436\nName: I1_Q3, dtype: int64"
     },
     "execution_count": 25,
     "metadata": {},
     "output_type": "execute_result"
    }
   ],
   "source": [
    "cust_info_q.I1_Q3.value_counts()"
   ],
   "metadata": {
    "collapsed": false
   }
  },
  {
   "cell_type": "code",
   "execution_count": 26,
   "outputs": [],
   "source": [
    "cust_info_q.I1_Q3 = cust_info_q.I1_Q3.replace({'女性':0, '男性':1})\n",
    "cust_info_q.I1_Q4 = cust_info_q.I1_Q4.replace({'女性':0, '男性':1})"
   ],
   "metadata": {
    "collapsed": false
   }
  },
  {
   "cell_type": "code",
   "execution_count": 27,
   "outputs": [
    {
     "data": {
      "text/plain": "普通客户    47010\n黄金      26552\n白金       8508\n钻石        829\nName: I3_Q3, dtype: int64"
     },
     "execution_count": 27,
     "metadata": {},
     "output_type": "execute_result"
    }
   ],
   "source": [
    "cust_info_q.I3_Q3.value_counts()"
   ],
   "metadata": {
    "collapsed": false
   }
  },
  {
   "cell_type": "code",
   "execution_count": 28,
   "outputs": [],
   "source": [
    "# cust_info_q.I3_Q3 = cust_info_q.I3_Q3.replace({'普通客户':'일반고객', '黄金':'금', '白金':'백금', '钻石':'다이아몬드'})\n",
    "# cust_info_q.I3_Q4 = cust_info_q.I3_Q4.replace({'普通客户':'일반고객', '黄金':'금', '白金':'백금', '钻石':'다이아몬드'})\n",
    "\n",
    "cust_info_q.I3_Q3 = cust_info_q.I3_Q3.replace({'普通客户':4, '黄金':3, '白金':2, '钻石':1})\n",
    "cust_info_q.I3_Q4 = cust_info_q.I3_Q4.replace({'普通客户':4, '黄金':3, '白金':2, '钻石':1})"
   ],
   "metadata": {
    "collapsed": false
   }
  },
  {
   "cell_type": "code",
   "execution_count": 29,
   "outputs": [
    {
     "data": {
      "text/plain": "不便分类的其他从业人员             24770\n商业工作人员                  15952\n服务性工作人员                 14295\n办事人员和有关人员               10977\n专业技术人员                   4360\n未知                       2593\n生产、运输设备操作人员及有关人员         2158\n国家机关、党群组织、企业、事业单位负责人     2131\n农、林、牧、渔、水利业生产人员           671\n军人                         40\n退休                          5\nName: I5_Q3, dtype: int64"
     },
     "execution_count": 29,
     "metadata": {},
     "output_type": "execute_result"
    }
   ],
   "source": [
    "cust_info_q.I5_Q3.value_counts()"
   ],
   "metadata": {
    "collapsed": false
   }
  },
  {
   "cell_type": "code",
   "execution_count": 30,
   "outputs": [],
   "source": [
    "cust_info_q.I5_Q3 = cust_info_q.I5_Q3.replace({'不便分类的其他从业人员':'프리랜서', '商业工作人员':'판매원', '服务性工作人员':'서비스직', '专业技术人员':'전문직', '办事人员和有关人员':'사무원','未知':'무직', '生产、运输设备操作人员及有关人员':'생산직', '国家机关、党群组织、企业、事业单位负责人':'정치인','农、林、牧、渔、水利业生产人员':'농축업', '军人':'군인', '退休':'은퇴'})\n",
    "cust_info_q.I5_Q4 = cust_info_q.I5_Q4.replace({'不便分类的其他从业人员':'프리랜서', '商业工作人员':'판매원', '服务性工作人员':'서비스직', '专业技术人员':'전문직', '办事人员和有关人员':'사무원','未知':'무직', '生产、运输设备操作人员及有关人员':'생산직', '国家机关、党群组织、企业、事业单位负责人':'정치인','农、林、牧、渔、水利业生产人员':'농축업', '军人':'군인', '退休':'은퇴'})"
   ],
   "metadata": {
    "collapsed": false
   }
  },
  {
   "cell_type": "code",
   "execution_count": 31,
   "outputs": [],
   "source": [
    "cust_info_q.I5_Q3.fillna('무직', inplace=True)\n",
    "cust_info_q.I5_Q4.fillna('무직', inplace=True)"
   ],
   "metadata": {
    "collapsed": false
   }
  },
  {
   "cell_type": "markdown",
   "source": [
    "### **테이블 병합**"
   ],
   "metadata": {
    "collapsed": false
   }
  },
  {
   "cell_type": "code",
   "execution_count": 32,
   "outputs": [
    {
     "name": "stdout",
     "output_type": "stream",
     "text": [
      "(82899, 49)\n",
      "(82899, 35)\n",
      "(82896, 13)\n",
      "(82899, 37)\n",
      "(82899, 29)\n",
      "(82899, 3)\n"
     ]
    }
   ],
   "source": [
    "# check table shape\n",
    "print(aum_m.shape)  # 82899\n",
    "print(behavior_m.shape)  # 82899\n",
    "print(cunkuan_m.shape)  # 82896\n",
    "print(big_event_Q.shape)  # 82899\n",
    "print(cust_info_q.shape)  # 82899\n",
    "print(y_train.shape) # 82899"
   ],
   "metadata": {
    "collapsed": false
   }
  },
  {
   "cell_type": "code",
   "execution_count": 33,
   "outputs": [],
   "source": [
    "# merge table\n",
    "train = pd.merge(aum_m, behavior_m, on='cust_no', how='left')\n",
    "train = pd.merge(train, cunkuan_m, on='cust_no', how='left')\n",
    "train = pd.merge(train, big_event_Q, on='cust_no', how='left')\n",
    "train = pd.merge(train, cust_info_q, on='cust_no', how='left')\n",
    "train = pd.merge(train, y_train, on='cust_no', how='left')"
   ],
   "metadata": {
    "collapsed": false
   }
  },
  {
   "cell_type": "code",
   "execution_count": 34,
   "outputs": [],
   "source": [
    "# remove rows where C1 is missing\n",
    "train.dropna(subset=['C1_m11'], inplace=True)"
   ],
   "metadata": {
    "collapsed": false
   }
  },
  {
   "cell_type": "markdown",
   "source": [
    "### 테이블 분리\n",
    "\n",
    "- Q3와 Q4로 테이블 분리"
   ],
   "metadata": {
    "collapsed": false
   }
  },
  {
   "cell_type": "code",
   "execution_count": 35,
   "outputs": [
    {
     "data": {
      "text/plain": "Index(['cust_no', 'X1_m7', 'X2_m7', 'X3_m7', 'X4_m7', 'X5_m7', 'X6_m7',\n       'X7_m7', 'X8_m7', 'X1_m8',\n       ...\n       'I7_Q4', 'I11_Q4', 'I15_Q4', 'I16_Q4', 'I17_Q4', 'I18_Q4', 'I19_Q4',\n       'I20_Q4', 'label_Q3', 'label_Q4'],\n      dtype='object', length=161)"
     },
     "execution_count": 35,
     "metadata": {},
     "output_type": "execute_result"
    }
   ],
   "source": [
    "train.columns"
   ],
   "metadata": {
    "collapsed": false
   }
  },
  {
   "cell_type": "code",
   "execution_count": 36,
   "outputs": [],
   "source": [
    "Q3_col_list = ['cust_no', 'label_Q3', 'E1_Q3', 'E2_Q3', 'E3_Q3', 'E4_Q3', 'E5_Q3', 'E6_Q3', 'E7_Q3', 'E8_Q3', 'E9_Q3', 'E10_Q3', 'E11_Q3', 'E12_Q3', 'E13_Q3', 'E14_Q3', 'E15_Q3', 'E16_Q3', 'E17_Q3', 'E18_Q3', 'I1_Q3', 'I2_Q3', 'I3_Q3', 'I4_Q3', 'I5_Q3', 'I6_Q3', 'I7_Q3', 'I11_Q3', 'I15_Q3', 'I16_Q3', 'I17_Q3', 'I18_Q3', 'I19_Q3', 'I20_Q3']\n",
    "Q4_col_list = ['cust_no', 'label_Q4', 'E1_Q4', 'E2_Q4', 'E3_Q4', 'E4_Q4', 'E5_Q4', 'E6_Q4', 'E7_Q4', 'E8_Q4', 'E9_Q4', 'E10_Q4', 'E11_Q4', 'E12_Q4', 'E13_Q4', 'E14_Q4', 'E15_Q4', 'E16_Q4', 'E17_Q4', 'E18_Q4', 'I1_Q4', 'I2_Q4', 'I3_Q4', 'I4_Q4', 'I5_Q4', 'I6_Q4', 'I7_Q4', 'I11_Q4', 'I15_Q4', 'I16_Q4', 'I17_Q4', 'I18_Q4', 'I19_Q4', 'I20_Q4']\n",
    "\n",
    "for m in range(7,10):\n",
    "    Q3_col_list.append('X1_m'+str(m))\n",
    "    Q3_col_list.append('X2_m'+str(m))\n",
    "    Q3_col_list.append('X3_m'+str(m))\n",
    "    Q3_col_list.append('X4_m'+str(m))\n",
    "    Q3_col_list.append('X5_m'+str(m))\n",
    "    Q3_col_list.append('X6_m'+str(m))\n",
    "    Q3_col_list.append('X7_m'+str(m))\n",
    "    Q3_col_list.append('X8_m'+str(m))\n",
    "    Q3_col_list.append('B1_m'+str(m))\n",
    "    Q3_col_list.append('B2_m'+str(m))\n",
    "    Q3_col_list.append('B3_m'+str(m))\n",
    "    Q3_col_list.append('B4_m'+str(m))\n",
    "    Q3_col_list.append('B5_m'+str(m))\n",
    "    if m == 9:\n",
    "        Q3_col_list.append('B6_m'+str(m))\n",
    "        Q3_col_list.append('B7_m'+str(m))\n",
    "    Q3_col_list.append('C1_m'+str(m))\n",
    "    Q3_col_list.append('C2_m'+str(m))\n",
    "\n",
    "for m in range(10,13):\n",
    "    Q4_col_list.append('X1_m'+str(m))\n",
    "    Q4_col_list.append('X2_m'+str(m))\n",
    "    Q4_col_list.append('X3_m'+str(m))\n",
    "    Q4_col_list.append('X4_m'+str(m))\n",
    "    Q4_col_list.append('X5_m'+str(m))\n",
    "    Q4_col_list.append('X6_m'+str(m))\n",
    "    Q4_col_list.append('X7_m'+str(m))\n",
    "    Q4_col_list.append('X8_m'+str(m))\n",
    "    Q4_col_list.append('B1_m'+str(m))\n",
    "    Q4_col_list.append('B2_m'+str(m))\n",
    "    Q4_col_list.append('B3_m'+str(m))\n",
    "    Q4_col_list.append('B4_m'+str(m))\n",
    "    Q4_col_list.append('B5_m'+str(m))\n",
    "    if m == 12:\n",
    "        Q4_col_list.append('B6_m'+str(m))\n",
    "        Q4_col_list.append('B7_m'+str(m))\n",
    "    Q4_col_list.append('C1_m'+str(m))\n",
    "    Q4_col_list.append('C2_m'+str(m))"
   ],
   "metadata": {
    "collapsed": false
   }
  },
  {
   "cell_type": "code",
   "execution_count": 37,
   "outputs": [
    {
     "name": "stdout",
     "output_type": "stream",
     "text": [
      "81\n",
      "81\n"
     ]
    }
   ],
   "source": [
    "# check\n",
    "print(len(Q4_col_list))\n",
    "print(len(Q3_col_list))"
   ],
   "metadata": {
    "collapsed": false
   }
  },
  {
   "cell_type": "code",
   "execution_count": 38,
   "outputs": [],
   "source": [
    "train_Q3 = train.loc[:,Q3_col_list]\n",
    "train_Q4 = train.loc[:,Q4_col_list]"
   ],
   "metadata": {
    "collapsed": false
   }
  },
  {
   "cell_type": "code",
   "execution_count": 39,
   "outputs": [
    {
     "name": "stdout",
     "output_type": "stream",
     "text": [
      "(82896, 81)\n",
      "(82896, 81)\n"
     ]
    }
   ],
   "source": [
    "print(train_Q3.shape)\n",
    "print(train_Q4.shape)"
   ],
   "metadata": {
    "collapsed": false
   }
  },
  {
   "cell_type": "code",
   "execution_count": 40,
   "outputs": [],
   "source": [
    "# remove no label data\n",
    "train_Q3.dropna(subset=['label_Q3'], inplace=True)\n",
    "train_Q4.dropna(subset=['label_Q4'], inplace=True)"
   ],
   "metadata": {
    "collapsed": false
   }
  },
  {
   "cell_type": "code",
   "execution_count": 41,
   "outputs": [
    {
     "name": "stdout",
     "output_type": "stream",
     "text": [
      "(69123, 81)\n",
      "(76167, 81)\n"
     ]
    }
   ],
   "source": [
    "print(train_Q3.shape)\n",
    "print(train_Q4.shape)"
   ],
   "metadata": {
    "collapsed": false
   }
  },
  {
   "cell_type": "code",
   "execution_count": 42,
   "outputs": [],
   "source": [
    "def check_missing(dat):\n",
    "    '''Print missing values in each column of the dat\n",
    "    @Param df dat: input data frame\n",
    "    '''\n",
    "    missing_val = dat.isnull().sum()\n",
    "    for index in missing_val.index:\n",
    "        if missing_val[index] > 0:\n",
    "            print('{} has {} missing values. ({:.4%})'.format(index, missing_val[index], missing_val[index]/dat.shape[0]))\n"
   ],
   "metadata": {
    "collapsed": false
   }
  },
  {
   "cell_type": "code",
   "execution_count": 43,
   "outputs": [
    {
     "name": "stdout",
     "output_type": "stream",
     "text": [
      "E2_Q3 has 3215 missing values. (4.6511%)\n",
      "E3_Q3 has 3215 missing values. (4.6511%)\n",
      "E4_Q3 has 40019 missing values. (57.8953%)\n",
      "E5_Q3 has 26400 missing values. (38.1928%)\n",
      "E6_Q3 has 3767 missing values. (5.4497%)\n",
      "E7_Q3 has 67763 missing values. (98.0325%)\n",
      "E8_Q3 has 60691 missing values. (87.8015%)\n",
      "E9_Q3 has 69081 missing values. (99.9392%)\n",
      "E10_Q3 has 361 missing values. (0.5223%)\n",
      "E11_Q3 has 69123 missing values. (100.0000%)\n",
      "E12_Q3 has 58086 missing values. (84.0328%)\n",
      "E13_Q3 has 60467 missing values. (87.4774%)\n",
      "E14_Q3 has 42947 missing values. (62.1313%)\n",
      "E16_Q3 has 32463 missing values. (46.9641%)\n",
      "E18_Q3 has 29274 missing values. (42.3506%)\n",
      "I1_Q3 has 32 missing values. (0.0463%)\n"
     ]
    }
   ],
   "source": [
    "check_missing(train_Q3)"
   ],
   "metadata": {
    "collapsed": false
   }
  },
  {
   "cell_type": "code",
   "execution_count": 44,
   "outputs": [
    {
     "name": "stdout",
     "output_type": "stream",
     "text": [
      "E2_Q4 has 3151 missing values. (4.1370%)\n",
      "E3_Q4 has 3151 missing values. (4.1370%)\n",
      "E4_Q4 has 44458 missing values. (58.3691%)\n",
      "E5_Q4 has 28723 missing values. (37.7106%)\n",
      "E6_Q4 has 3765 missing values. (4.9431%)\n",
      "E7_Q4 has 74633 missing values. (97.9860%)\n",
      "E8_Q4 has 66684 missing values. (87.5497%)\n",
      "E9_Q4 has 76140 missing values. (99.9646%)\n",
      "E10_Q4 has 455 missing values. (0.5974%)\n",
      "E11_Q4 has 76167 missing values. (100.0000%)\n",
      "E12_Q4 has 63232 missing values. (83.0176%)\n",
      "E13_Q4 has 67029 missing values. (88.0027%)\n",
      "E14_Q4 has 47057 missing values. (61.7813%)\n",
      "E16_Q4 has 36061 missing values. (47.3447%)\n",
      "E18_Q4 has 32867 missing values. (43.1512%)\n",
      "I1_Q4 has 32 missing values. (0.0420%)\n"
     ]
    }
   ],
   "source": [
    "check_missing(train_Q4)"
   ],
   "metadata": {
    "collapsed": false
   }
  },
  {
   "cell_type": "markdown",
   "source": [
    "#### **E 변수 결측치 처리**\n",
    "\n",
    "- 결측률 70% 이상 (E7, E8, E9, E11, E12, E13) : 삭제\n",
    "- 결측률 30 ~ 70% (E4, E5, E14, E16, E18) : 0, 1변수로 변환\n",
    "- 결측률 30% 이하 : (기준 날짜 - value)의 max로 대체"
   ],
   "metadata": {
    "collapsed": false
   }
  },
  {
   "cell_type": "code",
   "execution_count": 45,
   "outputs": [],
   "source": [
    "# del E7, E8, E9, E11, E12, E13\n",
    "train_Q3.drop(columns =['E7_Q3', 'E8_Q3', 'E9_Q3','E11_Q3', 'E12_Q3', 'E13_Q3'], inplace = True)\n",
    "train_Q4.drop(columns =['E7_Q4', 'E8_Q4', 'E9_Q4','E11_Q4', 'E12_Q4', 'E13_Q4'], inplace = True)"
   ],
   "metadata": {
    "collapsed": false
   }
  },
  {
   "cell_type": "code",
   "execution_count": 46,
   "outputs": [],
   "source": [
    "train_Q3.E4_Q3 = (~train_Q3.E4_Q3.isna()).astype(int)\n",
    "train_Q3.E5_Q3 = (~train_Q3.E5_Q3.isna()).astype(int)\n",
    "train_Q3.E14_Q3 = (~train_Q3.E14_Q3.isna()).astype(int)\n",
    "train_Q3.E16_Q3 = (~train_Q3.E16_Q3.isna()).astype(int)\n",
    "train_Q3.E18_Q3 = (~train_Q3.E18_Q3.isna()).astype(int)\n",
    "\n",
    "train_Q4.E4_Q4 = (~train_Q4.E4_Q4.isna()).astype(int)\n",
    "train_Q4.E5_Q4 = (~train_Q4.E5_Q4.isna()).astype(int)\n",
    "train_Q4.E14_Q4 = (~train_Q4.E14_Q4.isna()).astype(int)\n",
    "train_Q4.E16_Q4 = (~train_Q4.E16_Q4.isna()).astype(int)\n",
    "train_Q4.E18_Q4 = (~train_Q4.E18_Q4.isna()).astype(int)"
   ],
   "metadata": {
    "collapsed": false
   }
  },
  {
   "cell_type": "code",
   "execution_count": 47,
   "outputs": [],
   "source": [
    "def date_diff_Q3(x):\n",
    "    return (pd.datetime(2019, 9, 30) - x).days\n",
    "\n",
    "def date_diff_Q4(x):\n",
    "    return (pd.datetime(2019,12,31) - x).days"
   ],
   "metadata": {
    "collapsed": false
   }
  },
  {
   "cell_type": "code",
   "execution_count": 48,
   "outputs": [],
   "source": [
    "# Convert data type to datetime\n",
    "train_Q3[['E1_Q3', 'E2_Q3', 'E3_Q3', 'E6_Q3', 'E10_Q3','E14_Q3', 'E15_Q3','B6_m9']] = train_Q3[['E1_Q3', 'E2_Q3', 'E3_Q3', 'E6_Q3', 'E10_Q3','E14_Q3', 'E15_Q3','B6_m9']].apply(pd.to_datetime)\n",
    "\n",
    "train_Q4[['E1_Q4', 'E2_Q4', 'E3_Q4', 'E6_Q4', 'E10_Q4','E14_Q4', 'E15_Q4','B6_m12']] = train_Q4[['E1_Q4', 'E2_Q4', 'E3_Q4', 'E6_Q4', 'E10_Q4','E14_Q4', 'E15_Q4','B6_m12']].apply(pd.to_datetime)\n"
   ],
   "metadata": {
    "collapsed": false
   }
  },
  {
   "cell_type": "code",
   "execution_count": 49,
   "outputs": [],
   "source": [
    "train_Q3.E1_Q3 = train_Q3.E1_Q3.apply(date_diff_Q3)\n",
    "train_Q3.E2_Q3 = train_Q3.E2_Q3.apply(date_diff_Q3)\n",
    "train_Q3.E3_Q3 = train_Q3.E3_Q3.apply(date_diff_Q3)\n",
    "train_Q3.E6_Q3 = train_Q3.E6_Q3.apply(date_diff_Q3)\n",
    "train_Q3.E10_Q3 = train_Q3.E10_Q3.apply(date_diff_Q3)\n",
    "train_Q3.E14_Q3 = train_Q3.E14_Q3.apply(date_diff_Q3)\n",
    "train_Q3.E15_Q3 = train_Q3.E15_Q3.apply(date_diff_Q3)\n",
    "train_Q3.B6_m9 = train_Q3.B6_m9.apply(date_diff_Q3)\n",
    "\n",
    "train_Q4.E1_Q4 = train_Q4.E1_Q4.apply(date_diff_Q4)\n",
    "train_Q4.E2_Q4 = train_Q4.E2_Q4.apply(date_diff_Q4)\n",
    "train_Q4.E3_Q4 = train_Q4.E3_Q4.apply(date_diff_Q4)\n",
    "train_Q4.E6_Q4 = train_Q4.E6_Q4.apply(date_diff_Q4)\n",
    "train_Q4.E10_Q4 = train_Q4.E10_Q4.apply(date_diff_Q4)\n",
    "train_Q4.E14_Q4 = train_Q4.E14_Q4.apply(date_diff_Q4)\n",
    "train_Q4.E15_Q4 = train_Q4.E15_Q4.apply(date_diff_Q4)\n",
    "train_Q4.B6_m12 = train_Q4.B6_m12.apply(date_diff_Q4)\n"
   ],
   "metadata": {
    "collapsed": false
   }
  },
  {
   "cell_type": "code",
   "execution_count": 50,
   "outputs": [],
   "source": [
    "# fillna with max value\n",
    "train_Q3.E2_Q3.fillna(train_Q3.E2_Q3.max(), inplace=True)\n",
    "train_Q3.E3_Q3.fillna(train_Q3.E3_Q3.max(), inplace=True)\n",
    "train_Q3.E6_Q3.fillna(train_Q3.E6_Q3.max(), inplace=True)\n",
    "train_Q3.E10_Q3.fillna(train_Q3.E10_Q3.max(), inplace=True)\n",
    "\n",
    "train_Q4.E2_Q4.fillna(train_Q4.E2_Q4.max(), inplace=True)\n",
    "train_Q4.E3_Q4.fillna(train_Q4.E3_Q4.max(), inplace=True)\n",
    "train_Q4.E6_Q4.fillna(train_Q4.E6_Q4.max(), inplace=True)\n",
    "train_Q4.E10_Q4.fillna(train_Q4.E10_Q4.max(), inplace=True)"
   ],
   "metadata": {
    "collapsed": false
   }
  },
  {
   "cell_type": "markdown",
   "source": [
    "### Q3, Q4 table 합치기 (concatenate)"
   ],
   "metadata": {
    "collapsed": false
   }
  },
  {
   "cell_type": "code",
   "execution_count": 51,
   "outputs": [
    {
     "data": {
      "text/plain": "Index(['cust_no', 'label_Q3', 'E1_Q3', 'E2_Q3', 'E3_Q3', 'E4_Q3', 'E5_Q3',\n       'E6_Q3', 'E10_Q3', 'E14_Q3', 'E15_Q3', 'E16_Q3', 'E17_Q3', 'E18_Q3',\n       'I1_Q3', 'I2_Q3', 'I3_Q3', 'I4_Q3', 'I5_Q3', 'I6_Q3', 'I7_Q3', 'I11_Q3',\n       'I15_Q3', 'I16_Q3', 'I17_Q3', 'I18_Q3', 'I19_Q3', 'I20_Q3', 'X1_m7',\n       'X2_m7', 'X3_m7', 'X4_m7', 'X5_m7', 'X6_m7', 'X7_m7', 'X8_m7', 'B1_m7',\n       'B2_m7', 'B3_m7', 'B4_m7', 'B5_m7', 'C1_m7', 'C2_m7', 'X1_m8', 'X2_m8',\n       'X3_m8', 'X4_m8', 'X5_m8', 'X6_m8', 'X7_m8', 'X8_m8', 'B1_m8', 'B2_m8',\n       'B3_m8', 'B4_m8', 'B5_m8', 'C1_m8', 'C2_m8', 'X1_m9', 'X2_m9', 'X3_m9',\n       'X4_m9', 'X5_m9', 'X6_m9', 'X7_m9', 'X8_m9', 'B1_m9', 'B2_m9', 'B3_m9',\n       'B4_m9', 'B5_m9', 'B6_m9', 'B7_m9', 'C1_m9', 'C2_m9'],\n      dtype='object')"
     },
     "execution_count": 51,
     "metadata": {},
     "output_type": "execute_result"
    }
   ],
   "source": [
    "train_Q3.columns"
   ],
   "metadata": {
    "collapsed": false
   }
  },
  {
   "cell_type": "code",
   "execution_count": 52,
   "outputs": [
    {
     "data": {
      "text/plain": "Index(['cust_no', 'label_Q4', 'E1_Q4', 'E2_Q4', 'E3_Q4', 'E4_Q4', 'E5_Q4',\n       'E6_Q4', 'E10_Q4', 'E14_Q4', 'E15_Q4', 'E16_Q4', 'E17_Q4', 'E18_Q4',\n       'I1_Q4', 'I2_Q4', 'I3_Q4', 'I4_Q4', 'I5_Q4', 'I6_Q4', 'I7_Q4', 'I11_Q4',\n       'I15_Q4', 'I16_Q4', 'I17_Q4', 'I18_Q4', 'I19_Q4', 'I20_Q4', 'X1_m10',\n       'X2_m10', 'X3_m10', 'X4_m10', 'X5_m10', 'X6_m10', 'X7_m10', 'X8_m10',\n       'B1_m10', 'B2_m10', 'B3_m10', 'B4_m10', 'B5_m10', 'C1_m10', 'C2_m10',\n       'X1_m11', 'X2_m11', 'X3_m11', 'X4_m11', 'X5_m11', 'X6_m11', 'X7_m11',\n       'X8_m11', 'B1_m11', 'B2_m11', 'B3_m11', 'B4_m11', 'B5_m11', 'C1_m11',\n       'C2_m11', 'X1_m12', 'X2_m12', 'X3_m12', 'X4_m12', 'X5_m12', 'X6_m12',\n       'X7_m12', 'X8_m12', 'B1_m12', 'B2_m12', 'B3_m12', 'B4_m12', 'B5_m12',\n       'B6_m12', 'B7_m12', 'C1_m12', 'C2_m12'],\n      dtype='object')"
     },
     "execution_count": 52,
     "metadata": {},
     "output_type": "execute_result"
    }
   ],
   "source": [
    "train_Q4.columns"
   ],
   "metadata": {
    "collapsed": false
   }
  },
  {
   "cell_type": "code",
   "execution_count": 53,
   "outputs": [],
   "source": [
    "colname = ['cust_no', 'label', 'E1', 'E2', 'E3', 'E4', 'E5',\n",
    "       'E6', 'E10', 'E14', 'E15', 'E16', 'E17', 'E18',\n",
    "       'I1', 'I2', 'I3', 'I4', 'I5', 'I6', 'I7', 'I11',\n",
    "       'I15', 'I16', 'I17', 'I18', 'I19', 'I20', 'X1_m1',\n",
    "       'X2_m1', 'X3_m1', 'X4_m1', 'X5_m1', 'X6_m1', 'X7_m1', 'X8_m1', 'B1_m1',\n",
    "       'B2_m1', 'B3_m1', 'B4_m1', 'B5_m1', 'C1_m1', 'C2_m1', 'X1_m2', 'X2_m2',\n",
    "       'X3_m2', 'X4_m2', 'X5_m2', 'X6_m2', 'X7_m2', 'X8_m2', 'B1_m2', 'B2_m2',\n",
    "       'B3_m2', 'B4_m2', 'B5_m2', 'C1_m2', 'C2_m2', 'X1_m3', 'X2_m3', 'X3_m3',\n",
    "       'X4_m3', 'X5_m3', 'X6_m3', 'X7_m3', 'X8_m3', 'B1_m3', 'B2_m3', 'B3_m3',\n",
    "       'B4_m3', 'B5_m3', 'B6_m3', 'B7_m3', 'C1_m3', 'C2_m3']"
   ],
   "metadata": {
    "collapsed": false
   }
  },
  {
   "cell_type": "code",
   "execution_count": 54,
   "outputs": [],
   "source": [
    "train_Q3.columns = colname\n",
    "train_Q4.columns = colname"
   ],
   "metadata": {
    "collapsed": false
   }
  },
  {
   "cell_type": "code",
   "execution_count": 54,
   "outputs": [],
   "source": [],
   "metadata": {
    "collapsed": false
   }
  },
  {
   "cell_type": "code",
   "execution_count": 55,
   "outputs": [],
   "source": [
    "train = pd.concat([train_Q3, train_Q4])"
   ],
   "metadata": {
    "collapsed": false
   }
  },
  {
   "cell_type": "code",
   "execution_count": 56,
   "outputs": [
    {
     "name": "stdout",
     "output_type": "stream",
     "text": [
      "(145290, 75)\n"
     ]
    },
    {
     "data": {
      "text/plain": "      cust_no  label    E1      E2      E3  E4  E5     E6    E10    E14  ...  \\\n0  0xb2d30bf6    1.0   790   789.0   789.0   0   0  168.0    1.0  18169  ...   \n1  0xb2d0c143    1.0  1538  1538.0  1538.0   1   1  353.0  263.0  18168  ...   \n2  0xb2d6004d    1.0   305   305.0   305.0   0   0  305.0  175.0  18169  ...   \n3  0xb2d5a839    1.0   356   356.0   356.0   0   1  332.0  284.0  18168  ...   \n4  0xb2d63b24    1.0   264   244.0   244.0   1   0    3.0    4.0  18169  ...   \n\n   X8_m3  B1_m3  B2_m3     B3_m3  B4_m3    B5_m3  B6_m3  B7_m3      C1_m3  \\\n0    0.0    0.0    0.0      0.00    0.0      0.0     18    3.0   23140.95   \n1    0.0   11.0    2.0  80084.44    1.0  60000.0     10   21.0  170094.56   \n2    0.0    0.0    0.0      0.00    0.0      0.0    163    0.0   70013.94   \n3    0.0    7.0    1.0  72803.60    1.0  30000.0     18    4.0  123812.32   \n4    0.0    0.0    1.0  61745.33    0.0      0.0      2    1.0  168754.33   \n\n   C2_m3  \n0    1.0  \n1    4.0  \n2    3.0  \n3    2.0  \n4    3.0  \n\n[5 rows x 75 columns]",
      "text/html": "<div>\n<style scoped>\n    .dataframe tbody tr th:only-of-type {\n        vertical-align: middle;\n    }\n\n    .dataframe tbody tr th {\n        vertical-align: top;\n    }\n\n    .dataframe thead th {\n        text-align: right;\n    }\n</style>\n<table border=\"1\" class=\"dataframe\">\n  <thead>\n    <tr style=\"text-align: right;\">\n      <th></th>\n      <th>cust_no</th>\n      <th>label</th>\n      <th>E1</th>\n      <th>E2</th>\n      <th>E3</th>\n      <th>E4</th>\n      <th>E5</th>\n      <th>E6</th>\n      <th>E10</th>\n      <th>E14</th>\n      <th>...</th>\n      <th>X8_m3</th>\n      <th>B1_m3</th>\n      <th>B2_m3</th>\n      <th>B3_m3</th>\n      <th>B4_m3</th>\n      <th>B5_m3</th>\n      <th>B6_m3</th>\n      <th>B7_m3</th>\n      <th>C1_m3</th>\n      <th>C2_m3</th>\n    </tr>\n  </thead>\n  <tbody>\n    <tr>\n      <th>0</th>\n      <td>0xb2d30bf6</td>\n      <td>1.0</td>\n      <td>790</td>\n      <td>789.0</td>\n      <td>789.0</td>\n      <td>0</td>\n      <td>0</td>\n      <td>168.0</td>\n      <td>1.0</td>\n      <td>18169</td>\n      <td>...</td>\n      <td>0.0</td>\n      <td>0.0</td>\n      <td>0.0</td>\n      <td>0.00</td>\n      <td>0.0</td>\n      <td>0.0</td>\n      <td>18</td>\n      <td>3.0</td>\n      <td>23140.95</td>\n      <td>1.0</td>\n    </tr>\n    <tr>\n      <th>1</th>\n      <td>0xb2d0c143</td>\n      <td>1.0</td>\n      <td>1538</td>\n      <td>1538.0</td>\n      <td>1538.0</td>\n      <td>1</td>\n      <td>1</td>\n      <td>353.0</td>\n      <td>263.0</td>\n      <td>18168</td>\n      <td>...</td>\n      <td>0.0</td>\n      <td>11.0</td>\n      <td>2.0</td>\n      <td>80084.44</td>\n      <td>1.0</td>\n      <td>60000.0</td>\n      <td>10</td>\n      <td>21.0</td>\n      <td>170094.56</td>\n      <td>4.0</td>\n    </tr>\n    <tr>\n      <th>2</th>\n      <td>0xb2d6004d</td>\n      <td>1.0</td>\n      <td>305</td>\n      <td>305.0</td>\n      <td>305.0</td>\n      <td>0</td>\n      <td>0</td>\n      <td>305.0</td>\n      <td>175.0</td>\n      <td>18169</td>\n      <td>...</td>\n      <td>0.0</td>\n      <td>0.0</td>\n      <td>0.0</td>\n      <td>0.00</td>\n      <td>0.0</td>\n      <td>0.0</td>\n      <td>163</td>\n      <td>0.0</td>\n      <td>70013.94</td>\n      <td>3.0</td>\n    </tr>\n    <tr>\n      <th>3</th>\n      <td>0xb2d5a839</td>\n      <td>1.0</td>\n      <td>356</td>\n      <td>356.0</td>\n      <td>356.0</td>\n      <td>0</td>\n      <td>1</td>\n      <td>332.0</td>\n      <td>284.0</td>\n      <td>18168</td>\n      <td>...</td>\n      <td>0.0</td>\n      <td>7.0</td>\n      <td>1.0</td>\n      <td>72803.60</td>\n      <td>1.0</td>\n      <td>30000.0</td>\n      <td>18</td>\n      <td>4.0</td>\n      <td>123812.32</td>\n      <td>2.0</td>\n    </tr>\n    <tr>\n      <th>4</th>\n      <td>0xb2d63b24</td>\n      <td>1.0</td>\n      <td>264</td>\n      <td>244.0</td>\n      <td>244.0</td>\n      <td>1</td>\n      <td>0</td>\n      <td>3.0</td>\n      <td>4.0</td>\n      <td>18169</td>\n      <td>...</td>\n      <td>0.0</td>\n      <td>0.0</td>\n      <td>1.0</td>\n      <td>61745.33</td>\n      <td>0.0</td>\n      <td>0.0</td>\n      <td>2</td>\n      <td>1.0</td>\n      <td>168754.33</td>\n      <td>3.0</td>\n    </tr>\n  </tbody>\n</table>\n<p>5 rows × 75 columns</p>\n</div>"
     },
     "execution_count": 56,
     "metadata": {},
     "output_type": "execute_result"
    }
   ],
   "source": [
    "print(train.shape)\n",
    "train.head()"
   ],
   "metadata": {
    "collapsed": false
   }
  },
  {
   "cell_type": "code",
   "execution_count": 57,
   "outputs": [
    {
     "name": "stdout",
     "output_type": "stream",
     "text": [
      "<class 'pandas.core.frame.DataFrame'>\n",
      "Int64Index: 145290 entries, 0 to 82898\n",
      "Data columns (total 75 columns):\n",
      " #   Column   Non-Null Count   Dtype  \n",
      "---  ------   --------------   -----  \n",
      " 0   cust_no  145290 non-null  object \n",
      " 1   label    145290 non-null  float64\n",
      " 2   E1       145290 non-null  int64  \n",
      " 3   E2       145290 non-null  float64\n",
      " 4   E3       145290 non-null  float64\n",
      " 5   E4       145290 non-null  int64  \n",
      " 6   E5       145290 non-null  int64  \n",
      " 7   E6       145290 non-null  float64\n",
      " 8   E10      145290 non-null  float64\n",
      " 9   E14      145290 non-null  int64  \n",
      " 10  E15      145290 non-null  int64  \n",
      " 11  E16      145290 non-null  int64  \n",
      " 12  E17      145290 non-null  float64\n",
      " 13  E18      145290 non-null  int64  \n",
      " 14  I1       145226 non-null  float64\n",
      " 15  I2       145290 non-null  float64\n",
      " 16  I3       145290 non-null  int64  \n",
      " 17  I4       145290 non-null  float64\n",
      " 18  I5       145290 non-null  object \n",
      " 19  I6       145290 non-null  float64\n",
      " 20  I7       145290 non-null  float64\n",
      " 21  I11      145290 non-null  float64\n",
      " 22  I15      145290 non-null  float64\n",
      " 23  I16      145290 non-null  float64\n",
      " 24  I17      145290 non-null  float64\n",
      " 25  I18      145290 non-null  float64\n",
      " 26  I19      145290 non-null  float64\n",
      " 27  I20      145290 non-null  float64\n",
      " 28  X1_m1    145290 non-null  float64\n",
      " 29  X2_m1    145290 non-null  float64\n",
      " 30  X3_m1    145290 non-null  float64\n",
      " 31  X4_m1    145290 non-null  float64\n",
      " 32  X5_m1    145290 non-null  float64\n",
      " 33  X6_m1    145290 non-null  float64\n",
      " 34  X7_m1    145290 non-null  float64\n",
      " 35  X8_m1    145290 non-null  float64\n",
      " 36  B1_m1    145290 non-null  float64\n",
      " 37  B2_m1    145290 non-null  float64\n",
      " 38  B3_m1    145290 non-null  float64\n",
      " 39  B4_m1    145290 non-null  float64\n",
      " 40  B5_m1    145290 non-null  float64\n",
      " 41  C1_m1    145290 non-null  float64\n",
      " 42  C2_m1    145290 non-null  float64\n",
      " 43  X1_m2    145290 non-null  float64\n",
      " 44  X2_m2    145290 non-null  float64\n",
      " 45  X3_m2    145290 non-null  float64\n",
      " 46  X4_m2    145290 non-null  float64\n",
      " 47  X5_m2    145290 non-null  float64\n",
      " 48  X6_m2    145290 non-null  float64\n",
      " 49  X7_m2    145290 non-null  float64\n",
      " 50  X8_m2    145290 non-null  float64\n",
      " 51  B1_m2    145290 non-null  float64\n",
      " 52  B2_m2    145290 non-null  float64\n",
      " 53  B3_m2    145290 non-null  float64\n",
      " 54  B4_m2    145290 non-null  float64\n",
      " 55  B5_m2    145290 non-null  float64\n",
      " 56  C1_m2    145290 non-null  float64\n",
      " 57  C2_m2    145290 non-null  float64\n",
      " 58  X1_m3    145290 non-null  float64\n",
      " 59  X2_m3    145290 non-null  float64\n",
      " 60  X3_m3    145290 non-null  float64\n",
      " 61  X4_m3    145290 non-null  float64\n",
      " 62  X5_m3    145290 non-null  float64\n",
      " 63  X6_m3    145290 non-null  float64\n",
      " 64  X7_m3    145290 non-null  float64\n",
      " 65  X8_m3    145290 non-null  float64\n",
      " 66  B1_m3    145290 non-null  float64\n",
      " 67  B2_m3    145290 non-null  float64\n",
      " 68  B3_m3    145290 non-null  float64\n",
      " 69  B4_m3    145290 non-null  float64\n",
      " 70  B5_m3    145290 non-null  float64\n",
      " 71  B6_m3    145290 non-null  int64  \n",
      " 72  B7_m3    145290 non-null  float64\n",
      " 73  C1_m3    145290 non-null  float64\n",
      " 74  C2_m3    145290 non-null  float64\n",
      "dtypes: float64(64), int64(9), object(2)\n",
      "memory usage: 84.2+ MB\n"
     ]
    }
   ],
   "source": [
    "train.info()"
   ],
   "metadata": {
    "collapsed": false
   }
  },
  {
   "cell_type": "markdown",
   "source": [
    "### **dummy 변수 생성 (I5)**\n"
   ],
   "metadata": {
    "collapsed": false
   }
  },
  {
   "cell_type": "code",
   "execution_count": 63,
   "outputs": [
    {
     "name": "stdout",
     "output_type": "stream",
     "text": [
      "(145290, 85)\n"
     ]
    }
   ],
   "source": [
    "# create dummy variable\n",
    "train = pd.concat([train,pd.get_dummies(train.I5)], axis = 1)\n",
    "train.drop(columns = ['I5'], inplace = True)\n",
    "print(train.shape)"
   ],
   "metadata": {
    "collapsed": false
   }
  },
  {
   "cell_type": "markdown",
   "source": [
    "### **데이터 분할**\n",
    "\n",
    "- 검증(10000), 테스트(10000)\n"
   ],
   "metadata": {
    "collapsed": false
   }
  },
  {
   "cell_type": "code",
   "execution_count": 88,
   "outputs": [],
   "source": [
    "# reset train df index\n",
    "train = train.reset_index(drop=True)"
   ],
   "metadata": {
    "collapsed": false
   }
  },
  {
   "cell_type": "code",
   "execution_count": 94,
   "outputs": [],
   "source": [
    "data_size, *_ = train.shape\n",
    "train_idx = list(np.random.choice(list(set(train.index)), data_size - 20000, replace = False))\n",
    "valid_idx = list(np.random.choice(list(set(train.index) - set(train_idx)), 10000, replace = False))\n",
    "test_idx = list(set(train.index) - set(train_idx) - set(valid_idx))"
   ],
   "metadata": {
    "collapsed": false
   }
  },
  {
   "cell_type": "code",
   "execution_count": 95,
   "outputs": [
    {
     "name": "stdout",
     "output_type": "stream",
     "text": [
      "train_data :  (125290, 85)\n",
      "valid_data :  (10000, 85)\n",
      "test_data :  (10000, 85)\n"
     ]
    }
   ],
   "source": [
    "train_data = train.iloc[train_idx]\n",
    "valid_data = train.iloc[valid_idx]\n",
    "test_data  = train.iloc[test_idx]\n",
    "print(\"train_data : \", train_data.shape)\n",
    "print(\"valid_data : \",valid_data.shape)\n",
    "print(\"test_data : \",test_data.shape)"
   ],
   "metadata": {
    "collapsed": false
   }
  },
  {
   "cell_type": "code",
   "execution_count": 98,
   "outputs": [
    {
     "data": {
      "text/plain": "set()"
     },
     "execution_count": 98,
     "metadata": {},
     "output_type": "execute_result"
    }
   ],
   "source": [
    "set(train.index) - set(train_idx) - set(valid_idx) - set(test_idx)"
   ],
   "metadata": {
    "collapsed": false
   }
  },
  {
   "cell_type": "code",
   "execution_count": 99,
   "outputs": [],
   "source": [
    "train_data.to_csv('../data/preprocessed_data/train_data.csv', index = False)\n",
    "valid_data.to_csv('../data/preprocessed_data/valid_data.csv', index = False)\n",
    "test_data.to_csv('../data/preprocessed_data/test_data.csv', index = False)"
   ],
   "metadata": {
    "collapsed": false
   }
  },
  {
   "cell_type": "code",
   "execution_count": null,
   "outputs": [],
   "source": [],
   "metadata": {
    "collapsed": false
   }
  }
 ],
 "metadata": {
  "kernelspec": {
   "display_name": "Python 3",
   "language": "python",
   "name": "python3"
  },
  "language_info": {
   "codemirror_mode": {
    "name": "ipython",
    "version": 2
   },
   "file_extension": ".py",
   "mimetype": "text/x-python",
   "name": "python",
   "nbconvert_exporter": "python",
   "pygments_lexer": "ipython2",
   "version": "2.7.6"
  }
 },
 "nbformat": 4,
 "nbformat_minor": 0
}
