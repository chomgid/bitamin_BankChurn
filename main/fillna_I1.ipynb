{
 "cells": [
  {
   "cell_type": "code",
   "execution_count": 1,
   "metadata": {
    "collapsed": true
   },
   "outputs": [],
   "source": [
    "import pandas as pd\n",
    "import numpy as np\n",
    "import time\n",
    "from sklearn.ensemble import RandomForestClassifier\n",
    "from sklearn.metrics import accuracy_score\n",
    "from sklearn.metrics import f1_score"
   ]
  },
  {
   "cell_type": "code",
   "execution_count": 12,
   "outputs": [],
   "source": [
    "# load data\n",
    "train_df = pd.read_csv('../data/preprocessed_data/train_data.csv')\n",
    "valid_df = pd.read_csv('../data/preprocessed_data/valid_data.csv')\n",
    "test_df = pd.read_csv('../data/preprocessed_data/test_data.csv')"
   ],
   "metadata": {
    "collapsed": false
   }
  },
  {
   "cell_type": "code",
   "execution_count": 13,
   "outputs": [],
   "source": [
    "x_train = train_df.drop(columns = ['cust_no', 'label'])\n",
    "y_train = train_df['label']\n",
    "x_valid = valid_df.drop(columns = ['cust_no', 'label'])\n",
    "y_valid = valid_df['label']\n",
    "x_test = test_df.drop(columns = ['cust_no', 'label'])\n",
    "y_test = test_df['label']"
   ],
   "metadata": {
    "collapsed": false
   }
  },
  {
   "cell_type": "code",
   "execution_count": 14,
   "outputs": [
    {
     "name": "stdout",
     "output_type": "stream",
     "text": [
      "x_train.shape:  (125290, 83)\n",
      "y_train.shape:  (125290,)\n",
      "x_valid.shape:  (10000, 83)\n",
      "y_valid.shape:  (10000,)\n",
      "x_test.shape:  (10000, 83)\n",
      "y_test.shape:  (10000,)\n"
     ]
    }
   ],
   "source": [
    "print('x_train.shape: ', x_train.shape)\n",
    "print(\"y_train.shape: \", y_train.shape)\n",
    "print('x_valid.shape: ', x_valid.shape)\n",
    "print(\"y_valid.shape: \", y_valid.shape)\n",
    "print('x_test.shape: ', x_test.shape)\n",
    "print(\"y_test.shape: \", y_test.shape)"
   ],
   "metadata": {
    "collapsed": false
   }
  },
  {
   "cell_type": "markdown",
   "source": [
    "### I1 결측치 채우기"
   ],
   "metadata": {
    "collapsed": false
   }
  },
  {
   "cell_type": "code",
   "execution_count": 15,
   "outputs": [
    {
     "name": "stdout",
     "output_type": "stream",
     "text": [
      "model training time :  36.59068298339844\n",
      "Accuracy: 0.78\n",
      "f1-score: 0.73\n",
      "Accuracy: 0.64\n",
      "f1-score: 0.56\n"
     ]
    }
   ],
   "source": [
    "# data for train\n",
    "tmp_train = x_train.dropna()\n",
    "tmp_train_x = tmp_train.drop('I1', axis = 1)\n",
    "tmp_train_y = tmp_train['I1']\n",
    "\n",
    "tmp_valid = x_valid.dropna()\n",
    "tmp_valid_x = tmp_valid.drop('I1', axis = 1)\n",
    "tmp_valid_y = tmp_valid['I1']\n",
    "\n",
    "# model training\n",
    "# (train note)\n",
    "# logistic regression : no convergence\n",
    "# random forest(default) : train acc = 1.0 , valid acc = 0.65\n",
    "# random forest(n_estimators = 100, max_depth = 15) : train acc = 0.77, valid acc = 0.63\n",
    "# random forest(n_estimators = 500(default), max_depth = 15) : train acc = 0.77, valid acc = 0.64\n",
    "start_T = time.time()\n",
    "rf = RandomForestClassifier(max_depth = 15)\n",
    "rf.fit(tmp_train_x, tmp_train_y)\n",
    "end_T = time.time()\n",
    "\n",
    "print(\"model training time : \", end_T - start_T)\n",
    "\n",
    "# prediction and evaluation\n",
    "# train data\n",
    "tmp_train_pred_y = rf.predict(tmp_train_x)\n",
    "print('Accuracy: {:.2f}'.format(accuracy_score(tmp_train_y, tmp_train_pred_y)))\n",
    "print('f1-score: {:.2f}'.format(f1_score(tmp_train_y, tmp_train_pred_y)))\n",
    "\n",
    "# valid data\n",
    "tmp_valid_pred_y = rf.predict(tmp_valid_x)\n",
    "print('Accuracy: {:.2f}'.format(accuracy_score(tmp_valid_y, tmp_valid_pred_y)))\n",
    "print('f1-score: {:.2f}'.format(f1_score(tmp_valid_y, tmp_valid_pred_y)))"
   ],
   "metadata": {
    "collapsed": false
   }
  },
  {
   "cell_type": "code",
   "execution_count": 16,
   "outputs": [],
   "source": [
    "# data having null data\n",
    "x_train.loc[x_train.I1.isna(), 'I1'] = rf.predict(x_train[x_train.I1.isna()].drop('I1', axis = 1))\n",
    "x_valid.loc[x_valid.I1.isna(), 'I1'] = rf.predict(x_valid[x_valid.I1.isna()].drop('I1', axis = 1))\n",
    "x_test.loc[x_test.I1.isna(), 'I1']   = rf.predict(x_test[x_test.I1.isna()].drop('I1', axis = 1))"
   ],
   "metadata": {
    "collapsed": false
   }
  },
  {
   "cell_type": "code",
   "execution_count": 17,
   "outputs": [
    {
     "name": "stdout",
     "output_type": "stream",
     "text": [
      "train null data num :  0\n",
      "valid null data num :  0\n",
      "test null data num :  0\n"
     ]
    }
   ],
   "source": [
    "print(\"train null data num : \", x_train.isna().sum().sum())\n",
    "print(\"valid null data num : \", x_valid.isna().sum().sum())\n",
    "print(\"test null data num : \", x_test.isna().sum().sum())"
   ],
   "metadata": {
    "collapsed": false
   }
  },
  {
   "cell_type": "markdown",
   "source": [
    "### label = 0 데이터 제거"
   ],
   "metadata": {
    "collapsed": false
   }
  },
  {
   "cell_type": "code",
   "execution_count": 18,
   "outputs": [],
   "source": [
    "train_cust_no = train_df.cust_no[~(y_train == 0)]\n",
    "valid_cust_no = valid_df.cust_no[~(y_valid == 0)]\n",
    "test_cust_no  = test_df.cust_no[~(y_test == 0)]\n",
    "x_train = x_train[~(y_train == 0)]\n",
    "y_train = y_train[~(y_train == 0)]\n",
    "x_valid = x_valid[~(y_valid == 0)]\n",
    "y_valid = y_valid[~(y_valid == 0)]\n",
    "x_test = x_test[~(y_test == 0)]\n",
    "y_test = y_test[~(y_test == 0)]"
   ],
   "metadata": {
    "collapsed": false
   }
  },
  {
   "cell_type": "code",
   "execution_count": 45,
   "outputs": [],
   "source": [
    "x_train.to_csv('../data/fill_data/x_train.csv', index = False)\n",
    "y_train.to_csv('../data/fill_data/y_train.csv', index = False)\n",
    "x_valid.to_csv('../data/fill_data/x_valid.csv', index = False)\n",
    "y_valid.to_csv('../data/fill_data/y_valid.csv', index = False)\n",
    "x_test.to_csv('../data/fill_data/x_test.csv', index = False)\n",
    "y_test.to_csv('../data/fill_data/y_test.csv', index = False)"
   ],
   "metadata": {
    "collapsed": false
   }
  },
  {
   "cell_type": "markdown",
   "source": [
    "### train+valid+test"
   ],
   "metadata": {
    "collapsed": false
   }
  },
  {
   "cell_type": "code",
   "execution_count": 19,
   "outputs": [
    {
     "name": "stdout",
     "output_type": "stream",
     "text": [
      "x_train.shape:  (99157, 83)\n",
      "y_train.shape:  (99157,)\n",
      "train_cust_no.shape:  (99157,)\n",
      "x_valid.shape:  (7990, 83)\n",
      "y_valid.shape:  (7990,)\n",
      "valid_cust_no.shape:  (7990,)\n",
      "x_test.shape:  (7912, 83)\n",
      "y_test.shape:  (7912,)\n",
      "test_cust_no.shape:  (7912,)\n"
     ]
    }
   ],
   "source": [
    "print(\"x_train.shape: \", x_train.shape)\n",
    "print(\"y_train.shape: \", y_train.shape)\n",
    "print(\"train_cust_no.shape: \", train_cust_no.shape)\n",
    "print(\"x_valid.shape: \", x_valid.shape)\n",
    "print(\"y_valid.shape: \", y_valid.shape)\n",
    "print(\"valid_cust_no.shape: \", valid_cust_no.shape)\n",
    "print(\"x_test.shape: \", x_test.shape)\n",
    "print(\"y_test.shape: \", y_test.shape)\n",
    "print(\"test_cust_no.shape: \", test_cust_no.shape)"
   ],
   "metadata": {
    "collapsed": false
   }
  },
  {
   "cell_type": "code",
   "execution_count": 20,
   "outputs": [
    {
     "name": "stdout",
     "output_type": "stream",
     "text": [
      "full_data.shape:  (115059, 85)\n"
     ]
    }
   ],
   "source": [
    "train_full = pd.concat([train_cust_no, x_train, y_train], axis = 1)\n",
    "valid_full = pd.concat([valid_cust_no, x_valid, y_valid], axis = 1)\n",
    "test_full = pd.concat([test_cust_no, x_test, y_test], axis = 1)\n",
    "full_data = pd.concat([train_full, valid_full, test_full], axis = 0)\n",
    "\n",
    "print(\"full_data.shape: \", full_data.shape)"
   ],
   "metadata": {
    "collapsed": false
   }
  },
  {
   "cell_type": "code",
   "execution_count": 21,
   "outputs": [],
   "source": [
    "full_data.to_csv('../data/fill_data/full_data.csv')"
   ],
   "metadata": {
    "collapsed": false
   }
  },
  {
   "cell_type": "code",
   "execution_count": 22,
   "outputs": [
    {
     "data": {
      "text/plain": "75474"
     },
     "execution_count": 22,
     "metadata": {},
     "output_type": "execute_result"
    }
   ],
   "source": [
    "len(full_data.cust_no.unique())"
   ],
   "metadata": {
    "collapsed": false
   }
  },
  {
   "cell_type": "code",
   "execution_count": 23,
   "outputs": [
    {
     "data": {
      "text/plain": "0       0xb2d283b6\n1       0xb2d62fab\n2       0xb2d69cdb\n3       0xb2d942e8\n4       0xb2d9156f\n           ...    \n9995    0xb2d6bad9\n9996    0xb2d90bd5\n9997    0xb2d9359c\n9998    0xb2d92d05\n9999    0xb2d32b39\nName: cust_no, Length: 115059, dtype: object"
     },
     "execution_count": 23,
     "metadata": {},
     "output_type": "execute_result"
    }
   ],
   "source": [
    "full_data.cust_no"
   ],
   "metadata": {
    "collapsed": false
   }
  },
  {
   "cell_type": "code",
   "execution_count": 28,
   "outputs": [],
   "source": [
    "full_data.loc[full_data.duplicated(subset = ['cust_no']), 'cust_no'] = full_data.loc[full_data.duplicated(subset = ['cust_no']), 'cust_no'].apply(lambda x : x + \"d\")"
   ],
   "metadata": {
    "collapsed": false
   }
  },
  {
   "cell_type": "code",
   "execution_count": 31,
   "outputs": [],
   "source": [
    "full_data.to_csv('../data/fill_data/full_data.csv', index = None)"
   ],
   "metadata": {
    "collapsed": false
   }
  },
  {
   "cell_type": "code",
   "execution_count": null,
   "outputs": [],
   "source": [],
   "metadata": {
    "collapsed": false
   }
  }
 ],
 "metadata": {
  "kernelspec": {
   "display_name": "Python 3",
   "language": "python",
   "name": "python3"
  },
  "language_info": {
   "codemirror_mode": {
    "name": "ipython",
    "version": 2
   },
   "file_extension": ".py",
   "mimetype": "text/x-python",
   "name": "python",
   "nbconvert_exporter": "python",
   "pygments_lexer": "ipython2",
   "version": "2.7.6"
  }
 },
 "nbformat": 4,
 "nbformat_minor": 0
}
