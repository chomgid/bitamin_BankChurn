{
 "cells": [
  {
   "cell_type": "code",
   "execution_count": 4,
   "metadata": {},
   "outputs": [],
   "source": [
    "import os\n",
    "import numpy as np\n",
    "import pandas as pd\n",
    "dir = os.getcwd()\n"
   ]
  },
  {
   "attachments": {},
   "cell_type": "markdown",
   "metadata": {},
   "source": [
    "### 데이터 불러오기"
   ]
  },
  {
   "cell_type": "code",
   "execution_count": 19,
   "metadata": {},
   "outputs": [],
   "source": [
    "train = pd.read_csv(dir + \"/data/preprocessed_data/train_data.csv\")\n",
    "test = pd.read_csv(dir + \"/data/preprocessed_data/test_data.csv\")\n",
    "valid = pd.read_csv(dir + \"/data/preprocessed_data/valid_data.csv\")\n",
    "\n",
    "train_fil = train.fillna(0.5)\n",
    "test_fil = test.fillna(0.5)\n",
    "valid_fil = valid.fillna(0.5)\n",
    "\n",
    "nim = pd.read_csv(dir + \"/data/NIM.csv\")\n",
    "inf_rate = pd.read_csv(dir + \"/data/inf_rate.csv\")\n",
    "lifetable = pd.read_csv(dir + \"/data/lifetable.csv\", header=1)"
   ]
  },
  {
   "cell_type": "code",
   "execution_count": 153,
   "metadata": {},
   "outputs": [
    {
     "data": {
      "text/html": [
       "<div>\n",
       "<style scoped>\n",
       "    .dataframe tbody tr th:only-of-type {\n",
       "        vertical-align: middle;\n",
       "    }\n",
       "\n",
       "    .dataframe tbody tr th {\n",
       "        vertical-align: top;\n",
       "    }\n",
       "\n",
       "    .dataframe thead th {\n",
       "        text-align: right;\n",
       "    }\n",
       "</style>\n",
       "<table border=\"1\" class=\"dataframe\">\n",
       "  <thead>\n",
       "    <tr style=\"text-align: right;\">\n",
       "      <th></th>\n",
       "      <th>Indicator</th>\n",
       "      <th>Age Group</th>\n",
       "      <th>Both sexes</th>\n",
       "      <th>Male</th>\n",
       "      <th>Female</th>\n",
       "    </tr>\n",
       "  </thead>\n",
       "  <tbody>\n",
       "    <tr>\n",
       "      <th>19</th>\n",
       "      <td>nqx - probability of dying between ages x and x+n</td>\n",
       "      <td>&lt;1 year</td>\n",
       "      <td>0.006764</td>\n",
       "      <td>0.007174</td>\n",
       "      <td>0.006303</td>\n",
       "    </tr>\n",
       "    <tr>\n",
       "      <th>20</th>\n",
       "      <td>nqx - probability of dying between ages x and x+n</td>\n",
       "      <td>1-4 years</td>\n",
       "      <td>0.001144</td>\n",
       "      <td>0.001209</td>\n",
       "      <td>0.001072</td>\n",
       "    </tr>\n",
       "    <tr>\n",
       "      <th>21</th>\n",
       "      <td>nqx - probability of dying between ages x and x+n</td>\n",
       "      <td>5-9 years</td>\n",
       "      <td>0.000925</td>\n",
       "      <td>0.000976</td>\n",
       "      <td>0.000865</td>\n",
       "    </tr>\n",
       "    <tr>\n",
       "      <th>22</th>\n",
       "      <td>nqx - probability of dying between ages x and x+n</td>\n",
       "      <td>10-14 years</td>\n",
       "      <td>0.000970</td>\n",
       "      <td>0.001209</td>\n",
       "      <td>0.000691</td>\n",
       "    </tr>\n",
       "    <tr>\n",
       "      <th>23</th>\n",
       "      <td>nqx - probability of dying between ages x and x+n</td>\n",
       "      <td>15-19  years</td>\n",
       "      <td>0.001797</td>\n",
       "      <td>0.002407</td>\n",
       "      <td>0.001096</td>\n",
       "    </tr>\n",
       "    <tr>\n",
       "      <th>24</th>\n",
       "      <td>nqx - probability of dying between ages x and x+n</td>\n",
       "      <td>20-24 years</td>\n",
       "      <td>0.002811</td>\n",
       "      <td>0.003951</td>\n",
       "      <td>0.001523</td>\n",
       "    </tr>\n",
       "    <tr>\n",
       "      <th>25</th>\n",
       "      <td>nqx - probability of dying between ages x and x+n</td>\n",
       "      <td>25-29 years</td>\n",
       "      <td>0.003053</td>\n",
       "      <td>0.004367</td>\n",
       "      <td>0.001608</td>\n",
       "    </tr>\n",
       "    <tr>\n",
       "      <th>26</th>\n",
       "      <td>nqx - probability of dying between ages x and x+n</td>\n",
       "      <td>30-34 years</td>\n",
       "      <td>0.004240</td>\n",
       "      <td>0.006103</td>\n",
       "      <td>0.002259</td>\n",
       "    </tr>\n",
       "    <tr>\n",
       "      <th>27</th>\n",
       "      <td>nqx - probability of dying between ages x and x+n</td>\n",
       "      <td>35-39 years</td>\n",
       "      <td>0.006188</td>\n",
       "      <td>0.008829</td>\n",
       "      <td>0.003410</td>\n",
       "    </tr>\n",
       "    <tr>\n",
       "      <th>28</th>\n",
       "      <td>nqx - probability of dying between ages x and x+n</td>\n",
       "      <td>40-44 years</td>\n",
       "      <td>0.009315</td>\n",
       "      <td>0.013058</td>\n",
       "      <td>0.005384</td>\n",
       "    </tr>\n",
       "    <tr>\n",
       "      <th>29</th>\n",
       "      <td>nqx - probability of dying between ages x and x+n</td>\n",
       "      <td>45-49 years</td>\n",
       "      <td>0.012327</td>\n",
       "      <td>0.016951</td>\n",
       "      <td>0.007506</td>\n",
       "    </tr>\n",
       "    <tr>\n",
       "      <th>30</th>\n",
       "      <td>nqx - probability of dying between ages x and x+n</td>\n",
       "      <td>50-54 years</td>\n",
       "      <td>0.019566</td>\n",
       "      <td>0.026292</td>\n",
       "      <td>0.012664</td>\n",
       "    </tr>\n",
       "    <tr>\n",
       "      <th>31</th>\n",
       "      <td>nqx - probability of dying between ages x and x+n</td>\n",
       "      <td>55-59 years</td>\n",
       "      <td>0.030500</td>\n",
       "      <td>0.040308</td>\n",
       "      <td>0.020346</td>\n",
       "    </tr>\n",
       "    <tr>\n",
       "      <th>32</th>\n",
       "      <td>nqx - probability of dying between ages x and x+n</td>\n",
       "      <td>60-64 years</td>\n",
       "      <td>0.048779</td>\n",
       "      <td>0.063360</td>\n",
       "      <td>0.033885</td>\n",
       "    </tr>\n",
       "    <tr>\n",
       "      <th>33</th>\n",
       "      <td>nqx - probability of dying between ages x and x+n</td>\n",
       "      <td>65-69 years</td>\n",
       "      <td>0.078139</td>\n",
       "      <td>0.099219</td>\n",
       "      <td>0.057235</td>\n",
       "    </tr>\n",
       "    <tr>\n",
       "      <th>34</th>\n",
       "      <td>nqx - probability of dying between ages x and x+n</td>\n",
       "      <td>70-74 years</td>\n",
       "      <td>0.137237</td>\n",
       "      <td>0.171907</td>\n",
       "      <td>0.104402</td>\n",
       "    </tr>\n",
       "    <tr>\n",
       "      <th>35</th>\n",
       "      <td>nqx - probability of dying between ages x and x+n</td>\n",
       "      <td>75-79 years</td>\n",
       "      <td>0.221446</td>\n",
       "      <td>0.272107</td>\n",
       "      <td>0.175377</td>\n",
       "    </tr>\n",
       "    <tr>\n",
       "      <th>36</th>\n",
       "      <td>nqx - probability of dying between ages x and x+n</td>\n",
       "      <td>80-84 years</td>\n",
       "      <td>0.371374</td>\n",
       "      <td>0.445129</td>\n",
       "      <td>0.311350</td>\n",
       "    </tr>\n",
       "    <tr>\n",
       "      <th>37</th>\n",
       "      <td>nqx - probability of dying between ages x and x+n</td>\n",
       "      <td>85+ years</td>\n",
       "      <td>1.000000</td>\n",
       "      <td>1.000000</td>\n",
       "      <td>1.000000</td>\n",
       "    </tr>\n",
       "  </tbody>\n",
       "</table>\n",
       "</div>"
      ],
      "text/plain": [
       "                                            Indicator     Age Group  \\\n",
       "19  nqx - probability of dying between ages x and x+n       <1 year   \n",
       "20  nqx - probability of dying between ages x and x+n     1-4 years   \n",
       "21  nqx - probability of dying between ages x and x+n     5-9 years   \n",
       "22  nqx - probability of dying between ages x and x+n   10-14 years   \n",
       "23  nqx - probability of dying between ages x and x+n  15-19  years   \n",
       "24  nqx - probability of dying between ages x and x+n   20-24 years   \n",
       "25  nqx - probability of dying between ages x and x+n   25-29 years   \n",
       "26  nqx - probability of dying between ages x and x+n   30-34 years   \n",
       "27  nqx - probability of dying between ages x and x+n   35-39 years   \n",
       "28  nqx - probability of dying between ages x and x+n   40-44 years   \n",
       "29  nqx - probability of dying between ages x and x+n   45-49 years   \n",
       "30  nqx - probability of dying between ages x and x+n   50-54 years   \n",
       "31  nqx - probability of dying between ages x and x+n   55-59 years   \n",
       "32  nqx - probability of dying between ages x and x+n   60-64 years   \n",
       "33  nqx - probability of dying between ages x and x+n   65-69 years   \n",
       "34  nqx - probability of dying between ages x and x+n   70-74 years   \n",
       "35  nqx - probability of dying between ages x and x+n   75-79 years   \n",
       "36  nqx - probability of dying between ages x and x+n   80-84 years   \n",
       "37  nqx - probability of dying between ages x and x+n     85+ years   \n",
       "\n",
       "    Both sexes      Male    Female  \n",
       "19    0.006764  0.007174  0.006303  \n",
       "20    0.001144  0.001209  0.001072  \n",
       "21    0.000925  0.000976  0.000865  \n",
       "22    0.000970  0.001209  0.000691  \n",
       "23    0.001797  0.002407  0.001096  \n",
       "24    0.002811  0.003951  0.001523  \n",
       "25    0.003053  0.004367  0.001608  \n",
       "26    0.004240  0.006103  0.002259  \n",
       "27    0.006188  0.008829  0.003410  \n",
       "28    0.009315  0.013058  0.005384  \n",
       "29    0.012327  0.016951  0.007506  \n",
       "30    0.019566  0.026292  0.012664  \n",
       "31    0.030500  0.040308  0.020346  \n",
       "32    0.048779  0.063360  0.033885  \n",
       "33    0.078139  0.099219  0.057235  \n",
       "34    0.137237  0.171907  0.104402  \n",
       "35    0.221446  0.272107  0.175377  \n",
       "36    0.371374  0.445129  0.311350  \n",
       "37    1.000000  1.000000  1.000000  "
      ]
     },
     "execution_count": 153,
     "metadata": {},
     "output_type": "execute_result"
    }
   ],
   "source": [
    "lifetable = lifetable.iloc[:,:5]\n",
    "deathproba = lifetable[lifetable[\"Indicator\"]==\"nqx - probability of dying between ages x and x+n\"].copy()\n",
    "deathproba"
   ]
  },
  {
   "cell_type": "code",
   "execution_count": 130,
   "metadata": {},
   "outputs": [
    {
     "data": {
      "text/plain": [
       "RangeIndex(start=0, stop=19, step=1)"
      ]
     },
     "execution_count": 130,
     "metadata": {},
     "output_type": "execute_result"
    }
   ],
   "source": [
    "pd.RangeIndex(0,len(deathproba))"
   ]
  },
  {
   "attachments": {},
   "cell_type": "markdown",
   "metadata": {},
   "source": [
    "#### 각 Age Group안에서 사망확률이 uniform 분포를 따른다고 가정하고 1년 단위의 데이터를 만들자"
   ]
  },
  {
   "cell_type": "code",
   "execution_count": 168,
   "metadata": {},
   "outputs": [],
   "source": [
    "def qlist(k):\n",
    "    p= 1-k/5\n",
    "    count=1\n",
    "    mul = 1\n",
    "    q_list = []\n",
    "    q_list.append(1-p)\n",
    "    while count<5:\n",
    "        mul*=p\n",
    "        p = (1-(count+1)*(k/5)/mul)\n",
    "        q_list.append(1-p)\n",
    "        count+=1\n",
    "    return q_list\n",
    "    "
   ]
  },
  {
   "cell_type": "code",
   "execution_count": 162,
   "metadata": {},
   "outputs": [],
   "source": [
    "def ann_age(data):\n",
    "    first= data[19]\n",
    "    last= data[37]\n",
    "    data = data.drop([19,37])\n",
    "    annual_data = np.array(first).reshape((1,1))\n",
    "    for p in data:\n",
    "        annual_data = np.vstack((annual_data,np.array(qlist(p)).reshape((5,1))))\n",
    "    return annual_data"
   ]
  },
  {
   "cell_type": "code",
   "execution_count": 169,
   "metadata": {},
   "outputs": [
    {
     "data": {
      "text/plain": [
       "[0.08902580000000004,\n",
       " 0.1954518580218847,\n",
       " 0.36440055198188737,\n",
       " 0.7644238901678069,\n",
       " 4.0561407665251235]"
      ]
     },
     "execution_count": 169,
     "metadata": {},
     "output_type": "execute_result"
    }
   ],
   "source": [
    "qlist(0.445129)"
   ]
  },
  {
   "cell_type": "code",
   "execution_count": 167,
   "metadata": {},
   "outputs": [
    {
     "data": {
      "text/plain": [
       "20    0.001209\n",
       "21    0.000976\n",
       "22    0.001209\n",
       "23    0.002407\n",
       "24    0.003951\n",
       "25    0.004367\n",
       "26    0.006103\n",
       "27    0.008829\n",
       "28    0.013058\n",
       "29    0.016951\n",
       "30    0.026292\n",
       "31    0.040308\n",
       "32    0.063360\n",
       "33    0.099219\n",
       "34    0.171907\n",
       "35    0.272107\n",
       "36    0.445129\n",
       "Name: Male, dtype: float64"
      ]
     },
     "execution_count": 167,
     "metadata": {},
     "output_type": "execute_result"
    }
   ],
   "source": [
    "deathproba[\"Male\"].drop([19,37])"
   ]
  },
  {
   "cell_type": "code",
   "execution_count": 165,
   "metadata": {},
   "outputs": [
    {
     "data": {
      "text/plain": [
       "array([[7.17364400e-03],\n",
       "       [2.41748400e-04],\n",
       "       [4.83613713e-04],\n",
       "       [7.25771562e-04],\n",
       "       [9.68398252e-04],\n",
       "       [1.21167120e-03],\n",
       "       [1.95192200e-04],\n",
       "       [3.90460615e-04],\n",
       "       [5.85919701e-04],\n",
       "       [7.81684272e-04],\n",
       "       [9.77869725e-04],\n",
       "       [2.41789200e-04],\n",
       "       [4.83695352e-04],\n",
       "       [7.25894140e-04],\n",
       "       [9.68561927e-04],\n",
       "       [1.21187619e-03],\n",
       "       [4.81353800e-04],\n",
       "       [9.63171226e-04],\n",
       "       [1.44614973e-03],\n",
       "       [1.93099214e-03],\n",
       "       [2.41841011e-03],\n",
       "       [7.90275600e-04],\n",
       "       [1.58180126e-03],\n",
       "       [2.37646098e-03],\n",
       "       [3.17616266e-03],\n",
       "       [3.98285352e-03],\n",
       "       [8.73322800e-04],\n",
       "       [1.74817232e-03],\n",
       "       [2.62685067e-03],\n",
       "       [3.51169225e-03],\n",
       "       [4.40508461e-03],\n",
       "       [1.22060560e-03],\n",
       "       [2.44419460e-03],\n",
       "       [3.67527498e-03],\n",
       "       [4.91844328e-03],\n",
       "       [6.17844241e-03],\n",
       "       [1.76573520e-03],\n",
       "       [3.53771707e-03],\n",
       "       [5.32541542e-03],\n",
       "       [7.13856974e-03],\n",
       "       [8.98736914e-03],\n",
       "       [2.61167180e-03],\n",
       "       [5.23702098e-03],\n",
       "       [7.89688764e-03],\n",
       "       [1.06129931e-02],\n",
       "       [1.34085462e-02],\n",
       "       [3.39015280e-03],\n",
       "       [6.80337006e-03],\n",
       "       [1.02749594e-02],\n",
       "       [1.38421737e-02],\n",
       "       [1.75455862e-02],\n",
       "       [5.25835040e-03],\n",
       "       [1.05722936e-02],\n",
       "       [1.60278920e-02],\n",
       "       [2.17186265e-02],\n",
       "       [2.77509966e-02],\n",
       "       [8.06154060e-03],\n",
       "       [1.62541144e-02],\n",
       "       [2.47840138e-02],\n",
       "       [3.38851621e-02],\n",
       "       [4.38420475e-02],\n",
       "       [1.26719662e-02],\n",
       "       [2.56692118e-02],\n",
       "       [3.95182192e-02],\n",
       "       [5.48588844e-02],\n",
       "       [7.25538275e-02],\n",
       "       [1.98438408e-02],\n",
       "       [4.04911822e-02],\n",
       "       [6.32998594e-02],\n",
       "       [9.01033414e-02],\n",
       "       [1.23782383e-01],\n",
       "       [3.43814632e-02],\n",
       "       [7.12112742e-02],\n",
       "       [1.15006684e-01],\n",
       "       [1.73269382e-01],\n",
       "       [2.61979807e-01],\n",
       "       [5.44213626e-02],\n",
       "       [1.15107005e-01],\n",
       "       [1.95120211e-01],\n",
       "       [3.23228742e-01],\n",
       "       [5.97005151e-01],\n",
       "       [8.90257006e-02],\n",
       "       [1.95451618e-01],\n",
       "       [3.64399997e-01],\n",
       "       [7.64422058e-01],\n",
       "       [4.05609950e+00]])"
      ]
     },
     "execution_count": 165,
     "metadata": {},
     "output_type": "execute_result"
    }
   ],
   "source": [
    "ann_age(deathproba[\"Male\"])"
   ]
  },
  {
   "cell_type": "code",
   "execution_count": 164,
   "metadata": {},
   "outputs": [
    {
     "data": {
      "text/html": [
       "<div>\n",
       "<style scoped>\n",
       "    .dataframe tbody tr th:only-of-type {\n",
       "        vertical-align: middle;\n",
       "    }\n",
       "\n",
       "    .dataframe tbody tr th {\n",
       "        vertical-align: top;\n",
       "    }\n",
       "\n",
       "    .dataframe thead th {\n",
       "        text-align: right;\n",
       "    }\n",
       "</style>\n",
       "<table border=\"1\" class=\"dataframe\">\n",
       "  <thead>\n",
       "    <tr style=\"text-align: right;\">\n",
       "      <th></th>\n",
       "      <th>0</th>\n",
       "    </tr>\n",
       "  </thead>\n",
       "  <tbody>\n",
       "    <tr>\n",
       "      <th>0</th>\n",
       "      <td>0.007174</td>\n",
       "    </tr>\n",
       "    <tr>\n",
       "      <th>1</th>\n",
       "      <td>0.000242</td>\n",
       "    </tr>\n",
       "    <tr>\n",
       "      <th>2</th>\n",
       "      <td>0.000484</td>\n",
       "    </tr>\n",
       "    <tr>\n",
       "      <th>3</th>\n",
       "      <td>0.000726</td>\n",
       "    </tr>\n",
       "    <tr>\n",
       "      <th>4</th>\n",
       "      <td>0.000968</td>\n",
       "    </tr>\n",
       "    <tr>\n",
       "      <th>...</th>\n",
       "      <td>...</td>\n",
       "    </tr>\n",
       "    <tr>\n",
       "      <th>81</th>\n",
       "      <td>0.089026</td>\n",
       "    </tr>\n",
       "    <tr>\n",
       "      <th>82</th>\n",
       "      <td>0.195452</td>\n",
       "    </tr>\n",
       "    <tr>\n",
       "      <th>83</th>\n",
       "      <td>0.364400</td>\n",
       "    </tr>\n",
       "    <tr>\n",
       "      <th>84</th>\n",
       "      <td>0.764422</td>\n",
       "    </tr>\n",
       "    <tr>\n",
       "      <th>85</th>\n",
       "      <td>4.056099</td>\n",
       "    </tr>\n",
       "  </tbody>\n",
       "</table>\n",
       "<p>86 rows × 1 columns</p>\n",
       "</div>"
      ],
      "text/plain": [
       "           0\n",
       "0   0.007174\n",
       "1   0.000242\n",
       "2   0.000484\n",
       "3   0.000726\n",
       "4   0.000968\n",
       "..       ...\n",
       "81  0.089026\n",
       "82  0.195452\n",
       "83  0.364400\n",
       "84  0.764422\n",
       "85  4.056099\n",
       "\n",
       "[86 rows x 1 columns]"
      ]
     },
     "execution_count": 164,
     "metadata": {},
     "output_type": "execute_result"
    }
   ],
   "source": [
    "a = pd.DataFrame(ann_age(deathproba[\"Male\"]))\n",
    "a"
   ]
  },
  {
   "cell_type": "code",
   "execution_count": 126,
   "metadata": {},
   "outputs": [
    {
     "data": {
      "text/plain": [
       "Int64Index([19, 20, 21, 22, 23, 24, 25, 26, 27, 28, 29, 30, 31, 32, 33, 34, 35,\n",
       "            36, 37],\n",
       "           dtype='int64')"
      ]
     },
     "execution_count": 126,
     "metadata": {},
     "output_type": "execute_result"
    }
   ],
   "source": [
    "deathproba[\"Male\"].index"
   ]
  },
  {
   "cell_type": "code",
   "execution_count": 137,
   "metadata": {},
   "outputs": [
    {
     "ename": "ValueError",
     "evalue": "all the input array dimensions except for the concatenation axis must match exactly, but along dimension 1, the array at index 0 has size 1 and the array at index 1 has size 5",
     "output_type": "error",
     "traceback": [
      "\u001b[0;31m---------------------------------------------------------------------------\u001b[0m",
      "\u001b[0;31mValueError\u001b[0m                                Traceback (most recent call last)",
      "Cell \u001b[0;32mIn[137], line 1\u001b[0m\n\u001b[0;32m----> 1\u001b[0m a \u001b[39m=\u001b[39m ann_age(deathproba[\u001b[39m\"\u001b[39;49m\u001b[39mMale\u001b[39;49m\u001b[39m\"\u001b[39;49m])\n\u001b[1;32m      2\u001b[0m a\n",
      "Cell \u001b[0;32mIn[136], line 7\u001b[0m, in \u001b[0;36mann_age\u001b[0;34m(data)\u001b[0m\n\u001b[1;32m      5\u001b[0m annual_data \u001b[39m=\u001b[39m np\u001b[39m.\u001b[39marray(first)\n\u001b[1;32m      6\u001b[0m \u001b[39mfor\u001b[39;00m p \u001b[39min\u001b[39;00m data:\n\u001b[0;32m----> 7\u001b[0m     annual_data \u001b[39m=\u001b[39m np\u001b[39m.\u001b[39;49mvstack((annual_data,np\u001b[39m.\u001b[39;49marray(qlist(p))))\n\u001b[1;32m      8\u001b[0m \u001b[39mreturn\u001b[39;00m annual_data\n",
      "File \u001b[0;32m<__array_function__ internals>:200\u001b[0m, in \u001b[0;36mvstack\u001b[0;34m(*args, **kwargs)\u001b[0m\n",
      "File \u001b[0;32m/opt/homebrew/lib/python3.10/site-packages/numpy/core/shape_base.py:296\u001b[0m, in \u001b[0;36mvstack\u001b[0;34m(tup, dtype, casting)\u001b[0m\n\u001b[1;32m    294\u001b[0m \u001b[39mif\u001b[39;00m \u001b[39mnot\u001b[39;00m \u001b[39misinstance\u001b[39m(arrs, \u001b[39mlist\u001b[39m):\n\u001b[1;32m    295\u001b[0m     arrs \u001b[39m=\u001b[39m [arrs]\n\u001b[0;32m--> 296\u001b[0m \u001b[39mreturn\u001b[39;00m _nx\u001b[39m.\u001b[39;49mconcatenate(arrs, \u001b[39m0\u001b[39;49m, dtype\u001b[39m=\u001b[39;49mdtype, casting\u001b[39m=\u001b[39;49mcasting)\n",
      "File \u001b[0;32m<__array_function__ internals>:200\u001b[0m, in \u001b[0;36mconcatenate\u001b[0;34m(*args, **kwargs)\u001b[0m\n",
      "\u001b[0;31mValueError\u001b[0m: all the input array dimensions except for the concatenation axis must match exactly, but along dimension 1, the array at index 0 has size 1 and the array at index 1 has size 5"
     ]
    }
   ],
   "source": [
    "a = ann_age(deathproba[\"Male\"])\n",
    "a"
   ]
  },
  {
   "cell_type": "code",
   "execution_count": 102,
   "metadata": {},
   "outputs": [
    {
     "data": {
      "text/html": [
       "<div>\n",
       "<style scoped>\n",
       "    .dataframe tbody tr th:only-of-type {\n",
       "        vertical-align: middle;\n",
       "    }\n",
       "\n",
       "    .dataframe tbody tr th {\n",
       "        vertical-align: top;\n",
       "    }\n",
       "\n",
       "    .dataframe thead th {\n",
       "        text-align: right;\n",
       "    }\n",
       "</style>\n",
       "<table border=\"1\" class=\"dataframe\">\n",
       "  <thead>\n",
       "    <tr style=\"text-align: right;\">\n",
       "      <th></th>\n",
       "      <th>0</th>\n",
       "    </tr>\n",
       "  </thead>\n",
       "  <tbody>\n",
       "    <tr>\n",
       "      <th>0</th>\n",
       "      <td>1</td>\n",
       "    </tr>\n",
       "  </tbody>\n",
       "</table>\n",
       "</div>"
      ],
      "text/plain": [
       "   0\n",
       "0  1"
      ]
     },
     "execution_count": 102,
     "metadata": {},
     "output_type": "execute_result"
    }
   ],
   "source": [
    "pd.DataFrame([1])"
   ]
  },
  {
   "cell_type": "code",
   "execution_count": 68,
   "metadata": {},
   "outputs": [
    {
     "data": {
      "text/plain": [
       "19    0.007174\n",
       "20    0.001209\n",
       "21    0.000976\n",
       "22    0.001209\n",
       "23    0.002407\n",
       "24    0.003951\n",
       "25    0.004367\n",
       "26    0.006103\n",
       "27    0.008829\n",
       "28    0.013058\n",
       "29    0.016951\n",
       "30    0.026292\n",
       "31    0.040308\n",
       "32    0.063360\n",
       "33    0.099219\n",
       "34    0.171907\n",
       "35    0.272107\n",
       "36    0.445129\n",
       "37    1.000000\n",
       "Name: Male, dtype: float64"
      ]
     },
     "execution_count": 68,
     "metadata": {},
     "output_type": "execute_result"
    }
   ],
   "source": [
    "deathproba[\"Male\"]"
   ]
  },
  {
   "attachments": {},
   "cell_type": "markdown",
   "metadata": {},
   "source": [
    "### 평균물가상승률 구하기"
   ]
  },
  {
   "cell_type": "code",
   "execution_count": 21,
   "metadata": {},
   "outputs": [
    {
     "data": {
      "text/html": [
       "<div>\n",
       "<style scoped>\n",
       "    .dataframe tbody tr th:only-of-type {\n",
       "        vertical-align: middle;\n",
       "    }\n",
       "\n",
       "    .dataframe tbody tr th {\n",
       "        vertical-align: top;\n",
       "    }\n",
       "\n",
       "    .dataframe thead th {\n",
       "        text-align: right;\n",
       "    }\n",
       "</style>\n",
       "<table border=\"1\" class=\"dataframe\">\n",
       "  <thead>\n",
       "    <tr style=\"text-align: right;\">\n",
       "      <th></th>\n",
       "      <th>year</th>\n",
       "      <th>inf rate</th>\n",
       "    </tr>\n",
       "  </thead>\n",
       "  <tbody>\n",
       "    <tr>\n",
       "      <th>0</th>\n",
       "      <td>2021</td>\n",
       "      <td>0.85</td>\n",
       "    </tr>\n",
       "    <tr>\n",
       "      <th>1</th>\n",
       "      <td>2020</td>\n",
       "      <td>2.39</td>\n",
       "    </tr>\n",
       "    <tr>\n",
       "      <th>2</th>\n",
       "      <td>2019</td>\n",
       "      <td>2.90</td>\n",
       "    </tr>\n",
       "    <tr>\n",
       "      <th>3</th>\n",
       "      <td>2018</td>\n",
       "      <td>2.11</td>\n",
       "    </tr>\n",
       "    <tr>\n",
       "      <th>4</th>\n",
       "      <td>2017</td>\n",
       "      <td>1.56</td>\n",
       "    </tr>\n",
       "    <tr>\n",
       "      <th>5</th>\n",
       "      <td>2016</td>\n",
       "      <td>2.00</td>\n",
       "    </tr>\n",
       "    <tr>\n",
       "      <th>6</th>\n",
       "      <td>2015</td>\n",
       "      <td>1.44</td>\n",
       "    </tr>\n",
       "    <tr>\n",
       "      <th>7</th>\n",
       "      <td>2014</td>\n",
       "      <td>1.99</td>\n",
       "    </tr>\n",
       "    <tr>\n",
       "      <th>8</th>\n",
       "      <td>2013</td>\n",
       "      <td>2.62</td>\n",
       "    </tr>\n",
       "    <tr>\n",
       "      <th>9</th>\n",
       "      <td>2012</td>\n",
       "      <td>2.65</td>\n",
       "    </tr>\n",
       "  </tbody>\n",
       "</table>\n",
       "</div>"
      ],
      "text/plain": [
       "   year  inf rate\n",
       "0  2021      0.85\n",
       "1  2020      2.39\n",
       "2  2019      2.90\n",
       "3  2018      2.11\n",
       "4  2017      1.56\n",
       "5  2016      2.00\n",
       "6  2015      1.44\n",
       "7  2014      1.99\n",
       "8  2013      2.62\n",
       "9  2012      2.65"
      ]
     },
     "execution_count": 21,
     "metadata": {},
     "output_type": "execute_result"
    }
   ],
   "source": [
    "inf_rate"
   ]
  },
  {
   "cell_type": "code",
   "execution_count": 23,
   "metadata": {},
   "outputs": [
    {
     "data": {
      "text/plain": [
       "2.0509999999999997"
      ]
     },
     "execution_count": 23,
     "metadata": {},
     "output_type": "execute_result"
    }
   ],
   "source": [
    "# 2012~2021년 10년 동안의 물가상승률의 평균을 i로 사용하자\n",
    "i = np.mean(inf_rate[\"inf rate\"])\n",
    "i"
   ]
  },
  {
   "attachments": {},
   "cell_type": "markdown",
   "metadata": {},
   "source": [
    "### 함수 정의"
   ]
  },
  {
   "cell_type": "code",
   "execution_count": 26,
   "metadata": {},
   "outputs": [],
   "source": [
    "#위의 표에서 어느 age group에 들어가는지 구하는 함수.\n",
    "def Agediv(age):\n",
    "    if age<1:\n",
    "        return 1\n",
    "    elif age<5:\n",
    "        return 2\n",
    "    elif age<10:\n",
    "        return 3\n",
    "    elif age<15:\n",
    "        return 4\n",
    "    elif age<20:\n",
    "        return 5\n",
    "    elif age<25:\n",
    "        return 6\n",
    "    elif age<30:\n",
    "        return 7\n",
    "    elif age<35:\n",
    "        return 8\n",
    "    elif age<40:\n",
    "        return 9\n",
    "    elif age<45:\n",
    "        return 10\n",
    "    elif age<50:\n",
    "        return 11\n",
    "    elif age<55:\n",
    "        return 12\n",
    "    elif age<60:\n",
    "        return 13\n",
    "    elif age<65:\n",
    "        return 14\n",
    "    elif age<70:\n",
    "        return 15\n",
    "    elif age<75:\n",
    "        return 16\n",
    "    elif age<80:\n",
    "        return 17\n",
    "    elif age<85:\n",
    "        return 18\n",
    "    else:\n",
    "        return 19\n",
    "\n"
   ]
  },
  {
   "cell_type": "code",
   "execution_count": 25,
   "metadata": {},
   "outputs": [],
   "source": [
    "def inflation(i, num):\n",
    "    \"\"\"\n",
    "    Args:\n",
    "        i (float): interest rate\n",
    "        num (int): how many times paid\n",
    "    \"\"\"\n",
    "    vn = 1\n",
    "    for n in range(num):\n",
    "        vn = vn/(1+i)\n",
    "    return vn"
   ]
  },
  {
   "cell_type": "code",
   "execution_count": 10,
   "metadata": {},
   "outputs": [],
   "source": [
    "def findAx(data, deathproba, i):\n",
    "    \"\"\"\n",
    "    this is a function to find Ax of every individuals when 5qx data is given, and make it into a pandas series.\n",
    "        Args:\n",
    "            data (dataframe): requires age, gender of each indiviuals\n",
    "            deathproba (dataframe): 5qx data in 5yrs period for male, female and both sexes.\n",
    "            i (float): avg inflation rate \n",
    "            ini (float): geometric series of average interest rate to 2.5yrs (initial Ax)\n",
    "\n",
    "    \"\"\"\n",
    "    Ax_list = []\n",
    "    for ind, age in enumerate(data[\"I2\"]):\n",
    "        ran = Agediv(age)-1\n",
    "        gen = data[\"I1\"].iloc[ind]\n",
    "\n",
    "        if (gen==0.0):\n",
    "            prob_copy = deathproba.loc[:,\"Female\"].iloc[ran:].copy()\n",
    "        elif(gen ==1.0):\n",
    "            prob_copy = deathproba.loc[:,\"Male\"].iloc[ran:].copy()\n",
    "        elif(gen == 0.5):\n",
    "            prob_copy = deathproba.loc[:,\"Both sexes\"].iloc[ran:].copy()\n",
    "        \n",
    "        aqx_list = []\n",
    "        Ax = 0\n",
    "        for a in range(len(prob_copy)):\n",
    "            if(a==0):\n",
    "                aqx = prob_copy.iloc[a]\n",
    "            else:\n",
    "                aqx = 1\n",
    "                for b in range(a):\n",
    "                    aqx *= (1-prob_copy.iloc[b])\n",
    "                aqx *= prob_copy.iloc[a]\n",
    "            aqx_list.append(aqx)\n",
    "        for num, aqx in enumerate(aqx_list):\n",
    "            Ax += inflation(i,num+1)*aqx\n",
    "\n",
    "        Ax_list.append(Ax)\n",
    "    \n",
    "    return Ax_list\n",
    "        \n",
    "    "
   ]
  },
  {
   "cell_type": "code",
   "execution_count": 11,
   "metadata": {},
   "outputs": [
    {
     "name": "stdout",
     "output_type": "stream",
     "text": [
      "1.0\n"
     ]
    }
   ],
   "source": [
    "# test purpose\n",
    "a = [0.007506399, 0.012568696794625356, 0.019938001886493584, 0.03252870019129668, 0.05308280494572649, 0.09128655770408828, 0.1373359616916808, 0.20105508100835345, 0.4446977967777354]\n",
    "sum=0\n",
    "for num in a:\n",
    "    sum+=num\n",
    "print(sum)"
   ]
  },
  {
   "cell_type": "code",
   "execution_count": 12,
   "metadata": {},
   "outputs": [
    {
     "ename": "TypeError",
     "evalue": "findAx() takes 3 positional arguments but 4 were given",
     "output_type": "error",
     "traceback": [
      "\u001b[0;31m---------------------------------------------------------------------------\u001b[0m",
      "\u001b[0;31mTypeError\u001b[0m                                 Traceback (most recent call last)",
      "Cell \u001b[0;32mIn[12], line 1\u001b[0m\n\u001b[0;32m----> 1\u001b[0m findAx(train_fil, deathproba, \u001b[39m0.342\u001b[39;49m, \u001b[39m4.142964\u001b[39;49m)\n",
      "\u001b[0;31mTypeError\u001b[0m: findAx() takes 3 positional arguments but 4 were given"
     ]
    }
   ],
   "source": [
    "findAx(train_fil, deathproba, 0.342)"
   ]
  },
  {
   "cell_type": "code",
   "execution_count": 156,
   "metadata": {},
   "outputs": [
    {
     "name": "stdout",
     "output_type": "stream",
     "text": [
      "1.0\n"
     ]
    }
   ],
   "source": [
    "a = [0.007506399, 0.012568696794625356, 0.019938001886493584, 0.03252870019129668, 0.05308280494572649, 0.09128655770408828, 0.1373359616916808, 0.20105508100835345, 0.4446977967777354]\n",
    "sum=0\n",
    "for num in a:\n",
    "    sum+=num\n",
    "print(sum)"
   ]
  },
  {
   "cell_type": "code",
   "execution_count": null,
   "metadata": {},
   "outputs": [
    {
     "data": {
      "text/plain": [
       "20    0.001072\n",
       "21    0.000865\n",
       "22    0.000691\n",
       "23    0.001096\n",
       "24    0.001523\n",
       "25    0.001608\n",
       "26    0.002259\n",
       "27    0.003410\n",
       "28    0.005384\n",
       "29    0.007506\n",
       "30    0.012664\n",
       "31    0.020346\n",
       "32    0.033885\n",
       "33    0.057235\n",
       "34    0.104402\n",
       "35    0.175377\n",
       "36    0.311350\n",
       "37    1.000000\n",
       "Name: Female, dtype: float64"
      ]
     },
     "execution_count": 104,
     "metadata": {},
     "output_type": "execute_result"
    }
   ],
   "source": [
    "deathproba.loc[:,\"Female\"].iloc[1:]"
   ]
  },
  {
   "cell_type": "code",
   "execution_count": 70,
   "metadata": {},
   "outputs": [
    {
     "data": {
      "text/plain": [
       "4.142964"
      ]
     },
     "execution_count": 70,
     "metadata": {},
     "output_type": "execute_result"
    }
   ],
   "source": [
    "i = 0.342\n",
    "sum = 0\n",
    "sum = (1+i)*sum+1\n",
    "sum = (1+i)*sum +1\n",
    "sum = (1+i)*sum +1\n",
    "sum\n"
   ]
  },
  {
   "cell_type": "code",
   "execution_count": null,
   "metadata": {},
   "outputs": [],
   "source": []
  }
 ],
 "metadata": {
  "kernelspec": {
   "display_name": "Python 3",
   "language": "python",
   "name": "python3"
  },
  "language_info": {
   "codemirror_mode": {
    "name": "ipython",
    "version": 3
   },
   "file_extension": ".py",
   "mimetype": "text/x-python",
   "name": "python",
   "nbconvert_exporter": "python",
   "pygments_lexer": "ipython3",
   "version": "3.10.9"
  },
  "orig_nbformat": 4,
  "vscode": {
   "interpreter": {
    "hash": "b0fa6594d8f4cbf19f97940f81e996739fb7646882a419484c72d19e05852a7e"
   }
  }
 },
 "nbformat": 4,
 "nbformat_minor": 2
}
