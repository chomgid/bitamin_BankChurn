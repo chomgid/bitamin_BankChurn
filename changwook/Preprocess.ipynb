{
 "cells": [
  {
   "cell_type": "code",
   "execution_count": 1,
   "metadata": {},
   "outputs": [],
   "source": [
    "import pandas as pd\n",
    "import numpy as np\n",
    "import matplotlib.pyplot as plt\n",
    "import os\n",
    "import glob\n",
    "import warnings\n",
    "warnings.filterwarnings(action='ignore') "
   ]
  },
  {
   "cell_type": "code",
   "execution_count": 2,
   "metadata": {},
   "outputs": [
    {
     "name": "stdout",
     "output_type": "stream",
     "text": [
      "/Users/ichang-ug/Documents/GitHub/bitamin_ChurnProject/changwook\n"
     ]
    }
   ],
   "source": [
    "\n",
    "dir = os.getcwd()\n",
    "\n",
    "print(dir)\n"
   ]
  },
  {
   "attachments": {},
   "cell_type": "markdown",
   "metadata": {},
   "source": [
    "데이터 불러오기"
   ]
  },
  {
   "cell_type": "code",
   "execution_count": 3,
   "metadata": {},
   "outputs": [
    {
     "ename": "FileNotFoundError",
     "evalue": "[Errno 2] No such file or directory: '/Users/ichang-ug/Documents/GitHub/bitamin_ChurnProject/changwook/data/rawdata/cust_avli_train/cust_avli_Q3.csv'",
     "output_type": "error",
     "traceback": [
      "\u001b[0;31m---------------------------------------------------------------------------\u001b[0m",
      "\u001b[0;31mFileNotFoundError\u001b[0m                         Traceback (most recent call last)",
      "Cell \u001b[0;32mIn[3], line 27\u001b[0m\n\u001b[1;32m     24\u001b[0m cunkuan_m11 \u001b[39m=\u001b[39m pd\u001b[39m.\u001b[39mread_csv(\u001b[39mdir\u001b[39m \u001b[39m+\u001b[39m \u001b[39m\"\u001b[39m\u001b[39m/data/rawdata/cunkuan_train/cunkuan_m11.csv\u001b[39m\u001b[39m\"\u001b[39m)\n\u001b[1;32m     25\u001b[0m cunkuan_m12 \u001b[39m=\u001b[39m pd\u001b[39m.\u001b[39mread_csv(\u001b[39mdir\u001b[39m \u001b[39m+\u001b[39m \u001b[39m\"\u001b[39m\u001b[39m/data/rawdata/cunkuan_train/cunkuan_m12.csv\u001b[39m\u001b[39m\"\u001b[39m)\n\u001b[0;32m---> 27\u001b[0m cust_avli_Q3 \u001b[39m=\u001b[39m pd\u001b[39m.\u001b[39;49mread_csv(\u001b[39mdir\u001b[39;49m \u001b[39m+\u001b[39;49m\u001b[39m\"\u001b[39;49m\u001b[39m/data/rawdata/cust_avli_train/cust_avli_Q3.csv\u001b[39;49m\u001b[39m\"\u001b[39;49m)\n\u001b[1;32m     28\u001b[0m cust_avli_Q4 \u001b[39m=\u001b[39m pd\u001b[39m.\u001b[39mread_csv(\u001b[39mdir\u001b[39m \u001b[39m+\u001b[39m\u001b[39m\"\u001b[39m\u001b[39m/data/rawdata/cust_avli_train/cust_avli_Q4.csv\u001b[39m\u001b[39m\"\u001b[39m)\n\u001b[1;32m     30\u001b[0m cust_info_q3 \u001b[39m=\u001b[39m pd\u001b[39m.\u001b[39mread_csv(\u001b[39mdir\u001b[39m \u001b[39m+\u001b[39m \u001b[39m\"\u001b[39m\u001b[39m/data/rawdata/cust_info_train/cust_info_q3.csv\u001b[39m\u001b[39m\"\u001b[39m)\n",
      "File \u001b[0;32m/opt/homebrew/lib/python3.10/site-packages/pandas/util/_decorators.py:211\u001b[0m, in \u001b[0;36mdeprecate_kwarg.<locals>._deprecate_kwarg.<locals>.wrapper\u001b[0;34m(*args, **kwargs)\u001b[0m\n\u001b[1;32m    209\u001b[0m     \u001b[39melse\u001b[39;00m:\n\u001b[1;32m    210\u001b[0m         kwargs[new_arg_name] \u001b[39m=\u001b[39m new_arg_value\n\u001b[0;32m--> 211\u001b[0m \u001b[39mreturn\u001b[39;00m func(\u001b[39m*\u001b[39;49margs, \u001b[39m*\u001b[39;49m\u001b[39m*\u001b[39;49mkwargs)\n",
      "File \u001b[0;32m/opt/homebrew/lib/python3.10/site-packages/pandas/util/_decorators.py:331\u001b[0m, in \u001b[0;36mdeprecate_nonkeyword_arguments.<locals>.decorate.<locals>.wrapper\u001b[0;34m(*args, **kwargs)\u001b[0m\n\u001b[1;32m    325\u001b[0m \u001b[39mif\u001b[39;00m \u001b[39mlen\u001b[39m(args) \u001b[39m>\u001b[39m num_allow_args:\n\u001b[1;32m    326\u001b[0m     warnings\u001b[39m.\u001b[39mwarn(\n\u001b[1;32m    327\u001b[0m         msg\u001b[39m.\u001b[39mformat(arguments\u001b[39m=\u001b[39m_format_argument_list(allow_args)),\n\u001b[1;32m    328\u001b[0m         \u001b[39mFutureWarning\u001b[39;00m,\n\u001b[1;32m    329\u001b[0m         stacklevel\u001b[39m=\u001b[39mfind_stack_level(),\n\u001b[1;32m    330\u001b[0m     )\n\u001b[0;32m--> 331\u001b[0m \u001b[39mreturn\u001b[39;00m func(\u001b[39m*\u001b[39;49margs, \u001b[39m*\u001b[39;49m\u001b[39m*\u001b[39;49mkwargs)\n",
      "File \u001b[0;32m/opt/homebrew/lib/python3.10/site-packages/pandas/io/parsers/readers.py:950\u001b[0m, in \u001b[0;36mread_csv\u001b[0;34m(filepath_or_buffer, sep, delimiter, header, names, index_col, usecols, squeeze, prefix, mangle_dupe_cols, dtype, engine, converters, true_values, false_values, skipinitialspace, skiprows, skipfooter, nrows, na_values, keep_default_na, na_filter, verbose, skip_blank_lines, parse_dates, infer_datetime_format, keep_date_col, date_parser, dayfirst, cache_dates, iterator, chunksize, compression, thousands, decimal, lineterminator, quotechar, quoting, doublequote, escapechar, comment, encoding, encoding_errors, dialect, error_bad_lines, warn_bad_lines, on_bad_lines, delim_whitespace, low_memory, memory_map, float_precision, storage_options)\u001b[0m\n\u001b[1;32m    935\u001b[0m kwds_defaults \u001b[39m=\u001b[39m _refine_defaults_read(\n\u001b[1;32m    936\u001b[0m     dialect,\n\u001b[1;32m    937\u001b[0m     delimiter,\n\u001b[0;32m   (...)\u001b[0m\n\u001b[1;32m    946\u001b[0m     defaults\u001b[39m=\u001b[39m{\u001b[39m\"\u001b[39m\u001b[39mdelimiter\u001b[39m\u001b[39m\"\u001b[39m: \u001b[39m\"\u001b[39m\u001b[39m,\u001b[39m\u001b[39m\"\u001b[39m},\n\u001b[1;32m    947\u001b[0m )\n\u001b[1;32m    948\u001b[0m kwds\u001b[39m.\u001b[39mupdate(kwds_defaults)\n\u001b[0;32m--> 950\u001b[0m \u001b[39mreturn\u001b[39;00m _read(filepath_or_buffer, kwds)\n",
      "File \u001b[0;32m/opt/homebrew/lib/python3.10/site-packages/pandas/io/parsers/readers.py:605\u001b[0m, in \u001b[0;36m_read\u001b[0;34m(filepath_or_buffer, kwds)\u001b[0m\n\u001b[1;32m    602\u001b[0m _validate_names(kwds\u001b[39m.\u001b[39mget(\u001b[39m\"\u001b[39m\u001b[39mnames\u001b[39m\u001b[39m\"\u001b[39m, \u001b[39mNone\u001b[39;00m))\n\u001b[1;32m    604\u001b[0m \u001b[39m# Create the parser.\u001b[39;00m\n\u001b[0;32m--> 605\u001b[0m parser \u001b[39m=\u001b[39m TextFileReader(filepath_or_buffer, \u001b[39m*\u001b[39;49m\u001b[39m*\u001b[39;49mkwds)\n\u001b[1;32m    607\u001b[0m \u001b[39mif\u001b[39;00m chunksize \u001b[39mor\u001b[39;00m iterator:\n\u001b[1;32m    608\u001b[0m     \u001b[39mreturn\u001b[39;00m parser\n",
      "File \u001b[0;32m/opt/homebrew/lib/python3.10/site-packages/pandas/io/parsers/readers.py:1442\u001b[0m, in \u001b[0;36mTextFileReader.__init__\u001b[0;34m(self, f, engine, **kwds)\u001b[0m\n\u001b[1;32m   1439\u001b[0m     \u001b[39mself\u001b[39m\u001b[39m.\u001b[39moptions[\u001b[39m\"\u001b[39m\u001b[39mhas_index_names\u001b[39m\u001b[39m\"\u001b[39m] \u001b[39m=\u001b[39m kwds[\u001b[39m\"\u001b[39m\u001b[39mhas_index_names\u001b[39m\u001b[39m\"\u001b[39m]\n\u001b[1;32m   1441\u001b[0m \u001b[39mself\u001b[39m\u001b[39m.\u001b[39mhandles: IOHandles \u001b[39m|\u001b[39m \u001b[39mNone\u001b[39;00m \u001b[39m=\u001b[39m \u001b[39mNone\u001b[39;00m\n\u001b[0;32m-> 1442\u001b[0m \u001b[39mself\u001b[39m\u001b[39m.\u001b[39m_engine \u001b[39m=\u001b[39m \u001b[39mself\u001b[39;49m\u001b[39m.\u001b[39;49m_make_engine(f, \u001b[39mself\u001b[39;49m\u001b[39m.\u001b[39;49mengine)\n",
      "File \u001b[0;32m/opt/homebrew/lib/python3.10/site-packages/pandas/io/parsers/readers.py:1735\u001b[0m, in \u001b[0;36mTextFileReader._make_engine\u001b[0;34m(self, f, engine)\u001b[0m\n\u001b[1;32m   1733\u001b[0m     \u001b[39mif\u001b[39;00m \u001b[39m\"\u001b[39m\u001b[39mb\u001b[39m\u001b[39m\"\u001b[39m \u001b[39mnot\u001b[39;00m \u001b[39min\u001b[39;00m mode:\n\u001b[1;32m   1734\u001b[0m         mode \u001b[39m+\u001b[39m\u001b[39m=\u001b[39m \u001b[39m\"\u001b[39m\u001b[39mb\u001b[39m\u001b[39m\"\u001b[39m\n\u001b[0;32m-> 1735\u001b[0m \u001b[39mself\u001b[39m\u001b[39m.\u001b[39mhandles \u001b[39m=\u001b[39m get_handle(\n\u001b[1;32m   1736\u001b[0m     f,\n\u001b[1;32m   1737\u001b[0m     mode,\n\u001b[1;32m   1738\u001b[0m     encoding\u001b[39m=\u001b[39;49m\u001b[39mself\u001b[39;49m\u001b[39m.\u001b[39;49moptions\u001b[39m.\u001b[39;49mget(\u001b[39m\"\u001b[39;49m\u001b[39mencoding\u001b[39;49m\u001b[39m\"\u001b[39;49m, \u001b[39mNone\u001b[39;49;00m),\n\u001b[1;32m   1739\u001b[0m     compression\u001b[39m=\u001b[39;49m\u001b[39mself\u001b[39;49m\u001b[39m.\u001b[39;49moptions\u001b[39m.\u001b[39;49mget(\u001b[39m\"\u001b[39;49m\u001b[39mcompression\u001b[39;49m\u001b[39m\"\u001b[39;49m, \u001b[39mNone\u001b[39;49;00m),\n\u001b[1;32m   1740\u001b[0m     memory_map\u001b[39m=\u001b[39;49m\u001b[39mself\u001b[39;49m\u001b[39m.\u001b[39;49moptions\u001b[39m.\u001b[39;49mget(\u001b[39m\"\u001b[39;49m\u001b[39mmemory_map\u001b[39;49m\u001b[39m\"\u001b[39;49m, \u001b[39mFalse\u001b[39;49;00m),\n\u001b[1;32m   1741\u001b[0m     is_text\u001b[39m=\u001b[39;49mis_text,\n\u001b[1;32m   1742\u001b[0m     errors\u001b[39m=\u001b[39;49m\u001b[39mself\u001b[39;49m\u001b[39m.\u001b[39;49moptions\u001b[39m.\u001b[39;49mget(\u001b[39m\"\u001b[39;49m\u001b[39mencoding_errors\u001b[39;49m\u001b[39m\"\u001b[39;49m, \u001b[39m\"\u001b[39;49m\u001b[39mstrict\u001b[39;49m\u001b[39m\"\u001b[39;49m),\n\u001b[1;32m   1743\u001b[0m     storage_options\u001b[39m=\u001b[39;49m\u001b[39mself\u001b[39;49m\u001b[39m.\u001b[39;49moptions\u001b[39m.\u001b[39;49mget(\u001b[39m\"\u001b[39;49m\u001b[39mstorage_options\u001b[39;49m\u001b[39m\"\u001b[39;49m, \u001b[39mNone\u001b[39;49;00m),\n\u001b[1;32m   1744\u001b[0m )\n\u001b[1;32m   1745\u001b[0m \u001b[39massert\u001b[39;00m \u001b[39mself\u001b[39m\u001b[39m.\u001b[39mhandles \u001b[39mis\u001b[39;00m \u001b[39mnot\u001b[39;00m \u001b[39mNone\u001b[39;00m\n\u001b[1;32m   1746\u001b[0m f \u001b[39m=\u001b[39m \u001b[39mself\u001b[39m\u001b[39m.\u001b[39mhandles\u001b[39m.\u001b[39mhandle\n",
      "File \u001b[0;32m/opt/homebrew/lib/python3.10/site-packages/pandas/io/common.py:856\u001b[0m, in \u001b[0;36mget_handle\u001b[0;34m(path_or_buf, mode, encoding, compression, memory_map, is_text, errors, storage_options)\u001b[0m\n\u001b[1;32m    851\u001b[0m \u001b[39melif\u001b[39;00m \u001b[39misinstance\u001b[39m(handle, \u001b[39mstr\u001b[39m):\n\u001b[1;32m    852\u001b[0m     \u001b[39m# Check whether the filename is to be opened in binary mode.\u001b[39;00m\n\u001b[1;32m    853\u001b[0m     \u001b[39m# Binary mode does not support 'encoding' and 'newline'.\u001b[39;00m\n\u001b[1;32m    854\u001b[0m     \u001b[39mif\u001b[39;00m ioargs\u001b[39m.\u001b[39mencoding \u001b[39mand\u001b[39;00m \u001b[39m\"\u001b[39m\u001b[39mb\u001b[39m\u001b[39m\"\u001b[39m \u001b[39mnot\u001b[39;00m \u001b[39min\u001b[39;00m ioargs\u001b[39m.\u001b[39mmode:\n\u001b[1;32m    855\u001b[0m         \u001b[39m# Encoding\u001b[39;00m\n\u001b[0;32m--> 856\u001b[0m         handle \u001b[39m=\u001b[39m \u001b[39mopen\u001b[39;49m(\n\u001b[1;32m    857\u001b[0m             handle,\n\u001b[1;32m    858\u001b[0m             ioargs\u001b[39m.\u001b[39;49mmode,\n\u001b[1;32m    859\u001b[0m             encoding\u001b[39m=\u001b[39;49mioargs\u001b[39m.\u001b[39;49mencoding,\n\u001b[1;32m    860\u001b[0m             errors\u001b[39m=\u001b[39;49merrors,\n\u001b[1;32m    861\u001b[0m             newline\u001b[39m=\u001b[39;49m\u001b[39m\"\u001b[39;49m\u001b[39m\"\u001b[39;49m,\n\u001b[1;32m    862\u001b[0m         )\n\u001b[1;32m    863\u001b[0m     \u001b[39melse\u001b[39;00m:\n\u001b[1;32m    864\u001b[0m         \u001b[39m# Binary mode\u001b[39;00m\n\u001b[1;32m    865\u001b[0m         handle \u001b[39m=\u001b[39m \u001b[39mopen\u001b[39m(handle, ioargs\u001b[39m.\u001b[39mmode)\n",
      "\u001b[0;31mFileNotFoundError\u001b[0m: [Errno 2] No such file or directory: '/Users/ichang-ug/Documents/GitHub/bitamin_ChurnProject/changwook/data/rawdata/cust_avli_train/cust_avli_Q3.csv'"
     ]
    }
   ],
   "source": [
    "# x_train = pd.read_csv(dir + '/data/preprocessed/X_train.csv')\n",
    "\n",
    "aum_m7 = pd.read_csv(dir + '/data/rawdata/aum_train/aum_m7.csv')\n",
    "aum_m8 = pd.read_csv(dir + '/data/rawdata/aum_train/aum_m8.csv')\n",
    "aum_m9 = pd.read_csv(dir + '/data/rawdata/aum_train/aum_m9.csv')\n",
    "aum_m10 = pd.read_csv(dir + '/data/rawdata/aum_train/aum_m10.csv')\n",
    "aum_m11 = pd.read_csv(dir + '/data/rawdata/aum_train/aum_m11.csv')\n",
    "aum_m12 = pd.read_csv(dir + '/data/rawdata/aum_train/aum_m12.csv')\n",
    "\n",
    "behavior_m7 = pd.read_csv(dir + \"/data/rawdata/behavior_train/behavior_m7.csv\")\n",
    "behavior_m8 = pd.read_csv(dir + \"/data/rawdata/behavior_train/behavior_m8.csv\")\n",
    "behavior_m9 = pd.read_csv(dir + \"/data/rawdata/behavior_train/behavior_m9.csv\")\n",
    "behavior_m10 = pd.read_csv(dir + \"/data/rawdata/behavior_train/behavior_m10.csv\")\n",
    "behavior_m11 = pd.read_csv(dir + \"/data/rawdata/behavior_train/behavior_m11.csv\")\n",
    "behavior_m12 = pd.read_csv(dir + \"/data/rawdata/behavior_train/behavior_m12.csv\")\n",
    "\n",
    "big_event_Q3 = pd.read_csv(dir + \"/data/rawdata/big_event_train/big_event_Q3.csv\")\n",
    "big_event_Q4 = pd.read_csv(dir + \"/data/rawdata/big_event_train/big_event_Q4.csv\")\n",
    "\n",
    "cunkuan_m7 = pd.read_csv(dir + \"/data/rawdata/cunkuan_train/cunkuan_m7.csv\")\n",
    "cunkuan_m8 = pd.read_csv(dir + \"/data/rawdata/cunkuan_train/cunkuan_m8.csv\")\n",
    "cunkuan_m9 = pd.read_csv(dir + \"/data/rawdata/cunkuan_train/cunkuan_m9.csv\")\n",
    "cunkuan_m10 = pd.read_csv(dir + \"/data/rawdata/cunkuan_train/cunkuan_m10.csv\")\n",
    "cunkuan_m11 = pd.read_csv(dir + \"/data/rawdata/cunkuan_train/cunkuan_m11.csv\")\n",
    "cunkuan_m12 = pd.read_csv(dir + \"/data/rawdata/cunkuan_train/cunkuan_m12.csv\")\n",
    "\n",
    "cust_avli_Q3 = pd.read_csv(dir +\"/data/rawdata/cust_avli_train/cust_avli_Q3.csv\")\n",
    "cust_avli_Q4 = pd.read_csv(dir +\"/data/rawdata/cust_avli_train/cust_avli_Q4.csv\")\n",
    "\n",
    "cust_info_q3 = pd.read_csv(dir + \"/data/rawdata/cust_info_train/cust_info_q3.csv\")\n",
    "cust_info_q4 = pd.read_csv(dir + \"/data/rawdata/cust_info_train/cust_info_q4.csv\")\n",
    "\n",
    "y_Q3_3 = pd.read_csv(dir + \"/data/rawdata/train_label/y_Q3_3.csv\")\n",
    "y_Q4_3 = pd.read_csv(dir + \"/data/rawdata/train_label/y_Q4_3.csv\")"
   ]
  },
  {
   "cell_type": "code",
   "execution_count": 15,
   "metadata": {},
   "outputs": [
    {
     "name": "stdout",
     "output_type": "stream",
     "text": [
      "69126\n",
      "62397\n",
      "76170\n"
     ]
    }
   ],
   "source": [
    "# 겹치는 고객 확인.\n",
    "q3_cust = y_Q3_3['cust_no']\n",
    "q4_cust = y_Q4_3['cust_no']\n",
    "\n",
    "print(len(q3_cust))\n",
    "print(q3_cust.isin(q4_cust).sum())\n",
    "print(len(q4_cust))"
   ]
  },
  {
   "attachments": {},
   "cell_type": "markdown",
   "metadata": {},
   "source": [
    "q3 고객 중 q4까지 남아있었던 고객은 62397명"
   ]
  },
  {
   "attachments": {},
   "cell_type": "markdown",
   "metadata": {},
   "source": [
    "다음에는 label 데이터에 존재하는 고객만 x 데이터에서 남기도록 하자."
   ]
  },
  {
   "cell_type": "code",
   "execution_count": 16,
   "metadata": {},
   "outputs": [],
   "source": [
    "aum_m7 = aum_m7[aum_m7['cust_no'].isin(q3_cust)]\n",
    "aum_m8 = aum_m8[aum_m8['cust_no'].isin(q3_cust)]\n",
    "aum_m9 = aum_m9[aum_m9['cust_no'].isin(q3_cust)]\n",
    "aum_m10 = aum_m10[aum_m10['cust_no'].isin(q4_cust)]\n",
    "aum_m11 = aum_m11[aum_m11['cust_no'].isin(q4_cust)]\n",
    "aum_m12 = aum_m12[aum_m12['cust_no'].isin(q4_cust)]\n",
    "\n",
    "behavior_m7 = behavior_m7[behavior_m7['cust_no'].isin(q3_cust)]\n",
    "behavior_m8 = behavior_m8[behavior_m8['cust_no'].isin(q3_cust)]\n",
    "behavior_m9 = behavior_m9[behavior_m9['cust_no'].isin(q3_cust)]\n",
    "behavior_m10 = behavior_m10[behavior_m10['cust_no'].isin(q4_cust)]\n",
    "behavior_m11 = behavior_m11[behavior_m11['cust_no'].isin(q4_cust)]\n",
    "behavior_m12 = behavior_m12[behavior_m12['cust_no'].isin(q4_cust)]\n",
    "\n",
    "cunkuan_m7 = cunkuan_m7[cunkuan_m7['cust_no'].isin(q3_cust)]\n",
    "cunkuan_m8 = cunkuan_m8[cunkuan_m8['cust_no'].isin(q3_cust)]\n",
    "cunkuan_m9 = cunkuan_m9[cunkuan_m9['cust_no'].isin(q3_cust)]\n",
    "cunkuan_m10 = cunkuan_m10[cunkuan_m10['cust_no'].isin(q4_cust)]\n",
    "cunkuan_m11 = cunkuan_m11[cunkuan_m11['cust_no'].isin(q4_cust)]\n",
    "cunkuan_m12 = cunkuan_m12[cunkuan_m12['cust_no'].isin(q4_cust)]"
   ]
  },
  {
   "cell_type": "code",
   "execution_count": 17,
   "metadata": {},
   "outputs": [],
   "source": [
    "big_event_Q3 = big_event_Q3[big_event_Q3['cust_no'].isin(q3_cust)]\n",
    "big_event_Q4 = big_event_Q4[big_event_Q4['cust_no'].isin(q4_cust)]\n",
    "\n",
    "cust_info_q3 = cust_info_q3[cust_info_q3['cust_no'].isin(q3_cust)]\n",
    "cust_info_q4 = cust_info_q4[cust_info_q4['cust_no'].isin(q4_cust)]"
   ]
  },
  {
   "attachments": {},
   "cell_type": "markdown",
   "metadata": {},
   "source": [
    "## 월별 데이터"
   ]
  },
  {
   "attachments": {},
   "cell_type": "markdown",
   "metadata": {},
   "source": [
    "월별 데이터 크기를 살펴보면"
   ]
  },
  {
   "cell_type": "code",
   "execution_count": 18,
   "metadata": {},
   "outputs": [
    {
     "name": "stdout",
     "output_type": "stream",
     "text": [
      "aum\n",
      "m7 65135\n",
      "m8 67276\n",
      "m9 69126\n",
      "m10 71496\n",
      "m11 73931\n",
      "m12 76170\n",
      "\n",
      "behavior\n",
      "m7 65135\n",
      "m8 67276\n",
      "m9 69126\n",
      "m10 71496\n",
      "m11 73931\n",
      "m12 76170\n",
      "\n",
      "cunkuan\n",
      "m7 64173\n",
      "m8 66711\n",
      "m9 69122\n",
      "m10 70364\n",
      "m11 73345\n",
      "m12 76167\n"
     ]
    }
   ],
   "source": [
    "print(\"aum\")\n",
    "print(\"m7\",len(aum_m7))\n",
    "print(\"m8\",len(aum_m8))\n",
    "print(\"m9\",len(aum_m9))\n",
    "print(\"m10\",len(aum_m10))\n",
    "print(\"m11\",len(aum_m11))\n",
    "print(\"m12\",len(aum_m12))\n",
    "\n",
    "print()\n",
    "print(\"behavior\")\n",
    "print(\"m7\",len(behavior_m7))\n",
    "print(\"m8\",len(behavior_m8))\n",
    "print(\"m9\",len(behavior_m9))\n",
    "print(\"m10\",len(behavior_m10))\n",
    "print(\"m11\",len(behavior_m11))\n",
    "print(\"m12\",len(behavior_m12))\n",
    "\n",
    "print()\n",
    "print(\"cunkuan\")\n",
    "print(\"m7\",len(cunkuan_m7))\n",
    "print(\"m8\",len(cunkuan_m8))\n",
    "print(\"m9\",len(cunkuan_m9))\n",
    "print(\"m10\",len(cunkuan_m10))\n",
    "print(\"m11\",len(cunkuan_m11))\n",
    "print(\"m12\",len(cunkuan_m12))"
   ]
  },
  {
   "attachments": {},
   "cell_type": "markdown",
   "metadata": {},
   "source": [
    "분기별 데이터 크기는"
   ]
  },
  {
   "cell_type": "code",
   "execution_count": 19,
   "metadata": {},
   "outputs": [
    {
     "name": "stdout",
     "output_type": "stream",
     "text": [
      "big_event_\n",
      "Q3 69126\n",
      "Q4 76170\n",
      "\n",
      "cust_avli\n",
      "Q3 69126\n",
      "Q4 76170\n",
      "\n",
      "cust_info\n",
      "Q3 69126\n",
      "Q4 69126\n"
     ]
    }
   ],
   "source": [
    "print(\"big_event_\")\n",
    "print(\"Q3\",len(big_event_Q3))\n",
    "print(\"Q4\",len(big_event_Q4))\n",
    "\n",
    "print()\n",
    "print(\"cust_avli\")\n",
    "print(\"Q3\",len(cust_avli_Q3))\n",
    "print(\"Q4\",len(cust_avli_Q4))\n",
    "\n",
    "print()\n",
    "print(\"cust_info\")\n",
    "print(\"Q3\",len(cust_info_q3))\n",
    "print(\"Q4\",len(cust_info_q3))\n"
   ]
  },
  {
   "cell_type": "code",
   "execution_count": 20,
   "metadata": {},
   "outputs": [
    {
     "name": "stdout",
     "output_type": "stream",
     "text": [
      "cust_no    69126\n",
      "dtype: int64\n",
      "cust_no    76170\n",
      "dtype: int64\n"
     ]
    }
   ],
   "source": [
    "print(cust_avli_Q3.isin(q3_cust).sum())\n",
    "print(cust_avli_Q4.isin(q4_cust).sum())"
   ]
  },
  {
   "attachments": {},
   "cell_type": "markdown",
   "metadata": {},
   "source": [
    "중간의 cust_avli는 lable 데이터와 동일하므로 이후로 고려하지 않는다.\n",
    "항목별 크기는 들쑥날쑥함\n"
   ]
  },
  {
   "attachments": {},
   "cell_type": "markdown",
   "metadata": {},
   "source": [
    "결측치도 확인해보자"
   ]
  },
  {
   "cell_type": "code",
   "execution_count": 22,
   "metadata": {},
   "outputs": [
    {
     "name": "stdout",
     "output_type": "stream",
     "text": [
      "Customer Assets(aum)\n",
      "aum_m7: 0\n",
      "aum_m8: 0\n",
      "aum_m9: 0\n",
      "aum_m10: 0\n",
      "aum_m11: 0\n",
      "aum_m12: 0\n",
      "Customer behavioravior(behavioravior)\n",
      "behavior_m7: 0\n",
      "behavior_m8: 0\n",
      "behavior_m9: 4947\n",
      "behavior_m10: 0\n",
      "behavior_m11: 0\n",
      "behavior_m12: 3931\n",
      "Customer Deposits(cunkuan)\n",
      "cunkuan_m7: 0\n",
      "cunkuan_m8: 0\n",
      "cunkuan_m9: 0\n",
      "cunkuan_m10: 0\n",
      "cunkuan_m11: 0\n",
      "cunkuan_m12: 0\n"
     ]
    }
   ],
   "source": [
    "print(\"Customer Assets(aum)\")\n",
    "print(\"aum_m7:\", aum_m7.isnull().sum().sum())\n",
    "print(\"aum_m8:\", aum_m8.isnull().sum().sum())\n",
    "print(\"aum_m9:\", aum_m9.isnull().sum().sum())\n",
    "print(\"aum_m10:\", aum_m10.isnull().sum().sum())\n",
    "print(\"aum_m11:\", aum_m11.isnull().sum().sum())\n",
    "print(\"aum_m12:\", aum_m12.isnull().sum().sum())\n",
    "\n",
    "print(\"Customer behavioravior(behavioravior)\")\n",
    "print(\"behavior_m7:\",behavior_m7.isnull().sum().sum())\n",
    "print(\"behavior_m8:\",behavior_m8.isnull().sum().sum())\n",
    "print(\"behavior_m9:\",behavior_m9.isnull().sum().sum())\n",
    "print(\"behavior_m10:\",behavior_m10.isnull().sum().sum())\n",
    "print(\"behavior_m11:\",behavior_m11.isnull().sum().sum())\n",
    "print(\"behavior_m12:\",behavior_m12.isnull().sum().sum())\n",
    "\n",
    "print(\"Customer Deposits(cunkuan)\")\n",
    "print(\"cunkuan_m7:\", cunkuan_m7.isnull().sum().sum())\n",
    "print(\"cunkuan_m8:\", cunkuan_m7.isnull().sum().sum())\n",
    "print(\"cunkuan_m9:\", cunkuan_m7.isnull().sum().sum())\n",
    "print(\"cunkuan_m10:\", cunkuan_m7.isnull().sum().sum())\n",
    "print(\"cunkuan_m11:\", cunkuan_m7.isnull().sum().sum())\n",
    "print(\"cunkuan_m12:\", cunkuan_m7.isnull().sum().sum())\n"
   ]
  },
  {
   "attachments": {},
   "cell_type": "markdown",
   "metadata": {},
   "source": [
    "Customer behavior의 9월 12월 데이터만 결측치가 있다."
   ]
  },
  {
   "cell_type": "code",
   "execution_count": 28,
   "metadata": {},
   "outputs": [
    {
     "name": "stdout",
     "output_type": "stream",
     "text": [
      "behavior_m9:\n",
      " cust_no       0\n",
      "B1            0\n",
      "B2            0\n",
      "B3            0\n",
      "B4            0\n",
      "B5            0\n",
      "B6         4947\n",
      "B7            0\n",
      "dtype: int64\n",
      "behavior_m12:\n",
      " cust_no       0\n",
      "B1            0\n",
      "B2            0\n",
      "B3            0\n",
      "B4            0\n",
      "B5            0\n",
      "B6         3931\n",
      "B7            0\n",
      "dtype: int64\n"
     ]
    }
   ],
   "source": [
    "print(\"behavior_m9:\\n\",behavior_m9.isnull().sum())\n",
    "print(\"behavior_m12:\\n\", behavior_m12.isnull().sum())"
   ]
  },
  {
   "attachments": {},
   "cell_type": "markdown",
   "metadata": {},
   "source": [
    "B6 column에서만 결측치가 존재"
   ]
  },
  {
   "cell_type": "code",
   "execution_count": 29,
   "metadata": {},
   "outputs": [
    {
     "name": "stdout",
     "output_type": "stream",
     "text": [
      "79.36122902769355\n",
      "99.87280590180616\n"
     ]
    }
   ],
   "source": [
    "null_behaviorM9 = behavior_m9[behavior_m9[\"B6\"].isnull()]['cust_no']\n",
    "null_behaviorM12 = behavior_m12[behavior_m12[\"B6\"].isnull()]['cust_no']\n",
    "\n",
    "num = len(null_behaviorM9[null_behaviorM9.isin(null_behaviorM12)])\n",
    "\n",
    "print(num/4947 *100)\n",
    "print(num/3931*100)"
   ]
  },
  {
   "attachments": {},
   "cell_type": "markdown",
   "metadata": {},
   "source": [
    "9월과 12월의 B6열의 결측데이터의 cust_no은 평균 89.5% 일치한다."
   ]
  },
  {
   "cell_type": "code",
   "execution_count": 30,
   "metadata": {},
   "outputs": [
    {
     "name": "stdout",
     "output_type": "stream",
     "text": [
      "7.156496831872233\n",
      "5.160824471576736\n"
     ]
    }
   ],
   "source": [
    "print(len(null_behaviorM9)/len(behavior_m9)*100)\n",
    "print(len(null_behaviorM12)/len(behavior_m12)*100)"
   ]
  },
  {
   "attachments": {},
   "cell_type": "markdown",
   "metadata": {},
   "source": [
    "두 칼럼의 결측율은 5~7 퍼센트로 매우 낮음. 결측 행만 제거해도 될듯\n"
   ]
  },
  {
   "attachments": {},
   "cell_type": "markdown",
   "metadata": {},
   "source": [
    "## 분기별 데이터"
   ]
  },
  {
   "cell_type": "code",
   "execution_count": 31,
   "metadata": {},
   "outputs": [
    {
     "name": "stdout",
     "output_type": "stream",
     "text": [
      "Important Customer Behavior(bigEvent)\n",
      "big_event_Q3: 566912\n",
      "big_event_Q4: 623613\n",
      "\n",
      "Customer Trivias(cust_info)\n",
      "cust_info_q3: 267696\n",
      "cust_info_q4: 290513\n"
     ]
    }
   ],
   "source": [
    "print(\"Important Customer Behavior(bigEvent)\")\n",
    "print(\"big_event_Q3:\", big_event_Q3.isnull().sum().sum())\n",
    "print(\"big_event_Q4:\", big_event_Q4.isnull().sum().sum())\n",
    "\n",
    "print()\n",
    "print(\"Customer Trivias(cust_info)\")\n",
    "print(\"cust_info_q3:\", cust_info_q3.isnull().sum().sum())\n",
    "print(\"cust_info_q4:\", cust_info_q4.isnull().sum().sum())\n"
   ]
  },
  {
   "attachments": {},
   "cell_type": "markdown",
   "metadata": {},
   "source": [
    "앞선 월별 데이터와는 달리 결측치가 매우 많고, 크게 나온다. 더 자세히 살펴보자"
   ]
  },
  {
   "cell_type": "code",
   "execution_count": 32,
   "metadata": {},
   "outputs": [],
   "source": [
    "def check_null(df):\n",
    "    ''' Print percentage of missing values in each columns\n",
    "    @Param df df: input data frame\n",
    "    '''\n",
    "    missing_val = df.isnull().sum()\n",
    "    for index in missing_val.index:\n",
    "        if missing_val[index] > 0:\n",
    "            print('{} has {} missing values. ({:.4%})'.format(index, missing_val[index], missing_val[index]/len(df)))\n"
   ]
  },
  {
   "attachments": {},
   "cell_type": "markdown",
   "metadata": {},
   "source": [
    "결측률 큰 데이터 drop"
   ]
  },
  {
   "cell_type": "code",
   "execution_count": 33,
   "metadata": {},
   "outputs": [],
   "source": [
    "bE_Q3_drop = big_event_Q3.drop(['E4','E7', 'E8', 'E9', 'E11', 'E12', 'E13','E14','E16','E18'], axis=1)\n",
    "bE_Q4_drop = big_event_Q4.drop(['E4','E7', 'E8', 'E9', 'E11', 'E12', 'E13', 'E14','E16','E18'], axis=1)\n",
    "ci_Q3_drop = cust_info_q3.drop(['I9', 'I10', 'I13', 'I14'], axis=1)\n",
    "ci_Q4_drop = cust_info_q4.drop(['I9', 'I10', 'I13', 'I14'], axis=1)"
   ]
  },
  {
   "cell_type": "code",
   "execution_count": 34,
   "metadata": {},
   "outputs": [
    {
     "name": "stdout",
     "output_type": "stream",
     "text": [
      "E2 has 3217 missing values. (4.6538%)\n",
      "E3 has 3217 missing values. (4.6538%)\n",
      "E5 has 26403 missing values. (38.1955%)\n",
      "E6 has 3770 missing values. (5.4538%)\n",
      "E10 has 361 missing values. (0.5222%)\n",
      "E2 has 3153 missing values. (4.1394%)\n",
      "E3 has 3153 missing values. (4.1394%)\n",
      "E5 has 28726 missing values. (37.7130%)\n",
      "E6 has 3768 missing values. (4.9468%)\n",
      "E10 has 455 missing values. (0.5973%)\n",
      "I1 has 32 missing values. (0.0463%)\n",
      "I5 has 6925 missing values. (10.0179%)\n",
      "I1 has 32 missing values. (0.0420%)\n",
      "I5 has 4679 missing values. (6.1428%)\n"
     ]
    }
   ],
   "source": [
    "check_null(bE_Q3_drop)\n",
    "check_null(bE_Q4_drop)\n",
    "check_null(ci_Q3_drop)\n",
    "check_null(ci_Q4_drop)"
   ]
  },
  {
   "attachments": {},
   "cell_type": "markdown",
   "metadata": {},
   "source": [
    "필요없는 column drop"
   ]
  },
  {
   "cell_type": "code",
   "execution_count": 35,
   "metadata": {},
   "outputs": [],
   "source": [
    "ci_Q3_drop.drop(['I8', 'I12', 'I15'],axis=1, inplace = True)\n",
    "ci_Q4_drop.drop(['I8', 'I12', 'I15'],axis=1, inplace = True)"
   ]
  },
  {
   "attachments": {},
   "cell_type": "markdown",
   "metadata": {},
   "source": [
    "결측치 채우기"
   ]
  },
  {
   "cell_type": "code",
   "execution_count": 36,
   "metadata": {},
   "outputs": [],
   "source": [
    "# datetime 결측치\n",
    "fmt = '%Y-%m-%d'\n",
    "col_names = ['E1', 'E2', 'E3', 'E5', 'E6', 'E10']\n",
    "for X in [bE_Q3_drop, bE_Q4_drop]:\n",
    "    for col_name in col_names:\n",
    "        X[col_name] = pd.to_datetime(X[col_name], format=fmt, errors='ignore')"
   ]
  },
  {
   "attachments": {},
   "cell_type": "markdown",
   "metadata": {},
   "source": [
    "남아있는 데이터들의 분포를 살펴보자"
   ]
  },
  {
   "cell_type": "code",
   "execution_count": 37,
   "metadata": {},
   "outputs": [],
   "source": [
    "def zscore(data): # z-score 함수 생성\n",
    "    mean = np.mean(data) #평균\n",
    "    std = np.std(data)   #표준편차\n",
    "    z_scores = [(y-mean)/std for y in data] #z-score\n",
    "    return z_scores"
   ]
  },
  {
   "cell_type": "code",
   "execution_count": 38,
   "metadata": {},
   "outputs": [],
   "source": [
    "zlist = []\n",
    "for data in [bE_Q3_drop, bE_Q4_drop]:\n",
    "    for col in col_names:\n",
    "        zlist.append(zscore(data[col]))\n",
    "\n",
    "zlist_Q3 = zlist[:6]\n",
    "zlist_Q4 = zlist[6:]\n",
    "\n",
    "zlist_Q3 = np.array(zlist_Q3)\n",
    "zlist_Q3 = zlist_Q3.T\n",
    "zlist_Q4 = np.array(zlist_Q4)\n",
    "zlist_Q4 = zlist_Q4.T\n",
    "\n",
    "bEzlist_Q3 = pd.DataFrame(zlist_Q3, columns=col_names)\n",
    "bEzlist_Q4 = pd.DataFrame(zlist_Q4, columns=col_names)\n"
   ]
  },
  {
   "cell_type": "code",
   "execution_count": 39,
   "metadata": {},
   "outputs": [
    {
     "data": {
      "text/plain": [
       "array([[<AxesSubplot: title={'center': 'E1'}>,\n",
       "        <AxesSubplot: title={'center': 'E2'}>],\n",
       "       [<AxesSubplot: title={'center': 'E3'}>,\n",
       "        <AxesSubplot: title={'center': 'E5'}>],\n",
       "       [<AxesSubplot: title={'center': 'E6'}>,\n",
       "        <AxesSubplot: title={'center': 'E10'}>]], dtype=object)"
      ]
     },
     "execution_count": 39,
     "metadata": {},
     "output_type": "execute_result"
    },
    {
     "data": {
      "image/png": "[encoded data removed]",
      "text/plain": [
       "<Figure size 640x480 with 6 Axes>"
      ]
     },
     "metadata": {},
     "output_type": "display_data"
    }
   ],
   "source": [
    "bEzlist_Q3.hist()"
   ]
  },
  {
   "cell_type": "code",
   "execution_count": 40,
   "metadata": {},
   "outputs": [
    {
     "data": {
      "text/plain": [
       "array([[<AxesSubplot: title={'center': 'E1'}>,\n",
       "        <AxesSubplot: title={'center': 'E2'}>],\n",
       "       [<AxesSubplot: title={'center': 'E3'}>,\n",
       "        <AxesSubplot: title={'center': 'E5'}>],\n",
       "       [<AxesSubplot: title={'center': 'E6'}>,\n",
       "        <AxesSubplot: title={'center': 'E10'}>]], dtype=object)"
      ]
     },
     "execution_count": 40,
     "metadata": {},
     "output_type": "execute_result"
    },
    {
     "data": {
      "image/png": "[encoded data removed]",
      "text/plain": [
       "<Figure size 640x480 with 6 Axes>"
      ]
     },
     "metadata": {},
     "output_type": "display_data"
    }
   ],
   "source": [
    "bEzlist_Q4.hist()"
   ]
  },
  {
   "cell_type": "code",
   "execution_count": 41,
   "metadata": {},
   "outputs": [],
   "source": [
    "for X in [bE_Q3_drop, bE_Q4_drop]:    \n",
    "    X['E2'] = X['E2'].replace(np.NaN, X['E2'].max())\n",
    "    X['E3'] = X['E3'].replace(np.NaN, X['E3'].max())\n",
    "    X['E5'] = X['E5'].replace(np.NaN, X['E5'].max())\n",
    "    X['E6'] = X['E6'].replace(np.NaN, X['E6'].max())\n",
    "    X['E10'] = X['E10'].replace(np.NaN, X['E10'].max())"
   ]
  },
  {
   "cell_type": "code",
   "execution_count": 42,
   "metadata": {},
   "outputs": [],
   "source": [
    "for X in [ci_Q3_drop, ci_Q4_drop]:\n",
    "    X['I1'] = X['I1'].replace(np.NaN, 'unknown')\n",
    "    X['I5'] = X['I5'].replace(np.NaN, 'unknown')"
   ]
  },
  {
   "attachments": {},
   "cell_type": "markdown",
   "metadata": {},
   "source": [
    "## 데이터 merge"
   ]
  },
  {
   "cell_type": "code",
   "execution_count": 43,
   "metadata": {},
   "outputs": [],
   "source": [
    "aum_m78 = pd.merge(aum_m7, aum_m8, left_on='cust_no', right_on='cust_no', how = 'inner' )\n",
    "aum_q3 = pd.merge(aum_m78, aum_m9, on='cust_no', how=\"inner\")\n",
    "aum_m1011 = pd.merge(aum_m10, aum_m11, left_on='cust_no', right_on='cust_no', how = 'inner' )\n",
    "aum_q4 = pd.merge(aum_m1011, aum_m12, on='cust_no', how=\"inner\")\n",
    "\n",
    "\n",
    "behavior_m78 = pd.merge(behavior_m7, behavior_m8, left_on='cust_no', right_on='cust_no', how = 'inner' )\n",
    "behavior_q3 = pd.merge(behavior_m78, behavior_m9, on='cust_no', how=\"inner\")\n",
    "behavior_m1011 = pd.merge(behavior_m10, behavior_m11, left_on='cust_no', right_on='cust_no', how = 'inner' )\n",
    "behavior_q4 = pd.merge(behavior_m1011, behavior_m12, on='cust_no', how=\"inner\")\n",
    "\n",
    "\n",
    "cunkuan_m78 = pd.merge(cunkuan_m7, cunkuan_m8, left_on='cust_no', right_on='cust_no', how = 'inner' )\n",
    "cunkuan_q3 = pd.merge(cunkuan_m78, cunkuan_m9, on='cust_no', how=\"inner\")\n",
    "cunkuan_m1011 = pd.merge(cunkuan_m10, cunkuan_m11, left_on='cust_no', right_on='cust_no', how = 'inner' )\n",
    "cunkuan_q4 = pd.merge(cunkuan_m1011, cunkuan_m12, on='cust_no', how=\"inner\")"
   ]
  },
  {
   "cell_type": "code",
   "execution_count": 44,
   "metadata": {},
   "outputs": [],
   "source": [
    "X_train_Q3 = pd.merge(y_Q3_3[\"cust_no\"], aum_q3, on=\"cust_no\", how = \"inner\")\n",
    "X_train_Q3 = pd.merge(X_train_Q3, behavior_q3, on = \"cust_no\", how=\"inner\")\n",
    "X_train_Q3 = pd.merge(X_train_Q3, cunkuan_q3, on=\"cust_no\", how = \"inner\")\n",
    "X_train_Q3 = pd.merge(X_train_Q3, bE_Q3_drop, on=\"cust_no\", how = \"inner\")\n",
    "X_train_Q3 = pd.merge(X_train_Q3, ci_Q3_drop, on=\"cust_no\", how = \"inner\")\n",
    "\n",
    "X_train_Q4 = pd.merge(y_Q4_3[\"cust_no\"], aum_q4, on=\"cust_no\", how = \"inner\")\n",
    "X_train_Q4 = pd.merge(X_train_Q4, behavior_q4, on = \"cust_no\", how=\"inner\")\n",
    "X_train_Q4 = pd.merge(X_train_Q4, cunkuan_q4, on=\"cust_no\", how = \"inner\")\n",
    "X_train_Q4 = pd.merge(X_train_Q4, bE_Q4_drop, on=\"cust_no\", how = \"inner\")\n",
    "X_train_Q4 = pd.merge(X_train_Q4, ci_Q4_drop, on=\"cust_no\", how = \"inner\")"
   ]
  },
  {
   "cell_type": "markdown",
   "metadata": {},
   "source": []
  },
  {
   "cell_type": "code",
   "execution_count": 46,
   "metadata": {},
   "outputs": [
    {
     "name": "stdout",
     "output_type": "stream",
     "text": [
      "B6 has 4943 missing values. (7.7026%)\n"
     ]
    }
   ],
   "source": [
    "check_null(X_train_Q3)"
   ]
  },
  {
   "cell_type": "code",
   "execution_count": 127,
   "metadata": {},
   "outputs": [
    {
     "name": "stdout",
     "output_type": "stream",
     "text": [
      "B6 has 3928 missing values. (5.5824%)\n"
     ]
    }
   ],
   "source": [
    "check_null(X_train_Q4)"
   ]
  },
  {
   "attachments": {},
   "cell_type": "markdown",
   "metadata": {},
   "source": [
    "### Categorical data identify"
   ]
  },
  {
   "cell_type": "code",
   "execution_count": 69,
   "metadata": {},
   "outputs": [],
   "source": [
    "cat_Q3 = X_train_Q3.select_dtypes(include=['object', 'datetime'])\n",
    "cat_Q4 = X_train_Q4.select_dtypes(include=['object','datetime'])"
   ]
  },
  {
   "cell_type": "code",
   "execution_count": 70,
   "metadata": {},
   "outputs": [
    {
     "data": {
      "text/html": [
       "<div>\n",
       "<style scoped>\n",
       "    .dataframe tbody tr th:only-of-type {\n",
       "        vertical-align: middle;\n",
       "    }\n",
       "\n",
       "    .dataframe tbody tr th {\n",
       "        vertical-align: top;\n",
       "    }\n",
       "\n",
       "    .dataframe thead th {\n",
       "        text-align: right;\n",
       "    }\n",
       "</style>\n",
       "<table border=\"1\" class=\"dataframe\">\n",
       "  <thead>\n",
       "    <tr style=\"text-align: right;\">\n",
       "      <th></th>\n",
       "      <th>cust_no</th>\n",
       "      <th>B6</th>\n",
       "      <th>E1</th>\n",
       "      <th>E2</th>\n",
       "      <th>E3</th>\n",
       "      <th>E5</th>\n",
       "      <th>E6</th>\n",
       "      <th>E10</th>\n",
       "      <th>I3</th>\n",
       "      <th>I5</th>\n",
       "    </tr>\n",
       "  </thead>\n",
       "  <tbody>\n",
       "    <tr>\n",
       "      <th>0</th>\n",
       "      <td>0xb2d640a6</td>\n",
       "      <td>2019-09-12 04:09:00</td>\n",
       "      <td>2019-01-11</td>\n",
       "      <td>2019-01-11</td>\n",
       "      <td>2019-01-11</td>\n",
       "      <td>2019-08-08</td>\n",
       "      <td>2019-06-14</td>\n",
       "      <td>2019-06-13</td>\n",
       "      <td>黄金</td>\n",
       "      <td>不便分类的其他从业人员</td>\n",
       "    </tr>\n",
       "    <tr>\n",
       "      <th>1</th>\n",
       "      <td>0xb2d4dd44</td>\n",
       "      <td>2019-07-23 11:34:00</td>\n",
       "      <td>2018-06-20</td>\n",
       "      <td>2018-06-20</td>\n",
       "      <td>2018-06-20</td>\n",
       "      <td>2018-07-18</td>\n",
       "      <td>2018-08-01</td>\n",
       "      <td>2019-09-27</td>\n",
       "      <td>普通客户</td>\n",
       "      <td>办事人员和有关人员</td>\n",
       "    </tr>\n",
       "    <tr>\n",
       "      <th>2</th>\n",
       "      <td>0xb2d69fef</td>\n",
       "      <td>2019-08-18 23:54:00</td>\n",
       "      <td>2019-03-18</td>\n",
       "      <td>2019-03-18</td>\n",
       "      <td>2019-03-18</td>\n",
       "      <td>2019-09-30</td>\n",
       "      <td>2019-03-19</td>\n",
       "      <td>2019-09-29</td>\n",
       "      <td>黄金</td>\n",
       "      <td>不便分类的其他从业人员</td>\n",
       "    </tr>\n",
       "    <tr>\n",
       "      <th>3</th>\n",
       "      <td>0xb2d42c89</td>\n",
       "      <td>2019-09-26 18:24:00</td>\n",
       "      <td>2018-03-28</td>\n",
       "      <td>2018-03-28</td>\n",
       "      <td>2018-03-28</td>\n",
       "      <td>2018-03-28</td>\n",
       "      <td>2019-07-23</td>\n",
       "      <td>2018-05-14</td>\n",
       "      <td>普通客户</td>\n",
       "      <td>不便分类的其他从业人员</td>\n",
       "    </tr>\n",
       "    <tr>\n",
       "      <th>4</th>\n",
       "      <td>0xb2d6b622</td>\n",
       "      <td>2019-09-29 10:49:00</td>\n",
       "      <td>2019-04-02</td>\n",
       "      <td>2019-04-02</td>\n",
       "      <td>2019-04-02</td>\n",
       "      <td>2019-04-02</td>\n",
       "      <td>2019-05-21</td>\n",
       "      <td>2019-07-08</td>\n",
       "      <td>黄金</td>\n",
       "      <td>办事人员和有关人员</td>\n",
       "    </tr>\n",
       "  </tbody>\n",
       "</table>\n",
       "</div>"
      ],
      "text/plain": [
       "      cust_no                   B6         E1         E2         E3  \\\n",
       "0  0xb2d640a6  2019-09-12 04:09:00 2019-01-11 2019-01-11 2019-01-11   \n",
       "1  0xb2d4dd44  2019-07-23 11:34:00 2018-06-20 2018-06-20 2018-06-20   \n",
       "2  0xb2d69fef  2019-08-18 23:54:00 2019-03-18 2019-03-18 2019-03-18   \n",
       "3  0xb2d42c89  2019-09-26 18:24:00 2018-03-28 2018-03-28 2018-03-28   \n",
       "4  0xb2d6b622  2019-09-29 10:49:00 2019-04-02 2019-04-02 2019-04-02   \n",
       "\n",
       "          E5         E6        E10    I3           I5  \n",
       "0 2019-08-08 2019-06-14 2019-06-13    黄金  不便分类的其他从业人员  \n",
       "1 2018-07-18 2018-08-01 2019-09-27  普通客户    办事人员和有关人员  \n",
       "2 2019-09-30 2019-03-19 2019-09-29    黄金  不便分类的其他从业人员  \n",
       "3 2018-03-28 2019-07-23 2018-05-14  普通客户  不便分类的其他从业人员  \n",
       "4 2019-04-02 2019-05-21 2019-07-08    黄金    办事人员和有关人员  "
      ]
     },
     "execution_count": 70,
     "metadata": {},
     "output_type": "execute_result"
    }
   ],
   "source": [
    "cat_Q3.head()"
   ]
  },
  {
   "cell_type": "code",
   "execution_count": 68,
   "metadata": {},
   "outputs": [],
   "source": [
    "X_train_Q3['I1'].replace(['男性','女性','unknown'],[0,1,0.5], inplace=True)\n",
    "X_train_Q4['I1'].replace(['男性','女性','unknown'],[0,1,0.5], inplace =True)"
   ]
  },
  {
   "cell_type": "code",
   "execution_count": 71,
   "metadata": {},
   "outputs": [
    {
     "data": {
      "text/plain": [
       "array(['黄金', '普通客户', '白金', '钻石'], dtype=object)"
      ]
     },
     "execution_count": 71,
     "metadata": {},
     "output_type": "execute_result"
    }
   ],
   "source": [
    "cat_Q3['I3'].unique()"
   ]
  },
  {
   "cell_type": "code",
   "execution_count": 47,
   "metadata": {},
   "outputs": [],
   "source": [
    "X_train_Q3.to_csv(dir + \"/data/X_train_Q3.csv\")\n",
    "X_train_Q4.to_csv(dir + \"/data/X_train_Q4.csv\")"
   ]
  },
  {
   "cell_type": "code",
   "execution_count": null,
   "metadata": {},
   "outputs": [],
   "source": []
  }
 ],
 "metadata": {
  "kernelspec": {
   "display_name": "Python 3",
   "language": "python",
   "name": "python3"
  },
  "language_info": {
   "codemirror_mode": {
    "name": "ipython",
    "version": 3
   },
   "file_extension": ".py",
   "mimetype": "text/x-python",
   "name": "python",
   "nbconvert_exporter": "python",
   "pygments_lexer": "ipython3",
   "version": "3.10.9"
  },
  "orig_nbformat": 4,
  "vscode": {
   "interpreter": {
    "hash": "b0fa6594d8f4cbf19f97940f81e996739fb7646882a419484c72d19e05852a7e"
   }
  }
 },
 "nbformat": 4,
 "nbformat_minor": 2
}
