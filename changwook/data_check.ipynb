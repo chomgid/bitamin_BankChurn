{
 "cells": [
  {
   "cell_type": "code",
   "execution_count": 1,
   "metadata": {},
   "outputs": [],
   "source": [
    "import pandas as pd\n",
    "import os\n",
    "### 데이터를 불러오자\n",
    "dir = os.getcwd()\n",
    "x_train = pd.read_csv(dir + \"/data/preprocessed_data/x_train.csv\")\n",
    "x_test = pd.read_csv(dir + \"/data/preprocessed_data/x_test.csv\")\n",
    "x_valid = pd.read_csv(dir + \"/data/preprocessed_data/x_valid.csv\")\n",
    "y_train = pd.read_csv(dir + \"/data/preprocessed_data/y_train.csv\")\n",
    "y_test = pd.read_csv(dir + \"/data/preprocessed_data/y_test.csv\")\n",
    "y_valid = pd.read_csv(dir + \"/data/preprocessed_data/y_valid.csv\")"
   ]
  },
  {
   "cell_type": "code",
   "execution_count": 11,
   "metadata": {},
   "outputs": [],
   "source": [
    "import numpy as np"
   ]
  },
  {
   "cell_type": "code",
   "execution_count": 9,
   "metadata": {},
   "outputs": [
    {
     "data": {
      "text/plain": [
       "0"
      ]
     },
     "execution_count": 9,
     "metadata": {},
     "output_type": "execute_result"
    }
   ],
   "source": [
    "x_train[\"C1_m1\"].isnull().sum()\n",
    "x_train[\"C1_m2\"].isnull().sum()\n",
    "x_train[\"C1_m3\"].isnull().sum()\n"
   ]
  },
  {
   "cell_type": "code",
   "execution_count": 10,
   "metadata": {},
   "outputs": [
    {
     "data": {
      "text/plain": [
       "Index(['E1', 'E2', 'E3', 'E4', 'E5', 'E6', 'E10', 'E14', 'E15', 'E16', 'E17',\n",
       "       'E18', 'I1', 'I2', 'I3', 'I4', 'I6', 'I7', 'I11', 'I15', 'I16', 'I17',\n",
       "       'I18', 'I19', 'I20', 'X1_m1', 'X2_m1', 'X3_m1', 'X4_m1', 'X5_m1',\n",
       "       'X6_m1', 'X7_m1', 'X8_m1', 'B1_m1', 'B2_m1', 'B3_m1', 'B4_m1', 'B5_m1',\n",
       "       'C1_m1', 'C2_m1', 'X1_m2', 'X2_m2', 'X3_m2', 'X4_m2', 'X5_m2', 'X6_m2',\n",
       "       'X7_m2', 'X8_m2', 'B1_m2', 'B2_m2', 'B3_m2', 'B4_m2', 'B5_m2', 'C1_m2',\n",
       "       'C2_m2', 'X1_m3', 'X2_m3', 'X3_m3', 'X4_m3', 'X5_m3', 'X6_m3', 'X7_m3',\n",
       "       'X8_m3', 'B1_m3', 'B2_m3', 'B3_m3', 'B4_m3', 'B5_m3', 'B6_m3', 'B7_m3',\n",
       "       'C1_m3', 'C2_m3', '군인', '농축업', '무직', '사무원', '생산직', '서비스직', '은퇴', '전문직',\n",
       "       '정치인', '판매원', '프리랜서'],\n",
       "      dtype='object')"
      ]
     },
     "execution_count": 10,
     "metadata": {},
     "output_type": "execute_result"
    }
   ],
   "source": [
    "x_train.columns"
   ]
  },
  {
   "cell_type": "code",
   "execution_count": 20,
   "metadata": {},
   "outputs": [
    {
     "data": {
      "text/plain": [
       "32712961495.1"
      ]
     },
     "execution_count": 20,
     "metadata": {},
     "output_type": "execute_result"
    }
   ],
   "source": [
    "x_train[\"X1_m1\"].sum()+ x_train[\"X2_m1\"].sum()+ x_train[\"X3_m1\"].sum()+  x_train[\"X8_m1\"].sum()"
   ]
  },
  {
   "cell_type": "code",
   "execution_count": 16,
   "metadata": {},
   "outputs": [
    {
     "data": {
      "text/plain": [
       "32153077626.390003"
      ]
     },
     "execution_count": 16,
     "metadata": {},
     "output_type": "execute_result"
    }
   ],
   "source": [
    "x_train[\"C1_m1\"].sum()"
   ]
  },
  {
   "cell_type": "code",
   "execution_count": null,
   "metadata": {},
   "outputs": [],
   "source": []
  }
 ],
 "metadata": {
  "kernelspec": {
   "display_name": "Python 3",
   "language": "python",
   "name": "python3"
  },
  "language_info": {
   "codemirror_mode": {
    "name": "ipython",
    "version": 3
   },
   "file_extension": ".py",
   "mimetype": "text/x-python",
   "name": "python",
   "nbconvert_exporter": "python",
   "pygments_lexer": "ipython3",
   "version": "3.10.9"
  },
  "orig_nbformat": 4,
  "vscode": {
   "interpreter": {
    "hash": "b0fa6594d8f4cbf19f97940f81e996739fb7646882a419484c72d19e05852a7e"
   }
  }
 },
 "nbformat": 4,
 "nbformat_minor": 2
}
