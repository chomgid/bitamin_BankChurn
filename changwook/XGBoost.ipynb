{
 "cells": [
  {
   "cell_type": "code",
   "execution_count": 155,
   "metadata": {},
   "outputs": [],
   "source": [
    "import numpy as np\n",
    "import xgboost as xgb\n",
    "import pandas as pd\n",
    "from sklearn.metrics import accuracy_score\n",
    "from sklearn.model_selection import train_test_split\n",
    "from sklearn.metrics import mean_squared_error\n",
    "from sklearn.metrics import f1_score\n",
    "from xgboost import plot_importance\n",
    "\n",
    "\n",
    "%matplotlib inline"
   ]
  },
  {
   "cell_type": "code",
   "execution_count": 156,
   "metadata": {},
   "outputs": [],
   "source": [
    "import os"
   ]
  },
  {
   "attachments": {},
   "cell_type": "markdown",
   "metadata": {},
   "source": [
    "### 데이터를 불러오자"
   ]
  },
  {
   "cell_type": "code",
   "execution_count": 157,
   "metadata": {},
   "outputs": [],
   "source": [
    "dir = os.getcwd()\n",
    "x_train = pd.read_csv(dir + \"/data/preprocessed_data/x_train.csv\")\n",
    "x_test = pd.read_csv(dir + \"/data/preprocessed_data/x_test.csv\")\n",
    "x_valid = pd.read_csv(dir + \"/data/preprocessed_data/x_valid.csv\")\n",
    "y_train = pd.read_csv(dir + \"/data/preprocessed_data/y_train.csv\")\n",
    "y_test = pd.read_csv(dir + \"/data/preprocessed_data/y_test.csv\")\n",
    "y_valid = pd.read_csv(dir + \"/data/preprocessed_data/y_valid.csv\")"
   ]
  },
  {
   "cell_type": "code",
   "execution_count": 158,
   "metadata": {},
   "outputs": [],
   "source": [
    "y_train.replace(-1,0,inplace=True)\n",
    "y_test.replace(-1,0,inplace=True)\n",
    "y_valid.replace(-1,0,inplace=True)"
   ]
  },
  {
   "attachments": {},
   "cell_type": "markdown",
   "metadata": {},
   "source": [
    "### Model Train"
   ]
  },
  {
   "cell_type": "code",
   "execution_count": 159,
   "metadata": {},
   "outputs": [],
   "source": [
    "param = {'n_estimators': 20,\n",
    "    'learning_rate': 0.3}"
   ]
  },
  {
   "cell_type": "code",
   "execution_count": 160,
   "metadata": {},
   "outputs": [
    {
     "name": "stdout",
     "output_type": "stream",
     "text": [
      "Accuracy: 88.19%\n"
     ]
    }
   ],
   "source": [
    "model = xgb.XGBClassifier(**param)\n",
    "model.fit(x_train, y_train)\n",
    "valid_pred = model.predict(x_valid)\n",
    "accuracy = accuracy_score(y_valid, valid_pred)\n",
    "print(\"Accuracy: %.2f%%\" % (accuracy * 100.0))"
   ]
  },
  {
   "attachments": {},
   "cell_type": "markdown",
   "metadata": {},
   "source": [
    "### optuna 최적화"
   ]
  },
  {
   "cell_type": "code",
   "execution_count": 161,
   "metadata": {},
   "outputs": [],
   "source": [
    "param_bounds =  {'objective': 'logistic',\n",
    " 'learning_rate': (0.1, 0.3),\n",
    " 'n_estimators': (20, 100),\n",
    " 'max_depth': (3, 12),\n",
    " 'early_stopping_rounds': (30, 50)}\n",
    "\n"
   ]
  },
  {
   "attachments": {},
   "cell_type": "markdown",
   "metadata": {},
   "source": [
    "### Bayesian Optimization"
   ]
  },
  {
   "cell_type": "code",
   "execution_count": 165,
   "metadata": {},
   "outputs": [],
   "source": [
    "from bayes_opt import BayesianOptimization\n"
   ]
  },
  {
   "cell_type": "code",
   "execution_count": 179,
   "metadata": {},
   "outputs": [],
   "source": [
    "# 탐색 대상 함수 (XGBRegressor)\n",
    "def XGB_cv(max_depth,learning_rate, n_estimators, gamma\n",
    "            ,min_child_weight, subsample\n",
    "            ,colsample_bytree, silent=True, nthread=-1):\n",
    "\n",
    "    # 모델 정의\n",
    "    model = xgb.XGBClassifier(max_depth=int(max_depth),\n",
    "                            learning_rate=learning_rate,\n",
    "                            n_estimators=int(n_estimators),\n",
    "                            gamma=gamma,\n",
    "                            min_child_weight=min_child_weight,\n",
    "                            subsample=subsample,\n",
    "                            colsample_bytree=colsample_bytree, \n",
    "                            nthread=nthread\n",
    "                            )\n",
    "    # 모델 훈련\n",
    "    model.fit(x_train, y_train)\n",
    "\n",
    "    # 예측값 출력\n",
    "    y_pred= model.predict(x_valid)\n",
    "\n",
    "    return f1_score(y_valid, y_pred)\n",
    "\n"
   ]
  },
  {
   "cell_type": "code",
   "execution_count": 181,
   "metadata": {},
   "outputs": [
    {
     "name": "stdout",
     "output_type": "stream",
     "text": [
      "|   iter    |  target   | colsam... |   gamma   | learni... | max_depth | min_ch... | n_esti... | subsample |\n",
      "-------------------------------------------------------------------------------------------------------------\n",
      "| \u001b[0m1        \u001b[0m | \u001b[0m0.92     \u001b[0m | \u001b[0m0.5336   \u001b[0m | \u001b[0m72.03    \u001b[0m | \u001b[0m0.01003  \u001b[0m | \u001b[0m4.209    \u001b[0m | \u001b[0m0.4403   \u001b[0m | \u001b[0m27.39    \u001b[0m | \u001b[0m0.5931   \u001b[0m |\n",
      "| \u001b[95m2        \u001b[0m | \u001b[95m0.926    \u001b[0m | \u001b[95m0.4764   \u001b[0m | \u001b[95m39.68    \u001b[0m | \u001b[95m0.1663   \u001b[0m | \u001b[95m4.677    \u001b[0m | \u001b[95m2.056    \u001b[0m | \u001b[95m36.36    \u001b[0m | \u001b[95m0.9391   \u001b[0m |\n",
      "| \u001b[0m3        \u001b[0m | \u001b[0m0.9189   \u001b[0m | \u001b[0m0.2046   \u001b[0m | \u001b[0m40.19    \u001b[0m | \u001b[0m0.1041   \u001b[0m | \u001b[0m3.836    \u001b[0m | \u001b[0m2.294    \u001b[0m | \u001b[0m37.26    \u001b[0m | \u001b[0m0.6836   \u001b[0m |\n",
      "| \u001b[95m4        \u001b[0m | \u001b[95m0.9295   \u001b[0m | \u001b[95m0.8121   \u001b[0m | \u001b[95m10.95    \u001b[0m | \u001b[95m0.1614   \u001b[0m | \u001b[95m6.073    \u001b[0m | \u001b[95m2.061    \u001b[0m | \u001b[95m30.64    \u001b[0m | \u001b[95m0.601    \u001b[0m |\n",
      "| \u001b[0m5        \u001b[0m | \u001b[0m0.9253   \u001b[0m | \u001b[0m0.972    \u001b[0m | \u001b[0m6.63     \u001b[0m | \u001b[0m0.02515  \u001b[0m | \u001b[0m5.446    \u001b[0m | \u001b[0m1.737    \u001b[0m | \u001b[0m88.86    \u001b[0m | \u001b[0m0.7013   \u001b[0m |\n",
      "| \u001b[0m6        \u001b[0m | \u001b[0m0.9257   \u001b[0m | \u001b[0m0.4585   \u001b[0m | \u001b[0m71.28    \u001b[0m | \u001b[0m0.1492   \u001b[0m | \u001b[0m3.107    \u001b[0m | \u001b[0m2.048    \u001b[0m | \u001b[0m82.37    \u001b[0m | \u001b[0m0.987    \u001b[0m |\n",
      "| \u001b[0m7        \u001b[0m | \u001b[0m0.9287   \u001b[0m | \u001b[0m0.5531   \u001b[0m | \u001b[0m50.9     \u001b[0m | \u001b[0m0.1793   \u001b[0m | \u001b[0m6.358    \u001b[0m | \u001b[0m0.008091 \u001b[0m | \u001b[0m85.44    \u001b[0m | \u001b[0m0.5556   \u001b[0m |\n",
      "| \u001b[0m8        \u001b[0m | \u001b[0m0.9212   \u001b[0m | \u001b[0m0.7733   \u001b[0m | \u001b[0m65.16    \u001b[0m | \u001b[0m0.04032  \u001b[0m | \u001b[0m3.348    \u001b[0m | \u001b[0m1.966    \u001b[0m | \u001b[0m86.52    \u001b[0m | \u001b[0m0.6009   \u001b[0m |\n",
      "| \u001b[0m9        \u001b[0m | \u001b[0m0.9241   \u001b[0m | \u001b[0m0.9401   \u001b[0m | \u001b[0m83.82    \u001b[0m | \u001b[0m0.0122   \u001b[0m | \u001b[0m6.577    \u001b[0m | \u001b[0m0.0161   \u001b[0m | \u001b[0m60.7     \u001b[0m | \u001b[0m0.7222   \u001b[0m |\n",
      "| \u001b[0m10       \u001b[0m | \u001b[0m0.9254   \u001b[0m | \u001b[0m0.9855   \u001b[0m | \u001b[0m19.81    \u001b[0m | \u001b[0m0.2795   \u001b[0m | \u001b[0m4.661    \u001b[0m | \u001b[0m1.213    \u001b[0m | \u001b[0m21.29    \u001b[0m | \u001b[0m0.8903   \u001b[0m |\n",
      "| \u001b[0m11       \u001b[0m | \u001b[0m0.9289   \u001b[0m | \u001b[0m0.6376   \u001b[0m | \u001b[0m51.11    \u001b[0m | \u001b[0m0.1173   \u001b[0m | \u001b[0m5.999    \u001b[0m | \u001b[0m0.09196  \u001b[0m | \u001b[0m84.66    \u001b[0m | \u001b[0m0.8331   \u001b[0m |\n",
      "| \u001b[0m12       \u001b[0m | \u001b[0m0.9282   \u001b[0m | \u001b[0m0.5233   \u001b[0m | \u001b[0m51.12    \u001b[0m | \u001b[0m0.1094   \u001b[0m | \u001b[0m5.276    \u001b[0m | \u001b[0m0.1473   \u001b[0m | \u001b[0m85.43    \u001b[0m | \u001b[0m0.6202   \u001b[0m |\n",
      "=============================================================================================================\n"
     ]
    }
   ],
   "source": [
    "pbounds = {'max_depth': (3, 7),\n",
    "                'learning_rate': (0.01, 0.3),\n",
    "                'n_estimators': (20,100),\n",
    "                'gamma': (0, 100),\n",
    "                'min_child_weight': (0, 3),\n",
    "                'subsample': (0.5, 1),\n",
    "                'colsample_bytree' :(0.2, 1)\n",
    "                }\n",
    "\n",
    "bo=BayesianOptimization(f=XGB_cv, pbounds=pbounds, verbose=2, random_state=1 )    \n",
    "\n",
    "bo.maximize(init_points=2, n_iter=10)"
   ]
  },
  {
   "cell_type": "code",
   "execution_count": 186,
   "metadata": {},
   "outputs": [
    {
     "data": {
      "text/plain": [
       "0.9296174536760312"
      ]
     },
     "execution_count": 186,
     "metadata": {},
     "output_type": "execute_result"
    }
   ],
   "source": [
    "# model = xgb.XGBClassifier(max_depth = 6,learning_rate=0.1614, n_estimators = 30, gamma=10.95\n",
    "#             ,min_child_weight=2.061 , subsample=0.601 \n",
    "#             ,colsample_bytree=0.8121)\n",
    "# model.fit(x_train, y_train)\n",
    "# print(accuracy_score(y_train, model.predict(x_train)))\n",
    "# print(accuracy_score(y_valid, model.predict(x_valid)))\n",
    "# print(f1_score(y_train, model.predict(x_train)))\n",
    "f1_score(y_valid, model.predict(x_valid))"
   ]
  },
  {
   "cell_type": "code",
   "execution_count": null,
   "metadata": {},
   "outputs": [],
   "source": []
  }
 ],
 "metadata": {
  "kernelspec": {
   "display_name": "Python 3",
   "language": "python",
   "name": "python3"
  },
  "language_info": {
   "codemirror_mode": {
    "name": "ipython",
    "version": 3
   },
   "file_extension": ".py",
   "mimetype": "text/x-python",
   "name": "python",
   "nbconvert_exporter": "python",
   "pygments_lexer": "ipython3",
   "version": "3.10.9"
  },
  "orig_nbformat": 4,
  "vscode": {
   "interpreter": {
    "hash": "b0fa6594d8f4cbf19f97940f81e996739fb7646882a419484c72d19e05852a7e"
   }
  }
 },
 "nbformat": 4,
 "nbformat_minor": 2
}
