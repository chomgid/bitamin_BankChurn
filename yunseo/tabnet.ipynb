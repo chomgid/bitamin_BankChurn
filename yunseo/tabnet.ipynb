{
 "cells": [
  {
   "attachments": {},
   "cell_type": "markdown",
   "metadata": {},
   "source": [
    "### Tabnet"
   ]
  },
  {
   "cell_type": "code",
   "execution_count": 1,
   "metadata": {},
   "outputs": [],
   "source": [
    "# 패키지 불러오기\n",
    "import pandas as pd\n",
    "import numpy as np\n",
    "import time\n",
    "from pytorch_tabnet.tab_model import TabNetClassifier\n",
    "from sklearn.metrics import accuracy_score\n",
    "from sklearn.metrics import f1_score\n",
    "import torch\n",
    "\n",
    "import optuna\n",
    "from optuna import Trial, visualization\n",
    "from optuna.samplers import TPESampler"
   ]
  },
  {
   "cell_type": "code",
   "execution_count": 2,
   "metadata": {},
   "outputs": [],
   "source": [
    "# 데이터 불러오기\n",
    "x_train = pd.read_csv('../data/fill_data/x_train.csv')\n",
    "x_valid = pd.read_csv('../data/fill_data/x_valid.csv')\n",
    "y_train = pd.read_csv('../data/fill_data/y_train.csv')\n",
    "y_valid = pd.read_csv('../data/fill_data/y_valid.csv')"
   ]
  },
  {
   "cell_type": "code",
   "execution_count": 3,
   "metadata": {},
   "outputs": [],
   "source": [
    "x_train = x_train.values\n",
    "x_valid = x_valid.values\n",
    "y_train = y_train.values\n",
    "y_valid = y_valid.values"
   ]
  },
  {
   "cell_type": "code",
   "execution_count": 4,
   "metadata": {},
   "outputs": [],
   "source": [
    "y_train = np.array(y_train).ravel()\n",
    "y_valid = np.array(y_valid).ravel()"
   ]
  },
  {
   "attachments": {},
   "cell_type": "markdown",
   "metadata": {},
   "source": [
    "modeling"
   ]
  },
  {
   "cell_type": "code",
   "execution_count": 5,
   "metadata": {},
   "outputs": [
    {
     "name": "stdout",
     "output_type": "stream",
     "text": [
      "\n",
      "Early stopping occurred at epoch 42 with best_epoch = 13 and best_valid_accuracy = 0.82365\n"
     ]
    },
    {
     "name": "stderr",
     "output_type": "stream",
     "text": [
      "/Users/yschoi/bitamin/ChurnProject/venv/lib/python3.7/site-packages/pytorch_tabnet/callbacks.py:172: UserWarning: Best weights from best epoch are automatically used!\n",
      "  warnings.warn(wrn_msg)\n"
     ]
    },
    {
     "name": "stdout",
     "output_type": "stream",
     "text": [
      "걸린 시간 : 775.2704820632935\n"
     ]
    }
   ],
   "source": [
    "start_time = time.time()\n",
    "clf = TabNetClassifier(\n",
    "    n_d=56, \n",
    "    n_steps=3, gamma=1.4,\n",
    "    lambda_sparse=1.1694994589239397e-05, \n",
    "    optimizer_fn=torch.optim.Adam,\n",
    "    optimizer_params=dict(lr=2e-2, weight_decay=1e-5),\n",
    "    mask_type='sparsemax',\n",
    "    n_shared=2,\n",
    "    scheduler_params=dict(mode=\"min\",\n",
    "        patience = 3, # changing sheduler patience to be lower than early stopping patience\n",
    "        min_lr=1e-5,factor=0.5,),\n",
    "    scheduler_fn=torch.optim.lr_scheduler.ReduceLROnPlateau,\n",
    "    verbose=0)\n",
    "clf.fit(x_train, y_train,\n",
    "    eval_set=[(x_train, y_train),(x_valid, y_valid)],\n",
    "    eval_name=['train', 'valid'],\n",
    "    eval_metric=['accuracy'],\n",
    "    drop_last = False,\n",
    "    patience = 29, max_epochs = 80\n",
    ")\n",
    "end_time = time.time()\n",
    "print('걸린 시간 :', end_time - start_time)\n",
    "\n",
    "## 기본값: 0.81477"
   ]
  },
  {
   "cell_type": "code",
   "execution_count": 7,
   "metadata": {},
   "outputs": [
    {
     "name": "stdout",
     "output_type": "stream",
     "text": [
      "Accuracy:  0.8240567988140021\n",
      "f1_score:  0.9012676853423883\n",
      "Accuracy:  0.8236545682102628\n",
      "f1_score:  0.9008514530997115\n"
     ]
    }
   ],
   "source": [
    "# prediction and evaluation\n",
    "# train data\n",
    "train_pred_y = clf.predict(x_train)\n",
    "print('Accuracy: ', (accuracy_score(y_train, train_pred_y)))\n",
    "print('f1_score: ', f1_score(y_train, train_pred_y))\n",
    "\n",
    "# valid data\n",
    "valid_pred_y = clf.predict(x_valid)\n",
    "print('Accuracy: ', (accuracy_score(y_valid, valid_pred_y)))\n",
    "print('f1_score: ', f1_score(y_valid, valid_pred_y))"
   ]
  },
  {
   "attachments": {},
   "cell_type": "markdown",
   "metadata": {},
   "source": [
    "하이퍼파라미터 튜닝"
   ]
  },
  {
   "cell_type": "code",
   "execution_count": 8,
   "metadata": {},
   "outputs": [],
   "source": [
    "def Objective(trial : Trial, x_train, y_train, x_valid, y_valid):\n",
    "    mask_type = trial.suggest_categorical(\"mask_type\", [\"entmax\", \"sparsemax\"])\n",
    "    n_da = trial.suggest_int(\"n_da\", 56, 64, step=4)\n",
    "    n_steps = trial.suggest_int(\"n_steps\", 1, 3, step=1)\n",
    "    gamma = trial.suggest_float(\"gamma\", 1., 1.4, step=0.2)\n",
    "    n_shared = trial.suggest_int(\"n_shared\", 1, 3)\n",
    "    lambda_sparse = trial.suggest_float(\"lambda_sparse\", 1e-6, 1e-3, log=True)\n",
    "    tabnet_params = dict(n_d=n_da, n_a=n_da, n_steps=n_steps, gamma=gamma,\n",
    "        lambda_sparse=lambda_sparse, optimizer_fn=torch.optim.Adam,\n",
    "        optimizer_params=dict(lr=2e-2, weight_decay=1e-5),\n",
    "        mask_type=mask_type, n_shared=n_shared,\n",
    "        scheduler_params=dict(mode=\"min\",\n",
    "        patience=trial.suggest_int(\"patienceScheduler\",low=3,high=10), # changing sheduler patience to be lower than early stopping patience\n",
    "        min_lr=1e-5,factor=0.5,),\n",
    "        scheduler_fn=torch.optim.lr_scheduler.ReduceLROnPlateau,\n",
    "        verbose=0,\n",
    "        ) #early stopping\n",
    "    \n",
    "    clf = TabNetClassifier(**tabnet_params)\n",
    "    clf.fit(x_train, y_train, eval_set=[(x_train, y_train), (x_valid, y_valid)],\n",
    "        patience=trial.suggest_int(\"patience\",low=15,high=30), max_epochs=trial.suggest_int('epochs', 1, 100),\n",
    "        eval_metric=['accuracy'])\n",
    "\n",
    "    score = f1_score(clf.predict(x_valid), y_valid)\n",
    "    \n",
    "    return score \n"
   ]
  },
  {
   "cell_type": "code",
   "execution_count": null,
   "metadata": {
    "pycharm": {
     "is_executing": true
    }
   },
   "outputs": [
    {
     "name": "stderr",
     "output_type": "stream",
     "text": [
      "\u001B[32m[I 2023-01-31 22:39:37,221]\u001B[0m A new study created in memory with name: TabNet optimization\u001B[0m\n"
     ]
    }
   ],
   "source": [
    "study = optuna.create_study(direction=\"maximize\", sampler = TPESampler(), study_name='TabNet optimization')\n",
    "study.optimize(lambda trial : Objective(trial, x_train, y_train, x_valid, y_valid), n_trials = 10)\n",
    "print('Best trial : score {}, \\nparams {}'.format(study.best_trial.value, study.best_trial.params))"
   ]
  },
  {
   "cell_type": "code",
   "execution_count": null,
   "metadata": {},
   "outputs": [],
   "source": []
  }
 ],
 "metadata": {
  "kernelspec": {
   "display_name": "Python 3",
   "language": "python",
   "name": "python3"
  },
  "language_info": {
   "codemirror_mode": {
    "name": "ipython",
    "version": 3
   },
   "file_extension": ".py",
   "mimetype": "text/x-python",
   "name": "python",
   "nbconvert_exporter": "python",
   "pygments_lexer": "ipython3",
   "version": "3.9.1"
  },
  "orig_nbformat": 4,
  "vscode": {
   "interpreter": {
    "hash": "10bf58d2cb1d6fe77a6d789fab1958d6f68caa67042b20c480a5cc6dc8179d5f"
   }
  }
 },
 "nbformat": 4,
 "nbformat_minor": 2
}
