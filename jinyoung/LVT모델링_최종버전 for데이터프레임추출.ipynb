{
 "cells": [
  {
   "cell_type": "code",
   "execution_count": 1,
   "metadata": {
    "collapsed": false
   },
   "outputs": [],
   "source": [
    "# import required library\n",
    "import pandas as pd\n",
    "import numpy as np\n",
    "import warnings\n",
    "warnings.simplefilter(action='ignore', category=FutureWarning)  \n",
    "\n",
    "pd.set_option('display.max_columns', None) \n",
    "pd.set_option('display.max_rows', None)  "
   ]
  },
  {
   "attachments": {},
   "cell_type": "markdown",
   "metadata": {},
   "source": [
    "## 1. 전처리 "
   ]
  },
  {
   "cell_type": "markdown",
   "metadata": {
    "collapsed": false
   },
   "source": [
    "### **데이터 불러오기**"
   ]
  },
  {
   "cell_type": "code",
   "execution_count": 2,
   "metadata": {
    "collapsed": false
   },
   "outputs": [
    {
     "name": "stderr",
     "output_type": "stream",
     "text": [
      "/Users/yschoi/bitamin/ChurnProject/venv/lib/python3.7/site-packages/IPython/core/interactiveshell.py:3553: DtypeWarning: Columns (9) have mixed types.Specify dtype option on import or set low_memory=False.\n",
      "  exec(code_obj, self.user_global_ns, self.user_ns)\n"
     ]
    }
   ],
   "source": [
    "# read data\n",
    "aum_m7 = pd.read_csv('../data/rawdata/aum_train/aum_m7.csv')\n",
    "aum_m8 = pd.read_csv('../data/rawdata/aum_train/aum_m8.csv')\n",
    "aum_m9 = pd.read_csv('../data/rawdata/aum_train/aum_m9.csv')\n",
    "aum_m10 = pd.read_csv('../data/rawdata/aum_train/aum_m10.csv')\n",
    "aum_m11 = pd.read_csv('../data/rawdata/aum_train/aum_m11.csv')\n",
    "aum_m12 = pd.read_csv('../data/rawdata/aum_train/aum_m12.csv')\n",
    "\n",
    "behavior_m7 = pd.read_csv('../data/rawdata/behavior_train/behavior_m7.csv')\n",
    "behavior_m8 = pd.read_csv('../data/rawdata/behavior_train/behavior_m8.csv')\n",
    "behavior_m9 = pd.read_csv('../data/rawdata/behavior_train/behavior_m9.csv')\n",
    "behavior_m10 = pd.read_csv('../data/rawdata/behavior_train/behavior_m10.csv')\n",
    "behavior_m11 = pd.read_csv('../data/rawdata/behavior_train/behavior_m11.csv')\n",
    "behavior_m12 = pd.read_csv('../data/rawdata/behavior_train/behavior_m12.csv')\n",
    "\n",
    "big_event_Q3 = pd.read_csv('../data/rawdata/big_event_train/big_event_Q3.csv')\n",
    "big_event_Q4 = pd.read_csv('../data/rawdata/big_event_train/big_event_Q4.csv')\n",
    "\n",
    "cunkuan_m7 = pd.read_csv('../data/rawdata/cunkuan_train/cunkuan_m7.csv')\n",
    "cunkuan_m8 = pd.read_csv('../data/rawdata/cunkuan_train/cunkuan_m8.csv')\n",
    "cunkuan_m9 = pd.read_csv('../data/rawdata/cunkuan_train/cunkuan_m9.csv')\n",
    "cunkuan_m10 = pd.read_csv('../data/rawdata/cunkuan_train/cunkuan_m10.csv')\n",
    "cunkuan_m11 = pd.read_csv('../data/rawdata/cunkuan_train/cunkuan_m11.csv')\n",
    "cunkuan_m12 = pd.read_csv('../data/rawdata/cunkuan_train/cunkuan_m12.csv')\n",
    "\n",
    "cust_info_q3 = pd.read_csv('../data/rawdata/cust_info_train/cust_info_q3.csv')\n",
    "cust_info_q4 = pd.read_csv('../data/rawdata/cust_info_train/cust_info_q4.csv')\n",
    "\n",
    "y_Q3_3 = pd.read_csv('../data/rawdata/train_label/y_Q3_3.csv')\n",
    "y_Q4_3 = pd.read_csv('../data/rawdata/train_label/y_Q4_3.csv')\n"
   ]
  },
  {
   "cell_type": "markdown",
   "metadata": {
    "collapsed": false
   },
   "source": []
  },
  {
   "cell_type": "code",
   "execution_count": 3,
   "metadata": {
    "collapsed": false
   },
   "outputs": [
    {
     "name": "stdout",
     "output_type": "stream",
     "text": [
      "aum_m7 shape:  (465441, 9)\n",
      "aum_m8 shape:  (479063, 9)\n",
      "aum_m9 shape:  (493441, 9)\n",
      "aum_m10 shape:  (506513, 9)\n",
      "aum_m11 shape:  (521566, 9)\n",
      "aum_m12 shape:  (543823, 9)\n",
      "behavior_m7 shape:  (465441, 6)\n",
      "behavior_m8 shape:  (479063, 6)\n",
      "behavior_m9 shape:  (493441, 8)\n",
      "behavior_m10 shape:  (506513, 6)\n",
      "behavior_m11 shape:  (521566, 6)\n",
      "behavior_m12 shape:  (543823, 8)\n",
      "big_event_Q3 shape:  (493441, 19)\n",
      "big_event_Q4 shape:  (543823, 19)\n",
      "cunkuan_m7 shape:  (181220, 3)\n",
      "cunkuan_m8 shape:  (190278, 3)\n",
      "cunkuan_m9 shape:  (200711, 3)\n",
      "cunkuan_m10 shape:  (209862, 3)\n",
      "cunkuan_m11 shape:  (219928, 3)\n",
      "cunkuan_m12 shape:  (237042, 3)\n",
      "cust_info_q3 shape:  (493441, 21)\n",
      "cust_info_q4 shape:  (543823, 21)\n",
      "y_Q3_3 shape:  (69126, 2)\n",
      "y_Q4_3 shape:  (76170, 2)\n"
     ]
    }
   ],
   "source": [
    "# print data shape\n",
    "print(\"aum_m7 shape: \", aum_m7.shape)\n",
    "print(\"aum_m8 shape: \", aum_m8.shape)\n",
    "print(\"aum_m9 shape: \", aum_m9.shape)\n",
    "print(\"aum_m10 shape: \", aum_m10.shape)\n",
    "print(\"aum_m11 shape: \", aum_m11.shape)\n",
    "print(\"aum_m12 shape: \", aum_m12.shape)\n",
    "\n",
    "print(\"behavior_m7 shape: \", behavior_m7.shape)\n",
    "print(\"behavior_m8 shape: \", behavior_m8.shape)\n",
    "print(\"behavior_m9 shape: \", behavior_m9.shape)\n",
    "print(\"behavior_m10 shape: \", behavior_m10.shape)\n",
    "print(\"behavior_m11 shape: \", behavior_m11.shape)\n",
    "print(\"behavior_m12 shape: \", behavior_m12.shape)\n",
    "\n",
    "print(\"big_event_Q3 shape: \", big_event_Q3.shape)\n",
    "print(\"big_event_Q4 shape: \", big_event_Q4.shape)\n",
    "\n",
    "print(\"cunkuan_m7 shape: \", cunkuan_m7.shape)\n",
    "print(\"cunkuan_m8 shape: \", cunkuan_m8.shape)\n",
    "print(\"cunkuan_m9 shape: \", cunkuan_m9.shape)\n",
    "print(\"cunkuan_m10 shape: \", cunkuan_m10.shape)\n",
    "print(\"cunkuan_m11 shape: \", cunkuan_m11.shape)\n",
    "print(\"cunkuan_m12 shape: \", cunkuan_m12.shape)\n",
    "\n",
    "print(\"cust_info_q3 shape: \", cust_info_q3.shape)\n",
    "print(\"cust_info_q4 shape: \", cust_info_q4.shape)\n",
    "\n",
    "print(\"y_Q3_3 shape: \", y_Q3_3.shape)\n",
    "print(\"y_Q4_3 shape: \", y_Q4_3.shape)"
   ]
  },
  {
   "cell_type": "markdown",
   "metadata": {
    "collapsed": false
   },
   "source": [
    "### **테이블 병합하기**\n",
    "\n",
    "- 모든 테이블에서 label이 있는 데이터만 남기고 행 삭제. 즉, y_Q3_3, y_Q4_3에 존재하는 'cust_no'에 해당하지 않는 데이터 행 삭제"
   ]
  },
  {
   "cell_type": "code",
   "execution_count": 4,
   "metadata": {
    "collapsed": false
   },
   "outputs": [],
   "source": [
    "# y label merge and get cust_no in y_train\n",
    "y_Q3_3.rename(columns={'cust_no':'cust_no', 'label':'label_Q3'}, inplace=True)\n",
    "y_Q4_3.rename(columns={'cust_no':'cust_no', 'label':'label_Q4'}, inplace=True)\n",
    "y_train = pd.merge(y_Q3_3, y_Q4_3, on='cust_no', how='outer')\n",
    "y_train_idx = y_train.cust_no"
   ]
  },
  {
   "cell_type": "code",
   "execution_count": 5,
   "metadata": {
    "collapsed": false
   },
   "outputs": [],
   "source": [
    "# remove row data that not in y_train_idx\n",
    "\n",
    "# aum table\n",
    "aum_m7 = aum_m7[aum_m7.cust_no.isin(y_train_idx)]\n",
    "aum_m8 = aum_m8[aum_m8.cust_no.isin(y_train_idx)]\n",
    "aum_m9 = aum_m9[aum_m9.cust_no.isin(y_train_idx)]\n",
    "aum_m10 = aum_m10[aum_m10.cust_no.isin(y_train_idx)]\n",
    "aum_m11 = aum_m11[aum_m11.cust_no.isin(y_train_idx)]\n",
    "aum_m12 = aum_m12[aum_m12.cust_no.isin(y_train_idx)]\n",
    "\n",
    "# behavior table\n",
    "behavior_m7 = behavior_m7[behavior_m7.cust_no.isin(y_train_idx)]\n",
    "behavior_m8 = behavior_m8[behavior_m8.cust_no.isin(y_train_idx)]\n",
    "behavior_m9 = behavior_m9[behavior_m9.cust_no.isin(y_train_idx)]\n",
    "behavior_m10 = behavior_m10[behavior_m10.cust_no.isin(y_train_idx)]\n",
    "behavior_m11 = behavior_m11[behavior_m11.cust_no.isin(y_train_idx)]\n",
    "behavior_m12 = behavior_m12[behavior_m12.cust_no.isin(y_train_idx)]\n",
    "\n",
    "# big_event table\n",
    "big_event_Q3 = big_event_Q3[big_event_Q3.cust_no.isin(y_train_idx)]\n",
    "big_event_Q4 = big_event_Q4[big_event_Q4.cust_no.isin(y_train_idx)]\n",
    "\n",
    "# cunkuan table\n",
    "cunkuan_m7 = cunkuan_m7[cunkuan_m7.cust_no.isin(y_train_idx)]\n",
    "cunkuan_m8 = cunkuan_m8[cunkuan_m8.cust_no.isin(y_train_idx)]\n",
    "cunkuan_m9 = cunkuan_m9[cunkuan_m9.cust_no.isin(y_train_idx)]\n",
    "cunkuan_m10 = cunkuan_m10[cunkuan_m10.cust_no.isin(y_train_idx)]\n",
    "cunkuan_m11 = cunkuan_m11[cunkuan_m11.cust_no.isin(y_train_idx)]\n",
    "cunkuan_m12 = cunkuan_m12[cunkuan_m12.cust_no.isin(y_train_idx)]\n",
    "\n",
    "# cust_info table\n",
    "cust_info_q3 = cust_info_q3[cust_info_q3.cust_no.isin(y_train_idx)]\n",
    "cust_info_q4 = cust_info_q4[cust_info_q4.cust_no.isin(y_train_idx)]\n"
   ]
  },
  {
   "cell_type": "code",
   "execution_count": 6,
   "metadata": {
    "collapsed": false
   },
   "outputs": [],
   "source": [
    "# rename for merge\n",
    "aum_m7 = aum_m7.rename(columns={'X1':'X1_m7', 'X2':'X2_m7', 'X3':'X3_m7', 'X4':'X4_m7', 'X5':'X5_m7', 'X6':'X6_m7', 'X7':'X7_m7', 'X8':'X8_m7'})\n",
    "aum_m8 = aum_m8.rename(columns={'X1':'X1_m8', 'X2':'X2_m8', 'X3':'X3_m8', 'X4':'X4_m8', 'X5':'X5_m8', 'X6':'X6_m8', 'X7':'X7_m8', 'X8':'X8_m8'})\n",
    "aum_m9 = aum_m9.rename(columns={'X1':'X1_m9', 'X2':'X2_m9', 'X3':'X3_m9', 'X4':'X4_m9', 'X5':'X5_m9', 'X6':'X6_m9', 'X7':'X7_m9', 'X8':'X8_m9'})\n",
    "aum_m10 = aum_m10.rename(columns={'X1':'X1_m10', 'X2':'X2_m10', 'X3':'X3_m10', 'X4':'X4_m10', 'X5':'X5_m10', 'X6':'X6_m10', 'X7':'X7_m10', 'X8':'X8_m10'})\n",
    "aum_m11 = aum_m11.rename(columns={'X1':'X1_m11', 'X2':'X2_m11', 'X3':'X3_m11', 'X4':'X4_m11', 'X5':'X5_m11', 'X6':'X6_m11', 'X7':'X7_m11', 'X8':'X8_m11'})\n",
    "aum_m12 = aum_m12.rename(columns={'X1':'X1_m12', 'X2':'X2_m12', 'X3':'X3_m12', 'X4':'X4_m12', 'X5':'X5_m12', 'X6':'X6_m12', 'X7':'X7_m12', 'X8':'X8_m12'})\n",
    "\n",
    "behavior_m7 = behavior_m7.rename(columns={'B1':'B1_m7', 'B2':'B2_m7', 'B3':'B3_m7', 'B4':'B4_m7', 'B5':'B5_m7'})\n",
    "behavior_m8 = behavior_m8.rename(columns={'B1':'B1_m8', 'B2':'B2_m8', 'B3':'B3_m8', 'B4':'B4_m8', 'B5':'B5_m8'})\n",
    "behavior_m9 = behavior_m9.rename(columns={'B1':'B1_m9', 'B2':'B2_m9', 'B3':'B3_m9', 'B4':'B4_m9', 'B5':'B5_m9', 'B6':'B6_m9', 'B7':'B7_m9'})\n",
    "behavior_m10 = behavior_m10.rename(columns={'B1':'B1_m10', 'B2':'B2_m10', 'B3':'B3_m10', 'B4':'B4_m10', 'B5':'B5_m10'})\n",
    "behavior_m11 = behavior_m11.rename(columns={'B1':'B1_m11', 'B2':'B2_m11', 'B3':'B3_m11', 'B4':'B4_m11', 'B5':'B5_m11'})\n",
    "behavior_m12 = behavior_m12.rename(columns={'B1':'B1_m12', 'B2':'B2_m12', 'B3':'B3_m12', 'B4':'B4_m12', 'B5':'B5_m12', 'B6':'B6_m12', 'B7':'B7_m12'})\n",
    "\n",
    "cunkuan_m7 = cunkuan_m7.rename(columns = {'C1':'C1_m7', 'C2':'C2_m7'})\n",
    "cunkuan_m8 = cunkuan_m8.rename(columns = {'C1':'C1_m8', 'C2':'C2_m8'})\n",
    "cunkuan_m9 = cunkuan_m9.rename(columns = {'C1':'C1_m9', 'C2':'C2_m9'})\n",
    "cunkuan_m10 = cunkuan_m10.rename(columns = {'C1':'C1_m10', 'C2':'C2_m10'})\n",
    "cunkuan_m11 = cunkuan_m11.rename(columns = {'C1':'C1_m11', 'C2':'C2_m11'})\n",
    "cunkuan_m12 = cunkuan_m12.rename(columns = {'C1':'C1_m12', 'C2':'C2_m12'})\n",
    "\n",
    "\n",
    "big_event_Q3 = big_event_Q3.rename(columns = {'E1':'E1_Q3', 'E2':'E2_Q3', 'E3':'E3_Q3', 'E4':'E4_Q3',\n",
    "                                              'E5':'E5_Q3', 'E6':'E6_Q3', 'E7':'E7_Q3', 'E8':'E8_Q3',\n",
    "                                              'E9':'E9_Q3', 'E10':'E10_Q3', 'E11':'E11_Q3', 'E12':'E12_Q3',\n",
    "                                              'E13':'E13_Q3', 'E14':'E14_Q3', 'E15':'E15_Q3', 'E16':'E16_Q3',\n",
    "                                              'E17':'E17_Q3', 'E18':'E18_Q3'})\n",
    "big_event_Q4 = big_event_Q4.rename(columns = {'E1':'E1_Q4', 'E2':'E2_Q4', 'E3':'E3_Q4', 'E4':'E4_Q4',\n",
    "                                                'E5':'E5_Q4', 'E6':'E6_Q4', 'E7':'E7_Q4', 'E8':'E8_Q4',\n",
    "                                                'E9':'E9_Q4', 'E10':'E10_Q4', 'E11':'E11_Q4', 'E12':'E12_Q4',\n",
    "                                                'E13':'E13_Q4', 'E14':'E14_Q4', 'E15':'E15_Q4', 'E16':'E16_Q4',\n",
    "                                                'E17':'E17_Q4', 'E18':'E18_Q4'})\n",
    "\n",
    "cust_info_q3 = cust_info_q3.rename(columns = {'I1':'I1_Q3', 'I2':'I2_Q3', 'I3':'I3_Q3', 'I4':'I4_Q3',\n",
    "                                    'I5':'I5_Q3', 'I6':'I6_Q3', 'I7':'I7_Q3', 'I8':'I8_Q3',\n",
    "                                    'I9':'I9_Q3', 'I10':'I10_Q3', 'I11':'I11_Q3', 'I12':'I12_Q3',\n",
    "                                    'I13':'I13_Q3', 'I14':'I14_Q3', 'I15':'I15_Q3', 'I16':'I16_Q3',\n",
    "                                    'I17':'I17_Q3', 'I18':'I18_Q3', 'I19':'I19_Q3', 'I20':'I20_Q3'})\n",
    "cust_info_q4 = cust_info_q4.rename(columns = {'I1':'I1_Q4', 'I2':'I2_Q4', 'I3':'I3_Q4', 'I4':'I4_Q4',\n",
    "                                    'I5':'I5_Q4', 'I6':'I6_Q4', 'I7':'I7_Q4', 'I8':'I8_Q4',\n",
    "                                    'I9':'I9_Q4', 'I10':'I10_Q4', 'I11':'I11_Q4', 'I12':'I12_Q4',\n",
    "                                    'I13':'I13_Q4', 'I14':'I14_Q4', 'I15':'I15_Q4', 'I16':'I16_Q4',\n",
    "                                    'I17':'I17_Q4', 'I18':'I18_Q4', 'I19':'I19_Q4', 'I20':'I20_Q4'})\n"
   ]
  },
  {
   "cell_type": "code",
   "execution_count": 7,
   "metadata": {
    "collapsed": false
   },
   "outputs": [],
   "source": [
    "# merge table\n",
    "\n",
    "# aum\n",
    "aum_m = pd.merge(aum_m7, aum_m8, on='cust_no', how='outer')\n",
    "aum_m = pd.merge(aum_m, aum_m9, on='cust_no', how='outer')\n",
    "aum_m = pd.merge(aum_m, aum_m10, on='cust_no', how='outer')\n",
    "aum_m = pd.merge(aum_m, aum_m11, on='cust_no', how='outer')\n",
    "aum_m = pd.merge(aum_m, aum_m12, on='cust_no', how='outer')\n",
    "\n",
    "del aum_m7, aum_m8, aum_m9, aum_m10, aum_m11, aum_m12\n",
    "\n",
    "\n",
    "# behavior\n",
    "behavior_m = pd.merge(behavior_m7, behavior_m8, on='cust_no', how='outer')\n",
    "behavior_m = pd.merge(behavior_m, behavior_m9, on='cust_no', how='outer')\n",
    "behavior_m = pd.merge(behavior_m, behavior_m10, on='cust_no', how='outer')\n",
    "behavior_m = pd.merge(behavior_m, behavior_m11, on='cust_no', how='outer')\n",
    "behavior_m = pd.merge(behavior_m, behavior_m12, on='cust_no', how='outer')\n",
    "\n",
    "del behavior_m7, behavior_m8, behavior_m9, behavior_m10, behavior_m11, behavior_m12\n",
    "\n",
    "# cunkuan\n",
    "cunkuan_m = pd.merge(cunkuan_m7, cunkuan_m8, on='cust_no', how='outer')\n",
    "cunkuan_m = pd.merge(cunkuan_m, cunkuan_m9, on='cust_no', how='outer')\n",
    "cunkuan_m = pd.merge(cunkuan_m, cunkuan_m10, on='cust_no', how='outer')\n",
    "cunkuan_m = pd.merge(cunkuan_m, cunkuan_m11, on='cust_no', how='outer')\n",
    "cunkuan_m = pd.merge(cunkuan_m, cunkuan_m12, on='cust_no', how='outer')\n",
    "\n",
    "del cunkuan_m7, cunkuan_m8, cunkuan_m9, cunkuan_m10, cunkuan_m11, cunkuan_m12\n",
    "\n",
    "\n",
    "# big_event\n",
    "big_event_Q = pd.merge(big_event_Q3, big_event_Q4, on='cust_no', how='outer')\n",
    "\n",
    "del big_event_Q3, big_event_Q4\n",
    "\n",
    "\n",
    "# cust_info\n",
    "cust_info_q = pd.merge(cust_info_q3, cust_info_q4, on='cust_no', how='outer')\n",
    "\n",
    "del cust_info_q3, cust_info_q4"
   ]
  },
  {
   "cell_type": "code",
   "execution_count": 8,
   "metadata": {
    "collapsed": false
   },
   "outputs": [
    {
     "name": "stdout",
     "output_type": "stream",
     "text": [
      "(82899, 49)\n",
      "(82899, 35)\n",
      "(82896, 13)\n",
      "(82899, 37)\n",
      "(82899, 41)\n"
     ]
    }
   ],
   "source": [
    "# check table shape\n",
    "print(aum_m.shape)       # 82899\n",
    "print(behavior_m.shape)  # 82899\n",
    "print(cunkuan_m.shape)   # 82896\n",
    "print(big_event_Q.shape) # 82899\n",
    "print(cust_info_q.shape) # 82899"
   ]
  },
  {
   "cell_type": "markdown",
   "metadata": {
    "collapsed": false
   },
   "source": [
    "#### **aum table**\n",
    "\n",
    "**변수 설명**\n",
    "- X1 : structured deposit balance(구조화 예금 잔액)\n",
    "    - 금리, 환률, 지수 등의 변동이나 기업의 신용에 연동된 금융파생상품을 시중은행이 흡수하여, 고객이 일정한 금액을 받아 그에 상응하는 수익을 얻을 수 있도록 하는 예금\n",
    "- X2 : time deposit balance (정기 예금 잔액)\n",
    "    - 적금과 비슷한 형태의 예금\n",
    "- X3 : demand deposit balance (입출금 통장 잔액)\n",
    "    - 은행에 사전 통지 없이 요청 시 인출할 수 있는 은행 예금\n",
    "- X4 : financial products balance (금융 상품 잔액)\n",
    "- X5 : fund balance (펀드 잔액)\n",
    "- X6 : asset management balance (자산 관리 잔액)\n",
    "- X7 : loan balance (대출 잔액)\n",
    "- X8 : large deposit certificate balance (거액 예금 증서 잔액)\n",
    "    - 일정 기간 동안 고정된 금액을 보유하고 그 대가로 개설 은행에서 이자를 지급하는 예금 계좌. 예금 증서(CD)를 현금으로 바꾸거나 상환하면 원래 투자한 금액과 이자를 받게 된다.\n",
    "\n",
    "\n",
    "**결측치 형태**\n",
    "\n",
    "| cust_no   | m7                                   | m8   | m9   | m10  | m11  | m12  |\n",
    "|-----------|--------------------------------------|------|------|------|------|------|\n",
    "| 7월 이전 고객  | data                                 | data | data | data | data | data |\n",
    "| 8월 신규 고객  | <span style=\"color:red\"> nan </span> | data | data | data | data | data |\n",
    "| 9월 신규 고객  | <span style=\"color:red\"> nan </span> | <span style=\"color:red\"> nan </span> | data | data | data | data |\n",
    "| 10월 신규 고객 | <span style=\"color:red\"> nan </span> | <span style=\"color:red\"> nan </span> |<span style=\"color:red\"> nan </span> | data | data | data |\n",
    "| 11월 신규 고객 | <span style=\"color:red\"> nan </span> | <span style=\"color:red\"> nan </span> | <span style=\"color:red\"> nan </span>  | <span style=\"color:red\"> nan </span> | data | data |\n",
    "| 12월 신규 고객 | <span style=\"color:red\"> nan </span>  | <span style=\"color:red\"> nan </span>  | <span style=\"color:red\"> nan </span>  | <span style=\"color:red\"> nan </span>  | <span style=\"color:red\"> nan </span> | data |\n",
    "| 결측수 | 13485 | 10385 | 7132 | 4674 | 2239 | 0 |\n",
    "\n",
    "\n",
    "\n",
    "**결측치 처리 방법**\n",
    "\n",
    "- aum table 내의 변수는 은행 상품에 대한 잔액을 나타내는 변수이므로 새롭게 8월 이후에 들어온 신규 고객이 가진 결측치를 0으로 채우는 것이 타당하다고 판단함.\n",
    "\n"
   ]
  },
  {
   "cell_type": "markdown",
   "metadata": {
    "collapsed": false
   },
   "source": [
    "### **결측치 처리하기**"
   ]
  },
  {
   "cell_type": "code",
   "execution_count": 9,
   "metadata": {
    "collapsed": false
   },
   "outputs": [
    {
     "data": {
      "text/plain": "cust_no        0\nX1_m7      13485\nX2_m7      13485\nX3_m7      13485\nX4_m7      13485\nX5_m7      13485\nX6_m7      13485\nX7_m7      13485\nX8_m7      13485\nX1_m8      10385\nX2_m8      10385\nX3_m8      10385\nX4_m8      10385\nX5_m8      10385\nX6_m8      10385\nX7_m8      10385\nX8_m8      10385\nX1_m9       7132\nX2_m9       7132\nX3_m9       7132\nX4_m9       7132\nX5_m9       7132\nX6_m9       7132\nX7_m9       7132\nX8_m9       7132\nX1_m10      4674\nX2_m10      4674\nX3_m10      4674\nX4_m10      4674\nX5_m10      4674\nX6_m10      4674\nX7_m10      4674\nX8_m10      4674\nX1_m11      2239\nX2_m11      2239\nX3_m11      2239\nX4_m11      2239\nX5_m11      2239\nX6_m11      2239\nX7_m11      2239\nX8_m11      2239\nX1_m12         0\nX2_m12         0\nX3_m12         0\nX4_m12         0\nX5_m12         0\nX6_m12         0\nX7_m12         0\nX8_m12         0\ndtype: int64"
     },
     "execution_count": 9,
     "metadata": {},
     "output_type": "execute_result"
    }
   ],
   "source": [
    "# check # of missing values by column\n",
    "aum_m.isnull().sum()"
   ]
  },
  {
   "cell_type": "code",
   "execution_count": 10,
   "metadata": {
    "collapsed": false,
    "pycharm": {
     "name": "#%% \n"
    }
   },
   "outputs": [],
   "source": [
    "# fill missing values with zeros\n",
    "aum_m.fillna(0, inplace = True)"
   ]
  },
  {
   "cell_type": "code",
   "execution_count": 11,
   "metadata": {
    "collapsed": false
   },
   "outputs": [
    {
     "data": {
      "text/plain": "cust_no    0\nX1_m7      0\nX2_m7      0\nX3_m7      0\nX4_m7      0\nX5_m7      0\nX6_m7      0\nX7_m7      0\nX8_m7      0\nX1_m8      0\nX2_m8      0\nX3_m8      0\nX4_m8      0\nX5_m8      0\nX6_m8      0\nX7_m8      0\nX8_m8      0\nX1_m9      0\nX2_m9      0\nX3_m9      0\nX4_m9      0\nX5_m9      0\nX6_m9      0\nX7_m9      0\nX8_m9      0\nX1_m10     0\nX2_m10     0\nX3_m10     0\nX4_m10     0\nX5_m10     0\nX6_m10     0\nX7_m10     0\nX8_m10     0\nX1_m11     0\nX2_m11     0\nX3_m11     0\nX4_m11     0\nX5_m11     0\nX6_m11     0\nX7_m11     0\nX8_m11     0\nX1_m12     0\nX2_m12     0\nX3_m12     0\nX4_m12     0\nX5_m12     0\nX6_m12     0\nX7_m12     0\nX8_m12     0\ndtype: int64"
     },
     "execution_count": 11,
     "metadata": {},
     "output_type": "execute_result"
    }
   ],
   "source": [
    "# check # of missing values by column\n",
    "aum_m.isnull().sum()"
   ]
  },
  {
   "cell_type": "markdown",
   "metadata": {
    "collapsed": false
   },
   "source": [
    "#### **behavior table**\n",
    "\n",
    "**변수 설명**\n",
    "- B1 : mobile banking login times (로그인 횟수)\n",
    "- B2 : transfer-in times (입금 횟수)\n",
    "- B3 : transfer-in money amount (입금 금액)\n",
    "- B4 : transfer-out times (출금 횟수)\n",
    "- B5 : transfer-out money amount (출금 금액)\n",
    "- B6 : latest transfer time (마지막 거래 시간) (type : date) (9, 12월에만 존재)\n",
    "- B7 : number of transfers in a season (해당 시즌에 거래 횟수) (9, 12월에만 존재)\n",
    "\n",
    "**결측치 형태(B1 ~ B5, B7)**\n",
    "\n",
    "| cust_no   | m7                                   | m8   | m9   | m10  | m11  | m12  |\n",
    "|-----------|--------------------------------------|------|------|------|------|------|\n",
    "| 7월 이전 고객  | data                                 | data | data | data | data | data |\n",
    "| 8월 신규 고객  | <span style=\"color:red\"> nan </span> | data | data | data | data | data |\n",
    "| 9월 신규 고객  | <span style=\"color:red\"> nan </span> | <span style=\"color:red\"> nan </span> | data | data | data | data |\n",
    "| 10월 신규 고객 | <span style=\"color:red\"> nan </span> | <span style=\"color:red\"> nan </span> |<span style=\"color:red\"> nan </span> | data | data | data |\n",
    "| 11월 신규 고객 | <span style=\"color:red\"> nan </span> | <span style=\"color:red\"> nan </span> | <span style=\"color:red\"> nan </span>  | <span style=\"color:red\"> nan </span> | data | data |\n",
    "| 12월 신규 고객 | <span style=\"color:red\"> nan </span>  | <span style=\"color:red\"> nan </span>  | <span style=\"color:red\"> nan </span>  | <span style=\"color:red\"> nan </span>  | <span style=\"color:red\"> nan </span> | data |\n",
    "| 결측수 | 13485 | 10385 | 7132 | 4674 | 2239 | 0 |\n",
    "\n",
    "\n",
    "\n",
    "**결측치 처리 방법(B1 ~ B5, B7)**\n",
    "\n",
    "- behavior table 내의 변수는 은행을 사용한 행동의 횟수, 행동에 대한 금액을 나타내는 변수이므로 새롭게 8월 이후에 들어온 신규 고객이 가진 결측치를 0으로 채우는 것이 타당하다고 판단함.\n",
    "\n",
    "**결측치 처리 방법(B6)**\n",
    "\n",
    "- B6 변수는 마지막 거래 날짜를 의미하므로 B2, B4가 0이 아닌 마지막 시점으로 결측치를 대체한다.\n",
    "\n"
   ]
  },
  {
   "cell_type": "code",
   "execution_count": 12,
   "metadata": {
    "collapsed": false
   },
   "outputs": [
    {
     "data": {
      "text/plain": "cust_no        0\nB1_m7      13485\nB2_m7      13485\nB3_m7      13485\nB4_m7      13485\nB5_m7      13485\nB1_m8      10385\nB2_m8      10385\nB3_m8      10385\nB4_m8      10385\nB5_m8      10385\nB1_m9       7132\nB2_m9       7132\nB3_m9       7132\nB4_m9       7132\nB5_m9       7132\nB6_m9      13909\nB7_m9       7132\nB1_m10      4674\nB2_m10      4674\nB3_m10      4674\nB4_m10      4674\nB5_m10      4674\nB1_m11      2239\nB2_m11      2239\nB3_m11      2239\nB4_m11      2239\nB5_m11      2239\nB1_m12         0\nB2_m12         0\nB3_m12         0\nB4_m12         0\nB5_m12         0\nB6_m12      3932\nB7_m12         0\ndtype: int64"
     },
     "execution_count": 12,
     "metadata": {},
     "output_type": "execute_result"
    }
   ],
   "source": [
    "behavior_m.isna().sum()"
   ]
  },
  {
   "cell_type": "code",
   "execution_count": 13,
   "metadata": {
    "collapsed": false
   },
   "outputs": [],
   "source": [
    "# Q. B7변수가 해당 분기의 3개월 간의 B2, B4 변수의 단순 합인가? (no)\n",
    "# behavior_m[['B1_m7','B1_m8','B1_m9','B2_m7', 'B2_m8', 'B2_m9', 'B4_m7', 'B4_m8', 'B4_m9','B7_m9']]"
   ]
  },
  {
   "cell_type": "code",
   "execution_count": 14,
   "metadata": {
    "collapsed": false
   },
   "outputs": [],
   "source": [
    "# B6 : B2, B4가 0이 아닌 마지막 달의 1일로 결측치 채우기\n",
    "\n",
    "def fill_last_month7to9(row_data):\n",
    "    l_month = 7\n",
    "    for m in range(7, 10):\n",
    "        value1 = eval('row_data.B2_m' + str(m))\n",
    "        value2 = eval(\"row_data.B4_m\" + str(m))\n",
    "        if ((value1 != 0) and (str(value1) != 'nan')) | ((value2 != 0) and (str(value2) != 'nan')):\n",
    "            l_month = m\n",
    "    return pd.datetime(2019, l_month, 1).strftime(\"%Y-%m-%d %H:%M:%S\")\n",
    "\n",
    "\n",
    "def fill_last_month7to12(row_data):\n",
    "    l_month = 7\n",
    "    for m in range(7, 12):\n",
    "        value1 = eval('row_data.B2_m' + str(m))\n",
    "        value2 = eval(\"row_data.B4_m\" + str(m))\n",
    "        if ((value1 != 0) and (str(value1) != 'nan')) | ((value2 != 0) and (str(value2) != 'nan')):\n",
    "            l_month = m\n",
    "    return pd.datetime(2019, l_month, 1).strftime(\"%Y-%m-%d %H:%M:%S\")\n"
   ]
  },
  {
   "cell_type": "code",
   "execution_count": 15,
   "metadata": {
    "collapsed": false
   },
   "outputs": [],
   "source": [
    "behavior_m.loc[behavior_m.B6_m9.isna(), 'B6_m9'] = behavior_m[behavior_m.B6_m9.isna()].apply(fill_last_month7to9, axis = 1)\n",
    "behavior_m.loc[behavior_m.B6_m12.isna(), 'B6_m12'] = behavior_m[behavior_m.B6_m12.isna()].apply(fill_last_month7to12, axis=1)"
   ]
  },
  {
   "cell_type": "code",
   "execution_count": 16,
   "metadata": {
    "collapsed": false
   },
   "outputs": [],
   "source": [
    "# fill missing data with zeros\n",
    "behavior_m.fillna(0,inplace = True)"
   ]
  },
  {
   "cell_type": "code",
   "execution_count": 17,
   "metadata": {},
   "outputs": [],
   "source": [
    "# behavior_m[['B6_m9','B6_m12']]"
   ]
  },
  {
   "cell_type": "code",
   "execution_count": 18,
   "metadata": {
    "collapsed": false
   },
   "outputs": [
    {
     "data": {
      "text/plain": "cust_no    0\nB1_m7      0\nB2_m7      0\nB3_m7      0\nB4_m7      0\nB5_m7      0\nB1_m8      0\nB2_m8      0\nB3_m8      0\nB4_m8      0\nB5_m8      0\nB1_m9      0\nB2_m9      0\nB3_m9      0\nB4_m9      0\nB5_m9      0\nB6_m9      0\nB7_m9      0\nB1_m10     0\nB2_m10     0\nB3_m10     0\nB4_m10     0\nB5_m10     0\nB1_m11     0\nB2_m11     0\nB3_m11     0\nB4_m11     0\nB5_m11     0\nB1_m12     0\nB2_m12     0\nB3_m12     0\nB4_m12     0\nB5_m12     0\nB6_m12     0\nB7_m12     0\ndtype: int64"
     },
     "execution_count": 18,
     "metadata": {},
     "output_type": "execute_result"
    }
   ],
   "source": [
    "# check missing data\n",
    "behavior_m.isna().sum()"
   ]
  },
  {
   "cell_type": "markdown",
   "metadata": {
    "collapsed": false
   },
   "source": [
    "#### **cunkuan table**\n",
    "\n",
    "**변수 설명**\n",
    "- C1 : deposit products value (예금 상품 가치)\n",
    "    - 결측치 0으로 대체\n",
    "- C2 : number of deposit products (예금 상품 수)\n",
    "    - 결측치 0으로 대체\n",
    "\n",
    "**결측치 형태**\n",
    "\n",
    "| cust_no   | m7                                   | m8                                   | m9                                   | m10                                  | m11                                  | m12  |\n",
    "|-----------|--------------------------------------|--------------------------------------|--------------------------------------|--------------------------------------|--------------------------------------|------|\n",
    "| 7월 이전 고객  | data                                 | data                                 | data                                 | data                                 | data                                 | data |\n",
    "| 8월 신규 고객  | <span style=\"color:red\"> nan </span> | data                                 | data                                 | data                                 | data                                 | data |\n",
    "| 9월 신규 고객  | <span style=\"color:red\"> nan </span> | <span style=\"color:red\"> nan </span> | data                                 | data                                 | data                                 | data |\n",
    "| 10월 신규 고객 | <span style=\"color:red\"> nan </span> | <span style=\"color:red\"> nan </span> | <span style=\"color:red\"> nan </span> | data                                 | data                                 | data |\n",
    "| 11월 신규 고객 | <span style=\"color:red\"> nan </span> | <span style=\"color:red\"> nan </span> | <span style=\"color:red\"> nan </span> | <span style=\"color:red\"> nan </span> | data                                 | data |\n",
    "| 12월 신규 고객 | <span style=\"color:red\"> nan </span> | <span style=\"color:red\"> nan </span> | <span style=\"color:red\"> nan </span> | <span style=\"color:red\"> nan </span> | <span style=\"color:red\"> nan </span> | data |\n",
    "| 결측수 | 15296 | 12157 | 8623  | 5803 | 2822 | 0 |\n",
    "\n",
    "\n",
    "\n",
    "**결측치 처리 방법**\n",
    "\n",
    "- cunkuan table 내의 변수는 예금 상품 가치 상품 수를 나타내는 변수이므로 새롭게 8월 이후에 들어온 신규 고객이 가진 결측치를 0으로 채우는 것이 타당하다고 판단함.\n",
    "\n"
   ]
  },
  {
   "cell_type": "code",
   "execution_count": 19,
   "metadata": {
    "collapsed": false
   },
   "outputs": [
    {
     "data": {
      "text/plain": "cust_no        0\nC1_m7      15296\nC2_m7      15296\nC1_m8      12157\nC2_m8      12157\nC1_m9       8623\nC2_m9       8623\nC1_m10      5803\nC2_m10      5803\nC1_m11      2822\nC2_m11      2822\nC1_m12         0\nC2_m12         0\ndtype: int64"
     },
     "execution_count": 19,
     "metadata": {},
     "output_type": "execute_result"
    }
   ],
   "source": [
    "# check missing values\n",
    "cunkuan_m.isna().sum()"
   ]
  },
  {
   "cell_type": "code",
   "execution_count": 20,
   "metadata": {
    "collapsed": false
   },
   "outputs": [],
   "source": [
    "# fill missing values with zeros\n",
    "cunkuan_m.fillna(0, inplace=True)"
   ]
  },
  {
   "cell_type": "code",
   "execution_count": 21,
   "metadata": {
    "collapsed": false
   },
   "outputs": [
    {
     "data": {
      "text/plain": "cust_no    0\nC1_m7      0\nC2_m7      0\nC1_m8      0\nC2_m8      0\nC1_m9      0\nC2_m9      0\nC1_m10     0\nC2_m10     0\nC1_m11     0\nC2_m11     0\nC1_m12     0\nC2_m12     0\ndtype: int64"
     },
     "execution_count": 21,
     "metadata": {},
     "output_type": "execute_result"
    }
   ],
   "source": [
    "# check missing values\n",
    "cunkuan_m.isna().sum()"
   ]
  },
  {
   "cell_type": "markdown",
   "metadata": {
    "collapsed": false
   },
   "source": [
    "#### **big_event table**\n",
    "\n",
    "**변수 설명**\n",
    "\n",
    "- E1 : account opening date (계좌 오픈 날짜)\n",
    "- E2 : online banking opening date (온라인 뱅킹 오픈 날짜)\n",
    "- E3 : mobile banking opening date (모바일 뱅킹 오픈 날짜)\n",
    "- E4 : first online banking login date (첫번째 온라인 뱅킹 로그인 날짜)\n",
    "- E5 : first mobile banking login date (첫번째 모바일 뱅킹 로그인 날짜)\n",
    "- E6 : first demand deposit date (첫번째 입출금 날짜)\n",
    "- E7 : first time deposit date (최초 입금 일)\n",
    "- E8 : first loan date (최초 대출 일)\n",
    "- E9 : first overdue date (최초 연체 날짜)\n",
    "- E10 : first cash transaction date (최초 현금 거래일)\n",
    "- E11 : first bank-securities transfer date (최초 은행 - 증권 이체 날짜)\n",
    "- E12 : first transfer at counter date (최초 카운터에서 이체 날짜)\n",
    "- E13 : first transfer via online banking date (온라인 뱅킹을 이용한 최초 이체 날짜)\n",
    "- E14 : first transfer via mobile banking date (모바일 뱅킹을 이용한 최초 이체 날짜)\n",
    "- E15 : maximum amount transferred out of another bank (다른 은행에서 이체된 최대 금액)\n",
    "- E16 : maximum amount transferred out of another bank date (다른 은행에서 이체된 최대 금액이 이체된 날짜)\n",
    "- E17 : Maximum transfer amount from other bank (타 은행 최대 이체 금액)\n",
    "- E18 : Maximum transfer amount from other bank date (타 은행 최대 이체 금액 이체 날짜)\n",
    "\n",
    "**결측치 처리 방법**\n",
    "\n",
    "- Q3, Q4 분리 후 처리. 아래에서 다시 다룸."
   ]
  },
  {
   "cell_type": "markdown",
   "metadata": {
    "collapsed": false
   },
   "source": [
    "#### **cust_info table**\n",
    "\n",
    "**변수 설명**\n",
    "- l1 : gender (성별)\n",
    "- l2 : age (나이)\n",
    "- l3 : class\n",
    "- l4 : tag\n",
    "- I5 : occupation (직업)\n",
    "- I6 : deposit customer tag (예금 고객 태그)\n",
    "- I7 : number of products owning (보유 제품 수)\n",
    "- I8 : constellation (별자리)\n",
    "- I9 : contribution (기부금)\n",
    "- I10 : education level (교육 수준)\n",
    "- I11 : family annual income (가구 연간 소득)\n",
    "- I12 : field description\n",
    "- I13 : marriage description\n",
    "- I14 : occupation description\n",
    "- I15 : QR code recipient\n",
    "- I16 : VIP (vip 여부)\n",
    "- I17 : online banking client\n",
    "- I18 : mobile banking client\n",
    "- I19 : SMS client\n",
    "- I20 : WeChat Pay client\n",
    "\n",
    "**결측치 처리 방법**\n",
    "\n",
    "- I8 삭제 - 불필요한 정보\n",
    "- I12 삭제 - 1행만 제외하고 가진 정보가 동일함.\n",
    "- I9, I10, I13, I14 삭제 - 결측치가 너무 많음.\n",
    "- 나머지 변수는 Q4의 값으로 Q3값 대체. 변하지 않는 고객 일반 정보거나, 분기별로 크게 변하지 않는 등급, 직업과 같은 정보이기 때문이다.\n",
    "- I5 결측 : '무직'으로 대체\n"
   ]
  },
  {
   "cell_type": "code",
   "execution_count": 22,
   "metadata": {
    "collapsed": false
   },
   "outputs": [],
   "source": [
    "# del I9, I10, I13, I14\n",
    "cust_info_q.drop(columns = ['I9_Q3', 'I9_Q4', 'I10_Q3', 'I10_Q4', 'I13_Q3', 'I13_Q4', 'I14_Q3', 'I14_Q4'], inplace=True)"
   ]
  },
  {
   "cell_type": "code",
   "execution_count": 23,
   "metadata": {
    "collapsed": false
   },
   "outputs": [],
   "source": [
    "# del I8, I12\n",
    "cust_info_q.drop(columns = ['I8_Q3', 'I8_Q4', 'I12_Q3', 'I12_Q4'], inplace=True)"
   ]
  },
  {
   "cell_type": "code",
   "execution_count": 24,
   "metadata": {
    "collapsed": false,
    "pycharm": {
     "name": "#%% \n"
    }
   },
   "outputs": [],
   "source": [
    "# Replace the value of Q3 with the value of Q4\n",
    "cust_info_q.I1_Q3.fillna(cust_info_q.I1_Q4, inplace=True)\n",
    "cust_info_q.I2_Q3.fillna(cust_info_q.I2_Q4, inplace=True)\n",
    "cust_info_q.I3_Q3.fillna(cust_info_q.I3_Q4, inplace=True)\n",
    "cust_info_q.I4_Q3.fillna(cust_info_q.I4_Q4, inplace=True)\n",
    "cust_info_q.I5_Q3.fillna(cust_info_q.I5_Q4, inplace=True)\n",
    "cust_info_q.I6_Q3.fillna(cust_info_q.I6_Q4, inplace=True)\n",
    "cust_info_q.I7_Q3.fillna(cust_info_q.I7_Q4, inplace=True)\n",
    "cust_info_q.I11_Q3.fillna(cust_info_q.I11_Q4, inplace=True)\n",
    "cust_info_q.I15_Q3.fillna(cust_info_q.I15_Q4, inplace=True)\n",
    "cust_info_q.I16_Q3.fillna(cust_info_q.I16_Q4, inplace=True)\n",
    "cust_info_q.I17_Q3.fillna(cust_info_q.I17_Q4, inplace=True)\n",
    "cust_info_q.I18_Q3.fillna(cust_info_q.I18_Q4, inplace=True)\n",
    "cust_info_q.I19_Q3.fillna(cust_info_q.I19_Q4, inplace=True)\n",
    "cust_info_q.I20_Q3.fillna(cust_info_q.I20_Q4, inplace=True)"
   ]
  },
  {
   "cell_type": "code",
   "execution_count": 25,
   "metadata": {
    "collapsed": false
   },
   "outputs": [
    {
     "data": {
      "text/plain": "cust_no       0\nI1_Q3        32\nI2_Q3         0\nI3_Q3         0\nI4_Q3         0\nI5_Q3      4947\nI6_Q3         0\nI7_Q3         0\nI11_Q3        0\nI15_Q3        0\nI16_Q3        0\nI17_Q3        0\nI18_Q3        0\nI19_Q3        0\nI20_Q3        0\nI1_Q4        32\nI2_Q4         0\nI3_Q4         0\nI4_Q4         0\nI5_Q4      4947\nI6_Q4         0\nI7_Q4         0\nI11_Q4        0\nI15_Q4        0\nI16_Q4        0\nI17_Q4        0\nI18_Q4        0\nI19_Q4        0\nI20_Q4        0\ndtype: int64"
     },
     "execution_count": 25,
     "metadata": {},
     "output_type": "execute_result"
    }
   ],
   "source": [
    "cust_info_q.isna().sum()"
   ]
  },
  {
   "cell_type": "code",
   "execution_count": 26,
   "metadata": {
    "collapsed": false
   },
   "outputs": [
    {
     "data": {
      "text/plain": "女性    44431\n男性    38436\nName: I1_Q3, dtype: int64"
     },
     "execution_count": 26,
     "metadata": {},
     "output_type": "execute_result"
    }
   ],
   "source": [
    "cust_info_q.I1_Q3.value_counts()"
   ]
  },
  {
   "cell_type": "code",
   "execution_count": 27,
   "metadata": {
    "collapsed": false
   },
   "outputs": [],
   "source": [
    "cust_info_q.I1_Q3 = cust_info_q.I1_Q3.replace({'女性':0, '男性':1})\n",
    "cust_info_q.I1_Q4 = cust_info_q.I1_Q4.replace({'女性':0, '男性':1})"
   ]
  },
  {
   "cell_type": "code",
   "execution_count": 28,
   "metadata": {
    "collapsed": false
   },
   "outputs": [
    {
     "data": {
      "text/plain": "普通客户    47010\n黄金      26552\n白金       8508\n钻石        829\nName: I3_Q3, dtype: int64"
     },
     "execution_count": 28,
     "metadata": {},
     "output_type": "execute_result"
    }
   ],
   "source": [
    "cust_info_q.I3_Q3.value_counts()"
   ]
  },
  {
   "cell_type": "code",
   "execution_count": 29,
   "metadata": {
    "collapsed": false
   },
   "outputs": [],
   "source": [
    "# cust_info_q.I3_Q3 = cust_info_q.I3_Q3.replace({'普通客户':'일반고객', '黄金':'금', '白金':'백금', '钻石':'다이아몬드'})\n",
    "# cust_info_q.I3_Q4 = cust_info_q.I3_Q4.replace({'普通客户':'일반고객', '黄金':'금', '白金':'백금', '钻石':'다이아몬드'})\n",
    "\n",
    "cust_info_q.I3_Q3 = cust_info_q.I3_Q3.replace({'普通客户':4, '黄金':3, '白金':2, '钻石':1})\n",
    "cust_info_q.I3_Q4 = cust_info_q.I3_Q4.replace({'普通客户':4, '黄金':3, '白金':2, '钻石':1})"
   ]
  },
  {
   "cell_type": "code",
   "execution_count": 30,
   "metadata": {
    "collapsed": false
   },
   "outputs": [
    {
     "data": {
      "text/plain": "不便分类的其他从业人员             24770\n商业工作人员                  15952\n服务性工作人员                 14295\n办事人员和有关人员               10977\n专业技术人员                   4360\n未知                       2593\n生产、运输设备操作人员及有关人员         2158\n国家机关、党群组织、企业、事业单位负责人     2131\n农、林、牧、渔、水利业生产人员           671\n军人                         40\n退休                          5\nName: I5_Q3, dtype: int64"
     },
     "execution_count": 30,
     "metadata": {},
     "output_type": "execute_result"
    }
   ],
   "source": [
    "cust_info_q.I5_Q3.value_counts()"
   ]
  },
  {
   "cell_type": "code",
   "execution_count": 31,
   "metadata": {
    "collapsed": false
   },
   "outputs": [],
   "source": [
    "cust_info_q.I5_Q3 = cust_info_q.I5_Q3.replace({'不便分类的其他从业人员':'프리랜서', '商业工作人员':'판매원', '服务性工作人员':'서비스직', '专业技术人员':'전문직', '办事人员和有关人员':'사무원','未知':'무직', '生产、运输设备操作人员及有关人员':'생산직', '国家机关、党群组织、企业、事业单位负责人':'정치인','农、林、牧、渔、水利业生产人员':'농축업', '军人':'군인', '退休':'은퇴'})\n",
    "cust_info_q.I5_Q4 = cust_info_q.I5_Q4.replace({'不便分类的其他从业人员':'프리랜서', '商业工作人员':'판매원', '服务性工作人员':'서비스직', '专业技术人员':'전문직', '办事人员和有关人员':'사무원','未知':'무직', '生产、运输设备操作人员及有关人员':'생산직', '国家机关、党群组织、企业、事业单位负责人':'정치인','农、林、牧、渔、水利业生产人员':'농축업', '军人':'군인', '退休':'은퇴'})"
   ]
  },
  {
   "cell_type": "code",
   "execution_count": 32,
   "metadata": {
    "collapsed": false
   },
   "outputs": [],
   "source": [
    "cust_info_q.I5_Q3.fillna('무직', inplace=True)\n",
    "cust_info_q.I5_Q4.fillna('무직', inplace=True)"
   ]
  },
  {
   "cell_type": "markdown",
   "metadata": {
    "collapsed": false
   },
   "source": [
    "### **테이블 병합**"
   ]
  },
  {
   "cell_type": "code",
   "execution_count": 33,
   "metadata": {
    "collapsed": false
   },
   "outputs": [
    {
     "name": "stdout",
     "output_type": "stream",
     "text": [
      "(82899, 49)\n",
      "(82899, 35)\n",
      "(82896, 13)\n",
      "(82899, 37)\n",
      "(82899, 29)\n",
      "(82899, 3)\n"
     ]
    }
   ],
   "source": [
    "# check table shape\n",
    "print(aum_m.shape)  # 82899\n",
    "print(behavior_m.shape)  # 82899\n",
    "print(cunkuan_m.shape)  # 82896\n",
    "print(big_event_Q.shape)  # 82899\n",
    "print(cust_info_q.shape)  # 82899\n",
    "print(y_train.shape) # 82899"
   ]
  },
  {
   "cell_type": "code",
   "execution_count": 34,
   "metadata": {
    "collapsed": false
   },
   "outputs": [],
   "source": [
    "# merge table\n",
    "train = pd.merge(aum_m, behavior_m, on='cust_no', how='left')\n",
    "train = pd.merge(train, cunkuan_m, on='cust_no', how='left')\n",
    "train = pd.merge(train, big_event_Q, on='cust_no', how='left')\n",
    "train = pd.merge(train, cust_info_q, on='cust_no', how='left')\n",
    "train = pd.merge(train, y_train, on='cust_no', how='left')"
   ]
  },
  {
   "cell_type": "code",
   "execution_count": 35,
   "metadata": {
    "collapsed": false
   },
   "outputs": [],
   "source": [
    "# remove rows where C1 is missing\n",
    "train.dropna(subset=['C1_m11'], inplace=True)"
   ]
  },
  {
   "cell_type": "markdown",
   "metadata": {
    "collapsed": false
   },
   "source": [
    "### 테이블 분리\n",
    "\n",
    "- Q3와 Q4로 테이블 분리"
   ]
  },
  {
   "cell_type": "code",
   "execution_count": 36,
   "metadata": {
    "collapsed": false
   },
   "outputs": [
    {
     "data": {
      "text/plain": "Index(['cust_no', 'X1_m7', 'X2_m7', 'X3_m7', 'X4_m7', 'X5_m7', 'X6_m7',\n       'X7_m7', 'X8_m7', 'X1_m8',\n       ...\n       'I7_Q4', 'I11_Q4', 'I15_Q4', 'I16_Q4', 'I17_Q4', 'I18_Q4', 'I19_Q4',\n       'I20_Q4', 'label_Q3', 'label_Q4'],\n      dtype='object', length=161)"
     },
     "execution_count": 36,
     "metadata": {},
     "output_type": "execute_result"
    }
   ],
   "source": [
    "train.columns"
   ]
  },
  {
   "cell_type": "code",
   "execution_count": 37,
   "metadata": {
    "collapsed": false
   },
   "outputs": [],
   "source": [
    "Q3_col_list = ['cust_no', 'label_Q3', 'E1_Q3', 'E2_Q3', 'E3_Q3', 'E4_Q3', 'E5_Q3', 'E6_Q3', 'E7_Q3', 'E8_Q3', 'E9_Q3', 'E10_Q3', 'E11_Q3', 'E12_Q3', 'E13_Q3', 'E14_Q3', 'E15_Q3', 'E16_Q3', 'E17_Q3', 'E18_Q3', 'I1_Q3', 'I2_Q3', 'I3_Q3', 'I4_Q3', 'I5_Q3', 'I6_Q3', 'I7_Q3', 'I11_Q3', 'I15_Q3', 'I16_Q3', 'I17_Q3', 'I18_Q3', 'I19_Q3', 'I20_Q3']\n",
    "Q4_col_list = ['cust_no', 'label_Q4', 'E1_Q4', 'E2_Q4', 'E3_Q4', 'E4_Q4', 'E5_Q4', 'E6_Q4', 'E7_Q4', 'E8_Q4', 'E9_Q4', 'E10_Q4', 'E11_Q4', 'E12_Q4', 'E13_Q4', 'E14_Q4', 'E15_Q4', 'E16_Q4', 'E17_Q4', 'E18_Q4', 'I1_Q4', 'I2_Q4', 'I3_Q4', 'I4_Q4', 'I5_Q4', 'I6_Q4', 'I7_Q4', 'I11_Q4', 'I15_Q4', 'I16_Q4', 'I17_Q4', 'I18_Q4', 'I19_Q4', 'I20_Q4']\n",
    "\n",
    "for m in range(7,10):\n",
    "    Q3_col_list.append('X1_m'+str(m))\n",
    "    Q3_col_list.append('X2_m'+str(m))\n",
    "    Q3_col_list.append('X3_m'+str(m))\n",
    "    Q3_col_list.append('X4_m'+str(m))\n",
    "    Q3_col_list.append('X5_m'+str(m))\n",
    "    Q3_col_list.append('X6_m'+str(m))\n",
    "    Q3_col_list.append('X7_m'+str(m))\n",
    "    Q3_col_list.append('X8_m'+str(m))\n",
    "    Q3_col_list.append('B1_m'+str(m))\n",
    "    Q3_col_list.append('B2_m'+str(m))\n",
    "    Q3_col_list.append('B3_m'+str(m))\n",
    "    Q3_col_list.append('B4_m'+str(m))\n",
    "    Q3_col_list.append('B5_m'+str(m))\n",
    "    if m == 9:\n",
    "        Q3_col_list.append('B6_m'+str(m))\n",
    "        Q3_col_list.append('B7_m'+str(m))\n",
    "    Q3_col_list.append('C1_m'+str(m))\n",
    "    Q3_col_list.append('C2_m'+str(m))\n",
    "\n",
    "for m in range(10,13):\n",
    "    Q4_col_list.append('X1_m'+str(m))\n",
    "    Q4_col_list.append('X2_m'+str(m))\n",
    "    Q4_col_list.append('X3_m'+str(m))\n",
    "    Q4_col_list.append('X4_m'+str(m))\n",
    "    Q4_col_list.append('X5_m'+str(m))\n",
    "    Q4_col_list.append('X6_m'+str(m))\n",
    "    Q4_col_list.append('X7_m'+str(m))\n",
    "    Q4_col_list.append('X8_m'+str(m))\n",
    "    Q4_col_list.append('B1_m'+str(m))\n",
    "    Q4_col_list.append('B2_m'+str(m))\n",
    "    Q4_col_list.append('B3_m'+str(m))\n",
    "    Q4_col_list.append('B4_m'+str(m))\n",
    "    Q4_col_list.append('B5_m'+str(m))\n",
    "    if m == 12:\n",
    "        Q4_col_list.append('B6_m'+str(m))\n",
    "        Q4_col_list.append('B7_m'+str(m))\n",
    "    Q4_col_list.append('C1_m'+str(m))\n",
    "    Q4_col_list.append('C2_m'+str(m))"
   ]
  },
  {
   "cell_type": "code",
   "execution_count": 38,
   "metadata": {
    "collapsed": false
   },
   "outputs": [
    {
     "name": "stdout",
     "output_type": "stream",
     "text": [
      "81\n",
      "81\n"
     ]
    }
   ],
   "source": [
    "# check\n",
    "print(len(Q4_col_list))\n",
    "print(len(Q3_col_list))"
   ]
  },
  {
   "cell_type": "code",
   "execution_count": 39,
   "metadata": {
    "collapsed": false
   },
   "outputs": [],
   "source": [
    "train_Q3 = train.loc[:,Q3_col_list]\n",
    "train_Q4 = train.loc[:,Q4_col_list]"
   ]
  },
  {
   "cell_type": "code",
   "execution_count": 40,
   "metadata": {
    "collapsed": false
   },
   "outputs": [
    {
     "name": "stdout",
     "output_type": "stream",
     "text": [
      "(82896, 81)\n",
      "(82896, 81)\n"
     ]
    }
   ],
   "source": [
    "print(train_Q3.shape)\n",
    "print(train_Q4.shape)"
   ]
  },
  {
   "cell_type": "code",
   "execution_count": 41,
   "metadata": {
    "collapsed": false
   },
   "outputs": [],
   "source": [
    "# remove no label data\n",
    "train_Q3.dropna(subset=['label_Q3'], inplace=True)\n",
    "train_Q4.dropna(subset=['label_Q4'], inplace=True)"
   ]
  },
  {
   "cell_type": "code",
   "execution_count": 42,
   "metadata": {
    "collapsed": false
   },
   "outputs": [
    {
     "name": "stdout",
     "output_type": "stream",
     "text": [
      "(69123, 81)\n",
      "(76167, 81)\n"
     ]
    }
   ],
   "source": [
    "print(train_Q3.shape)\n",
    "print(train_Q4.shape)"
   ]
  },
  {
   "cell_type": "code",
   "execution_count": 43,
   "metadata": {
    "collapsed": false
   },
   "outputs": [],
   "source": [
    "def check_missing(dat):\n",
    "    '''Print missing values in each column of the dat\n",
    "    @Param df dat: input data frame\n",
    "    '''\n",
    "    missing_val = dat.isnull().sum()\n",
    "    for index in missing_val.index:\n",
    "        if missing_val[index] > 0:\n",
    "            print('{} has {} missing values. ({:.4%})'.format(index, missing_val[index], missing_val[index]/dat.shape[0]))\n"
   ]
  },
  {
   "cell_type": "code",
   "execution_count": 44,
   "metadata": {
    "collapsed": false
   },
   "outputs": [
    {
     "name": "stdout",
     "output_type": "stream",
     "text": [
      "E2_Q3 has 3215 missing values. (4.6511%)\n",
      "E3_Q3 has 3215 missing values. (4.6511%)\n",
      "E4_Q3 has 40019 missing values. (57.8953%)\n",
      "E5_Q3 has 26400 missing values. (38.1928%)\n",
      "E6_Q3 has 3767 missing values. (5.4497%)\n",
      "E7_Q3 has 67763 missing values. (98.0325%)\n",
      "E8_Q3 has 60691 missing values. (87.8015%)\n",
      "E9_Q3 has 69081 missing values. (99.9392%)\n",
      "E10_Q3 has 361 missing values. (0.5223%)\n",
      "E11_Q3 has 69123 missing values. (100.0000%)\n",
      "E12_Q3 has 58086 missing values. (84.0328%)\n",
      "E13_Q3 has 60467 missing values. (87.4774%)\n",
      "E14_Q3 has 42947 missing values. (62.1313%)\n",
      "E16_Q3 has 32463 missing values. (46.9641%)\n",
      "E18_Q3 has 29274 missing values. (42.3506%)\n",
      "I1_Q3 has 32 missing values. (0.0463%)\n"
     ]
    }
   ],
   "source": [
    "check_missing(train_Q3)"
   ]
  },
  {
   "cell_type": "code",
   "execution_count": 45,
   "metadata": {
    "collapsed": false
   },
   "outputs": [
    {
     "name": "stdout",
     "output_type": "stream",
     "text": [
      "E2_Q4 has 3151 missing values. (4.1370%)\n",
      "E3_Q4 has 3151 missing values. (4.1370%)\n",
      "E4_Q4 has 44458 missing values. (58.3691%)\n",
      "E5_Q4 has 28723 missing values. (37.7106%)\n",
      "E6_Q4 has 3765 missing values. (4.9431%)\n",
      "E7_Q4 has 74633 missing values. (97.9860%)\n",
      "E8_Q4 has 66684 missing values. (87.5497%)\n",
      "E9_Q4 has 76140 missing values. (99.9646%)\n",
      "E10_Q4 has 455 missing values. (0.5974%)\n",
      "E11_Q4 has 76167 missing values. (100.0000%)\n",
      "E12_Q4 has 63232 missing values. (83.0176%)\n",
      "E13_Q4 has 67029 missing values. (88.0027%)\n",
      "E14_Q4 has 47057 missing values. (61.7813%)\n",
      "E16_Q4 has 36061 missing values. (47.3447%)\n",
      "E18_Q4 has 32867 missing values. (43.1512%)\n",
      "I1_Q4 has 32 missing values. (0.0420%)\n"
     ]
    }
   ],
   "source": [
    "check_missing(train_Q4)"
   ]
  },
  {
   "cell_type": "markdown",
   "metadata": {
    "collapsed": false
   },
   "source": [
    "#### **E 변수 결측치 처리**\n",
    "\n",
    "- 결측률 70% 이상 (E7, E8, E9, E11, E12, E13) : 삭제\n",
    "- 결측률 30 ~ 70% (E4, E5, E14, E16, E18) : 0, 1변수로 변환\n",
    "- 결측률 30% 이하 : (기준 날짜 - value)의 max로 대체"
   ]
  },
  {
   "cell_type": "code",
   "execution_count": 46,
   "metadata": {
    "collapsed": false
   },
   "outputs": [],
   "source": [
    "# del E7, E8, E9, E11, E12, E13\n",
    "train_Q3.drop(columns =['E7_Q3', 'E8_Q3', 'E9_Q3','E11_Q3', 'E12_Q3', 'E13_Q3'], inplace = True)\n",
    "train_Q4.drop(columns =['E7_Q4', 'E8_Q4', 'E9_Q4','E11_Q4', 'E12_Q4', 'E13_Q4'], inplace = True)"
   ]
  },
  {
   "cell_type": "code",
   "execution_count": 47,
   "metadata": {
    "collapsed": false
   },
   "outputs": [],
   "source": [
    "train_Q3.E4_Q3 = (~train_Q3.E4_Q3.isna()).astype(int)\n",
    "train_Q3.E5_Q3 = (~train_Q3.E5_Q3.isna()).astype(int)\n",
    "train_Q3.E14_Q3 = (~train_Q3.E14_Q3.isna()).astype(int)\n",
    "train_Q3.E16_Q3 = (~train_Q3.E16_Q3.isna()).astype(int)\n",
    "train_Q3.E18_Q3 = (~train_Q3.E18_Q3.isna()).astype(int)\n",
    "\n",
    "train_Q4.E4_Q4 = (~train_Q4.E4_Q4.isna()).astype(int)\n",
    "train_Q4.E5_Q4 = (~train_Q4.E5_Q4.isna()).astype(int)\n",
    "train_Q4.E14_Q4 = (~train_Q4.E14_Q4.isna()).astype(int)\n",
    "train_Q4.E16_Q4 = (~train_Q4.E16_Q4.isna()).astype(int)\n",
    "train_Q4.E18_Q4 = (~train_Q4.E18_Q4.isna()).astype(int)"
   ]
  },
  {
   "cell_type": "code",
   "execution_count": 48,
   "metadata": {
    "collapsed": false
   },
   "outputs": [],
   "source": [
    "def date_diff_Q3(x):\n",
    "    return (pd.datetime(2019, 9, 30) - x).days\n",
    "\n",
    "def date_diff_Q4(x):\n",
    "    return (pd.datetime(2019,12,31) - x).days"
   ]
  },
  {
   "cell_type": "code",
   "execution_count": 49,
   "metadata": {
    "collapsed": false
   },
   "outputs": [],
   "source": [
    "# Convert data type to datetime\n",
    "train_Q3[['E1_Q3', 'E2_Q3', 'E3_Q3', 'E6_Q3', 'E10_Q3','E14_Q3', 'E15_Q3','B6_m9']] = train_Q3[['E1_Q3', 'E2_Q3', 'E3_Q3', 'E6_Q3', 'E10_Q3','E14_Q3', 'E15_Q3','B6_m9']].apply(pd.to_datetime)\n",
    "\n",
    "train_Q4[['E1_Q4', 'E2_Q4', 'E3_Q4', 'E6_Q4', 'E10_Q4','E14_Q4', 'E15_Q4','B6_m12']] = train_Q4[['E1_Q4', 'E2_Q4', 'E3_Q4', 'E6_Q4', 'E10_Q4','E14_Q4', 'E15_Q4','B6_m12']].apply(pd.to_datetime)\n"
   ]
  },
  {
   "cell_type": "code",
   "execution_count": 50,
   "metadata": {
    "collapsed": false
   },
   "outputs": [],
   "source": [
    "# fillna with max value\n",
    "train_Q3.E2_Q3.fillna(train_Q3.E2_Q3.max(), inplace=True)\n",
    "train_Q3.E3_Q3.fillna(train_Q3.E3_Q3.max(), inplace=True)\n",
    "train_Q3.E6_Q3.fillna(train_Q3.E6_Q3.min(), inplace=True)\n",
    "train_Q3.E10_Q3.fillna(train_Q3.E10_Q3.max(), inplace=True)\n",
    "\n",
    "train_Q4.E2_Q4.fillna(train_Q4.E2_Q4.max(), inplace=True)\n",
    "train_Q4.E3_Q4.fillna(train_Q4.E3_Q4.max(), inplace=True)\n",
    "train_Q4.E6_Q4.fillna(train_Q4.E6_Q4.min(), inplace=True)\n",
    "train_Q4.E10_Q4.fillna(train_Q4.E10_Q4.max(), inplace=True)"
   ]
  },
  {
   "cell_type": "code",
   "execution_count": 51,
   "metadata": {},
   "outputs": [],
   "source": [
    "# Recency \n",
    "train_Q3['Recency'] = (train_Q3['B6_m9'] - train_Q3['E6_Q3']).dt.days\n",
    "train_Q4['Recency'] = (train_Q4['B6_m12'] - train_Q4['E6_Q4']).dt.days"
   ]
  },
  {
   "cell_type": "code",
   "execution_count": 52,
   "metadata": {},
   "outputs": [],
   "source": [
    "train_Q3['Time'] = (pd.datetime(2019,10,1) - train_Q3['E6_Q3']).dt.days  \n",
    "train_Q4['Time'] = (pd.datetime(2020,1,1) - train_Q4['E6_Q4']).dt.days  "
   ]
  },
  {
   "cell_type": "code",
   "execution_count": 53,
   "metadata": {},
   "outputs": [
    {
     "data": {
      "text/plain": "      cust_no  label_Q3      E1_Q3      E2_Q3      E3_Q3  E4_Q3  E5_Q3  \\\n0  0xb2d30bf6       1.0 2017-08-01 2017-08-02 2017-08-02      0      0   \n1  0xb2d0c143       1.0 2015-07-15 2015-07-15 2015-07-15      1      1   \n2  0xb2d6004d       1.0 2018-11-29 2018-11-29 2018-11-29      0      0   \n3  0xb2d5a839       1.0 2018-10-09 2018-10-09 2018-10-09      0      1   \n4  0xb2d63b24       1.0 2019-01-09 2019-01-29 2019-01-29      1      0   \n5  0xb2d6d3ac      -1.0 2019-04-23 2019-04-23 2019-04-23      1      1   \n6  0xb2d58f97      -1.0 2018-09-20 2018-09-20 2018-09-20      0      1   \n7  0xb2d1d86a       1.0 2016-06-06 2016-06-06 2016-06-06      0      0   \n8  0x3b9adb55       1.0 2007-01-04 2019-09-30 2019-09-30      0      0   \n9  0xb2d6a52f       1.0 2019-03-21 2019-03-21 2019-03-21      0      1   \n\n       E6_Q3     E10_Q3                        E14_Q3  \\\n0 2019-04-15 2019-09-29 1970-01-01 00:00:00.000000000   \n1 2018-10-12 2019-01-10 1970-01-01 00:00:00.000000001   \n2 2018-11-29 2019-04-08 1970-01-01 00:00:00.000000000   \n3 2018-11-02 2018-12-20 1970-01-01 00:00:00.000000001   \n4 2019-09-27 2019-09-26 1970-01-01 00:00:00.000000000   \n5 2019-04-29 2019-09-29 1970-01-01 00:00:00.000000001   \n6 2018-12-12 2019-09-29 1970-01-01 00:00:00.000000001   \n7 2019-06-25 2019-09-28 1970-01-01 00:00:00.000000000   \n8 2018-01-01 2019-09-29 1970-01-01 00:00:00.000000000   \n9 2019-08-29 2019-09-29 1970-01-01 00:00:00.000000001   \n\n                         E15_Q3  E16_Q3     E17_Q3  E18_Q3  I1_Q3  I2_Q3  \\\n0 1970-01-01 00:00:00.000000000       0        0.0       0    1.0   58.0   \n1 1970-01-01 00:00:00.000000000       0        0.0       0    0.0   29.0   \n2 1970-01-01 00:00:00.000000000       0        0.0       0    0.0   63.0   \n3 1970-01-01 00:00:00.000030000       1    20000.0       1    0.0   29.0   \n4 1970-01-01 00:00:00.000000000       0        0.0       0    0.0   79.0   \n5 1970-01-01 00:00:00.002299718       1  1500000.0       1    1.0   48.0   \n6 1970-01-01 00:00:00.000030301       1    30301.0       1    0.0   28.0   \n7 1970-01-01 00:00:00.003490000       1    30160.0       1    1.0   33.0   \n8 1970-01-01 00:00:00.000000000       0        0.0       0    0.0   55.0   \n9 1970-01-01 00:00:00.000000000       0        0.0       0    1.0   33.0   \n\n   I3_Q3  I4_Q3 I5_Q3  I6_Q3  I7_Q3  I11_Q3  I15_Q3  I16_Q3  I17_Q3  I18_Q3  \\\n0      4    0.0  서비스직    0.0    0.0     0.0     0.0     0.0     1.0     1.0   \n1      3    0.0  프리랜서    0.0    0.0     0.0     0.0     1.0     1.0     1.0   \n2      3    0.0   사무원    0.0    0.0     0.0     0.0     1.0     1.0     1.0   \n3      3    0.0   판매원    0.0    0.0     0.0     0.0     1.0     1.0     1.0   \n4      3    0.0  프리랜서    0.0    0.0     0.0     0.0     1.0     1.0     1.0   \n5      3    0.0  프리랜서    0.0    0.0     0.0     0.0     1.0     1.0     1.0   \n6      4    0.0   전문직    0.0    0.0     0.0     0.0     0.0     1.0     1.0   \n7      4    0.0    무직    1.0    0.0     0.0     0.0     0.0     1.0     1.0   \n8      4    0.0    무직    0.0    0.0     0.0     0.0     0.0     0.0     0.0   \n9      2    0.0   판매원    0.0    0.0     0.0     0.0     1.0     1.0     1.0   \n\n   I19_Q3  I20_Q3     X1_m7  X2_m7     X3_m7  X4_m7  X5_m7  X6_m7       X7_m7  \\\n0     1.0     0.0       0.0    0.0  15774.75    0.0    0.0    0.0        0.00   \n1     1.0     0.0  110000.0    0.0  20000.30    0.0    0.0    0.0        0.00   \n2     1.0     0.0   70000.0    0.0     13.93    0.0    0.0    0.0        0.00   \n3     1.0     0.0  153000.0    0.0      0.00    0.0    0.0    0.0        0.00   \n4     1.0     0.0  167000.0    0.0      8.99    0.0    0.0    0.0        0.00   \n5     1.0     0.0       0.0    0.0    366.70    0.0    0.0    0.0        0.00   \n6     1.0     0.0       0.0    0.0   3792.86    0.0    0.0    0.0        0.00   \n7     1.0     0.0       0.0    0.0    584.63    0.0    0.0    0.0  3030126.33   \n8     0.0     0.0       0.0    0.0  13321.42    0.0    0.0    0.0        0.00   \n9     1.0     0.0       0.0    0.0   7105.88    0.0    0.0    0.0        0.00   \n\n      X8_m7  B1_m7  B2_m7      B3_m7  B4_m7      B5_m7      C1_m7  C2_m7  \\\n0       0.0    0.0    0.0       0.00    0.0       0.00   15774.75    1.0   \n1       0.0    8.0    5.0  240533.36    2.0  110000.00  130000.30    3.0   \n2       0.0    0.0    0.0       0.00    0.0       0.00   70013.93    3.0   \n3       0.0    0.0    1.0   81000.00    1.0   81000.00  153000.00    3.0   \n4       0.0    0.0    0.0       0.00    0.0       0.00  167008.99    4.0   \n5       0.0    0.0    0.0       0.00    0.0       0.00     366.70    1.0   \n6       0.0    4.0    0.0       0.00    2.0   21897.38    3792.86    1.0   \n7       0.0    0.0    1.0   30160.00    0.0       0.00     584.63    1.0   \n8       0.0    0.0    0.0       0.00    0.0       0.00   13321.42    1.0   \n9  500000.0    5.0    0.0       0.00    0.0       0.00  507105.88    2.0   \n\n      X1_m8  X2_m8      X3_m8  X4_m8  X5_m8  X6_m8       X7_m8     X8_m8  \\\n0       0.0    0.0   19449.75    0.0    0.0    0.0        0.00       0.0   \n1  130000.0    0.0       0.30    0.0    0.0    0.0        0.00       0.0   \n2   70000.0    0.0      13.93    0.0    0.0    0.0        0.00       0.0   \n3  153000.0    0.0       0.00    0.0    0.0    0.0        0.00       0.0   \n4  167000.0    0.0       8.99    0.0    0.0    0.0        0.00       0.0   \n5       0.0    0.0  500366.70    0.0    0.0    0.0        0.00       0.0   \n6       0.0    0.0    1435.86    0.0    0.0    0.0        0.00       0.0   \n7       0.0    0.0     592.23    0.0    0.0    0.0  3016058.85       0.0   \n8       0.0    0.0   13321.42    0.0    0.0    0.0        0.00       0.0   \n9       0.0    0.0    8981.92    0.0    0.0    0.0        0.00  500000.0   \n\n   B1_m8  B2_m8    B3_m8  B4_m8    B5_m8      C1_m8  C2_m8     X1_m9  X2_m9  \\\n0    0.0    0.0      0.0    0.0      0.0   19449.75    1.0       0.0    0.0   \n1    5.0    1.0  20000.0    1.0  20000.0  130000.30    4.0  170000.0    0.0   \n2    0.0    0.0      0.0    0.0      0.0   70013.93    3.0   70000.0    0.0   \n3    0.0    0.0      0.0    0.0      0.0  153000.00    3.0   81000.0    0.0   \n4    0.0    0.0      0.0    0.0      0.0  167008.99    4.0  107000.0    0.0   \n5   11.0    0.0      0.0    0.0      0.0  500366.70    1.0       0.0    0.0   \n6    7.0    0.0      0.0    0.0      0.0    1435.86    1.0       0.0    0.0   \n7    0.0    1.0  30160.0    0.0      0.0     592.23    1.0       0.0    0.0   \n8    0.0    0.0      0.0    0.0      0.0   13321.42    1.0       0.0    0.0   \n9   13.0    0.0      0.0    1.0  20000.0  508981.92    2.0       0.0    0.0   \n\n      X3_m9  X4_m9  X5_m9  X6_m9      X7_m9     X8_m9  B1_m9  B2_m9     B3_m9  \\\n0  23140.95    0.0    0.0    0.0        0.0       0.0    0.0    0.0      0.00   \n1     94.56    0.0    0.0    0.0        0.0       0.0   11.0    2.0  80084.44   \n2     13.94    0.0    0.0    0.0        0.0       0.0    0.0    0.0      0.00   \n3  42812.32    0.0    0.0    0.0        0.0       0.0    7.0    1.0  72803.60   \n4  61754.33    0.0    0.0    0.0        0.0       0.0    0.0    1.0  61745.33   \n5    398.72    0.0    0.0    0.0        0.0       0.0    8.0    0.0      0.00   \n6    788.77    0.0    0.0    0.0        0.0       0.0    0.0    0.0      0.00   \n7    601.34    0.0    0.0    0.0  3001916.7       0.0    0.0    1.0  30160.00   \n8  13334.36    0.0    0.0    0.0        0.0       0.0    0.0    0.0      0.00   \n9  10663.90    0.0    0.0    0.0        0.0  500000.0    7.0    0.0      0.00   \n\n   B4_m9     B5_m9               B6_m9  B7_m9      C1_m9  C2_m9  Recency  Time  \n0    0.0       0.0 2019-09-11 18:00:00    3.0   23140.95    1.0      149   169  \n1    1.0   60000.0 2019-09-19 05:04:00   21.0  170094.56    4.0      342   354  \n2    0.0       0.0 2019-04-19 04:03:00    0.0   70013.94    3.0      141   306  \n3    1.0   30000.0 2019-09-11 15:40:00    4.0  123812.32    2.0      313   333  \n4    0.0       0.0 2019-09-27 18:00:00    1.0  168754.33    3.0        0     4  \n5    3.0  500000.0 2019-09-03 14:33:00    4.0     398.72    1.0      127   155  \n6    0.0       0.0 2019-09-24 09:21:00   55.0     788.77    1.0      286   293  \n7    0.0       0.0 2019-09-26 23:49:00    3.0     601.34    1.0       93    98  \n8    0.0       0.0 2019-07-01 00:00:00    0.0   13334.36    1.0      546   638  \n9    1.0     100.0 2019-09-13 19:48:00    5.0  510663.90    2.0       15    33  ",
      "text/html": "<div>\n<style scoped>\n    .dataframe tbody tr th:only-of-type {\n        vertical-align: middle;\n    }\n\n    .dataframe tbody tr th {\n        vertical-align: top;\n    }\n\n    .dataframe thead th {\n        text-align: right;\n    }\n</style>\n<table border=\"1\" class=\"dataframe\">\n  <thead>\n    <tr style=\"text-align: right;\">\n      <th></th>\n      <th>cust_no</th>\n      <th>label_Q3</th>\n      <th>E1_Q3</th>\n      <th>E2_Q3</th>\n      <th>E3_Q3</th>\n      <th>E4_Q3</th>\n      <th>E5_Q3</th>\n      <th>E6_Q3</th>\n      <th>E10_Q3</th>\n      <th>E14_Q3</th>\n      <th>E15_Q3</th>\n      <th>E16_Q3</th>\n      <th>E17_Q3</th>\n      <th>E18_Q3</th>\n      <th>I1_Q3</th>\n      <th>I2_Q3</th>\n      <th>I3_Q3</th>\n      <th>I4_Q3</th>\n      <th>I5_Q3</th>\n      <th>I6_Q3</th>\n      <th>I7_Q3</th>\n      <th>I11_Q3</th>\n      <th>I15_Q3</th>\n      <th>I16_Q3</th>\n      <th>I17_Q3</th>\n      <th>I18_Q3</th>\n      <th>I19_Q3</th>\n      <th>I20_Q3</th>\n      <th>X1_m7</th>\n      <th>X2_m7</th>\n      <th>X3_m7</th>\n      <th>X4_m7</th>\n      <th>X5_m7</th>\n      <th>X6_m7</th>\n      <th>X7_m7</th>\n      <th>X8_m7</th>\n      <th>B1_m7</th>\n      <th>B2_m7</th>\n      <th>B3_m7</th>\n      <th>B4_m7</th>\n      <th>B5_m7</th>\n      <th>C1_m7</th>\n      <th>C2_m7</th>\n      <th>X1_m8</th>\n      <th>X2_m8</th>\n      <th>X3_m8</th>\n      <th>X4_m8</th>\n      <th>X5_m8</th>\n      <th>X6_m8</th>\n      <th>X7_m8</th>\n      <th>X8_m8</th>\n      <th>B1_m8</th>\n      <th>B2_m8</th>\n      <th>B3_m8</th>\n      <th>B4_m8</th>\n      <th>B5_m8</th>\n      <th>C1_m8</th>\n      <th>C2_m8</th>\n      <th>X1_m9</th>\n      <th>X2_m9</th>\n      <th>X3_m9</th>\n      <th>X4_m9</th>\n      <th>X5_m9</th>\n      <th>X6_m9</th>\n      <th>X7_m9</th>\n      <th>X8_m9</th>\n      <th>B1_m9</th>\n      <th>B2_m9</th>\n      <th>B3_m9</th>\n      <th>B4_m9</th>\n      <th>B5_m9</th>\n      <th>B6_m9</th>\n      <th>B7_m9</th>\n      <th>C1_m9</th>\n      <th>C2_m9</th>\n      <th>Recency</th>\n      <th>Time</th>\n    </tr>\n  </thead>\n  <tbody>\n    <tr>\n      <th>0</th>\n      <td>0xb2d30bf6</td>\n      <td>1.0</td>\n      <td>2017-08-01</td>\n      <td>2017-08-02</td>\n      <td>2017-08-02</td>\n      <td>0</td>\n      <td>0</td>\n      <td>2019-04-15</td>\n      <td>2019-09-29</td>\n      <td>1970-01-01 00:00:00.000000000</td>\n      <td>1970-01-01 00:00:00.000000000</td>\n      <td>0</td>\n      <td>0.0</td>\n      <td>0</td>\n      <td>1.0</td>\n      <td>58.0</td>\n      <td>4</td>\n      <td>0.0</td>\n      <td>서비스직</td>\n      <td>0.0</td>\n      <td>0.0</td>\n      <td>0.0</td>\n      <td>0.0</td>\n      <td>0.0</td>\n      <td>1.0</td>\n      <td>1.0</td>\n      <td>1.0</td>\n      <td>0.0</td>\n      <td>0.0</td>\n      <td>0.0</td>\n      <td>15774.75</td>\n      <td>0.0</td>\n      <td>0.0</td>\n      <td>0.0</td>\n      <td>0.00</td>\n      <td>0.0</td>\n      <td>0.0</td>\n      <td>0.0</td>\n      <td>0.00</td>\n      <td>0.0</td>\n      <td>0.00</td>\n      <td>15774.75</td>\n      <td>1.0</td>\n      <td>0.0</td>\n      <td>0.0</td>\n      <td>19449.75</td>\n      <td>0.0</td>\n      <td>0.0</td>\n      <td>0.0</td>\n      <td>0.00</td>\n      <td>0.0</td>\n      <td>0.0</td>\n      <td>0.0</td>\n      <td>0.0</td>\n      <td>0.0</td>\n      <td>0.0</td>\n      <td>19449.75</td>\n      <td>1.0</td>\n      <td>0.0</td>\n      <td>0.0</td>\n      <td>23140.95</td>\n      <td>0.0</td>\n      <td>0.0</td>\n      <td>0.0</td>\n      <td>0.0</td>\n      <td>0.0</td>\n      <td>0.0</td>\n      <td>0.0</td>\n      <td>0.00</td>\n      <td>0.0</td>\n      <td>0.0</td>\n      <td>2019-09-11 18:00:00</td>\n      <td>3.0</td>\n      <td>23140.95</td>\n      <td>1.0</td>\n      <td>149</td>\n      <td>169</td>\n    </tr>\n    <tr>\n      <th>1</th>\n      <td>0xb2d0c143</td>\n      <td>1.0</td>\n      <td>2015-07-15</td>\n      <td>2015-07-15</td>\n      <td>2015-07-15</td>\n      <td>1</td>\n      <td>1</td>\n      <td>2018-10-12</td>\n      <td>2019-01-10</td>\n      <td>1970-01-01 00:00:00.000000001</td>\n      <td>1970-01-01 00:00:00.000000000</td>\n      <td>0</td>\n      <td>0.0</td>\n      <td>0</td>\n      <td>0.0</td>\n      <td>29.0</td>\n      <td>3</td>\n      <td>0.0</td>\n      <td>프리랜서</td>\n      <td>0.0</td>\n      <td>0.0</td>\n      <td>0.0</td>\n      <td>0.0</td>\n      <td>1.0</td>\n      <td>1.0</td>\n      <td>1.0</td>\n      <td>1.0</td>\n      <td>0.0</td>\n      <td>110000.0</td>\n      <td>0.0</td>\n      <td>20000.30</td>\n      <td>0.0</td>\n      <td>0.0</td>\n      <td>0.0</td>\n      <td>0.00</td>\n      <td>0.0</td>\n      <td>8.0</td>\n      <td>5.0</td>\n      <td>240533.36</td>\n      <td>2.0</td>\n      <td>110000.00</td>\n      <td>130000.30</td>\n      <td>3.0</td>\n      <td>130000.0</td>\n      <td>0.0</td>\n      <td>0.30</td>\n      <td>0.0</td>\n      <td>0.0</td>\n      <td>0.0</td>\n      <td>0.00</td>\n      <td>0.0</td>\n      <td>5.0</td>\n      <td>1.0</td>\n      <td>20000.0</td>\n      <td>1.0</td>\n      <td>20000.0</td>\n      <td>130000.30</td>\n      <td>4.0</td>\n      <td>170000.0</td>\n      <td>0.0</td>\n      <td>94.56</td>\n      <td>0.0</td>\n      <td>0.0</td>\n      <td>0.0</td>\n      <td>0.0</td>\n      <td>0.0</td>\n      <td>11.0</td>\n      <td>2.0</td>\n      <td>80084.44</td>\n      <td>1.0</td>\n      <td>60000.0</td>\n      <td>2019-09-19 05:04:00</td>\n      <td>21.0</td>\n      <td>170094.56</td>\n      <td>4.0</td>\n      <td>342</td>\n      <td>354</td>\n    </tr>\n    <tr>\n      <th>2</th>\n      <td>0xb2d6004d</td>\n      <td>1.0</td>\n      <td>2018-11-29</td>\n      <td>2018-11-29</td>\n      <td>2018-11-29</td>\n      <td>0</td>\n      <td>0</td>\n      <td>2018-11-29</td>\n      <td>2019-04-08</td>\n      <td>1970-01-01 00:00:00.000000000</td>\n      <td>1970-01-01 00:00:00.000000000</td>\n      <td>0</td>\n      <td>0.0</td>\n      <td>0</td>\n      <td>0.0</td>\n      <td>63.0</td>\n      <td>3</td>\n      <td>0.0</td>\n      <td>사무원</td>\n      <td>0.0</td>\n      <td>0.0</td>\n      <td>0.0</td>\n      <td>0.0</td>\n      <td>1.0</td>\n      <td>1.0</td>\n      <td>1.0</td>\n      <td>1.0</td>\n      <td>0.0</td>\n      <td>70000.0</td>\n      <td>0.0</td>\n      <td>13.93</td>\n      <td>0.0</td>\n      <td>0.0</td>\n      <td>0.0</td>\n      <td>0.00</td>\n      <td>0.0</td>\n      <td>0.0</td>\n      <td>0.0</td>\n      <td>0.00</td>\n      <td>0.0</td>\n      <td>0.00</td>\n      <td>70013.93</td>\n      <td>3.0</td>\n      <td>70000.0</td>\n      <td>0.0</td>\n      <td>13.93</td>\n      <td>0.0</td>\n      <td>0.0</td>\n      <td>0.0</td>\n      <td>0.00</td>\n      <td>0.0</td>\n      <td>0.0</td>\n      <td>0.0</td>\n      <td>0.0</td>\n      <td>0.0</td>\n      <td>0.0</td>\n      <td>70013.93</td>\n      <td>3.0</td>\n      <td>70000.0</td>\n      <td>0.0</td>\n      <td>13.94</td>\n      <td>0.0</td>\n      <td>0.0</td>\n      <td>0.0</td>\n      <td>0.0</td>\n      <td>0.0</td>\n      <td>0.0</td>\n      <td>0.0</td>\n      <td>0.00</td>\n      <td>0.0</td>\n      <td>0.0</td>\n      <td>2019-04-19 04:03:00</td>\n      <td>0.0</td>\n      <td>70013.94</td>\n      <td>3.0</td>\n      <td>141</td>\n      <td>306</td>\n    </tr>\n    <tr>\n      <th>3</th>\n      <td>0xb2d5a839</td>\n      <td>1.0</td>\n      <td>2018-10-09</td>\n      <td>2018-10-09</td>\n      <td>2018-10-09</td>\n      <td>0</td>\n      <td>1</td>\n      <td>2018-11-02</td>\n      <td>2018-12-20</td>\n      <td>1970-01-01 00:00:00.000000001</td>\n      <td>1970-01-01 00:00:00.000030000</td>\n      <td>1</td>\n      <td>20000.0</td>\n      <td>1</td>\n      <td>0.0</td>\n      <td>29.0</td>\n      <td>3</td>\n      <td>0.0</td>\n      <td>판매원</td>\n      <td>0.0</td>\n      <td>0.0</td>\n      <td>0.0</td>\n      <td>0.0</td>\n      <td>1.0</td>\n      <td>1.0</td>\n      <td>1.0</td>\n      <td>1.0</td>\n      <td>0.0</td>\n      <td>153000.0</td>\n      <td>0.0</td>\n      <td>0.00</td>\n      <td>0.0</td>\n      <td>0.0</td>\n      <td>0.0</td>\n      <td>0.00</td>\n      <td>0.0</td>\n      <td>0.0</td>\n      <td>1.0</td>\n      <td>81000.00</td>\n      <td>1.0</td>\n      <td>81000.00</td>\n      <td>153000.00</td>\n      <td>3.0</td>\n      <td>153000.0</td>\n      <td>0.0</td>\n      <td>0.00</td>\n      <td>0.0</td>\n      <td>0.0</td>\n      <td>0.0</td>\n      <td>0.00</td>\n      <td>0.0</td>\n      <td>0.0</td>\n      <td>0.0</td>\n      <td>0.0</td>\n      <td>0.0</td>\n      <td>0.0</td>\n      <td>153000.00</td>\n      <td>3.0</td>\n      <td>81000.0</td>\n      <td>0.0</td>\n      <td>42812.32</td>\n      <td>0.0</td>\n      <td>0.0</td>\n      <td>0.0</td>\n      <td>0.0</td>\n      <td>0.0</td>\n      <td>7.0</td>\n      <td>1.0</td>\n      <td>72803.60</td>\n      <td>1.0</td>\n      <td>30000.0</td>\n      <td>2019-09-11 15:40:00</td>\n      <td>4.0</td>\n      <td>123812.32</td>\n      <td>2.0</td>\n      <td>313</td>\n      <td>333</td>\n    </tr>\n    <tr>\n      <th>4</th>\n      <td>0xb2d63b24</td>\n      <td>1.0</td>\n      <td>2019-01-09</td>\n      <td>2019-01-29</td>\n      <td>2019-01-29</td>\n      <td>1</td>\n      <td>0</td>\n      <td>2019-09-27</td>\n      <td>2019-09-26</td>\n      <td>1970-01-01 00:00:00.000000000</td>\n      <td>1970-01-01 00:00:00.000000000</td>\n      <td>0</td>\n      <td>0.0</td>\n      <td>0</td>\n      <td>0.0</td>\n      <td>79.0</td>\n      <td>3</td>\n      <td>0.0</td>\n      <td>프리랜서</td>\n      <td>0.0</td>\n      <td>0.0</td>\n      <td>0.0</td>\n      <td>0.0</td>\n      <td>1.0</td>\n      <td>1.0</td>\n      <td>1.0</td>\n      <td>1.0</td>\n      <td>0.0</td>\n      <td>167000.0</td>\n      <td>0.0</td>\n      <td>8.99</td>\n      <td>0.0</td>\n      <td>0.0</td>\n      <td>0.0</td>\n      <td>0.00</td>\n      <td>0.0</td>\n      <td>0.0</td>\n      <td>0.0</td>\n      <td>0.00</td>\n      <td>0.0</td>\n      <td>0.00</td>\n      <td>167008.99</td>\n      <td>4.0</td>\n      <td>167000.0</td>\n      <td>0.0</td>\n      <td>8.99</td>\n      <td>0.0</td>\n      <td>0.0</td>\n      <td>0.0</td>\n      <td>0.00</td>\n      <td>0.0</td>\n      <td>0.0</td>\n      <td>0.0</td>\n      <td>0.0</td>\n      <td>0.0</td>\n      <td>0.0</td>\n      <td>167008.99</td>\n      <td>4.0</td>\n      <td>107000.0</td>\n      <td>0.0</td>\n      <td>61754.33</td>\n      <td>0.0</td>\n      <td>0.0</td>\n      <td>0.0</td>\n      <td>0.0</td>\n      <td>0.0</td>\n      <td>0.0</td>\n      <td>1.0</td>\n      <td>61745.33</td>\n      <td>0.0</td>\n      <td>0.0</td>\n      <td>2019-09-27 18:00:00</td>\n      <td>1.0</td>\n      <td>168754.33</td>\n      <td>3.0</td>\n      <td>0</td>\n      <td>4</td>\n    </tr>\n    <tr>\n      <th>5</th>\n      <td>0xb2d6d3ac</td>\n      <td>-1.0</td>\n      <td>2019-04-23</td>\n      <td>2019-04-23</td>\n      <td>2019-04-23</td>\n      <td>1</td>\n      <td>1</td>\n      <td>2019-04-29</td>\n      <td>2019-09-29</td>\n      <td>1970-01-01 00:00:00.000000001</td>\n      <td>1970-01-01 00:00:00.002299718</td>\n      <td>1</td>\n      <td>1500000.0</td>\n      <td>1</td>\n      <td>1.0</td>\n      <td>48.0</td>\n      <td>3</td>\n      <td>0.0</td>\n      <td>프리랜서</td>\n      <td>0.0</td>\n      <td>0.0</td>\n      <td>0.0</td>\n      <td>0.0</td>\n      <td>1.0</td>\n      <td>1.0</td>\n      <td>1.0</td>\n      <td>1.0</td>\n      <td>0.0</td>\n      <td>0.0</td>\n      <td>0.0</td>\n      <td>366.70</td>\n      <td>0.0</td>\n      <td>0.0</td>\n      <td>0.0</td>\n      <td>0.00</td>\n      <td>0.0</td>\n      <td>0.0</td>\n      <td>0.0</td>\n      <td>0.00</td>\n      <td>0.0</td>\n      <td>0.00</td>\n      <td>366.70</td>\n      <td>1.0</td>\n      <td>0.0</td>\n      <td>0.0</td>\n      <td>500366.70</td>\n      <td>0.0</td>\n      <td>0.0</td>\n      <td>0.0</td>\n      <td>0.00</td>\n      <td>0.0</td>\n      <td>11.0</td>\n      <td>0.0</td>\n      <td>0.0</td>\n      <td>0.0</td>\n      <td>0.0</td>\n      <td>500366.70</td>\n      <td>1.0</td>\n      <td>0.0</td>\n      <td>0.0</td>\n      <td>398.72</td>\n      <td>0.0</td>\n      <td>0.0</td>\n      <td>0.0</td>\n      <td>0.0</td>\n      <td>0.0</td>\n      <td>8.0</td>\n      <td>0.0</td>\n      <td>0.00</td>\n      <td>3.0</td>\n      <td>500000.0</td>\n      <td>2019-09-03 14:33:00</td>\n      <td>4.0</td>\n      <td>398.72</td>\n      <td>1.0</td>\n      <td>127</td>\n      <td>155</td>\n    </tr>\n    <tr>\n      <th>6</th>\n      <td>0xb2d58f97</td>\n      <td>-1.0</td>\n      <td>2018-09-20</td>\n      <td>2018-09-20</td>\n      <td>2018-09-20</td>\n      <td>0</td>\n      <td>1</td>\n      <td>2018-12-12</td>\n      <td>2019-09-29</td>\n      <td>1970-01-01 00:00:00.000000001</td>\n      <td>1970-01-01 00:00:00.000030301</td>\n      <td>1</td>\n      <td>30301.0</td>\n      <td>1</td>\n      <td>0.0</td>\n      <td>28.0</td>\n      <td>4</td>\n      <td>0.0</td>\n      <td>전문직</td>\n      <td>0.0</td>\n      <td>0.0</td>\n      <td>0.0</td>\n      <td>0.0</td>\n      <td>0.0</td>\n      <td>1.0</td>\n      <td>1.0</td>\n      <td>1.0</td>\n      <td>0.0</td>\n      <td>0.0</td>\n      <td>0.0</td>\n      <td>3792.86</td>\n      <td>0.0</td>\n      <td>0.0</td>\n      <td>0.0</td>\n      <td>0.00</td>\n      <td>0.0</td>\n      <td>4.0</td>\n      <td>0.0</td>\n      <td>0.00</td>\n      <td>2.0</td>\n      <td>21897.38</td>\n      <td>3792.86</td>\n      <td>1.0</td>\n      <td>0.0</td>\n      <td>0.0</td>\n      <td>1435.86</td>\n      <td>0.0</td>\n      <td>0.0</td>\n      <td>0.0</td>\n      <td>0.00</td>\n      <td>0.0</td>\n      <td>7.0</td>\n      <td>0.0</td>\n      <td>0.0</td>\n      <td>0.0</td>\n      <td>0.0</td>\n      <td>1435.86</td>\n      <td>1.0</td>\n      <td>0.0</td>\n      <td>0.0</td>\n      <td>788.77</td>\n      <td>0.0</td>\n      <td>0.0</td>\n      <td>0.0</td>\n      <td>0.0</td>\n      <td>0.0</td>\n      <td>0.0</td>\n      <td>0.0</td>\n      <td>0.00</td>\n      <td>0.0</td>\n      <td>0.0</td>\n      <td>2019-09-24 09:21:00</td>\n      <td>55.0</td>\n      <td>788.77</td>\n      <td>1.0</td>\n      <td>286</td>\n      <td>293</td>\n    </tr>\n    <tr>\n      <th>7</th>\n      <td>0xb2d1d86a</td>\n      <td>1.0</td>\n      <td>2016-06-06</td>\n      <td>2016-06-06</td>\n      <td>2016-06-06</td>\n      <td>0</td>\n      <td>0</td>\n      <td>2019-06-25</td>\n      <td>2019-09-28</td>\n      <td>1970-01-01 00:00:00.000000000</td>\n      <td>1970-01-01 00:00:00.003490000</td>\n      <td>1</td>\n      <td>30160.0</td>\n      <td>1</td>\n      <td>1.0</td>\n      <td>33.0</td>\n      <td>4</td>\n      <td>0.0</td>\n      <td>무직</td>\n      <td>1.0</td>\n      <td>0.0</td>\n      <td>0.0</td>\n      <td>0.0</td>\n      <td>0.0</td>\n      <td>1.0</td>\n      <td>1.0</td>\n      <td>1.0</td>\n      <td>0.0</td>\n      <td>0.0</td>\n      <td>0.0</td>\n      <td>584.63</td>\n      <td>0.0</td>\n      <td>0.0</td>\n      <td>0.0</td>\n      <td>3030126.33</td>\n      <td>0.0</td>\n      <td>0.0</td>\n      <td>1.0</td>\n      <td>30160.00</td>\n      <td>0.0</td>\n      <td>0.00</td>\n      <td>584.63</td>\n      <td>1.0</td>\n      <td>0.0</td>\n      <td>0.0</td>\n      <td>592.23</td>\n      <td>0.0</td>\n      <td>0.0</td>\n      <td>0.0</td>\n      <td>3016058.85</td>\n      <td>0.0</td>\n      <td>0.0</td>\n      <td>1.0</td>\n      <td>30160.0</td>\n      <td>0.0</td>\n      <td>0.0</td>\n      <td>592.23</td>\n      <td>1.0</td>\n      <td>0.0</td>\n      <td>0.0</td>\n      <td>601.34</td>\n      <td>0.0</td>\n      <td>0.0</td>\n      <td>0.0</td>\n      <td>3001916.7</td>\n      <td>0.0</td>\n      <td>0.0</td>\n      <td>1.0</td>\n      <td>30160.00</td>\n      <td>0.0</td>\n      <td>0.0</td>\n      <td>2019-09-26 23:49:00</td>\n      <td>3.0</td>\n      <td>601.34</td>\n      <td>1.0</td>\n      <td>93</td>\n      <td>98</td>\n    </tr>\n    <tr>\n      <th>8</th>\n      <td>0x3b9adb55</td>\n      <td>1.0</td>\n      <td>2007-01-04</td>\n      <td>2019-09-30</td>\n      <td>2019-09-30</td>\n      <td>0</td>\n      <td>0</td>\n      <td>2018-01-01</td>\n      <td>2019-09-29</td>\n      <td>1970-01-01 00:00:00.000000000</td>\n      <td>1970-01-01 00:00:00.000000000</td>\n      <td>0</td>\n      <td>0.0</td>\n      <td>0</td>\n      <td>0.0</td>\n      <td>55.0</td>\n      <td>4</td>\n      <td>0.0</td>\n      <td>무직</td>\n      <td>0.0</td>\n      <td>0.0</td>\n      <td>0.0</td>\n      <td>0.0</td>\n      <td>0.0</td>\n      <td>0.0</td>\n      <td>0.0</td>\n      <td>0.0</td>\n      <td>0.0</td>\n      <td>0.0</td>\n      <td>0.0</td>\n      <td>13321.42</td>\n      <td>0.0</td>\n      <td>0.0</td>\n      <td>0.0</td>\n      <td>0.00</td>\n      <td>0.0</td>\n      <td>0.0</td>\n      <td>0.0</td>\n      <td>0.00</td>\n      <td>0.0</td>\n      <td>0.00</td>\n      <td>13321.42</td>\n      <td>1.0</td>\n      <td>0.0</td>\n      <td>0.0</td>\n      <td>13321.42</td>\n      <td>0.0</td>\n      <td>0.0</td>\n      <td>0.0</td>\n      <td>0.00</td>\n      <td>0.0</td>\n      <td>0.0</td>\n      <td>0.0</td>\n      <td>0.0</td>\n      <td>0.0</td>\n      <td>0.0</td>\n      <td>13321.42</td>\n      <td>1.0</td>\n      <td>0.0</td>\n      <td>0.0</td>\n      <td>13334.36</td>\n      <td>0.0</td>\n      <td>0.0</td>\n      <td>0.0</td>\n      <td>0.0</td>\n      <td>0.0</td>\n      <td>0.0</td>\n      <td>0.0</td>\n      <td>0.00</td>\n      <td>0.0</td>\n      <td>0.0</td>\n      <td>2019-07-01 00:00:00</td>\n      <td>0.0</td>\n      <td>13334.36</td>\n      <td>1.0</td>\n      <td>546</td>\n      <td>638</td>\n    </tr>\n    <tr>\n      <th>9</th>\n      <td>0xb2d6a52f</td>\n      <td>1.0</td>\n      <td>2019-03-21</td>\n      <td>2019-03-21</td>\n      <td>2019-03-21</td>\n      <td>0</td>\n      <td>1</td>\n      <td>2019-08-29</td>\n      <td>2019-09-29</td>\n      <td>1970-01-01 00:00:00.000000001</td>\n      <td>1970-01-01 00:00:00.000000000</td>\n      <td>0</td>\n      <td>0.0</td>\n      <td>0</td>\n      <td>1.0</td>\n      <td>33.0</td>\n      <td>2</td>\n      <td>0.0</td>\n      <td>판매원</td>\n      <td>0.0</td>\n      <td>0.0</td>\n      <td>0.0</td>\n      <td>0.0</td>\n      <td>1.0</td>\n      <td>1.0</td>\n      <td>1.0</td>\n      <td>1.0</td>\n      <td>0.0</td>\n      <td>0.0</td>\n      <td>0.0</td>\n      <td>7105.88</td>\n      <td>0.0</td>\n      <td>0.0</td>\n      <td>0.0</td>\n      <td>0.00</td>\n      <td>500000.0</td>\n      <td>5.0</td>\n      <td>0.0</td>\n      <td>0.00</td>\n      <td>0.0</td>\n      <td>0.00</td>\n      <td>507105.88</td>\n      <td>2.0</td>\n      <td>0.0</td>\n      <td>0.0</td>\n      <td>8981.92</td>\n      <td>0.0</td>\n      <td>0.0</td>\n      <td>0.0</td>\n      <td>0.00</td>\n      <td>500000.0</td>\n      <td>13.0</td>\n      <td>0.0</td>\n      <td>0.0</td>\n      <td>1.0</td>\n      <td>20000.0</td>\n      <td>508981.92</td>\n      <td>2.0</td>\n      <td>0.0</td>\n      <td>0.0</td>\n      <td>10663.90</td>\n      <td>0.0</td>\n      <td>0.0</td>\n      <td>0.0</td>\n      <td>0.0</td>\n      <td>500000.0</td>\n      <td>7.0</td>\n      <td>0.0</td>\n      <td>0.00</td>\n      <td>1.0</td>\n      <td>100.0</td>\n      <td>2019-09-13 19:48:00</td>\n      <td>5.0</td>\n      <td>510663.90</td>\n      <td>2.0</td>\n      <td>15</td>\n      <td>33</td>\n    </tr>\n  </tbody>\n</table>\n</div>"
     },
     "execution_count": 53,
     "metadata": {},
     "output_type": "execute_result"
    }
   ],
   "source": [
    "train_Q3.head(10)"
   ]
  },
  {
   "cell_type": "code",
   "execution_count": 54,
   "metadata": {},
   "outputs": [],
   "source": [
    "train_Q3['last_Date'] = train_Q3['B6_m9'].copy()  \n",
    "train_Q4['last_Date'] = train_Q4['B6_m12'].copy()    \n",
    "\n",
    "train_Q3['first_Date'] = train_Q3['E6_Q3'].copy()  \n",
    "train_Q4['first_Date'] = train_Q4['E6_Q4'].copy()    "
   ]
  },
  {
   "cell_type": "code",
   "execution_count": 55,
   "metadata": {
    "collapsed": false
   },
   "outputs": [],
   "source": [
    "train_Q3.E1_Q3 = train_Q3.E1_Q3.apply(date_diff_Q3)\n",
    "train_Q3.E2_Q3 = train_Q3.E2_Q3.apply(date_diff_Q3)\n",
    "train_Q3.E3_Q3 = train_Q3.E3_Q3.apply(date_diff_Q3)\n",
    "train_Q3.E6_Q3 = train_Q3.E6_Q3.apply(date_diff_Q3)\n",
    "train_Q3.E10_Q3 = train_Q3.E10_Q3.apply(date_diff_Q3)\n",
    "train_Q3.E14_Q3 = train_Q3.E14_Q3.apply(date_diff_Q3)\n",
    "train_Q3.E15_Q3 = train_Q3.E15_Q3.apply(date_diff_Q3)\n",
    "train_Q3.B6_m9 = train_Q3.B6_m9.apply(date_diff_Q3)\n",
    "\n",
    "train_Q4.E1_Q4 = train_Q4.E1_Q4.apply(date_diff_Q4)\n",
    "train_Q4.E2_Q4 = train_Q4.E2_Q4.apply(date_diff_Q4)\n",
    "train_Q4.E3_Q4 = train_Q4.E3_Q4.apply(date_diff_Q4)\n",
    "train_Q4.E6_Q4 = train_Q4.E6_Q4.apply(date_diff_Q4)\n",
    "train_Q4.E10_Q4 = train_Q4.E10_Q4.apply(date_diff_Q4)\n",
    "train_Q4.E14_Q4 = train_Q4.E14_Q4.apply(date_diff_Q4)\n",
    "train_Q4.E15_Q4 = train_Q4.E15_Q4.apply(date_diff_Q4)\n",
    "train_Q4.B6_m12 = train_Q4.B6_m12.apply(date_diff_Q4)\n"
   ]
  },
  {
   "cell_type": "markdown",
   "metadata": {
    "collapsed": false
   },
   "source": [
    "### Q3, Q4 table 합치기 (concatenate)"
   ]
  },
  {
   "cell_type": "code",
   "execution_count": 56,
   "metadata": {
    "collapsed": false
   },
   "outputs": [
    {
     "data": {
      "text/plain": "Index(['cust_no', 'label_Q3', 'E1_Q3', 'E2_Q3', 'E3_Q3', 'E4_Q3', 'E5_Q3',\n       'E6_Q3', 'E10_Q3', 'E14_Q3', 'E15_Q3', 'E16_Q3', 'E17_Q3', 'E18_Q3',\n       'I1_Q3', 'I2_Q3', 'I3_Q3', 'I4_Q3', 'I5_Q3', 'I6_Q3', 'I7_Q3', 'I11_Q3',\n       'I15_Q3', 'I16_Q3', 'I17_Q3', 'I18_Q3', 'I19_Q3', 'I20_Q3', 'X1_m7',\n       'X2_m7', 'X3_m7', 'X4_m7', 'X5_m7', 'X6_m7', 'X7_m7', 'X8_m7', 'B1_m7',\n       'B2_m7', 'B3_m7', 'B4_m7', 'B5_m7', 'C1_m7', 'C2_m7', 'X1_m8', 'X2_m8',\n       'X3_m8', 'X4_m8', 'X5_m8', 'X6_m8', 'X7_m8', 'X8_m8', 'B1_m8', 'B2_m8',\n       'B3_m8', 'B4_m8', 'B5_m8', 'C1_m8', 'C2_m8', 'X1_m9', 'X2_m9', 'X3_m9',\n       'X4_m9', 'X5_m9', 'X6_m9', 'X7_m9', 'X8_m9', 'B1_m9', 'B2_m9', 'B3_m9',\n       'B4_m9', 'B5_m9', 'B6_m9', 'B7_m9', 'C1_m9', 'C2_m9', 'Recency', 'Time',\n       'last_Date', 'first_Date'],\n      dtype='object')"
     },
     "execution_count": 56,
     "metadata": {},
     "output_type": "execute_result"
    }
   ],
   "source": [
    "train_Q3.columns"
   ]
  },
  {
   "cell_type": "code",
   "execution_count": 57,
   "metadata": {
    "collapsed": false
   },
   "outputs": [
    {
     "data": {
      "text/plain": "Index(['cust_no', 'label_Q4', 'E1_Q4', 'E2_Q4', 'E3_Q4', 'E4_Q4', 'E5_Q4',\n       'E6_Q4', 'E10_Q4', 'E14_Q4', 'E15_Q4', 'E16_Q4', 'E17_Q4', 'E18_Q4',\n       'I1_Q4', 'I2_Q4', 'I3_Q4', 'I4_Q4', 'I5_Q4', 'I6_Q4', 'I7_Q4', 'I11_Q4',\n       'I15_Q4', 'I16_Q4', 'I17_Q4', 'I18_Q4', 'I19_Q4', 'I20_Q4', 'X1_m10',\n       'X2_m10', 'X3_m10', 'X4_m10', 'X5_m10', 'X6_m10', 'X7_m10', 'X8_m10',\n       'B1_m10', 'B2_m10', 'B3_m10', 'B4_m10', 'B5_m10', 'C1_m10', 'C2_m10',\n       'X1_m11', 'X2_m11', 'X3_m11', 'X4_m11', 'X5_m11', 'X6_m11', 'X7_m11',\n       'X8_m11', 'B1_m11', 'B2_m11', 'B3_m11', 'B4_m11', 'B5_m11', 'C1_m11',\n       'C2_m11', 'X1_m12', 'X2_m12', 'X3_m12', 'X4_m12', 'X5_m12', 'X6_m12',\n       'X7_m12', 'X8_m12', 'B1_m12', 'B2_m12', 'B3_m12', 'B4_m12', 'B5_m12',\n       'B6_m12', 'B7_m12', 'C1_m12', 'C2_m12', 'Recency', 'Time', 'last_Date',\n       'first_Date'],\n      dtype='object')"
     },
     "execution_count": 57,
     "metadata": {},
     "output_type": "execute_result"
    }
   ],
   "source": [
    "train_Q4.columns"
   ]
  },
  {
   "cell_type": "code",
   "execution_count": 58,
   "metadata": {
    "collapsed": false
   },
   "outputs": [],
   "source": [
    "colname = ['cust_no', 'label', 'E1', 'E2', 'E3', 'E4', 'E5',\n",
    "       'E6', 'E10', 'E14', 'E15', 'E16', 'E17', 'E18',\n",
    "       'I1', 'I2', 'I3', 'I4', 'I5', 'I6', 'I7', 'I11',\n",
    "       'I15', 'I16', 'I17', 'I18', 'I19', 'I20', 'X1_m1',\n",
    "       'X2_m1', 'X3_m1', 'X4_m1', 'X5_m1', 'X6_m1', 'X7_m1', 'X8_m1', 'B1_m1',\n",
    "       'B2_m1', 'B3_m1', 'B4_m1', 'B5_m1', 'C1_m1', 'C2_m1', 'X1_m2', 'X2_m2',\n",
    "       'X3_m2', 'X4_m2', 'X5_m2', 'X6_m2', 'X7_m2', 'X8_m2', 'B1_m2', 'B2_m2',\n",
    "       'B3_m2', 'B4_m2', 'B5_m2', 'C1_m2', 'C2_m2', 'X1_m3', 'X2_m3', 'X3_m3',\n",
    "       'X4_m3', 'X5_m3', 'X6_m3', 'X7_m3', 'X8_m3', 'B1_m3', 'B2_m3', 'B3_m3',\n",
    "       'B4_m3', 'B5_m3', 'B6_m3', 'B7_m3', 'C1_m3', 'C2_m3', 'Recency', 'Time', \n",
    "       'last_Date', 'first_Date']"
   ]
  },
  {
   "cell_type": "code",
   "execution_count": 59,
   "metadata": {
    "collapsed": false
   },
   "outputs": [],
   "source": [
    "train_Q3.columns = colname\n",
    "train_Q4.columns = colname"
   ]
  },
  {
   "cell_type": "code",
   "execution_count": 60,
   "metadata": {
    "collapsed": false
   },
   "outputs": [],
   "source": [
    "train = pd.concat([train_Q3, train_Q4])"
   ]
  },
  {
   "cell_type": "code",
   "execution_count": 61,
   "metadata": {
    "collapsed": false
   },
   "outputs": [
    {
     "name": "stdout",
     "output_type": "stream",
     "text": [
      "(145290, 79)\n"
     ]
    },
    {
     "data": {
      "text/plain": "      cust_no  label    E1    E2    E3  E4  E5   E6  E10    E14    E15  E16  \\\n0  0xb2d30bf6    1.0   790   789   789   0   0  168    1  18169  18169    0   \n1  0xb2d0c143    1.0  1538  1538  1538   1   1  353  263  18168  18169    0   \n2  0xb2d6004d    1.0   305   305   305   0   0  305  175  18169  18169    0   \n3  0xb2d5a839    1.0   356   356   356   0   1  332  284  18168  18168    1   \n4  0xb2d63b24    1.0   264   244   244   1   0    3    4  18169  18169    0   \n\n       E17  E18   I1    I2  I3   I4    I5   I6   I7  I11  I15  I16  I17  I18  \\\n0      0.0    0  1.0  58.0   4  0.0  서비스직  0.0  0.0  0.0  0.0  0.0  1.0  1.0   \n1      0.0    0  0.0  29.0   3  0.0  프리랜서  0.0  0.0  0.0  0.0  1.0  1.0  1.0   \n2      0.0    0  0.0  63.0   3  0.0   사무원  0.0  0.0  0.0  0.0  1.0  1.0  1.0   \n3  20000.0    1  0.0  29.0   3  0.0   판매원  0.0  0.0  0.0  0.0  1.0  1.0  1.0   \n4      0.0    0  0.0  79.0   3  0.0  프리랜서  0.0  0.0  0.0  0.0  1.0  1.0  1.0   \n\n   I19  I20     X1_m1  X2_m1     X3_m1  X4_m1  X5_m1  X6_m1  X7_m1  X8_m1  \\\n0  1.0  0.0       0.0    0.0  15774.75    0.0    0.0    0.0    0.0    0.0   \n1  1.0  0.0  110000.0    0.0  20000.30    0.0    0.0    0.0    0.0    0.0   \n2  1.0  0.0   70000.0    0.0     13.93    0.0    0.0    0.0    0.0    0.0   \n3  1.0  0.0  153000.0    0.0      0.00    0.0    0.0    0.0    0.0    0.0   \n4  1.0  0.0  167000.0    0.0      8.99    0.0    0.0    0.0    0.0    0.0   \n\n   B1_m1  B2_m1      B3_m1  B4_m1     B5_m1      C1_m1  C2_m1     X1_m2  \\\n0    0.0    0.0       0.00    0.0       0.0   15774.75    1.0       0.0   \n1    8.0    5.0  240533.36    2.0  110000.0  130000.30    3.0  130000.0   \n2    0.0    0.0       0.00    0.0       0.0   70013.93    3.0   70000.0   \n3    0.0    1.0   81000.00    1.0   81000.0  153000.00    3.0  153000.0   \n4    0.0    0.0       0.00    0.0       0.0  167008.99    4.0  167000.0   \n\n   X2_m2     X3_m2  X4_m2  X5_m2  X6_m2  X7_m2  X8_m2  B1_m2  B2_m2    B3_m2  \\\n0    0.0  19449.75    0.0    0.0    0.0    0.0    0.0    0.0    0.0      0.0   \n1    0.0      0.30    0.0    0.0    0.0    0.0    0.0    5.0    1.0  20000.0   \n2    0.0     13.93    0.0    0.0    0.0    0.0    0.0    0.0    0.0      0.0   \n3    0.0      0.00    0.0    0.0    0.0    0.0    0.0    0.0    0.0      0.0   \n4    0.0      8.99    0.0    0.0    0.0    0.0    0.0    0.0    0.0      0.0   \n\n   B4_m2    B5_m2      C1_m2  C2_m2     X1_m3  X2_m3     X3_m3  X4_m3  X5_m3  \\\n0    0.0      0.0   19449.75    1.0       0.0    0.0  23140.95    0.0    0.0   \n1    1.0  20000.0  130000.30    4.0  170000.0    0.0     94.56    0.0    0.0   \n2    0.0      0.0   70013.93    3.0   70000.0    0.0     13.94    0.0    0.0   \n3    0.0      0.0  153000.00    3.0   81000.0    0.0  42812.32    0.0    0.0   \n4    0.0      0.0  167008.99    4.0  107000.0    0.0  61754.33    0.0    0.0   \n\n   X6_m3  X7_m3  X8_m3  B1_m3  B2_m3     B3_m3  B4_m3    B5_m3  B6_m3  B7_m3  \\\n0    0.0    0.0    0.0    0.0    0.0      0.00    0.0      0.0     18    3.0   \n1    0.0    0.0    0.0   11.0    2.0  80084.44    1.0  60000.0     10   21.0   \n2    0.0    0.0    0.0    0.0    0.0      0.00    0.0      0.0    163    0.0   \n3    0.0    0.0    0.0    7.0    1.0  72803.60    1.0  30000.0     18    4.0   \n4    0.0    0.0    0.0    0.0    1.0  61745.33    0.0      0.0      2    1.0   \n\n       C1_m3  C2_m3  Recency  Time           last_Date first_Date  \n0   23140.95    1.0      149   169 2019-09-11 18:00:00 2019-04-15  \n1  170094.56    4.0      342   354 2019-09-19 05:04:00 2018-10-12  \n2   70013.94    3.0      141   306 2019-04-19 04:03:00 2018-11-29  \n3  123812.32    2.0      313   333 2019-09-11 15:40:00 2018-11-02  \n4  168754.33    3.0        0     4 2019-09-27 18:00:00 2019-09-27  ",
      "text/html": "<div>\n<style scoped>\n    .dataframe tbody tr th:only-of-type {\n        vertical-align: middle;\n    }\n\n    .dataframe tbody tr th {\n        vertical-align: top;\n    }\n\n    .dataframe thead th {\n        text-align: right;\n    }\n</style>\n<table border=\"1\" class=\"dataframe\">\n  <thead>\n    <tr style=\"text-align: right;\">\n      <th></th>\n      <th>cust_no</th>\n      <th>label</th>\n      <th>E1</th>\n      <th>E2</th>\n      <th>E3</th>\n      <th>E4</th>\n      <th>E5</th>\n      <th>E6</th>\n      <th>E10</th>\n      <th>E14</th>\n      <th>E15</th>\n      <th>E16</th>\n      <th>E17</th>\n      <th>E18</th>\n      <th>I1</th>\n      <th>I2</th>\n      <th>I3</th>\n      <th>I4</th>\n      <th>I5</th>\n      <th>I6</th>\n      <th>I7</th>\n      <th>I11</th>\n      <th>I15</th>\n      <th>I16</th>\n      <th>I17</th>\n      <th>I18</th>\n      <th>I19</th>\n      <th>I20</th>\n      <th>X1_m1</th>\n      <th>X2_m1</th>\n      <th>X3_m1</th>\n      <th>X4_m1</th>\n      <th>X5_m1</th>\n      <th>X6_m1</th>\n      <th>X7_m1</th>\n      <th>X8_m1</th>\n      <th>B1_m1</th>\n      <th>B2_m1</th>\n      <th>B3_m1</th>\n      <th>B4_m1</th>\n      <th>B5_m1</th>\n      <th>C1_m1</th>\n      <th>C2_m1</th>\n      <th>X1_m2</th>\n      <th>X2_m2</th>\n      <th>X3_m2</th>\n      <th>X4_m2</th>\n      <th>X5_m2</th>\n      <th>X6_m2</th>\n      <th>X7_m2</th>\n      <th>X8_m2</th>\n      <th>B1_m2</th>\n      <th>B2_m2</th>\n      <th>B3_m2</th>\n      <th>B4_m2</th>\n      <th>B5_m2</th>\n      <th>C1_m2</th>\n      <th>C2_m2</th>\n      <th>X1_m3</th>\n      <th>X2_m3</th>\n      <th>X3_m3</th>\n      <th>X4_m3</th>\n      <th>X5_m3</th>\n      <th>X6_m3</th>\n      <th>X7_m3</th>\n      <th>X8_m3</th>\n      <th>B1_m3</th>\n      <th>B2_m3</th>\n      <th>B3_m3</th>\n      <th>B4_m3</th>\n      <th>B5_m3</th>\n      <th>B6_m3</th>\n      <th>B7_m3</th>\n      <th>C1_m3</th>\n      <th>C2_m3</th>\n      <th>Recency</th>\n      <th>Time</th>\n      <th>last_Date</th>\n      <th>first_Date</th>\n    </tr>\n  </thead>\n  <tbody>\n    <tr>\n      <th>0</th>\n      <td>0xb2d30bf6</td>\n      <td>1.0</td>\n      <td>790</td>\n      <td>789</td>\n      <td>789</td>\n      <td>0</td>\n      <td>0</td>\n      <td>168</td>\n      <td>1</td>\n      <td>18169</td>\n      <td>18169</td>\n      <td>0</td>\n      <td>0.0</td>\n      <td>0</td>\n      <td>1.0</td>\n      <td>58.0</td>\n      <td>4</td>\n      <td>0.0</td>\n      <td>서비스직</td>\n      <td>0.0</td>\n      <td>0.0</td>\n      <td>0.0</td>\n      <td>0.0</td>\n      <td>0.0</td>\n      <td>1.0</td>\n      <td>1.0</td>\n      <td>1.0</td>\n      <td>0.0</td>\n      <td>0.0</td>\n      <td>0.0</td>\n      <td>15774.75</td>\n      <td>0.0</td>\n      <td>0.0</td>\n      <td>0.0</td>\n      <td>0.0</td>\n      <td>0.0</td>\n      <td>0.0</td>\n      <td>0.0</td>\n      <td>0.00</td>\n      <td>0.0</td>\n      <td>0.0</td>\n      <td>15774.75</td>\n      <td>1.0</td>\n      <td>0.0</td>\n      <td>0.0</td>\n      <td>19449.75</td>\n      <td>0.0</td>\n      <td>0.0</td>\n      <td>0.0</td>\n      <td>0.0</td>\n      <td>0.0</td>\n      <td>0.0</td>\n      <td>0.0</td>\n      <td>0.0</td>\n      <td>0.0</td>\n      <td>0.0</td>\n      <td>19449.75</td>\n      <td>1.0</td>\n      <td>0.0</td>\n      <td>0.0</td>\n      <td>23140.95</td>\n      <td>0.0</td>\n      <td>0.0</td>\n      <td>0.0</td>\n      <td>0.0</td>\n      <td>0.0</td>\n      <td>0.0</td>\n      <td>0.0</td>\n      <td>0.00</td>\n      <td>0.0</td>\n      <td>0.0</td>\n      <td>18</td>\n      <td>3.0</td>\n      <td>23140.95</td>\n      <td>1.0</td>\n      <td>149</td>\n      <td>169</td>\n      <td>2019-09-11 18:00:00</td>\n      <td>2019-04-15</td>\n    </tr>\n    <tr>\n      <th>1</th>\n      <td>0xb2d0c143</td>\n      <td>1.0</td>\n      <td>1538</td>\n      <td>1538</td>\n      <td>1538</td>\n      <td>1</td>\n      <td>1</td>\n      <td>353</td>\n      <td>263</td>\n      <td>18168</td>\n      <td>18169</td>\n      <td>0</td>\n      <td>0.0</td>\n      <td>0</td>\n      <td>0.0</td>\n      <td>29.0</td>\n      <td>3</td>\n      <td>0.0</td>\n      <td>프리랜서</td>\n      <td>0.0</td>\n      <td>0.0</td>\n      <td>0.0</td>\n      <td>0.0</td>\n      <td>1.0</td>\n      <td>1.0</td>\n      <td>1.0</td>\n      <td>1.0</td>\n      <td>0.0</td>\n      <td>110000.0</td>\n      <td>0.0</td>\n      <td>20000.30</td>\n      <td>0.0</td>\n      <td>0.0</td>\n      <td>0.0</td>\n      <td>0.0</td>\n      <td>0.0</td>\n      <td>8.0</td>\n      <td>5.0</td>\n      <td>240533.36</td>\n      <td>2.0</td>\n      <td>110000.0</td>\n      <td>130000.30</td>\n      <td>3.0</td>\n      <td>130000.0</td>\n      <td>0.0</td>\n      <td>0.30</td>\n      <td>0.0</td>\n      <td>0.0</td>\n      <td>0.0</td>\n      <td>0.0</td>\n      <td>0.0</td>\n      <td>5.0</td>\n      <td>1.0</td>\n      <td>20000.0</td>\n      <td>1.0</td>\n      <td>20000.0</td>\n      <td>130000.30</td>\n      <td>4.0</td>\n      <td>170000.0</td>\n      <td>0.0</td>\n      <td>94.56</td>\n      <td>0.0</td>\n      <td>0.0</td>\n      <td>0.0</td>\n      <td>0.0</td>\n      <td>0.0</td>\n      <td>11.0</td>\n      <td>2.0</td>\n      <td>80084.44</td>\n      <td>1.0</td>\n      <td>60000.0</td>\n      <td>10</td>\n      <td>21.0</td>\n      <td>170094.56</td>\n      <td>4.0</td>\n      <td>342</td>\n      <td>354</td>\n      <td>2019-09-19 05:04:00</td>\n      <td>2018-10-12</td>\n    </tr>\n    <tr>\n      <th>2</th>\n      <td>0xb2d6004d</td>\n      <td>1.0</td>\n      <td>305</td>\n      <td>305</td>\n      <td>305</td>\n      <td>0</td>\n      <td>0</td>\n      <td>305</td>\n      <td>175</td>\n      <td>18169</td>\n      <td>18169</td>\n      <td>0</td>\n      <td>0.0</td>\n      <td>0</td>\n      <td>0.0</td>\n      <td>63.0</td>\n      <td>3</td>\n      <td>0.0</td>\n      <td>사무원</td>\n      <td>0.0</td>\n      <td>0.0</td>\n      <td>0.0</td>\n      <td>0.0</td>\n      <td>1.0</td>\n      <td>1.0</td>\n      <td>1.0</td>\n      <td>1.0</td>\n      <td>0.0</td>\n      <td>70000.0</td>\n      <td>0.0</td>\n      <td>13.93</td>\n      <td>0.0</td>\n      <td>0.0</td>\n      <td>0.0</td>\n      <td>0.0</td>\n      <td>0.0</td>\n      <td>0.0</td>\n      <td>0.0</td>\n      <td>0.00</td>\n      <td>0.0</td>\n      <td>0.0</td>\n      <td>70013.93</td>\n      <td>3.0</td>\n      <td>70000.0</td>\n      <td>0.0</td>\n      <td>13.93</td>\n      <td>0.0</td>\n      <td>0.0</td>\n      <td>0.0</td>\n      <td>0.0</td>\n      <td>0.0</td>\n      <td>0.0</td>\n      <td>0.0</td>\n      <td>0.0</td>\n      <td>0.0</td>\n      <td>0.0</td>\n      <td>70013.93</td>\n      <td>3.0</td>\n      <td>70000.0</td>\n      <td>0.0</td>\n      <td>13.94</td>\n      <td>0.0</td>\n      <td>0.0</td>\n      <td>0.0</td>\n      <td>0.0</td>\n      <td>0.0</td>\n      <td>0.0</td>\n      <td>0.0</td>\n      <td>0.00</td>\n      <td>0.0</td>\n      <td>0.0</td>\n      <td>163</td>\n      <td>0.0</td>\n      <td>70013.94</td>\n      <td>3.0</td>\n      <td>141</td>\n      <td>306</td>\n      <td>2019-04-19 04:03:00</td>\n      <td>2018-11-29</td>\n    </tr>\n    <tr>\n      <th>3</th>\n      <td>0xb2d5a839</td>\n      <td>1.0</td>\n      <td>356</td>\n      <td>356</td>\n      <td>356</td>\n      <td>0</td>\n      <td>1</td>\n      <td>332</td>\n      <td>284</td>\n      <td>18168</td>\n      <td>18168</td>\n      <td>1</td>\n      <td>20000.0</td>\n      <td>1</td>\n      <td>0.0</td>\n      <td>29.0</td>\n      <td>3</td>\n      <td>0.0</td>\n      <td>판매원</td>\n      <td>0.0</td>\n      <td>0.0</td>\n      <td>0.0</td>\n      <td>0.0</td>\n      <td>1.0</td>\n      <td>1.0</td>\n      <td>1.0</td>\n      <td>1.0</td>\n      <td>0.0</td>\n      <td>153000.0</td>\n      <td>0.0</td>\n      <td>0.00</td>\n      <td>0.0</td>\n      <td>0.0</td>\n      <td>0.0</td>\n      <td>0.0</td>\n      <td>0.0</td>\n      <td>0.0</td>\n      <td>1.0</td>\n      <td>81000.00</td>\n      <td>1.0</td>\n      <td>81000.0</td>\n      <td>153000.00</td>\n      <td>3.0</td>\n      <td>153000.0</td>\n      <td>0.0</td>\n      <td>0.00</td>\n      <td>0.0</td>\n      <td>0.0</td>\n      <td>0.0</td>\n      <td>0.0</td>\n      <td>0.0</td>\n      <td>0.0</td>\n      <td>0.0</td>\n      <td>0.0</td>\n      <td>0.0</td>\n      <td>0.0</td>\n      <td>153000.00</td>\n      <td>3.0</td>\n      <td>81000.0</td>\n      <td>0.0</td>\n      <td>42812.32</td>\n      <td>0.0</td>\n      <td>0.0</td>\n      <td>0.0</td>\n      <td>0.0</td>\n      <td>0.0</td>\n      <td>7.0</td>\n      <td>1.0</td>\n      <td>72803.60</td>\n      <td>1.0</td>\n      <td>30000.0</td>\n      <td>18</td>\n      <td>4.0</td>\n      <td>123812.32</td>\n      <td>2.0</td>\n      <td>313</td>\n      <td>333</td>\n      <td>2019-09-11 15:40:00</td>\n      <td>2018-11-02</td>\n    </tr>\n    <tr>\n      <th>4</th>\n      <td>0xb2d63b24</td>\n      <td>1.0</td>\n      <td>264</td>\n      <td>244</td>\n      <td>244</td>\n      <td>1</td>\n      <td>0</td>\n      <td>3</td>\n      <td>4</td>\n      <td>18169</td>\n      <td>18169</td>\n      <td>0</td>\n      <td>0.0</td>\n      <td>0</td>\n      <td>0.0</td>\n      <td>79.0</td>\n      <td>3</td>\n      <td>0.0</td>\n      <td>프리랜서</td>\n      <td>0.0</td>\n      <td>0.0</td>\n      <td>0.0</td>\n      <td>0.0</td>\n      <td>1.0</td>\n      <td>1.0</td>\n      <td>1.0</td>\n      <td>1.0</td>\n      <td>0.0</td>\n      <td>167000.0</td>\n      <td>0.0</td>\n      <td>8.99</td>\n      <td>0.0</td>\n      <td>0.0</td>\n      <td>0.0</td>\n      <td>0.0</td>\n      <td>0.0</td>\n      <td>0.0</td>\n      <td>0.0</td>\n      <td>0.00</td>\n      <td>0.0</td>\n      <td>0.0</td>\n      <td>167008.99</td>\n      <td>4.0</td>\n      <td>167000.0</td>\n      <td>0.0</td>\n      <td>8.99</td>\n      <td>0.0</td>\n      <td>0.0</td>\n      <td>0.0</td>\n      <td>0.0</td>\n      <td>0.0</td>\n      <td>0.0</td>\n      <td>0.0</td>\n      <td>0.0</td>\n      <td>0.0</td>\n      <td>0.0</td>\n      <td>167008.99</td>\n      <td>4.0</td>\n      <td>107000.0</td>\n      <td>0.0</td>\n      <td>61754.33</td>\n      <td>0.0</td>\n      <td>0.0</td>\n      <td>0.0</td>\n      <td>0.0</td>\n      <td>0.0</td>\n      <td>0.0</td>\n      <td>1.0</td>\n      <td>61745.33</td>\n      <td>0.0</td>\n      <td>0.0</td>\n      <td>2</td>\n      <td>1.0</td>\n      <td>168754.33</td>\n      <td>3.0</td>\n      <td>0</td>\n      <td>4</td>\n      <td>2019-09-27 18:00:00</td>\n      <td>2019-09-27</td>\n    </tr>\n  </tbody>\n</table>\n</div>"
     },
     "execution_count": 61,
     "metadata": {},
     "output_type": "execute_result"
    }
   ],
   "source": [
    "print(train.shape)\n",
    "train.head()"
   ]
  },
  {
   "cell_type": "code",
   "execution_count": 62,
   "metadata": {
    "collapsed": false
   },
   "outputs": [
    {
     "name": "stdout",
     "output_type": "stream",
     "text": [
      "<class 'pandas.core.frame.DataFrame'>\n",
      "Int64Index: 145290 entries, 0 to 82898\n",
      "Data columns (total 79 columns):\n",
      " #   Column      Non-Null Count   Dtype         \n",
      "---  ------      --------------   -----         \n",
      " 0   cust_no     145290 non-null  object        \n",
      " 1   label       145290 non-null  float64       \n",
      " 2   E1          145290 non-null  int64         \n",
      " 3   E2          145290 non-null  int64         \n",
      " 4   E3          145290 non-null  int64         \n",
      " 5   E4          145290 non-null  int64         \n",
      " 6   E5          145290 non-null  int64         \n",
      " 7   E6          145290 non-null  int64         \n",
      " 8   E10         145290 non-null  int64         \n",
      " 9   E14         145290 non-null  int64         \n",
      " 10  E15         145290 non-null  int64         \n",
      " 11  E16         145290 non-null  int64         \n",
      " 12  E17         145290 non-null  float64       \n",
      " 13  E18         145290 non-null  int64         \n",
      " 14  I1          145226 non-null  float64       \n",
      " 15  I2          145290 non-null  float64       \n",
      " 16  I3          145290 non-null  int64         \n",
      " 17  I4          145290 non-null  float64       \n",
      " 18  I5          145290 non-null  object        \n",
      " 19  I6          145290 non-null  float64       \n",
      " 20  I7          145290 non-null  float64       \n",
      " 21  I11         145290 non-null  float64       \n",
      " 22  I15         145290 non-null  float64       \n",
      " 23  I16         145290 non-null  float64       \n",
      " 24  I17         145290 non-null  float64       \n",
      " 25  I18         145290 non-null  float64       \n",
      " 26  I19         145290 non-null  float64       \n",
      " 27  I20         145290 non-null  float64       \n",
      " 28  X1_m1       145290 non-null  float64       \n",
      " 29  X2_m1       145290 non-null  float64       \n",
      " 30  X3_m1       145290 non-null  float64       \n",
      " 31  X4_m1       145290 non-null  float64       \n",
      " 32  X5_m1       145290 non-null  float64       \n",
      " 33  X6_m1       145290 non-null  float64       \n",
      " 34  X7_m1       145290 non-null  float64       \n",
      " 35  X8_m1       145290 non-null  float64       \n",
      " 36  B1_m1       145290 non-null  float64       \n",
      " 37  B2_m1       145290 non-null  float64       \n",
      " 38  B3_m1       145290 non-null  float64       \n",
      " 39  B4_m1       145290 non-null  float64       \n",
      " 40  B5_m1       145290 non-null  float64       \n",
      " 41  C1_m1       145290 non-null  float64       \n",
      " 42  C2_m1       145290 non-null  float64       \n",
      " 43  X1_m2       145290 non-null  float64       \n",
      " 44  X2_m2       145290 non-null  float64       \n",
      " 45  X3_m2       145290 non-null  float64       \n",
      " 46  X4_m2       145290 non-null  float64       \n",
      " 47  X5_m2       145290 non-null  float64       \n",
      " 48  X6_m2       145290 non-null  float64       \n",
      " 49  X7_m2       145290 non-null  float64       \n",
      " 50  X8_m2       145290 non-null  float64       \n",
      " 51  B1_m2       145290 non-null  float64       \n",
      " 52  B2_m2       145290 non-null  float64       \n",
      " 53  B3_m2       145290 non-null  float64       \n",
      " 54  B4_m2       145290 non-null  float64       \n",
      " 55  B5_m2       145290 non-null  float64       \n",
      " 56  C1_m2       145290 non-null  float64       \n",
      " 57  C2_m2       145290 non-null  float64       \n",
      " 58  X1_m3       145290 non-null  float64       \n",
      " 59  X2_m3       145290 non-null  float64       \n",
      " 60  X3_m3       145290 non-null  float64       \n",
      " 61  X4_m3       145290 non-null  float64       \n",
      " 62  X5_m3       145290 non-null  float64       \n",
      " 63  X6_m3       145290 non-null  float64       \n",
      " 64  X7_m3       145290 non-null  float64       \n",
      " 65  X8_m3       145290 non-null  float64       \n",
      " 66  B1_m3       145290 non-null  float64       \n",
      " 67  B2_m3       145290 non-null  float64       \n",
      " 68  B3_m3       145290 non-null  float64       \n",
      " 69  B4_m3       145290 non-null  float64       \n",
      " 70  B5_m3       145290 non-null  float64       \n",
      " 71  B6_m3       145290 non-null  int64         \n",
      " 72  B7_m3       145290 non-null  float64       \n",
      " 73  C1_m3       145290 non-null  float64       \n",
      " 74  C2_m3       145290 non-null  float64       \n",
      " 75  Recency     145290 non-null  int64         \n",
      " 76  Time        145290 non-null  int64         \n",
      " 77  last_Date   145290 non-null  datetime64[ns]\n",
      " 78  first_Date  145290 non-null  datetime64[ns]\n",
      "dtypes: datetime64[ns](2), float64(60), int64(15), object(2)\n",
      "memory usage: 88.7+ MB\n"
     ]
    }
   ],
   "source": [
    "train.info()"
   ]
  },
  {
   "cell_type": "markdown",
   "metadata": {
    "collapsed": false
   },
   "source": [
    "### **dummy 변수 생성 (I5)**\n"
   ]
  },
  {
   "cell_type": "code",
   "execution_count": 63,
   "metadata": {
    "collapsed": false
   },
   "outputs": [
    {
     "name": "stdout",
     "output_type": "stream",
     "text": [
      "(145290, 90)\n"
     ]
    }
   ],
   "source": [
    "# create dummy variable\n",
    "train = pd.concat([train,pd.get_dummies(train.I5)], axis = 1)\n",
    "print(train.shape)"
   ]
  },
  {
   "cell_type": "code",
   "execution_count": 64,
   "metadata": {},
   "outputs": [
    {
     "data": {
      "text/plain": "      cust_no  label    E1    E2    E3  E4  E5   E6  E10    E14    E15  E16  \\\n0  0xb2d30bf6    1.0   790   789   789   0   0  168    1  18169  18169    0   \n1  0xb2d0c143    1.0  1538  1538  1538   1   1  353  263  18168  18169    0   \n2  0xb2d6004d    1.0   305   305   305   0   0  305  175  18169  18169    0   \n3  0xb2d5a839    1.0   356   356   356   0   1  332  284  18168  18168    1   \n4  0xb2d63b24    1.0   264   244   244   1   0    3    4  18169  18169    0   \n\n       E17  E18   I1    I2  I3   I4    I5   I6   I7  I11  I15  I16  I17  I18  \\\n0      0.0    0  1.0  58.0   4  0.0  서비스직  0.0  0.0  0.0  0.0  0.0  1.0  1.0   \n1      0.0    0  0.0  29.0   3  0.0  프리랜서  0.0  0.0  0.0  0.0  1.0  1.0  1.0   \n2      0.0    0  0.0  63.0   3  0.0   사무원  0.0  0.0  0.0  0.0  1.0  1.0  1.0   \n3  20000.0    1  0.0  29.0   3  0.0   판매원  0.0  0.0  0.0  0.0  1.0  1.0  1.0   \n4      0.0    0  0.0  79.0   3  0.0  프리랜서  0.0  0.0  0.0  0.0  1.0  1.0  1.0   \n\n   I19  I20     X1_m1  X2_m1     X3_m1  X4_m1  X5_m1  X6_m1  X7_m1  X8_m1  \\\n0  1.0  0.0       0.0    0.0  15774.75    0.0    0.0    0.0    0.0    0.0   \n1  1.0  0.0  110000.0    0.0  20000.30    0.0    0.0    0.0    0.0    0.0   \n2  1.0  0.0   70000.0    0.0     13.93    0.0    0.0    0.0    0.0    0.0   \n3  1.0  0.0  153000.0    0.0      0.00    0.0    0.0    0.0    0.0    0.0   \n4  1.0  0.0  167000.0    0.0      8.99    0.0    0.0    0.0    0.0    0.0   \n\n   B1_m1  B2_m1      B3_m1  B4_m1     B5_m1      C1_m1  C2_m1     X1_m2  \\\n0    0.0    0.0       0.00    0.0       0.0   15774.75    1.0       0.0   \n1    8.0    5.0  240533.36    2.0  110000.0  130000.30    3.0  130000.0   \n2    0.0    0.0       0.00    0.0       0.0   70013.93    3.0   70000.0   \n3    0.0    1.0   81000.00    1.0   81000.0  153000.00    3.0  153000.0   \n4    0.0    0.0       0.00    0.0       0.0  167008.99    4.0  167000.0   \n\n   X2_m2     X3_m2  X4_m2  X5_m2  X6_m2  X7_m2  X8_m2  B1_m2  B2_m2    B3_m2  \\\n0    0.0  19449.75    0.0    0.0    0.0    0.0    0.0    0.0    0.0      0.0   \n1    0.0      0.30    0.0    0.0    0.0    0.0    0.0    5.0    1.0  20000.0   \n2    0.0     13.93    0.0    0.0    0.0    0.0    0.0    0.0    0.0      0.0   \n3    0.0      0.00    0.0    0.0    0.0    0.0    0.0    0.0    0.0      0.0   \n4    0.0      8.99    0.0    0.0    0.0    0.0    0.0    0.0    0.0      0.0   \n\n   B4_m2    B5_m2      C1_m2  C2_m2     X1_m3  X2_m3     X3_m3  X4_m3  X5_m3  \\\n0    0.0      0.0   19449.75    1.0       0.0    0.0  23140.95    0.0    0.0   \n1    1.0  20000.0  130000.30    4.0  170000.0    0.0     94.56    0.0    0.0   \n2    0.0      0.0   70013.93    3.0   70000.0    0.0     13.94    0.0    0.0   \n3    0.0      0.0  153000.00    3.0   81000.0    0.0  42812.32    0.0    0.0   \n4    0.0      0.0  167008.99    4.0  107000.0    0.0  61754.33    0.0    0.0   \n\n   X6_m3  X7_m3  X8_m3  B1_m3  B2_m3     B3_m3  B4_m3    B5_m3  B6_m3  B7_m3  \\\n0    0.0    0.0    0.0    0.0    0.0      0.00    0.0      0.0     18    3.0   \n1    0.0    0.0    0.0   11.0    2.0  80084.44    1.0  60000.0     10   21.0   \n2    0.0    0.0    0.0    0.0    0.0      0.00    0.0      0.0    163    0.0   \n3    0.0    0.0    0.0    7.0    1.0  72803.60    1.0  30000.0     18    4.0   \n4    0.0    0.0    0.0    0.0    1.0  61745.33    0.0      0.0      2    1.0   \n\n       C1_m3  C2_m3  Recency  Time           last_Date first_Date  군인  농축업  \\\n0   23140.95    1.0      149   169 2019-09-11 18:00:00 2019-04-15   0    0   \n1  170094.56    4.0      342   354 2019-09-19 05:04:00 2018-10-12   0    0   \n2   70013.94    3.0      141   306 2019-04-19 04:03:00 2018-11-29   0    0   \n3  123812.32    2.0      313   333 2019-09-11 15:40:00 2018-11-02   0    0   \n4  168754.33    3.0        0     4 2019-09-27 18:00:00 2019-09-27   0    0   \n\n   무직  사무원  생산직  서비스직  은퇴  전문직  정치인  판매원  프리랜서  \n0   0    0    0     1   0    0    0    0     0  \n1   0    0    0     0   0    0    0    0     1  \n2   0    1    0     0   0    0    0    0     0  \n3   0    0    0     0   0    0    0    1     0  \n4   0    0    0     0   0    0    0    0     1  ",
      "text/html": "<div>\n<style scoped>\n    .dataframe tbody tr th:only-of-type {\n        vertical-align: middle;\n    }\n\n    .dataframe tbody tr th {\n        vertical-align: top;\n    }\n\n    .dataframe thead th {\n        text-align: right;\n    }\n</style>\n<table border=\"1\" class=\"dataframe\">\n  <thead>\n    <tr style=\"text-align: right;\">\n      <th></th>\n      <th>cust_no</th>\n      <th>label</th>\n      <th>E1</th>\n      <th>E2</th>\n      <th>E3</th>\n      <th>E4</th>\n      <th>E5</th>\n      <th>E6</th>\n      <th>E10</th>\n      <th>E14</th>\n      <th>E15</th>\n      <th>E16</th>\n      <th>E17</th>\n      <th>E18</th>\n      <th>I1</th>\n      <th>I2</th>\n      <th>I3</th>\n      <th>I4</th>\n      <th>I5</th>\n      <th>I6</th>\n      <th>I7</th>\n      <th>I11</th>\n      <th>I15</th>\n      <th>I16</th>\n      <th>I17</th>\n      <th>I18</th>\n      <th>I19</th>\n      <th>I20</th>\n      <th>X1_m1</th>\n      <th>X2_m1</th>\n      <th>X3_m1</th>\n      <th>X4_m1</th>\n      <th>X5_m1</th>\n      <th>X6_m1</th>\n      <th>X7_m1</th>\n      <th>X8_m1</th>\n      <th>B1_m1</th>\n      <th>B2_m1</th>\n      <th>B3_m1</th>\n      <th>B4_m1</th>\n      <th>B5_m1</th>\n      <th>C1_m1</th>\n      <th>C2_m1</th>\n      <th>X1_m2</th>\n      <th>X2_m2</th>\n      <th>X3_m2</th>\n      <th>X4_m2</th>\n      <th>X5_m2</th>\n      <th>X6_m2</th>\n      <th>X7_m2</th>\n      <th>X8_m2</th>\n      <th>B1_m2</th>\n      <th>B2_m2</th>\n      <th>B3_m2</th>\n      <th>B4_m2</th>\n      <th>B5_m2</th>\n      <th>C1_m2</th>\n      <th>C2_m2</th>\n      <th>X1_m3</th>\n      <th>X2_m3</th>\n      <th>X3_m3</th>\n      <th>X4_m3</th>\n      <th>X5_m3</th>\n      <th>X6_m3</th>\n      <th>X7_m3</th>\n      <th>X8_m3</th>\n      <th>B1_m3</th>\n      <th>B2_m3</th>\n      <th>B3_m3</th>\n      <th>B4_m3</th>\n      <th>B5_m3</th>\n      <th>B6_m3</th>\n      <th>B7_m3</th>\n      <th>C1_m3</th>\n      <th>C2_m3</th>\n      <th>Recency</th>\n      <th>Time</th>\n      <th>last_Date</th>\n      <th>first_Date</th>\n      <th>군인</th>\n      <th>농축업</th>\n      <th>무직</th>\n      <th>사무원</th>\n      <th>생산직</th>\n      <th>서비스직</th>\n      <th>은퇴</th>\n      <th>전문직</th>\n      <th>정치인</th>\n      <th>판매원</th>\n      <th>프리랜서</th>\n    </tr>\n  </thead>\n  <tbody>\n    <tr>\n      <th>0</th>\n      <td>0xb2d30bf6</td>\n      <td>1.0</td>\n      <td>790</td>\n      <td>789</td>\n      <td>789</td>\n      <td>0</td>\n      <td>0</td>\n      <td>168</td>\n      <td>1</td>\n      <td>18169</td>\n      <td>18169</td>\n      <td>0</td>\n      <td>0.0</td>\n      <td>0</td>\n      <td>1.0</td>\n      <td>58.0</td>\n      <td>4</td>\n      <td>0.0</td>\n      <td>서비스직</td>\n      <td>0.0</td>\n      <td>0.0</td>\n      <td>0.0</td>\n      <td>0.0</td>\n      <td>0.0</td>\n      <td>1.0</td>\n      <td>1.0</td>\n      <td>1.0</td>\n      <td>0.0</td>\n      <td>0.0</td>\n      <td>0.0</td>\n      <td>15774.75</td>\n      <td>0.0</td>\n      <td>0.0</td>\n      <td>0.0</td>\n      <td>0.0</td>\n      <td>0.0</td>\n      <td>0.0</td>\n      <td>0.0</td>\n      <td>0.00</td>\n      <td>0.0</td>\n      <td>0.0</td>\n      <td>15774.75</td>\n      <td>1.0</td>\n      <td>0.0</td>\n      <td>0.0</td>\n      <td>19449.75</td>\n      <td>0.0</td>\n      <td>0.0</td>\n      <td>0.0</td>\n      <td>0.0</td>\n      <td>0.0</td>\n      <td>0.0</td>\n      <td>0.0</td>\n      <td>0.0</td>\n      <td>0.0</td>\n      <td>0.0</td>\n      <td>19449.75</td>\n      <td>1.0</td>\n      <td>0.0</td>\n      <td>0.0</td>\n      <td>23140.95</td>\n      <td>0.0</td>\n      <td>0.0</td>\n      <td>0.0</td>\n      <td>0.0</td>\n      <td>0.0</td>\n      <td>0.0</td>\n      <td>0.0</td>\n      <td>0.00</td>\n      <td>0.0</td>\n      <td>0.0</td>\n      <td>18</td>\n      <td>3.0</td>\n      <td>23140.95</td>\n      <td>1.0</td>\n      <td>149</td>\n      <td>169</td>\n      <td>2019-09-11 18:00:00</td>\n      <td>2019-04-15</td>\n      <td>0</td>\n      <td>0</td>\n      <td>0</td>\n      <td>0</td>\n      <td>0</td>\n      <td>1</td>\n      <td>0</td>\n      <td>0</td>\n      <td>0</td>\n      <td>0</td>\n      <td>0</td>\n    </tr>\n    <tr>\n      <th>1</th>\n      <td>0xb2d0c143</td>\n      <td>1.0</td>\n      <td>1538</td>\n      <td>1538</td>\n      <td>1538</td>\n      <td>1</td>\n      <td>1</td>\n      <td>353</td>\n      <td>263</td>\n      <td>18168</td>\n      <td>18169</td>\n      <td>0</td>\n      <td>0.0</td>\n      <td>0</td>\n      <td>0.0</td>\n      <td>29.0</td>\n      <td>3</td>\n      <td>0.0</td>\n      <td>프리랜서</td>\n      <td>0.0</td>\n      <td>0.0</td>\n      <td>0.0</td>\n      <td>0.0</td>\n      <td>1.0</td>\n      <td>1.0</td>\n      <td>1.0</td>\n      <td>1.0</td>\n      <td>0.0</td>\n      <td>110000.0</td>\n      <td>0.0</td>\n      <td>20000.30</td>\n      <td>0.0</td>\n      <td>0.0</td>\n      <td>0.0</td>\n      <td>0.0</td>\n      <td>0.0</td>\n      <td>8.0</td>\n      <td>5.0</td>\n      <td>240533.36</td>\n      <td>2.0</td>\n      <td>110000.0</td>\n      <td>130000.30</td>\n      <td>3.0</td>\n      <td>130000.0</td>\n      <td>0.0</td>\n      <td>0.30</td>\n      <td>0.0</td>\n      <td>0.0</td>\n      <td>0.0</td>\n      <td>0.0</td>\n      <td>0.0</td>\n      <td>5.0</td>\n      <td>1.0</td>\n      <td>20000.0</td>\n      <td>1.0</td>\n      <td>20000.0</td>\n      <td>130000.30</td>\n      <td>4.0</td>\n      <td>170000.0</td>\n      <td>0.0</td>\n      <td>94.56</td>\n      <td>0.0</td>\n      <td>0.0</td>\n      <td>0.0</td>\n      <td>0.0</td>\n      <td>0.0</td>\n      <td>11.0</td>\n      <td>2.0</td>\n      <td>80084.44</td>\n      <td>1.0</td>\n      <td>60000.0</td>\n      <td>10</td>\n      <td>21.0</td>\n      <td>170094.56</td>\n      <td>4.0</td>\n      <td>342</td>\n      <td>354</td>\n      <td>2019-09-19 05:04:00</td>\n      <td>2018-10-12</td>\n      <td>0</td>\n      <td>0</td>\n      <td>0</td>\n      <td>0</td>\n      <td>0</td>\n      <td>0</td>\n      <td>0</td>\n      <td>0</td>\n      <td>0</td>\n      <td>0</td>\n      <td>1</td>\n    </tr>\n    <tr>\n      <th>2</th>\n      <td>0xb2d6004d</td>\n      <td>1.0</td>\n      <td>305</td>\n      <td>305</td>\n      <td>305</td>\n      <td>0</td>\n      <td>0</td>\n      <td>305</td>\n      <td>175</td>\n      <td>18169</td>\n      <td>18169</td>\n      <td>0</td>\n      <td>0.0</td>\n      <td>0</td>\n      <td>0.0</td>\n      <td>63.0</td>\n      <td>3</td>\n      <td>0.0</td>\n      <td>사무원</td>\n      <td>0.0</td>\n      <td>0.0</td>\n      <td>0.0</td>\n      <td>0.0</td>\n      <td>1.0</td>\n      <td>1.0</td>\n      <td>1.0</td>\n      <td>1.0</td>\n      <td>0.0</td>\n      <td>70000.0</td>\n      <td>0.0</td>\n      <td>13.93</td>\n      <td>0.0</td>\n      <td>0.0</td>\n      <td>0.0</td>\n      <td>0.0</td>\n      <td>0.0</td>\n      <td>0.0</td>\n      <td>0.0</td>\n      <td>0.00</td>\n      <td>0.0</td>\n      <td>0.0</td>\n      <td>70013.93</td>\n      <td>3.0</td>\n      <td>70000.0</td>\n      <td>0.0</td>\n      <td>13.93</td>\n      <td>0.0</td>\n      <td>0.0</td>\n      <td>0.0</td>\n      <td>0.0</td>\n      <td>0.0</td>\n      <td>0.0</td>\n      <td>0.0</td>\n      <td>0.0</td>\n      <td>0.0</td>\n      <td>0.0</td>\n      <td>70013.93</td>\n      <td>3.0</td>\n      <td>70000.0</td>\n      <td>0.0</td>\n      <td>13.94</td>\n      <td>0.0</td>\n      <td>0.0</td>\n      <td>0.0</td>\n      <td>0.0</td>\n      <td>0.0</td>\n      <td>0.0</td>\n      <td>0.0</td>\n      <td>0.00</td>\n      <td>0.0</td>\n      <td>0.0</td>\n      <td>163</td>\n      <td>0.0</td>\n      <td>70013.94</td>\n      <td>3.0</td>\n      <td>141</td>\n      <td>306</td>\n      <td>2019-04-19 04:03:00</td>\n      <td>2018-11-29</td>\n      <td>0</td>\n      <td>0</td>\n      <td>0</td>\n      <td>1</td>\n      <td>0</td>\n      <td>0</td>\n      <td>0</td>\n      <td>0</td>\n      <td>0</td>\n      <td>0</td>\n      <td>0</td>\n    </tr>\n    <tr>\n      <th>3</th>\n      <td>0xb2d5a839</td>\n      <td>1.0</td>\n      <td>356</td>\n      <td>356</td>\n      <td>356</td>\n      <td>0</td>\n      <td>1</td>\n      <td>332</td>\n      <td>284</td>\n      <td>18168</td>\n      <td>18168</td>\n      <td>1</td>\n      <td>20000.0</td>\n      <td>1</td>\n      <td>0.0</td>\n      <td>29.0</td>\n      <td>3</td>\n      <td>0.0</td>\n      <td>판매원</td>\n      <td>0.0</td>\n      <td>0.0</td>\n      <td>0.0</td>\n      <td>0.0</td>\n      <td>1.0</td>\n      <td>1.0</td>\n      <td>1.0</td>\n      <td>1.0</td>\n      <td>0.0</td>\n      <td>153000.0</td>\n      <td>0.0</td>\n      <td>0.00</td>\n      <td>0.0</td>\n      <td>0.0</td>\n      <td>0.0</td>\n      <td>0.0</td>\n      <td>0.0</td>\n      <td>0.0</td>\n      <td>1.0</td>\n      <td>81000.00</td>\n      <td>1.0</td>\n      <td>81000.0</td>\n      <td>153000.00</td>\n      <td>3.0</td>\n      <td>153000.0</td>\n      <td>0.0</td>\n      <td>0.00</td>\n      <td>0.0</td>\n      <td>0.0</td>\n      <td>0.0</td>\n      <td>0.0</td>\n      <td>0.0</td>\n      <td>0.0</td>\n      <td>0.0</td>\n      <td>0.0</td>\n      <td>0.0</td>\n      <td>0.0</td>\n      <td>153000.00</td>\n      <td>3.0</td>\n      <td>81000.0</td>\n      <td>0.0</td>\n      <td>42812.32</td>\n      <td>0.0</td>\n      <td>0.0</td>\n      <td>0.0</td>\n      <td>0.0</td>\n      <td>0.0</td>\n      <td>7.0</td>\n      <td>1.0</td>\n      <td>72803.60</td>\n      <td>1.0</td>\n      <td>30000.0</td>\n      <td>18</td>\n      <td>4.0</td>\n      <td>123812.32</td>\n      <td>2.0</td>\n      <td>313</td>\n      <td>333</td>\n      <td>2019-09-11 15:40:00</td>\n      <td>2018-11-02</td>\n      <td>0</td>\n      <td>0</td>\n      <td>0</td>\n      <td>0</td>\n      <td>0</td>\n      <td>0</td>\n      <td>0</td>\n      <td>0</td>\n      <td>0</td>\n      <td>1</td>\n      <td>0</td>\n    </tr>\n    <tr>\n      <th>4</th>\n      <td>0xb2d63b24</td>\n      <td>1.0</td>\n      <td>264</td>\n      <td>244</td>\n      <td>244</td>\n      <td>1</td>\n      <td>0</td>\n      <td>3</td>\n      <td>4</td>\n      <td>18169</td>\n      <td>18169</td>\n      <td>0</td>\n      <td>0.0</td>\n      <td>0</td>\n      <td>0.0</td>\n      <td>79.0</td>\n      <td>3</td>\n      <td>0.0</td>\n      <td>프리랜서</td>\n      <td>0.0</td>\n      <td>0.0</td>\n      <td>0.0</td>\n      <td>0.0</td>\n      <td>1.0</td>\n      <td>1.0</td>\n      <td>1.0</td>\n      <td>1.0</td>\n      <td>0.0</td>\n      <td>167000.0</td>\n      <td>0.0</td>\n      <td>8.99</td>\n      <td>0.0</td>\n      <td>0.0</td>\n      <td>0.0</td>\n      <td>0.0</td>\n      <td>0.0</td>\n      <td>0.0</td>\n      <td>0.0</td>\n      <td>0.00</td>\n      <td>0.0</td>\n      <td>0.0</td>\n      <td>167008.99</td>\n      <td>4.0</td>\n      <td>167000.0</td>\n      <td>0.0</td>\n      <td>8.99</td>\n      <td>0.0</td>\n      <td>0.0</td>\n      <td>0.0</td>\n      <td>0.0</td>\n      <td>0.0</td>\n      <td>0.0</td>\n      <td>0.0</td>\n      <td>0.0</td>\n      <td>0.0</td>\n      <td>0.0</td>\n      <td>167008.99</td>\n      <td>4.0</td>\n      <td>107000.0</td>\n      <td>0.0</td>\n      <td>61754.33</td>\n      <td>0.0</td>\n      <td>0.0</td>\n      <td>0.0</td>\n      <td>0.0</td>\n      <td>0.0</td>\n      <td>0.0</td>\n      <td>1.0</td>\n      <td>61745.33</td>\n      <td>0.0</td>\n      <td>0.0</td>\n      <td>2</td>\n      <td>1.0</td>\n      <td>168754.33</td>\n      <td>3.0</td>\n      <td>0</td>\n      <td>4</td>\n      <td>2019-09-27 18:00:00</td>\n      <td>2019-09-27</td>\n      <td>0</td>\n      <td>0</td>\n      <td>0</td>\n      <td>0</td>\n      <td>0</td>\n      <td>0</td>\n      <td>0</td>\n      <td>0</td>\n      <td>0</td>\n      <td>0</td>\n      <td>1</td>\n    </tr>\n  </tbody>\n</table>\n</div>"
     },
     "execution_count": 64,
     "metadata": {},
     "output_type": "execute_result"
    }
   ],
   "source": [
    "train.head()"
   ]
  },
  {
   "attachments": {},
   "cell_type": "markdown",
   "metadata": {},
   "source": [
    "#### I1열(성별) 결측치 채우기 "
   ]
  },
  {
   "cell_type": "code",
   "execution_count": 65,
   "metadata": {},
   "outputs": [],
   "source": [
    "# 조건1\n",
    "# 성별 결측치 로지스틱회귀로 결측치 대체 \n",
    "\n",
    "from sklearn.ensemble import RandomForestClassifier\n",
    "rf = RandomForestClassifier(max_depth = 15)  \n",
    "\n",
    "X = train.dropna(axis=0).drop(columns = ['I1', 'I5','cust_no', 'Recency','Time','last_Date'\t,'first_Date'])   \n",
    "y = train.dropna(axis=0)['I1']\n",
    "\n",
    "\n",
    "rf_model = rf.fit(X, y)  \n",
    "y_pred = rf_model.predict(X)\n",
    "train['I1'].fillna(pd.Series(y_pred.flatten()), inplace = True)  \n",
    "\n",
    "\n",
    "# 결측치 채우는 같은 코드 train.loc[train.I1.isna(), 'I1'] = rf_model.predict(train[train.I1.isna()].drop(columns = ['I1', 'cust_no', 'Recency','Time','last_Date','first_Date'], axis = 1))\n"
   ]
  },
  {
   "cell_type": "code",
   "execution_count": 66,
   "metadata": {},
   "outputs": [],
   "source": [
    "# 조건 2 \n",
    "train = train[train.label !=0]"
   ]
  },
  {
   "cell_type": "code",
   "execution_count": 67,
   "metadata": {},
   "outputs": [],
   "source": [
    "# Monetary 열 생성 \n",
    "train_X_monetary = train[['X1_m1','X2_m1','X3_m1','X4_m1','X5_m1','X6_m1','X7_m1','X8_m1',\n",
    "                          'X1_m2','X2_m2','X3_m2','X4_m2','X5_m2','X6_m2','X7_m2','X8_m2',\n",
    "                          'X1_m3','X2_m3','X3_m3','X4_m3','X5_m3','X6_m3','X7_m3','X8_m3']]\n",
    "\n",
    "train_X_monetary = train_X_monetary.replace(0, np.NaN)\n",
    "\n",
    "train_X_monetary= train_X_monetary.mean(axis= 'columns')\n",
    "pd.options.display.float_format = '{:.2f}'.format\n",
    "\n",
    "train_X_monetary = train_X_monetary.replace(np.NaN, 0)\n",
    "train['Monetary_mean'] = train_X_monetary"
   ]
  },
  {
   "cell_type": "code",
   "execution_count": 68,
   "metadata": {},
   "outputs": [],
   "source": [
    "train['X2_mean'] = train[['X2_m1', 'X2_m2', 'X2_m3']].mean(axis=1)\n",
    "train['X3_mean'] = train[['X3_m1', 'X3_m2', 'X3_m3']].mean(axis=1)\n",
    "train['X4_mean'] = train[['X4_m1', 'X4_m2', 'X4_m3']].mean(axis=1)\n",
    "train['X5_mean'] = train[['X5_m1', 'X2_m2', 'X5_m3']].mean(axis=1)\n",
    "train['X7_mean'] = train[['X7_m1', 'X2_m2', 'X7_m3']].mean(axis=1)"
   ]
  },
  {
   "cell_type": "code",
   "execution_count": 69,
   "metadata": {},
   "outputs": [],
   "source": [
    "train.to_csv('./data/LTV_data2.csv', index = False)"
   ]
  },
  {
   "attachments": {},
   "cell_type": "markdown",
   "metadata": {},
   "source": [
    "## **2. LTV모델링**\n",
    "\n",
    "Recency와 Time 데이터의 기간 : B6(마지막거래날짜), E6(최초거래날짜)는 2017-02-22 ~ 2019-12-31까지의 데이터  \n",
    " Monetary 데이터의 기간 : 2019년 7월~12월 사이 고객의 잔액관련 금액의 평균값\n",
    "\n",
    "\n",
    "Recency : 첫 거래 ~ 마지막 거래까지의 시간 (tx−t0)   \n",
    "Frequency : 첫 거래~ 집계일까지의 거래 횟수    \n",
    "Time : 첫 거래 ~ 집계일까지의 거래의 시간 (time)    \n",
    "Monetary : 거래 건마다의 거래 금액    \n",
    "\n",
    "\n",
    "- Frequency = B7, 거래한 횟수를 의미, 기간 : 한 시즌 (계절)으로 대략 3개월 = 90일간의 거래횟수 \n",
    "[참고] 나중에 해석할때 예를 들어 90일 이내에 거래횟수가 막 14000도 존재하는데, 이러한 이유는 \n",
    "원래 데이터 behavior_m9, behavior_m12만 조회해봐도, 한 시즌 = 약 90일의 거래횟수가 90번을 훌쩍 넘는다. 이점은 구매데이터와 거래데이터를 다룰 때 주의해야 할 점이지만 ltv를 금융고객에 적용시키고자 했다는 의의가 있음.  \n",
    "\n",
    "- Time = 3분기는 2019-10-01을 집계일로, 4분기는 2020-01-01을 집계일로 설정했다.\n",
    "[참고] \n",
    "예시 데이터에서는 마지막 거래날짜의 최댓값 = B6_m9, B6_m12 =(2019-9-31, 2019-12-31)  \n",
    "\n",
    "- Recency = 마지막 거래날짜(B6_m9, B6_m12) - 최초 입출금 거래날짜(E6_Q3, E6_Q4) 에서 \n",
    "0일 이상인 Recency만 추출   \n",
    "[참고]  최초 거래날짜 데이터가 없기에  전처리에서 남은 E열(최초 ~ 날짜) 중 거래시작날짜가 아닌 로그인 및 계좌개설 날짜만 존재했기에 가장 best choice = B6열이었음\n",
    "\n",
    "\n",
    "**LTV 계산과정** \n",
    "\n",
    "1. 고객별 RFMT를 구하기\n",
    "2. BG/NBD 모형에 넣어 예상 구매 일수 구하기 \n",
    "3. Gamma-Gamma 모형에 넣어 예상 구매 금액을 구하기 \n",
    "4. BG/NBD 모형과 Gamma-Gamma 모형을 합쳐 LTV를 구하기"
   ]
  },
  {
   "cell_type": "code",
   "execution_count": 70,
   "metadata": {},
   "outputs": [],
   "source": [
    "train = pd.read_csv('./data/LTV_data2.csv')"
   ]
  },
  {
   "cell_type": "code",
   "execution_count": 71,
   "metadata": {},
   "outputs": [
    {
     "data": {
      "text/plain": "cust_no          0\nlabel            0\nE1               0\nE2               0\nE3               0\nE4               0\nE5               0\nE6               0\nE10              0\nE14              0\nE15              0\nE16              0\nE17              0\nE18              0\nI1               0\nI2               0\nI3               0\nI4               0\nI5               0\nI6               0\nI7               0\nI11              0\nI15              0\nI16              0\nI17              0\nI18              0\nI19              0\nI20              0\nX1_m1            0\nX2_m1            0\nX3_m1            0\nX4_m1            0\nX5_m1            0\nX6_m1            0\nX7_m1            0\nX8_m1            0\nB1_m1            0\nB2_m1            0\nB3_m1            0\nB4_m1            0\nB5_m1            0\nC1_m1            0\nC2_m1            0\nX1_m2            0\nX2_m2            0\nX3_m2            0\nX4_m2            0\nX5_m2            0\nX6_m2            0\nX7_m2            0\nX8_m2            0\nB1_m2            0\nB2_m2            0\nB3_m2            0\nB4_m2            0\nB5_m2            0\nC1_m2            0\nC2_m2            0\nX1_m3            0\nX2_m3            0\nX3_m3            0\nX4_m3            0\nX5_m3            0\nX6_m3            0\nX7_m3            0\nX8_m3            0\nB1_m3            0\nB2_m3            0\nB3_m3            0\nB4_m3            0\nB5_m3            0\nB6_m3            0\nB7_m3            0\nC1_m3            0\nC2_m3            0\nRecency          0\nTime             0\nlast_Date        0\nfirst_Date       0\n군인               0\n농축업              0\n무직               0\n사무원              0\n생산직              0\n서비스직             0\n은퇴               0\n전문직              0\n정치인              0\n판매원              0\n프리랜서             0\nMonetary_mean    0\nX2_mean          0\nX3_mean          0\nX4_mean          0\nX5_mean          0\nX7_mean          0\ndtype: int64"
     },
     "execution_count": 71,
     "metadata": {},
     "output_type": "execute_result"
    }
   ],
   "source": [
    "train.head()  \n",
    "train.isnull().sum() # 확인결과 I1 gender 64개의 null 값 존재함 "
   ]
  },
  {
   "cell_type": "code",
   "execution_count": 72,
   "metadata": {},
   "outputs": [
    {
     "data": {
      "text/plain": "      cust_no  label    E1    E2    E3  E4  E5   E6  E10    E14    E15  E16  \\\n0  0xb2d30bf6   1.00   790   789   789   0   0  168    1  18169  18169    0   \n1  0xb2d0c143   1.00  1538  1538  1538   1   1  353  263  18168  18169    0   \n2  0xb2d6004d   1.00   305   305   305   0   0  305  175  18169  18169    0   \n3  0xb2d5a839   1.00   356   356   356   0   1  332  284  18168  18168    1   \n4  0xb2d63b24   1.00   264   244   244   1   0    3    4  18169  18169    0   \n\n       E17  E18   I1    I2  I3   I4    I5   I6   I7  I11  I15  I16  I17  I18  \\\n0     0.00    0 1.00 58.00   4 0.00  서비스직 0.00 0.00 0.00 0.00 0.00 1.00 1.00   \n1     0.00    0 0.00 29.00   3 0.00  프리랜서 0.00 0.00 0.00 0.00 1.00 1.00 1.00   \n2     0.00    0 0.00 63.00   3 0.00   사무원 0.00 0.00 0.00 0.00 1.00 1.00 1.00   \n3 20000.00    1 0.00 29.00   3 0.00   판매원 0.00 0.00 0.00 0.00 1.00 1.00 1.00   \n4     0.00    0 0.00 79.00   3 0.00  프리랜서 0.00 0.00 0.00 0.00 1.00 1.00 1.00   \n\n   I19  I20     X1_m1  X2_m1    X3_m1  X4_m1  X5_m1  X6_m1  X7_m1  X8_m1  \\\n0 1.00 0.00      0.00   0.00 15774.75   0.00   0.00   0.00   0.00   0.00   \n1 1.00 0.00 110000.00   0.00 20000.30   0.00   0.00   0.00   0.00   0.00   \n2 1.00 0.00  70000.00   0.00    13.93   0.00   0.00   0.00   0.00   0.00   \n3 1.00 0.00 153000.00   0.00     0.00   0.00   0.00   0.00   0.00   0.00   \n4 1.00 0.00 167000.00   0.00     8.99   0.00   0.00   0.00   0.00   0.00   \n\n   B1_m1  B2_m1     B3_m1  B4_m1     B5_m1     C1_m1  C2_m1     X1_m2  X2_m2  \\\n0   0.00   0.00      0.00   0.00      0.00  15774.75   1.00      0.00   0.00   \n1   8.00   5.00 240533.36   2.00 110000.00 130000.30   3.00 130000.00   0.00   \n2   0.00   0.00      0.00   0.00      0.00  70013.93   3.00  70000.00   0.00   \n3   0.00   1.00  81000.00   1.00  81000.00 153000.00   3.00 153000.00   0.00   \n4   0.00   0.00      0.00   0.00      0.00 167008.99   4.00 167000.00   0.00   \n\n     X3_m2  X4_m2  X5_m2  X6_m2  X7_m2  X8_m2  B1_m2  B2_m2    B3_m2  B4_m2  \\\n0 19449.75   0.00   0.00   0.00   0.00   0.00   0.00   0.00     0.00   0.00   \n1     0.30   0.00   0.00   0.00   0.00   0.00   5.00   1.00 20000.00   1.00   \n2    13.93   0.00   0.00   0.00   0.00   0.00   0.00   0.00     0.00   0.00   \n3     0.00   0.00   0.00   0.00   0.00   0.00   0.00   0.00     0.00   0.00   \n4     8.99   0.00   0.00   0.00   0.00   0.00   0.00   0.00     0.00   0.00   \n\n     B5_m2     C1_m2  C2_m2     X1_m3  X2_m3    X3_m3  X4_m3  X5_m3  X6_m3  \\\n0     0.00  19449.75   1.00      0.00   0.00 23140.95   0.00   0.00   0.00   \n1 20000.00 130000.30   4.00 170000.00   0.00    94.56   0.00   0.00   0.00   \n2     0.00  70013.93   3.00  70000.00   0.00    13.94   0.00   0.00   0.00   \n3     0.00 153000.00   3.00  81000.00   0.00 42812.32   0.00   0.00   0.00   \n4     0.00 167008.99   4.00 107000.00   0.00 61754.33   0.00   0.00   0.00   \n\n   X7_m3  X8_m3  B1_m3  B2_m3    B3_m3  B4_m3    B5_m3  B6_m3  B7_m3  \\\n0   0.00   0.00   0.00   0.00     0.00   0.00     0.00     18   3.00   \n1   0.00   0.00  11.00   2.00 80084.44   1.00 60000.00     10  21.00   \n2   0.00   0.00   0.00   0.00     0.00   0.00     0.00    163   0.00   \n3   0.00   0.00   7.00   1.00 72803.60   1.00 30000.00     18   4.00   \n4   0.00   0.00   0.00   1.00 61745.33   0.00     0.00      2   1.00   \n\n      C1_m3  C2_m3  Recency  Time            last_Date           first_Date  \\\n0  23140.95   1.00      149   169  2019-09-11 18:00:00  2019-04-15 00:00:00   \n1 170094.56   4.00      342   354  2019-09-19 05:04:00  2018-10-12 00:00:00   \n2  70013.94   3.00      141   306  2019-04-19 04:03:00  2018-11-29 00:00:00   \n3 123812.32   2.00      313   333  2019-09-11 15:40:00  2018-11-02 00:00:00   \n4 168754.33   3.00        0     4  2019-09-27 18:00:00  2019-09-27 00:00:00   \n\n   군인  농축업  무직  사무원  생산직  서비스직  은퇴  전문직  정치인  판매원  프리랜서  Monetary_mean  \\\n0   0    0   0    0    0     1   0    0    0    0     0       19455.15   \n1   0    0   0    0    0     0   0    0    0    0     1       71682.53   \n2   0    0   0    1    0     0   0    0    0    0     0       35006.97   \n3   0    0   0    0    0     0   0    0    0    1     0      107453.08   \n4   0    0   0    0    0     0   0    0    0    0     1       83795.38   \n\n   X2_mean  X3_mean  X4_mean  X5_mean  X7_mean  \n0     0.00 19455.15     0.00     0.00     0.00  \n1     0.00  6698.39     0.00     0.00     0.00  \n2     0.00    13.93     0.00     0.00     0.00  \n3     0.00 14270.77     0.00     0.00     0.00  \n4     0.00 20590.77     0.00     0.00     0.00  ",
      "text/html": "<div>\n<style scoped>\n    .dataframe tbody tr th:only-of-type {\n        vertical-align: middle;\n    }\n\n    .dataframe tbody tr th {\n        vertical-align: top;\n    }\n\n    .dataframe thead th {\n        text-align: right;\n    }\n</style>\n<table border=\"1\" class=\"dataframe\">\n  <thead>\n    <tr style=\"text-align: right;\">\n      <th></th>\n      <th>cust_no</th>\n      <th>label</th>\n      <th>E1</th>\n      <th>E2</th>\n      <th>E3</th>\n      <th>E4</th>\n      <th>E5</th>\n      <th>E6</th>\n      <th>E10</th>\n      <th>E14</th>\n      <th>E15</th>\n      <th>E16</th>\n      <th>E17</th>\n      <th>E18</th>\n      <th>I1</th>\n      <th>I2</th>\n      <th>I3</th>\n      <th>I4</th>\n      <th>I5</th>\n      <th>I6</th>\n      <th>I7</th>\n      <th>I11</th>\n      <th>I15</th>\n      <th>I16</th>\n      <th>I17</th>\n      <th>I18</th>\n      <th>I19</th>\n      <th>I20</th>\n      <th>X1_m1</th>\n      <th>X2_m1</th>\n      <th>X3_m1</th>\n      <th>X4_m1</th>\n      <th>X5_m1</th>\n      <th>X6_m1</th>\n      <th>X7_m1</th>\n      <th>X8_m1</th>\n      <th>B1_m1</th>\n      <th>B2_m1</th>\n      <th>B3_m1</th>\n      <th>B4_m1</th>\n      <th>B5_m1</th>\n      <th>C1_m1</th>\n      <th>C2_m1</th>\n      <th>X1_m2</th>\n      <th>X2_m2</th>\n      <th>X3_m2</th>\n      <th>X4_m2</th>\n      <th>X5_m2</th>\n      <th>X6_m2</th>\n      <th>X7_m2</th>\n      <th>X8_m2</th>\n      <th>B1_m2</th>\n      <th>B2_m2</th>\n      <th>B3_m2</th>\n      <th>B4_m2</th>\n      <th>B5_m2</th>\n      <th>C1_m2</th>\n      <th>C2_m2</th>\n      <th>X1_m3</th>\n      <th>X2_m3</th>\n      <th>X3_m3</th>\n      <th>X4_m3</th>\n      <th>X5_m3</th>\n      <th>X6_m3</th>\n      <th>X7_m3</th>\n      <th>X8_m3</th>\n      <th>B1_m3</th>\n      <th>B2_m3</th>\n      <th>B3_m3</th>\n      <th>B4_m3</th>\n      <th>B5_m3</th>\n      <th>B6_m3</th>\n      <th>B7_m3</th>\n      <th>C1_m3</th>\n      <th>C2_m3</th>\n      <th>Recency</th>\n      <th>Time</th>\n      <th>last_Date</th>\n      <th>first_Date</th>\n      <th>군인</th>\n      <th>농축업</th>\n      <th>무직</th>\n      <th>사무원</th>\n      <th>생산직</th>\n      <th>서비스직</th>\n      <th>은퇴</th>\n      <th>전문직</th>\n      <th>정치인</th>\n      <th>판매원</th>\n      <th>프리랜서</th>\n      <th>Monetary_mean</th>\n      <th>X2_mean</th>\n      <th>X3_mean</th>\n      <th>X4_mean</th>\n      <th>X5_mean</th>\n      <th>X7_mean</th>\n    </tr>\n  </thead>\n  <tbody>\n    <tr>\n      <th>0</th>\n      <td>0xb2d30bf6</td>\n      <td>1.00</td>\n      <td>790</td>\n      <td>789</td>\n      <td>789</td>\n      <td>0</td>\n      <td>0</td>\n      <td>168</td>\n      <td>1</td>\n      <td>18169</td>\n      <td>18169</td>\n      <td>0</td>\n      <td>0.00</td>\n      <td>0</td>\n      <td>1.00</td>\n      <td>58.00</td>\n      <td>4</td>\n      <td>0.00</td>\n      <td>서비스직</td>\n      <td>0.00</td>\n      <td>0.00</td>\n      <td>0.00</td>\n      <td>0.00</td>\n      <td>0.00</td>\n      <td>1.00</td>\n      <td>1.00</td>\n      <td>1.00</td>\n      <td>0.00</td>\n      <td>0.00</td>\n      <td>0.00</td>\n      <td>15774.75</td>\n      <td>0.00</td>\n      <td>0.00</td>\n      <td>0.00</td>\n      <td>0.00</td>\n      <td>0.00</td>\n      <td>0.00</td>\n      <td>0.00</td>\n      <td>0.00</td>\n      <td>0.00</td>\n      <td>0.00</td>\n      <td>15774.75</td>\n      <td>1.00</td>\n      <td>0.00</td>\n      <td>0.00</td>\n      <td>19449.75</td>\n      <td>0.00</td>\n      <td>0.00</td>\n      <td>0.00</td>\n      <td>0.00</td>\n      <td>0.00</td>\n      <td>0.00</td>\n      <td>0.00</td>\n      <td>0.00</td>\n      <td>0.00</td>\n      <td>0.00</td>\n      <td>19449.75</td>\n      <td>1.00</td>\n      <td>0.00</td>\n      <td>0.00</td>\n      <td>23140.95</td>\n      <td>0.00</td>\n      <td>0.00</td>\n      <td>0.00</td>\n      <td>0.00</td>\n      <td>0.00</td>\n      <td>0.00</td>\n      <td>0.00</td>\n      <td>0.00</td>\n      <td>0.00</td>\n      <td>0.00</td>\n      <td>18</td>\n      <td>3.00</td>\n      <td>23140.95</td>\n      <td>1.00</td>\n      <td>149</td>\n      <td>169</td>\n      <td>2019-09-11 18:00:00</td>\n      <td>2019-04-15 00:00:00</td>\n      <td>0</td>\n      <td>0</td>\n      <td>0</td>\n      <td>0</td>\n      <td>0</td>\n      <td>1</td>\n      <td>0</td>\n      <td>0</td>\n      <td>0</td>\n      <td>0</td>\n      <td>0</td>\n      <td>19455.15</td>\n      <td>0.00</td>\n      <td>19455.15</td>\n      <td>0.00</td>\n      <td>0.00</td>\n      <td>0.00</td>\n    </tr>\n    <tr>\n      <th>1</th>\n      <td>0xb2d0c143</td>\n      <td>1.00</td>\n      <td>1538</td>\n      <td>1538</td>\n      <td>1538</td>\n      <td>1</td>\n      <td>1</td>\n      <td>353</td>\n      <td>263</td>\n      <td>18168</td>\n      <td>18169</td>\n      <td>0</td>\n      <td>0.00</td>\n      <td>0</td>\n      <td>0.00</td>\n      <td>29.00</td>\n      <td>3</td>\n      <td>0.00</td>\n      <td>프리랜서</td>\n      <td>0.00</td>\n      <td>0.00</td>\n      <td>0.00</td>\n      <td>0.00</td>\n      <td>1.00</td>\n      <td>1.00</td>\n      <td>1.00</td>\n      <td>1.00</td>\n      <td>0.00</td>\n      <td>110000.00</td>\n      <td>0.00</td>\n      <td>20000.30</td>\n      <td>0.00</td>\n      <td>0.00</td>\n      <td>0.00</td>\n      <td>0.00</td>\n      <td>0.00</td>\n      <td>8.00</td>\n      <td>5.00</td>\n      <td>240533.36</td>\n      <td>2.00</td>\n      <td>110000.00</td>\n      <td>130000.30</td>\n      <td>3.00</td>\n      <td>130000.00</td>\n      <td>0.00</td>\n      <td>0.30</td>\n      <td>0.00</td>\n      <td>0.00</td>\n      <td>0.00</td>\n      <td>0.00</td>\n      <td>0.00</td>\n      <td>5.00</td>\n      <td>1.00</td>\n      <td>20000.00</td>\n      <td>1.00</td>\n      <td>20000.00</td>\n      <td>130000.30</td>\n      <td>4.00</td>\n      <td>170000.00</td>\n      <td>0.00</td>\n      <td>94.56</td>\n      <td>0.00</td>\n      <td>0.00</td>\n      <td>0.00</td>\n      <td>0.00</td>\n      <td>0.00</td>\n      <td>11.00</td>\n      <td>2.00</td>\n      <td>80084.44</td>\n      <td>1.00</td>\n      <td>60000.00</td>\n      <td>10</td>\n      <td>21.00</td>\n      <td>170094.56</td>\n      <td>4.00</td>\n      <td>342</td>\n      <td>354</td>\n      <td>2019-09-19 05:04:00</td>\n      <td>2018-10-12 00:00:00</td>\n      <td>0</td>\n      <td>0</td>\n      <td>0</td>\n      <td>0</td>\n      <td>0</td>\n      <td>0</td>\n      <td>0</td>\n      <td>0</td>\n      <td>0</td>\n      <td>0</td>\n      <td>1</td>\n      <td>71682.53</td>\n      <td>0.00</td>\n      <td>6698.39</td>\n      <td>0.00</td>\n      <td>0.00</td>\n      <td>0.00</td>\n    </tr>\n    <tr>\n      <th>2</th>\n      <td>0xb2d6004d</td>\n      <td>1.00</td>\n      <td>305</td>\n      <td>305</td>\n      <td>305</td>\n      <td>0</td>\n      <td>0</td>\n      <td>305</td>\n      <td>175</td>\n      <td>18169</td>\n      <td>18169</td>\n      <td>0</td>\n      <td>0.00</td>\n      <td>0</td>\n      <td>0.00</td>\n      <td>63.00</td>\n      <td>3</td>\n      <td>0.00</td>\n      <td>사무원</td>\n      <td>0.00</td>\n      <td>0.00</td>\n      <td>0.00</td>\n      <td>0.00</td>\n      <td>1.00</td>\n      <td>1.00</td>\n      <td>1.00</td>\n      <td>1.00</td>\n      <td>0.00</td>\n      <td>70000.00</td>\n      <td>0.00</td>\n      <td>13.93</td>\n      <td>0.00</td>\n      <td>0.00</td>\n      <td>0.00</td>\n      <td>0.00</td>\n      <td>0.00</td>\n      <td>0.00</td>\n      <td>0.00</td>\n      <td>0.00</td>\n      <td>0.00</td>\n      <td>0.00</td>\n      <td>70013.93</td>\n      <td>3.00</td>\n      <td>70000.00</td>\n      <td>0.00</td>\n      <td>13.93</td>\n      <td>0.00</td>\n      <td>0.00</td>\n      <td>0.00</td>\n      <td>0.00</td>\n      <td>0.00</td>\n      <td>0.00</td>\n      <td>0.00</td>\n      <td>0.00</td>\n      <td>0.00</td>\n      <td>0.00</td>\n      <td>70013.93</td>\n      <td>3.00</td>\n      <td>70000.00</td>\n      <td>0.00</td>\n      <td>13.94</td>\n      <td>0.00</td>\n      <td>0.00</td>\n      <td>0.00</td>\n      <td>0.00</td>\n      <td>0.00</td>\n      <td>0.00</td>\n      <td>0.00</td>\n      <td>0.00</td>\n      <td>0.00</td>\n      <td>0.00</td>\n      <td>163</td>\n      <td>0.00</td>\n      <td>70013.94</td>\n      <td>3.00</td>\n      <td>141</td>\n      <td>306</td>\n      <td>2019-04-19 04:03:00</td>\n      <td>2018-11-29 00:00:00</td>\n      <td>0</td>\n      <td>0</td>\n      <td>0</td>\n      <td>1</td>\n      <td>0</td>\n      <td>0</td>\n      <td>0</td>\n      <td>0</td>\n      <td>0</td>\n      <td>0</td>\n      <td>0</td>\n      <td>35006.97</td>\n      <td>0.00</td>\n      <td>13.93</td>\n      <td>0.00</td>\n      <td>0.00</td>\n      <td>0.00</td>\n    </tr>\n    <tr>\n      <th>3</th>\n      <td>0xb2d5a839</td>\n      <td>1.00</td>\n      <td>356</td>\n      <td>356</td>\n      <td>356</td>\n      <td>0</td>\n      <td>1</td>\n      <td>332</td>\n      <td>284</td>\n      <td>18168</td>\n      <td>18168</td>\n      <td>1</td>\n      <td>20000.00</td>\n      <td>1</td>\n      <td>0.00</td>\n      <td>29.00</td>\n      <td>3</td>\n      <td>0.00</td>\n      <td>판매원</td>\n      <td>0.00</td>\n      <td>0.00</td>\n      <td>0.00</td>\n      <td>0.00</td>\n      <td>1.00</td>\n      <td>1.00</td>\n      <td>1.00</td>\n      <td>1.00</td>\n      <td>0.00</td>\n      <td>153000.00</td>\n      <td>0.00</td>\n      <td>0.00</td>\n      <td>0.00</td>\n      <td>0.00</td>\n      <td>0.00</td>\n      <td>0.00</td>\n      <td>0.00</td>\n      <td>0.00</td>\n      <td>1.00</td>\n      <td>81000.00</td>\n      <td>1.00</td>\n      <td>81000.00</td>\n      <td>153000.00</td>\n      <td>3.00</td>\n      <td>153000.00</td>\n      <td>0.00</td>\n      <td>0.00</td>\n      <td>0.00</td>\n      <td>0.00</td>\n      <td>0.00</td>\n      <td>0.00</td>\n      <td>0.00</td>\n      <td>0.00</td>\n      <td>0.00</td>\n      <td>0.00</td>\n      <td>0.00</td>\n      <td>0.00</td>\n      <td>153000.00</td>\n      <td>3.00</td>\n      <td>81000.00</td>\n      <td>0.00</td>\n      <td>42812.32</td>\n      <td>0.00</td>\n      <td>0.00</td>\n      <td>0.00</td>\n      <td>0.00</td>\n      <td>0.00</td>\n      <td>7.00</td>\n      <td>1.00</td>\n      <td>72803.60</td>\n      <td>1.00</td>\n      <td>30000.00</td>\n      <td>18</td>\n      <td>4.00</td>\n      <td>123812.32</td>\n      <td>2.00</td>\n      <td>313</td>\n      <td>333</td>\n      <td>2019-09-11 15:40:00</td>\n      <td>2018-11-02 00:00:00</td>\n      <td>0</td>\n      <td>0</td>\n      <td>0</td>\n      <td>0</td>\n      <td>0</td>\n      <td>0</td>\n      <td>0</td>\n      <td>0</td>\n      <td>0</td>\n      <td>1</td>\n      <td>0</td>\n      <td>107453.08</td>\n      <td>0.00</td>\n      <td>14270.77</td>\n      <td>0.00</td>\n      <td>0.00</td>\n      <td>0.00</td>\n    </tr>\n    <tr>\n      <th>4</th>\n      <td>0xb2d63b24</td>\n      <td>1.00</td>\n      <td>264</td>\n      <td>244</td>\n      <td>244</td>\n      <td>1</td>\n      <td>0</td>\n      <td>3</td>\n      <td>4</td>\n      <td>18169</td>\n      <td>18169</td>\n      <td>0</td>\n      <td>0.00</td>\n      <td>0</td>\n      <td>0.00</td>\n      <td>79.00</td>\n      <td>3</td>\n      <td>0.00</td>\n      <td>프리랜서</td>\n      <td>0.00</td>\n      <td>0.00</td>\n      <td>0.00</td>\n      <td>0.00</td>\n      <td>1.00</td>\n      <td>1.00</td>\n      <td>1.00</td>\n      <td>1.00</td>\n      <td>0.00</td>\n      <td>167000.00</td>\n      <td>0.00</td>\n      <td>8.99</td>\n      <td>0.00</td>\n      <td>0.00</td>\n      <td>0.00</td>\n      <td>0.00</td>\n      <td>0.00</td>\n      <td>0.00</td>\n      <td>0.00</td>\n      <td>0.00</td>\n      <td>0.00</td>\n      <td>0.00</td>\n      <td>167008.99</td>\n      <td>4.00</td>\n      <td>167000.00</td>\n      <td>0.00</td>\n      <td>8.99</td>\n      <td>0.00</td>\n      <td>0.00</td>\n      <td>0.00</td>\n      <td>0.00</td>\n      <td>0.00</td>\n      <td>0.00</td>\n      <td>0.00</td>\n      <td>0.00</td>\n      <td>0.00</td>\n      <td>0.00</td>\n      <td>167008.99</td>\n      <td>4.00</td>\n      <td>107000.00</td>\n      <td>0.00</td>\n      <td>61754.33</td>\n      <td>0.00</td>\n      <td>0.00</td>\n      <td>0.00</td>\n      <td>0.00</td>\n      <td>0.00</td>\n      <td>0.00</td>\n      <td>1.00</td>\n      <td>61745.33</td>\n      <td>0.00</td>\n      <td>0.00</td>\n      <td>2</td>\n      <td>1.00</td>\n      <td>168754.33</td>\n      <td>3.00</td>\n      <td>0</td>\n      <td>4</td>\n      <td>2019-09-27 18:00:00</td>\n      <td>2019-09-27 00:00:00</td>\n      <td>0</td>\n      <td>0</td>\n      <td>0</td>\n      <td>0</td>\n      <td>0</td>\n      <td>0</td>\n      <td>0</td>\n      <td>0</td>\n      <td>0</td>\n      <td>0</td>\n      <td>1</td>\n      <td>83795.38</td>\n      <td>0.00</td>\n      <td>20590.77</td>\n      <td>0.00</td>\n      <td>0.00</td>\n      <td>0.00</td>\n    </tr>\n  </tbody>\n</table>\n</div>"
     },
     "execution_count": 72,
     "metadata": {},
     "output_type": "execute_result"
    }
   ],
   "source": [
    "train.head()"
   ]
  },
  {
   "cell_type": "code",
   "execution_count": 73,
   "metadata": {},
   "outputs": [
    {
     "data": {
      "text/plain": "(115059, 96)"
     },
     "execution_count": 73,
     "metadata": {},
     "output_type": "execute_result"
    }
   ],
   "source": [
    "train.shape"
   ]
  },
  {
   "cell_type": "code",
   "execution_count": 75,
   "metadata": {
    "collapsed": false
   },
   "outputs": [],
   "source": [
    "from IPython.core.interactiveshell import InteractiveShell\n",
    "InteractiveShell.ast_node_interactivity = \"all\"\n",
    "\n",
    "import warnings\n",
    "import os \n",
    "\n",
    "from datetime import datetime \n",
    "from datetime import timedelta\n",
    "\n",
    "from lifetimes.plotting import * \n",
    "from lifetimes.utils import * \n",
    "from lifetimes import BetaGeoFitter \n",
    "from lifetimes.fitters.gamma_gamma_fitter import GammaGammaFitter  \n",
    "\n",
    "from hyperopt import hp, fmin, tpe, rand, SparkTrials, STATUS_OK, space_eval, Trials \n"
   ]
  },
  {
   "attachments": {},
   "cell_type": "markdown",
   "metadata": {},
   "source": [
    "### **2-1. 고객별 RFMT를 구하기**"
   ]
  },
  {
   "cell_type": "code",
   "execution_count": 76,
   "metadata": {},
   "outputs": [
    {
     "data": {
      "text/plain": "(115059, 23)"
     },
     "execution_count": 76,
     "metadata": {},
     "output_type": "execute_result"
    }
   ],
   "source": [
    "train_RFTM = train[['cust_no', 'B7_m3', 'Recency', 'Time', 'last_Date','first_Date', 'Monetary_mean', 'label',\n",
    "               'I1', 'I2', 'I5', 'I7', 'I11','I16','I17','I18','I19','I20',\n",
    "               'X2_mean', 'X3_mean', 'X4_mean', 'X5_mean', 'X7_mean']]\n",
    "\n",
    "\n",
    "train_RFTM.rename(columns = {'B7_m3' : 'Frequency', 'Monetary_mean': 'Monetary',\n",
    "                             'label' : '이탈여부'},\n",
    "                             inplace = True)\n",
    " \n",
    "train_RFTM.shape    \n"
   ]
  },
  {
   "cell_type": "code",
   "execution_count": 77,
   "metadata": {},
   "outputs": [
    {
     "data": {
      "text/plain": "      cust_no  Frequency  Recency  Time            last_Date  \\\n0  0xb2d30bf6       3.00      149   169  2019-09-11 18:00:00   \n1  0xb2d0c143      21.00      342   354  2019-09-19 05:04:00   \n2  0xb2d6004d       0.00      141   306  2019-04-19 04:03:00   \n3  0xb2d5a839       4.00      313   333  2019-09-11 15:40:00   \n4  0xb2d63b24       1.00        0     4  2019-09-27 18:00:00   \n\n            first_Date  Monetary  이탈여부   I1    I2    I5   I7  I11  I16  I17  \\\n0  2019-04-15 00:00:00  19455.15  1.00 1.00 58.00  서비스직 0.00 0.00 0.00 1.00   \n1  2018-10-12 00:00:00  71682.53  1.00 0.00 29.00  프리랜서 0.00 0.00 1.00 1.00   \n2  2018-11-29 00:00:00  35006.97  1.00 0.00 63.00   사무원 0.00 0.00 1.00 1.00   \n3  2018-11-02 00:00:00 107453.08  1.00 0.00 29.00   판매원 0.00 0.00 1.00 1.00   \n4  2019-09-27 00:00:00  83795.38  1.00 0.00 79.00  프리랜서 0.00 0.00 1.00 1.00   \n\n   I18  I19  I20  X2_mean  X3_mean  X4_mean  X5_mean  X7_mean  \n0 1.00 1.00 0.00     0.00 19455.15     0.00     0.00     0.00  \n1 1.00 1.00 0.00     0.00  6698.39     0.00     0.00     0.00  \n2 1.00 1.00 0.00     0.00    13.93     0.00     0.00     0.00  \n3 1.00 1.00 0.00     0.00 14270.77     0.00     0.00     0.00  \n4 1.00 1.00 0.00     0.00 20590.77     0.00     0.00     0.00  ",
      "text/html": "<div>\n<style scoped>\n    .dataframe tbody tr th:only-of-type {\n        vertical-align: middle;\n    }\n\n    .dataframe tbody tr th {\n        vertical-align: top;\n    }\n\n    .dataframe thead th {\n        text-align: right;\n    }\n</style>\n<table border=\"1\" class=\"dataframe\">\n  <thead>\n    <tr style=\"text-align: right;\">\n      <th></th>\n      <th>cust_no</th>\n      <th>Frequency</th>\n      <th>Recency</th>\n      <th>Time</th>\n      <th>last_Date</th>\n      <th>first_Date</th>\n      <th>Monetary</th>\n      <th>이탈여부</th>\n      <th>I1</th>\n      <th>I2</th>\n      <th>I5</th>\n      <th>I7</th>\n      <th>I11</th>\n      <th>I16</th>\n      <th>I17</th>\n      <th>I18</th>\n      <th>I19</th>\n      <th>I20</th>\n      <th>X2_mean</th>\n      <th>X3_mean</th>\n      <th>X4_mean</th>\n      <th>X5_mean</th>\n      <th>X7_mean</th>\n    </tr>\n  </thead>\n  <tbody>\n    <tr>\n      <th>0</th>\n      <td>0xb2d30bf6</td>\n      <td>3.00</td>\n      <td>149</td>\n      <td>169</td>\n      <td>2019-09-11 18:00:00</td>\n      <td>2019-04-15 00:00:00</td>\n      <td>19455.15</td>\n      <td>1.00</td>\n      <td>1.00</td>\n      <td>58.00</td>\n      <td>서비스직</td>\n      <td>0.00</td>\n      <td>0.00</td>\n      <td>0.00</td>\n      <td>1.00</td>\n      <td>1.00</td>\n      <td>1.00</td>\n      <td>0.00</td>\n      <td>0.00</td>\n      <td>19455.15</td>\n      <td>0.00</td>\n      <td>0.00</td>\n      <td>0.00</td>\n    </tr>\n    <tr>\n      <th>1</th>\n      <td>0xb2d0c143</td>\n      <td>21.00</td>\n      <td>342</td>\n      <td>354</td>\n      <td>2019-09-19 05:04:00</td>\n      <td>2018-10-12 00:00:00</td>\n      <td>71682.53</td>\n      <td>1.00</td>\n      <td>0.00</td>\n      <td>29.00</td>\n      <td>프리랜서</td>\n      <td>0.00</td>\n      <td>0.00</td>\n      <td>1.00</td>\n      <td>1.00</td>\n      <td>1.00</td>\n      <td>1.00</td>\n      <td>0.00</td>\n      <td>0.00</td>\n      <td>6698.39</td>\n      <td>0.00</td>\n      <td>0.00</td>\n      <td>0.00</td>\n    </tr>\n    <tr>\n      <th>2</th>\n      <td>0xb2d6004d</td>\n      <td>0.00</td>\n      <td>141</td>\n      <td>306</td>\n      <td>2019-04-19 04:03:00</td>\n      <td>2018-11-29 00:00:00</td>\n      <td>35006.97</td>\n      <td>1.00</td>\n      <td>0.00</td>\n      <td>63.00</td>\n      <td>사무원</td>\n      <td>0.00</td>\n      <td>0.00</td>\n      <td>1.00</td>\n      <td>1.00</td>\n      <td>1.00</td>\n      <td>1.00</td>\n      <td>0.00</td>\n      <td>0.00</td>\n      <td>13.93</td>\n      <td>0.00</td>\n      <td>0.00</td>\n      <td>0.00</td>\n    </tr>\n    <tr>\n      <th>3</th>\n      <td>0xb2d5a839</td>\n      <td>4.00</td>\n      <td>313</td>\n      <td>333</td>\n      <td>2019-09-11 15:40:00</td>\n      <td>2018-11-02 00:00:00</td>\n      <td>107453.08</td>\n      <td>1.00</td>\n      <td>0.00</td>\n      <td>29.00</td>\n      <td>판매원</td>\n      <td>0.00</td>\n      <td>0.00</td>\n      <td>1.00</td>\n      <td>1.00</td>\n      <td>1.00</td>\n      <td>1.00</td>\n      <td>0.00</td>\n      <td>0.00</td>\n      <td>14270.77</td>\n      <td>0.00</td>\n      <td>0.00</td>\n      <td>0.00</td>\n    </tr>\n    <tr>\n      <th>4</th>\n      <td>0xb2d63b24</td>\n      <td>1.00</td>\n      <td>0</td>\n      <td>4</td>\n      <td>2019-09-27 18:00:00</td>\n      <td>2019-09-27 00:00:00</td>\n      <td>83795.38</td>\n      <td>1.00</td>\n      <td>0.00</td>\n      <td>79.00</td>\n      <td>프리랜서</td>\n      <td>0.00</td>\n      <td>0.00</td>\n      <td>1.00</td>\n      <td>1.00</td>\n      <td>1.00</td>\n      <td>1.00</td>\n      <td>0.00</td>\n      <td>0.00</td>\n      <td>20590.77</td>\n      <td>0.00</td>\n      <td>0.00</td>\n      <td>0.00</td>\n    </tr>\n  </tbody>\n</table>\n</div>"
     },
     "execution_count": 77,
     "metadata": {},
     "output_type": "execute_result"
    }
   ],
   "source": [
    "train_RFTM.head()   "
   ]
  },
  {
   "cell_type": "code",
   "execution_count": 78,
   "metadata": {},
   "outputs": [
    {
     "data": {
      "text/plain": "cust_no       0\nFrequency     0\nRecency       0\nTime          0\nlast_Date     0\nfirst_Date    0\nMonetary      0\n이탈여부          0\nI1            0\nI2            0\nI5            0\nI7            0\nI11           0\nI16           0\nI17           0\nI18           0\nI19           0\nI20           0\nX2_mean       0\nX3_mean       0\nX4_mean       0\nX5_mean       0\nX7_mean       0\ndtype: int64"
     },
     "execution_count": 78,
     "metadata": {},
     "output_type": "execute_result"
    }
   ],
   "source": [
    "train_RFTM.isnull().sum()"
   ]
  },
  {
   "cell_type": "code",
   "execution_count": 79,
   "metadata": {},
   "outputs": [
    {
     "data": {
      "text/plain": "(16, 23)"
     },
     "execution_count": 79,
     "metadata": {},
     "output_type": "execute_result"
    }
   ],
   "source": [
    "train_RFTM[train_RFTM['Recency'] < 0].shape  "
   ]
  },
  {
   "cell_type": "code",
   "execution_count": 80,
   "metadata": {},
   "outputs": [
    {
     "data": {
      "text/plain": "(0, 23)"
     },
     "execution_count": 80,
     "metadata": {},
     "output_type": "execute_result"
    }
   ],
   "source": [
    "train_RFTM[train_RFTM['Frequency'] < 0 ].shape"
   ]
  },
  {
   "cell_type": "code",
   "execution_count": 81,
   "metadata": {},
   "outputs": [
    {
     "data": {
      "text/plain": "(54719, 23)"
     },
     "execution_count": 81,
     "metadata": {},
     "output_type": "execute_result"
    }
   ],
   "source": [
    "train_RFTM = train_RFTM[train_RFTM['Recency'] > 90]  \n",
    "train_RFTM = train_RFTM[train_RFTM['Frequency'] > 0 ]    \n",
    "train_RFTM = train_RFTM[train_RFTM['Monetary'] > 0 ] \n",
    "train_RFTM.shape"
   ]
  },
  {
   "cell_type": "code",
   "execution_count": 82,
   "metadata": {},
   "outputs": [
    {
     "data": {
      "text/plain": "          cust_no  Frequency  Recency  Time            last_Date  \\\n42090  0xb2d586db    5043.00       98    99  2019-09-30 21:54:00   \n23764  0xb2d6e709    2846.00       91    94  2019-09-28 00:13:00   \n49229  0xb2d695e6    2560.00      100   101  2019-09-30 23:04:00   \n71873  0xb2d5bdeb    2476.00      275   276  2019-12-31 16:16:00   \n25654  0xb2d6e937    2352.00       91    93  2019-09-29 16:46:00   \n\n                first_Date  Monetary  이탈여부   I1    I2   I5   I7  I11  I16  \\\n42090  2019-06-24 00:00:00   3220.14  1.00 0.00 43.00  판매원 0.00 0.00 0.00   \n23764  2019-06-29 00:00:00  17913.67 -1.00 0.00 22.00  판매원 0.00 0.00 0.00   \n49229  2019-06-22 00:00:00   1657.67  1.00 0.00 26.00  사무원 0.00 0.00 0.00   \n71873  2019-03-31 00:00:00   1628.63  1.00 1.00 54.00  농축업 0.00 0.00 0.00   \n25654  2019-06-30 00:00:00  35439.65 -1.00 1.00 21.00  판매원 0.00 0.00 0.00   \n\n       I17  I18  I19  I20  X2_mean  X3_mean  X4_mean  X5_mean  X7_mean  \n42090 1.00 1.00 1.00 1.00     0.00  3220.14     0.00     0.00     0.00  \n23764 1.00 1.00 1.00 0.00     0.00 17913.67     0.00     0.00     0.00  \n49229 1.00 1.00 1.00 0.00     0.00  1657.67     0.00     0.00     0.00  \n71873 1.00 1.00 1.00 0.00     0.00  1628.63     0.00     0.00     0.00  \n25654 1.00 1.00 1.00 0.00     0.00 23626.43     0.00     0.00     0.00  ",
      "text/html": "<div>\n<style scoped>\n    .dataframe tbody tr th:only-of-type {\n        vertical-align: middle;\n    }\n\n    .dataframe tbody tr th {\n        vertical-align: top;\n    }\n\n    .dataframe thead th {\n        text-align: right;\n    }\n</style>\n<table border=\"1\" class=\"dataframe\">\n  <thead>\n    <tr style=\"text-align: right;\">\n      <th></th>\n      <th>cust_no</th>\n      <th>Frequency</th>\n      <th>Recency</th>\n      <th>Time</th>\n      <th>last_Date</th>\n      <th>first_Date</th>\n      <th>Monetary</th>\n      <th>이탈여부</th>\n      <th>I1</th>\n      <th>I2</th>\n      <th>I5</th>\n      <th>I7</th>\n      <th>I11</th>\n      <th>I16</th>\n      <th>I17</th>\n      <th>I18</th>\n      <th>I19</th>\n      <th>I20</th>\n      <th>X2_mean</th>\n      <th>X3_mean</th>\n      <th>X4_mean</th>\n      <th>X5_mean</th>\n      <th>X7_mean</th>\n    </tr>\n  </thead>\n  <tbody>\n    <tr>\n      <th>42090</th>\n      <td>0xb2d586db</td>\n      <td>5043.00</td>\n      <td>98</td>\n      <td>99</td>\n      <td>2019-09-30 21:54:00</td>\n      <td>2019-06-24 00:00:00</td>\n      <td>3220.14</td>\n      <td>1.00</td>\n      <td>0.00</td>\n      <td>43.00</td>\n      <td>판매원</td>\n      <td>0.00</td>\n      <td>0.00</td>\n      <td>0.00</td>\n      <td>1.00</td>\n      <td>1.00</td>\n      <td>1.00</td>\n      <td>1.00</td>\n      <td>0.00</td>\n      <td>3220.14</td>\n      <td>0.00</td>\n      <td>0.00</td>\n      <td>0.00</td>\n    </tr>\n    <tr>\n      <th>23764</th>\n      <td>0xb2d6e709</td>\n      <td>2846.00</td>\n      <td>91</td>\n      <td>94</td>\n      <td>2019-09-28 00:13:00</td>\n      <td>2019-06-29 00:00:00</td>\n      <td>17913.67</td>\n      <td>-1.00</td>\n      <td>0.00</td>\n      <td>22.00</td>\n      <td>판매원</td>\n      <td>0.00</td>\n      <td>0.00</td>\n      <td>0.00</td>\n      <td>1.00</td>\n      <td>1.00</td>\n      <td>1.00</td>\n      <td>0.00</td>\n      <td>0.00</td>\n      <td>17913.67</td>\n      <td>0.00</td>\n      <td>0.00</td>\n      <td>0.00</td>\n    </tr>\n    <tr>\n      <th>49229</th>\n      <td>0xb2d695e6</td>\n      <td>2560.00</td>\n      <td>100</td>\n      <td>101</td>\n      <td>2019-09-30 23:04:00</td>\n      <td>2019-06-22 00:00:00</td>\n      <td>1657.67</td>\n      <td>1.00</td>\n      <td>0.00</td>\n      <td>26.00</td>\n      <td>사무원</td>\n      <td>0.00</td>\n      <td>0.00</td>\n      <td>0.00</td>\n      <td>1.00</td>\n      <td>1.00</td>\n      <td>1.00</td>\n      <td>0.00</td>\n      <td>0.00</td>\n      <td>1657.67</td>\n      <td>0.00</td>\n      <td>0.00</td>\n      <td>0.00</td>\n    </tr>\n    <tr>\n      <th>71873</th>\n      <td>0xb2d5bdeb</td>\n      <td>2476.00</td>\n      <td>275</td>\n      <td>276</td>\n      <td>2019-12-31 16:16:00</td>\n      <td>2019-03-31 00:00:00</td>\n      <td>1628.63</td>\n      <td>1.00</td>\n      <td>1.00</td>\n      <td>54.00</td>\n      <td>농축업</td>\n      <td>0.00</td>\n      <td>0.00</td>\n      <td>0.00</td>\n      <td>1.00</td>\n      <td>1.00</td>\n      <td>1.00</td>\n      <td>0.00</td>\n      <td>0.00</td>\n      <td>1628.63</td>\n      <td>0.00</td>\n      <td>0.00</td>\n      <td>0.00</td>\n    </tr>\n    <tr>\n      <th>25654</th>\n      <td>0xb2d6e937</td>\n      <td>2352.00</td>\n      <td>91</td>\n      <td>93</td>\n      <td>2019-09-29 16:46:00</td>\n      <td>2019-06-30 00:00:00</td>\n      <td>35439.65</td>\n      <td>-1.00</td>\n      <td>1.00</td>\n      <td>21.00</td>\n      <td>판매원</td>\n      <td>0.00</td>\n      <td>0.00</td>\n      <td>0.00</td>\n      <td>1.00</td>\n      <td>1.00</td>\n      <td>1.00</td>\n      <td>0.00</td>\n      <td>0.00</td>\n      <td>23626.43</td>\n      <td>0.00</td>\n      <td>0.00</td>\n      <td>0.00</td>\n    </tr>\n  </tbody>\n</table>\n</div>"
     },
     "execution_count": 82,
     "metadata": {},
     "output_type": "execute_result"
    }
   ],
   "source": [
    "train_RFTM.sort_values(by='Frequency', ascending = False).head()"
   ]
  },
  {
   "cell_type": "code",
   "execution_count": 83,
   "metadata": {},
   "outputs": [
    {
     "data": {
      "text/plain": "'2019-12-31 23:34:00'"
     },
     "execution_count": 83,
     "metadata": {},
     "output_type": "execute_result"
    },
    {
     "data": {
      "text/plain": "'2019-05-30 15:57:00'"
     },
     "execution_count": 83,
     "metadata": {},
     "output_type": "execute_result"
    },
    {
     "data": {
      "text/plain": "'2019-10-01 00:00:00'"
     },
     "execution_count": 83,
     "metadata": {},
     "output_type": "execute_result"
    },
    {
     "data": {
      "text/plain": "'2017-02-22 00:00:00'"
     },
     "execution_count": 83,
     "metadata": {},
     "output_type": "execute_result"
    }
   ],
   "source": [
    "train_RFTM['last_Date'].max() \n",
    "train_RFTM['last_Date'].min() \n",
    "train_RFTM['first_Date'].max()  \n",
    "train_RFTM['first_Date'].min() "
   ]
  },
  {
   "attachments": {},
   "cell_type": "markdown",
   "metadata": {},
   "source": [
    "##  **LTV 구하는 과정** "
   ]
  },
  {
   "attachments": {},
   "cell_type": "markdown",
   "metadata": {},
   "source": [
    "### **2-2. BG/NGB 모형에 넣어 예상 거래 횟수 예측하기**"
   ]
  },
  {
   "cell_type": "code",
   "execution_count": 84,
   "metadata": {},
   "outputs": [
    {
     "data": {
      "text/plain": "<lifetimes.BetaGeoFitter: fitted with 54719 subjects, a: 0.00, alpha: 3.98, b: 0.88, r: 0.47>"
     },
     "execution_count": 84,
     "metadata": {},
     "output_type": "execute_result"
    }
   ],
   "source": [
    "lifetimes_model= BetaGeoFitter(penalizer_coef=0.001) #l2_bgnbd = hyperopt로 나온 결과\n",
    "# calibration 데이터의 R,F,T로 모형 적합\n",
    "lifetimes_model.fit(train_RFTM['Frequency'],\n",
    "        train_RFTM['Recency'],\n",
    "        train_RFTM['Time']) \n"
   ]
  },
  {
   "cell_type": "code",
   "execution_count": 85,
   "metadata": {},
   "outputs": [],
   "source": [
    "pd.options.display.float_format = '{:.5f}'.format"
   ]
  },
  {
   "cell_type": "code",
   "execution_count": 86,
   "metadata": {},
   "outputs": [
    {
     "data": {
      "text/plain": "         coef  se(coef)  lower 95% bound  upper 95% bound\nr     0.46691   0.00239          0.46223          0.47159\nalpha 3.97676   0.03246          3.91314          4.04038\na     0.00112   0.00011          0.00090          0.00134\nb     0.88310   0.06704          0.75170          1.01450",
      "text/html": "<div>\n<style scoped>\n    .dataframe tbody tr th:only-of-type {\n        vertical-align: middle;\n    }\n\n    .dataframe tbody tr th {\n        vertical-align: top;\n    }\n\n    .dataframe thead th {\n        text-align: right;\n    }\n</style>\n<table border=\"1\" class=\"dataframe\">\n  <thead>\n    <tr style=\"text-align: right;\">\n      <th></th>\n      <th>coef</th>\n      <th>se(coef)</th>\n      <th>lower 95% bound</th>\n      <th>upper 95% bound</th>\n    </tr>\n  </thead>\n  <tbody>\n    <tr>\n      <th>r</th>\n      <td>0.46691</td>\n      <td>0.00239</td>\n      <td>0.46223</td>\n      <td>0.47159</td>\n    </tr>\n    <tr>\n      <th>alpha</th>\n      <td>3.97676</td>\n      <td>0.03246</td>\n      <td>3.91314</td>\n      <td>4.04038</td>\n    </tr>\n    <tr>\n      <th>a</th>\n      <td>0.00112</td>\n      <td>0.00011</td>\n      <td>0.00090</td>\n      <td>0.00134</td>\n    </tr>\n    <tr>\n      <th>b</th>\n      <td>0.88310</td>\n      <td>0.06704</td>\n      <td>0.75170</td>\n      <td>1.01450</td>\n    </tr>\n  </tbody>\n</table>\n</div>"
     },
     "execution_count": 86,
     "metadata": {},
     "output_type": "execute_result"
    }
   ],
   "source": [
    "# BetaGeo (베타, 기하분포를 통해 추정된 파라미터들로, Gamma(r, α)와  Beta(a, b)가 lifetimes_model에서 추정되는 파라미터)\n",
    "lifetimes_model.summary"
   ]
  },
  {
   "cell_type": "code",
   "execution_count": 87,
   "metadata": {},
   "outputs": [],
   "source": [
    "pd.options.display.float_format = '{:.2f}'.format"
   ]
  },
  {
   "attachments": {},
   "cell_type": "markdown",
   "metadata": {},
   "source": [
    "\n",
    "### **2-3. Gamma-Gamma 모형에 넣어 예상 구매 금액 구하기**\n"
   ]
  },
  {
   "cell_type": "code",
   "execution_count": 88,
   "metadata": {},
   "outputs": [
    {
     "data": {
      "text/plain": "<lifetimes.GammaGammaFitter: fitted with 54719 subjects, p: 2.08, q: 0.11, v: 2.11>"
     },
     "execution_count": 88,
     "metadata": {},
     "output_type": "execute_result"
    }
   ],
   "source": [
    "spend_model = GammaGammaFitter(penalizer_coef=0.01)\n",
    "spend_model.fit(train_RFTM['Frequency'],\n",
    "                train_RFTM['Monetary'])"
   ]
  },
  {
   "attachments": {},
   "cell_type": "markdown",
   "metadata": {},
   "source": [
    "### **3. BG/NBD 모형과 Gamma-Gamma 모형을 합쳐 LTV를 구하기**"
   ]
  },
  {
   "cell_type": "code",
   "execution_count": 89,
   "metadata": {},
   "outputs": [
    {
     "data": {
      "text/plain": "      cust_no  Frequency  Recency  Time            last_Date  \\\n0  0xb2d30bf6       3.00      149   169  2019-09-11 18:00:00   \n1  0xb2d0c143      21.00      342   354  2019-09-19 05:04:00   \n3  0xb2d5a839       4.00      313   333  2019-09-11 15:40:00   \n5  0xb2d6d3ac       4.00      127   155  2019-09-03 14:33:00   \n6  0xb2d58f97      55.00      286   293  2019-09-24 09:21:00   \n\n            first_Date  Monetary  이탈여부   I1    I2    I5   I7  I11  I16  I17  \\\n0  2019-04-15 00:00:00  19455.15  1.00 1.00 58.00  서비스직 0.00 0.00 0.00 1.00   \n1  2018-10-12 00:00:00  71682.53  1.00 0.00 29.00  프리랜서 0.00 0.00 1.00 1.00   \n3  2018-11-02 00:00:00 107453.08  1.00 0.00 29.00   판매원 0.00 0.00 1.00 1.00   \n5  2019-04-29 00:00:00 167044.04 -1.00 1.00 48.00  프리랜서 0.00 0.00 1.00 1.00   \n6  2018-12-12 00:00:00   2005.83 -1.00 0.00 28.00   전문직 0.00 0.00 0.00 1.00   \n\n   I18  I19  I20  X2_mean   X3_mean  X4_mean  X5_mean  X7_mean       ltv  \n0 1.00 1.00 0.00     0.00  19455.15     0.00     0.00     0.00  22237.11  \n1 1.00 1.00 0.00     0.00   6698.39     0.00     0.00     0.00 214562.77  \n3 1.00 1.00 0.00     0.00  14270.77     0.00     0.00     0.00  77995.24  \n5 1.00 1.00 0.00     0.00 167044.04     0.00     0.00     0.00 256905.29  \n6 1.00 1.00 0.00     0.00   2005.83     0.00     0.00     0.00  18462.13  ",
      "text/html": "<div>\n<style scoped>\n    .dataframe tbody tr th:only-of-type {\n        vertical-align: middle;\n    }\n\n    .dataframe tbody tr th {\n        vertical-align: top;\n    }\n\n    .dataframe thead th {\n        text-align: right;\n    }\n</style>\n<table border=\"1\" class=\"dataframe\">\n  <thead>\n    <tr style=\"text-align: right;\">\n      <th></th>\n      <th>cust_no</th>\n      <th>Frequency</th>\n      <th>Recency</th>\n      <th>Time</th>\n      <th>last_Date</th>\n      <th>first_Date</th>\n      <th>Monetary</th>\n      <th>이탈여부</th>\n      <th>I1</th>\n      <th>I2</th>\n      <th>I5</th>\n      <th>I7</th>\n      <th>I11</th>\n      <th>I16</th>\n      <th>I17</th>\n      <th>I18</th>\n      <th>I19</th>\n      <th>I20</th>\n      <th>X2_mean</th>\n      <th>X3_mean</th>\n      <th>X4_mean</th>\n      <th>X5_mean</th>\n      <th>X7_mean</th>\n      <th>ltv</th>\n    </tr>\n  </thead>\n  <tbody>\n    <tr>\n      <th>0</th>\n      <td>0xb2d30bf6</td>\n      <td>3.00</td>\n      <td>149</td>\n      <td>169</td>\n      <td>2019-09-11 18:00:00</td>\n      <td>2019-04-15 00:00:00</td>\n      <td>19455.15</td>\n      <td>1.00</td>\n      <td>1.00</td>\n      <td>58.00</td>\n      <td>서비스직</td>\n      <td>0.00</td>\n      <td>0.00</td>\n      <td>0.00</td>\n      <td>1.00</td>\n      <td>1.00</td>\n      <td>1.00</td>\n      <td>0.00</td>\n      <td>0.00</td>\n      <td>19455.15</td>\n      <td>0.00</td>\n      <td>0.00</td>\n      <td>0.00</td>\n      <td>22237.11</td>\n    </tr>\n    <tr>\n      <th>1</th>\n      <td>0xb2d0c143</td>\n      <td>21.00</td>\n      <td>342</td>\n      <td>354</td>\n      <td>2019-09-19 05:04:00</td>\n      <td>2018-10-12 00:00:00</td>\n      <td>71682.53</td>\n      <td>1.00</td>\n      <td>0.00</td>\n      <td>29.00</td>\n      <td>프리랜서</td>\n      <td>0.00</td>\n      <td>0.00</td>\n      <td>1.00</td>\n      <td>1.00</td>\n      <td>1.00</td>\n      <td>1.00</td>\n      <td>0.00</td>\n      <td>0.00</td>\n      <td>6698.39</td>\n      <td>0.00</td>\n      <td>0.00</td>\n      <td>0.00</td>\n      <td>214562.77</td>\n    </tr>\n    <tr>\n      <th>3</th>\n      <td>0xb2d5a839</td>\n      <td>4.00</td>\n      <td>313</td>\n      <td>333</td>\n      <td>2019-09-11 15:40:00</td>\n      <td>2018-11-02 00:00:00</td>\n      <td>107453.08</td>\n      <td>1.00</td>\n      <td>0.00</td>\n      <td>29.00</td>\n      <td>판매원</td>\n      <td>0.00</td>\n      <td>0.00</td>\n      <td>1.00</td>\n      <td>1.00</td>\n      <td>1.00</td>\n      <td>1.00</td>\n      <td>0.00</td>\n      <td>0.00</td>\n      <td>14270.77</td>\n      <td>0.00</td>\n      <td>0.00</td>\n      <td>0.00</td>\n      <td>77995.24</td>\n    </tr>\n    <tr>\n      <th>5</th>\n      <td>0xb2d6d3ac</td>\n      <td>4.00</td>\n      <td>127</td>\n      <td>155</td>\n      <td>2019-09-03 14:33:00</td>\n      <td>2019-04-29 00:00:00</td>\n      <td>167044.04</td>\n      <td>-1.00</td>\n      <td>1.00</td>\n      <td>48.00</td>\n      <td>프리랜서</td>\n      <td>0.00</td>\n      <td>0.00</td>\n      <td>1.00</td>\n      <td>1.00</td>\n      <td>1.00</td>\n      <td>1.00</td>\n      <td>0.00</td>\n      <td>0.00</td>\n      <td>167044.04</td>\n      <td>0.00</td>\n      <td>0.00</td>\n      <td>0.00</td>\n      <td>256905.29</td>\n    </tr>\n    <tr>\n      <th>6</th>\n      <td>0xb2d58f97</td>\n      <td>55.00</td>\n      <td>286</td>\n      <td>293</td>\n      <td>2019-09-24 09:21:00</td>\n      <td>2018-12-12 00:00:00</td>\n      <td>2005.83</td>\n      <td>-1.00</td>\n      <td>0.00</td>\n      <td>28.00</td>\n      <td>전문직</td>\n      <td>0.00</td>\n      <td>0.00</td>\n      <td>0.00</td>\n      <td>1.00</td>\n      <td>1.00</td>\n      <td>1.00</td>\n      <td>0.00</td>\n      <td>0.00</td>\n      <td>2005.83</td>\n      <td>0.00</td>\n      <td>0.00</td>\n      <td>0.00</td>\n      <td>18462.13</td>\n    </tr>\n  </tbody>\n</table>\n</div>"
     },
     "execution_count": 89,
     "metadata": {},
     "output_type": "execute_result"
    }
   ],
   "source": [
    "train_RFTM['ltv'] = spend_model.customer_lifetime_value(lifetimes_model,\n",
    " train_RFTM['Frequency'],\n",
    " train_RFTM['Recency'],\n",
    " train_RFTM['Time'],\n",
    " train_RFTM['Monetary'],\n",
    " time=12, # 3 Months\n",
    " freq='W', # Frequency of T ,in this case it is 'weekly'\n",
    " discount_rate=0.01)\n",
    "\n",
    "train_RFTM.head()  \n",
    "\n",
    "\n"
   ]
  },
  {
   "cell_type": "code",
   "execution_count": 90,
   "metadata": {},
   "outputs": [
    {
     "data": {
      "text/plain": "           cust_no  Frequency  Recency  Time            last_Date  \\\n9754    0xb2d67a3c     186.00      186   187  2019-09-30 18:11:00   \n20526   0xb2d42d02     483.00      185   186  2019-09-30 17:19:00   \n2759    0xb2d41387     159.00      200   201  2019-09-30 18:35:00   \n23350   0xb2d65892      57.00      101   102  2019-09-30 04:44:00   \n101436  0xb2d6cdf3      46.00       92    98  2019-12-26 10:42:00   \n20833   0xb2d48b3a     404.00       96    97  2019-09-30 10:46:00   \n42331   0xb2d3f682      26.00      106   120  2019-09-17 10:24:00   \n33020   0xb2d2bc56     504.00      187   188  2019-09-30 16:18:00   \n28676   0xb2d6e7c9    1072.00       94    95  2019-09-30 17:38:00   \n38428   0xb2d6e26f      57.00       99   103  2019-09-27 15:03:00   \n\n                 first_Date    Monetary  이탈여부   I1    I2    I5   I7       I11  \\\n9754    2019-03-28 00:00:00 36950024.09  1.00 0.00 56.00   판매원 0.00      0.00   \n20526   2019-03-29 00:00:00 12097379.10  1.00 0.00 38.00  서비스직 0.00      0.00   \n2759    2019-03-14 00:00:00 25359291.30 -1.00 1.00 47.00   판매원 0.00      0.00   \n23350   2019-06-21 00:00:00 35766392.12  1.00 0.00 47.00   판매원 0.00      0.00   \n101436  2019-09-25 00:00:00 28298947.02 -1.00 0.00 48.00  프리랜서 0.00      0.00   \n20833   2019-06-26 00:00:00  3199929.23  1.00 1.00 54.00   판매원 0.00 999600.00   \n42331   2019-06-03 00:00:00 54169196.88 -1.00 1.00 31.00  프리랜서 0.00      0.00   \n33020   2019-03-27 00:00:00  4246717.19  1.00 1.00 37.00  프리랜서 0.00      0.00   \n28676   2019-06-28 00:00:00   848566.55  1.00 1.00 29.00  서비스직 0.00      0.00   \n38428   2019-06-20 00:00:00 15543809.12  1.00 1.00 33.00   판매원 0.00      0.00   \n\n        I16  I17  I18  I19  I20  X2_mean     X3_mean     X4_mean  X5_mean  \\\n9754   1.00 1.00 1.00 1.00 0.00     0.00 36950024.09        0.00     0.00   \n20526  1.00 1.00 1.00 0.00 0.00     0.00 12097379.10        0.00     0.00   \n2759   1.00 1.00 1.00 1.00 1.00     0.00  6385249.26        0.00     0.00   \n23350  1.00 1.00 1.00 1.00 0.00     0.00  1672509.70 24133333.33     0.00   \n101436 1.00 1.00 1.00 1.00 0.00     0.00 21071929.36        0.00     0.00   \n20833  0.00 1.00 1.00 1.00 0.00     0.00    29858.45        0.00     0.00   \n42331  1.00 1.00 1.00 1.00 0.00     0.00     5060.44        0.00     0.00   \n33020  1.00 1.00 1.00 1.00 0.00     0.00  4246717.19        0.00     0.00   \n28676  1.00 1.00 1.00 1.00 1.00     0.00   798088.73        0.00     0.00   \n38428  1.00 1.00 1.00 1.00 1.00     0.00  1087618.24        0.00     0.00   \n\n           X7_mean           ltv  \n9754          0.00 1768115363.47  \n20526         0.00 1506637207.16  \n2759          0.00  967280430.32  \n23350         0.00  955401958.49  \n101436        0.00  636119582.19  \n20833   4246666.67  627231370.51  \n42331         0.00  574308247.40  \n33020         0.00  546100329.41  \n28676         0.00  425795439.71  \n38428  20000000.00  411271605.03  ",
      "text/html": "<div>\n<style scoped>\n    .dataframe tbody tr th:only-of-type {\n        vertical-align: middle;\n    }\n\n    .dataframe tbody tr th {\n        vertical-align: top;\n    }\n\n    .dataframe thead th {\n        text-align: right;\n    }\n</style>\n<table border=\"1\" class=\"dataframe\">\n  <thead>\n    <tr style=\"text-align: right;\">\n      <th></th>\n      <th>cust_no</th>\n      <th>Frequency</th>\n      <th>Recency</th>\n      <th>Time</th>\n      <th>last_Date</th>\n      <th>first_Date</th>\n      <th>Monetary</th>\n      <th>이탈여부</th>\n      <th>I1</th>\n      <th>I2</th>\n      <th>I5</th>\n      <th>I7</th>\n      <th>I11</th>\n      <th>I16</th>\n      <th>I17</th>\n      <th>I18</th>\n      <th>I19</th>\n      <th>I20</th>\n      <th>X2_mean</th>\n      <th>X3_mean</th>\n      <th>X4_mean</th>\n      <th>X5_mean</th>\n      <th>X7_mean</th>\n      <th>ltv</th>\n    </tr>\n  </thead>\n  <tbody>\n    <tr>\n      <th>9754</th>\n      <td>0xb2d67a3c</td>\n      <td>186.00</td>\n      <td>186</td>\n      <td>187</td>\n      <td>2019-09-30 18:11:00</td>\n      <td>2019-03-28 00:00:00</td>\n      <td>36950024.09</td>\n      <td>1.00</td>\n      <td>0.00</td>\n      <td>56.00</td>\n      <td>판매원</td>\n      <td>0.00</td>\n      <td>0.00</td>\n      <td>1.00</td>\n      <td>1.00</td>\n      <td>1.00</td>\n      <td>1.00</td>\n      <td>0.00</td>\n      <td>0.00</td>\n      <td>36950024.09</td>\n      <td>0.00</td>\n      <td>0.00</td>\n      <td>0.00</td>\n      <td>1768115363.47</td>\n    </tr>\n    <tr>\n      <th>20526</th>\n      <td>0xb2d42d02</td>\n      <td>483.00</td>\n      <td>185</td>\n      <td>186</td>\n      <td>2019-09-30 17:19:00</td>\n      <td>2019-03-29 00:00:00</td>\n      <td>12097379.10</td>\n      <td>1.00</td>\n      <td>0.00</td>\n      <td>38.00</td>\n      <td>서비스직</td>\n      <td>0.00</td>\n      <td>0.00</td>\n      <td>1.00</td>\n      <td>1.00</td>\n      <td>1.00</td>\n      <td>0.00</td>\n      <td>0.00</td>\n      <td>0.00</td>\n      <td>12097379.10</td>\n      <td>0.00</td>\n      <td>0.00</td>\n      <td>0.00</td>\n      <td>1506637207.16</td>\n    </tr>\n    <tr>\n      <th>2759</th>\n      <td>0xb2d41387</td>\n      <td>159.00</td>\n      <td>200</td>\n      <td>201</td>\n      <td>2019-09-30 18:35:00</td>\n      <td>2019-03-14 00:00:00</td>\n      <td>25359291.30</td>\n      <td>-1.00</td>\n      <td>1.00</td>\n      <td>47.00</td>\n      <td>판매원</td>\n      <td>0.00</td>\n      <td>0.00</td>\n      <td>1.00</td>\n      <td>1.00</td>\n      <td>1.00</td>\n      <td>1.00</td>\n      <td>1.00</td>\n      <td>0.00</td>\n      <td>6385249.26</td>\n      <td>0.00</td>\n      <td>0.00</td>\n      <td>0.00</td>\n      <td>967280430.32</td>\n    </tr>\n    <tr>\n      <th>23350</th>\n      <td>0xb2d65892</td>\n      <td>57.00</td>\n      <td>101</td>\n      <td>102</td>\n      <td>2019-09-30 04:44:00</td>\n      <td>2019-06-21 00:00:00</td>\n      <td>35766392.12</td>\n      <td>1.00</td>\n      <td>0.00</td>\n      <td>47.00</td>\n      <td>판매원</td>\n      <td>0.00</td>\n      <td>0.00</td>\n      <td>1.00</td>\n      <td>1.00</td>\n      <td>1.00</td>\n      <td>1.00</td>\n      <td>0.00</td>\n      <td>0.00</td>\n      <td>1672509.70</td>\n      <td>24133333.33</td>\n      <td>0.00</td>\n      <td>0.00</td>\n      <td>955401958.49</td>\n    </tr>\n    <tr>\n      <th>101436</th>\n      <td>0xb2d6cdf3</td>\n      <td>46.00</td>\n      <td>92</td>\n      <td>98</td>\n      <td>2019-12-26 10:42:00</td>\n      <td>2019-09-25 00:00:00</td>\n      <td>28298947.02</td>\n      <td>-1.00</td>\n      <td>0.00</td>\n      <td>48.00</td>\n      <td>프리랜서</td>\n      <td>0.00</td>\n      <td>0.00</td>\n      <td>1.00</td>\n      <td>1.00</td>\n      <td>1.00</td>\n      <td>1.00</td>\n      <td>0.00</td>\n      <td>0.00</td>\n      <td>21071929.36</td>\n      <td>0.00</td>\n      <td>0.00</td>\n      <td>0.00</td>\n      <td>636119582.19</td>\n    </tr>\n    <tr>\n      <th>20833</th>\n      <td>0xb2d48b3a</td>\n      <td>404.00</td>\n      <td>96</td>\n      <td>97</td>\n      <td>2019-09-30 10:46:00</td>\n      <td>2019-06-26 00:00:00</td>\n      <td>3199929.23</td>\n      <td>1.00</td>\n      <td>1.00</td>\n      <td>54.00</td>\n      <td>판매원</td>\n      <td>0.00</td>\n      <td>999600.00</td>\n      <td>0.00</td>\n      <td>1.00</td>\n      <td>1.00</td>\n      <td>1.00</td>\n      <td>0.00</td>\n      <td>0.00</td>\n      <td>29858.45</td>\n      <td>0.00</td>\n      <td>0.00</td>\n      <td>4246666.67</td>\n      <td>627231370.51</td>\n    </tr>\n    <tr>\n      <th>42331</th>\n      <td>0xb2d3f682</td>\n      <td>26.00</td>\n      <td>106</td>\n      <td>120</td>\n      <td>2019-09-17 10:24:00</td>\n      <td>2019-06-03 00:00:00</td>\n      <td>54169196.88</td>\n      <td>-1.00</td>\n      <td>1.00</td>\n      <td>31.00</td>\n      <td>프리랜서</td>\n      <td>0.00</td>\n      <td>0.00</td>\n      <td>1.00</td>\n      <td>1.00</td>\n      <td>1.00</td>\n      <td>1.00</td>\n      <td>0.00</td>\n      <td>0.00</td>\n      <td>5060.44</td>\n      <td>0.00</td>\n      <td>0.00</td>\n      <td>0.00</td>\n      <td>574308247.40</td>\n    </tr>\n    <tr>\n      <th>33020</th>\n      <td>0xb2d2bc56</td>\n      <td>504.00</td>\n      <td>187</td>\n      <td>188</td>\n      <td>2019-09-30 16:18:00</td>\n      <td>2019-03-27 00:00:00</td>\n      <td>4246717.19</td>\n      <td>1.00</td>\n      <td>1.00</td>\n      <td>37.00</td>\n      <td>프리랜서</td>\n      <td>0.00</td>\n      <td>0.00</td>\n      <td>1.00</td>\n      <td>1.00</td>\n      <td>1.00</td>\n      <td>1.00</td>\n      <td>0.00</td>\n      <td>0.00</td>\n      <td>4246717.19</td>\n      <td>0.00</td>\n      <td>0.00</td>\n      <td>0.00</td>\n      <td>546100329.41</td>\n    </tr>\n    <tr>\n      <th>28676</th>\n      <td>0xb2d6e7c9</td>\n      <td>1072.00</td>\n      <td>94</td>\n      <td>95</td>\n      <td>2019-09-30 17:38:00</td>\n      <td>2019-06-28 00:00:00</td>\n      <td>848566.55</td>\n      <td>1.00</td>\n      <td>1.00</td>\n      <td>29.00</td>\n      <td>서비스직</td>\n      <td>0.00</td>\n      <td>0.00</td>\n      <td>1.00</td>\n      <td>1.00</td>\n      <td>1.00</td>\n      <td>1.00</td>\n      <td>1.00</td>\n      <td>0.00</td>\n      <td>798088.73</td>\n      <td>0.00</td>\n      <td>0.00</td>\n      <td>0.00</td>\n      <td>425795439.71</td>\n    </tr>\n    <tr>\n      <th>38428</th>\n      <td>0xb2d6e26f</td>\n      <td>57.00</td>\n      <td>99</td>\n      <td>103</td>\n      <td>2019-09-27 15:03:00</td>\n      <td>2019-06-20 00:00:00</td>\n      <td>15543809.12</td>\n      <td>1.00</td>\n      <td>1.00</td>\n      <td>33.00</td>\n      <td>판매원</td>\n      <td>0.00</td>\n      <td>0.00</td>\n      <td>1.00</td>\n      <td>1.00</td>\n      <td>1.00</td>\n      <td>1.00</td>\n      <td>1.00</td>\n      <td>0.00</td>\n      <td>1087618.24</td>\n      <td>0.00</td>\n      <td>0.00</td>\n      <td>20000000.00</td>\n      <td>411271605.03</td>\n    </tr>\n  </tbody>\n</table>\n</div>"
     },
     "execution_count": 90,
     "metadata": {},
     "output_type": "execute_result"
    }
   ],
   "source": [
    "train_RFTM.sort_values(by = 'ltv', ascending=False).head(10)"
   ]
  },
  {
   "cell_type": "code",
   "execution_count": 91,
   "metadata": {},
   "outputs": [
    {
     "data": {
      "text/plain": "           cust_no  Frequency  Recency  Time            last_Date  \\\n9754    0xb2d67a3c     186.00      186   187  2019-09-30 18:11:00   \n20526   0xb2d42d02     483.00      185   186  2019-09-30 17:19:00   \n2759    0xb2d41387     159.00      200   201  2019-09-30 18:35:00   \n23350   0xb2d65892      57.00      101   102  2019-09-30 04:44:00   \n101436  0xb2d6cdf3      46.00       92    98  2019-12-26 10:42:00   \n20833   0xb2d48b3a     404.00       96    97  2019-09-30 10:46:00   \n42331   0xb2d3f682      26.00      106   120  2019-09-17 10:24:00   \n33020   0xb2d2bc56     504.00      187   188  2019-09-30 16:18:00   \n28676   0xb2d6e7c9    1072.00       94    95  2019-09-30 17:38:00   \n38428   0xb2d6e26f      57.00       99   103  2019-09-27 15:03:00   \n\n                 first_Date    Monetary  이탈여부   I1    I2    I5   I7       I11  \\\n9754    2019-03-28 00:00:00 36950024.09  1.00 0.00 56.00   판매원 0.00      0.00   \n20526   2019-03-29 00:00:00 12097379.10  1.00 0.00 38.00  서비스직 0.00      0.00   \n2759    2019-03-14 00:00:00 25359291.30 -1.00 1.00 47.00   판매원 0.00      0.00   \n23350   2019-06-21 00:00:00 35766392.12  1.00 0.00 47.00   판매원 0.00      0.00   \n101436  2019-09-25 00:00:00 28298947.02 -1.00 0.00 48.00  프리랜서 0.00      0.00   \n20833   2019-06-26 00:00:00  3199929.23  1.00 1.00 54.00   판매원 0.00 999600.00   \n42331   2019-06-03 00:00:00 54169196.88 -1.00 1.00 31.00  프리랜서 0.00      0.00   \n33020   2019-03-27 00:00:00  4246717.19  1.00 1.00 37.00  프리랜서 0.00      0.00   \n28676   2019-06-28 00:00:00   848566.55  1.00 1.00 29.00  서비스직 0.00      0.00   \n38428   2019-06-20 00:00:00 15543809.12  1.00 1.00 33.00   판매원 0.00      0.00   \n\n        I16  I17  I18  I19  I20  X2_mean     X3_mean     X4_mean  X5_mean  \\\n9754   1.00 1.00 1.00 1.00 0.00     0.00 36950024.09        0.00     0.00   \n20526  1.00 1.00 1.00 0.00 0.00     0.00 12097379.10        0.00     0.00   \n2759   1.00 1.00 1.00 1.00 1.00     0.00  6385249.26        0.00     0.00   \n23350  1.00 1.00 1.00 1.00 0.00     0.00  1672509.70 24133333.33     0.00   \n101436 1.00 1.00 1.00 1.00 0.00     0.00 21071929.36        0.00     0.00   \n20833  0.00 1.00 1.00 1.00 0.00     0.00    29858.45        0.00     0.00   \n42331  1.00 1.00 1.00 1.00 0.00     0.00     5060.44        0.00     0.00   \n33020  1.00 1.00 1.00 1.00 0.00     0.00  4246717.19        0.00     0.00   \n28676  1.00 1.00 1.00 1.00 1.00     0.00   798088.73        0.00     0.00   \n38428  1.00 1.00 1.00 1.00 1.00     0.00  1087618.24        0.00     0.00   \n\n           X7_mean           ltv  \n9754          0.00 1768115363.47  \n20526         0.00 1506637207.16  \n2759          0.00  967280430.32  \n23350         0.00  955401958.49  \n101436        0.00  636119582.19  \n20833   4246666.67  627231370.51  \n42331         0.00  574308247.40  \n33020         0.00  546100329.41  \n28676         0.00  425795439.71  \n38428  20000000.00  411271605.03  ",
      "text/html": "<div>\n<style scoped>\n    .dataframe tbody tr th:only-of-type {\n        vertical-align: middle;\n    }\n\n    .dataframe tbody tr th {\n        vertical-align: top;\n    }\n\n    .dataframe thead th {\n        text-align: right;\n    }\n</style>\n<table border=\"1\" class=\"dataframe\">\n  <thead>\n    <tr style=\"text-align: right;\">\n      <th></th>\n      <th>cust_no</th>\n      <th>Frequency</th>\n      <th>Recency</th>\n      <th>Time</th>\n      <th>last_Date</th>\n      <th>first_Date</th>\n      <th>Monetary</th>\n      <th>이탈여부</th>\n      <th>I1</th>\n      <th>I2</th>\n      <th>I5</th>\n      <th>I7</th>\n      <th>I11</th>\n      <th>I16</th>\n      <th>I17</th>\n      <th>I18</th>\n      <th>I19</th>\n      <th>I20</th>\n      <th>X2_mean</th>\n      <th>X3_mean</th>\n      <th>X4_mean</th>\n      <th>X5_mean</th>\n      <th>X7_mean</th>\n      <th>ltv</th>\n    </tr>\n  </thead>\n  <tbody>\n    <tr>\n      <th>9754</th>\n      <td>0xb2d67a3c</td>\n      <td>186.00</td>\n      <td>186</td>\n      <td>187</td>\n      <td>2019-09-30 18:11:00</td>\n      <td>2019-03-28 00:00:00</td>\n      <td>36950024.09</td>\n      <td>1.00</td>\n      <td>0.00</td>\n      <td>56.00</td>\n      <td>판매원</td>\n      <td>0.00</td>\n      <td>0.00</td>\n      <td>1.00</td>\n      <td>1.00</td>\n      <td>1.00</td>\n      <td>1.00</td>\n      <td>0.00</td>\n      <td>0.00</td>\n      <td>36950024.09</td>\n      <td>0.00</td>\n      <td>0.00</td>\n      <td>0.00</td>\n      <td>1768115363.47</td>\n    </tr>\n    <tr>\n      <th>20526</th>\n      <td>0xb2d42d02</td>\n      <td>483.00</td>\n      <td>185</td>\n      <td>186</td>\n      <td>2019-09-30 17:19:00</td>\n      <td>2019-03-29 00:00:00</td>\n      <td>12097379.10</td>\n      <td>1.00</td>\n      <td>0.00</td>\n      <td>38.00</td>\n      <td>서비스직</td>\n      <td>0.00</td>\n      <td>0.00</td>\n      <td>1.00</td>\n      <td>1.00</td>\n      <td>1.00</td>\n      <td>0.00</td>\n      <td>0.00</td>\n      <td>0.00</td>\n      <td>12097379.10</td>\n      <td>0.00</td>\n      <td>0.00</td>\n      <td>0.00</td>\n      <td>1506637207.16</td>\n    </tr>\n    <tr>\n      <th>2759</th>\n      <td>0xb2d41387</td>\n      <td>159.00</td>\n      <td>200</td>\n      <td>201</td>\n      <td>2019-09-30 18:35:00</td>\n      <td>2019-03-14 00:00:00</td>\n      <td>25359291.30</td>\n      <td>-1.00</td>\n      <td>1.00</td>\n      <td>47.00</td>\n      <td>판매원</td>\n      <td>0.00</td>\n      <td>0.00</td>\n      <td>1.00</td>\n      <td>1.00</td>\n      <td>1.00</td>\n      <td>1.00</td>\n      <td>1.00</td>\n      <td>0.00</td>\n      <td>6385249.26</td>\n      <td>0.00</td>\n      <td>0.00</td>\n      <td>0.00</td>\n      <td>967280430.32</td>\n    </tr>\n    <tr>\n      <th>23350</th>\n      <td>0xb2d65892</td>\n      <td>57.00</td>\n      <td>101</td>\n      <td>102</td>\n      <td>2019-09-30 04:44:00</td>\n      <td>2019-06-21 00:00:00</td>\n      <td>35766392.12</td>\n      <td>1.00</td>\n      <td>0.00</td>\n      <td>47.00</td>\n      <td>판매원</td>\n      <td>0.00</td>\n      <td>0.00</td>\n      <td>1.00</td>\n      <td>1.00</td>\n      <td>1.00</td>\n      <td>1.00</td>\n      <td>0.00</td>\n      <td>0.00</td>\n      <td>1672509.70</td>\n      <td>24133333.33</td>\n      <td>0.00</td>\n      <td>0.00</td>\n      <td>955401958.49</td>\n    </tr>\n    <tr>\n      <th>101436</th>\n      <td>0xb2d6cdf3</td>\n      <td>46.00</td>\n      <td>92</td>\n      <td>98</td>\n      <td>2019-12-26 10:42:00</td>\n      <td>2019-09-25 00:00:00</td>\n      <td>28298947.02</td>\n      <td>-1.00</td>\n      <td>0.00</td>\n      <td>48.00</td>\n      <td>프리랜서</td>\n      <td>0.00</td>\n      <td>0.00</td>\n      <td>1.00</td>\n      <td>1.00</td>\n      <td>1.00</td>\n      <td>1.00</td>\n      <td>0.00</td>\n      <td>0.00</td>\n      <td>21071929.36</td>\n      <td>0.00</td>\n      <td>0.00</td>\n      <td>0.00</td>\n      <td>636119582.19</td>\n    </tr>\n    <tr>\n      <th>20833</th>\n      <td>0xb2d48b3a</td>\n      <td>404.00</td>\n      <td>96</td>\n      <td>97</td>\n      <td>2019-09-30 10:46:00</td>\n      <td>2019-06-26 00:00:00</td>\n      <td>3199929.23</td>\n      <td>1.00</td>\n      <td>1.00</td>\n      <td>54.00</td>\n      <td>판매원</td>\n      <td>0.00</td>\n      <td>999600.00</td>\n      <td>0.00</td>\n      <td>1.00</td>\n      <td>1.00</td>\n      <td>1.00</td>\n      <td>0.00</td>\n      <td>0.00</td>\n      <td>29858.45</td>\n      <td>0.00</td>\n      <td>0.00</td>\n      <td>4246666.67</td>\n      <td>627231370.51</td>\n    </tr>\n    <tr>\n      <th>42331</th>\n      <td>0xb2d3f682</td>\n      <td>26.00</td>\n      <td>106</td>\n      <td>120</td>\n      <td>2019-09-17 10:24:00</td>\n      <td>2019-06-03 00:00:00</td>\n      <td>54169196.88</td>\n      <td>-1.00</td>\n      <td>1.00</td>\n      <td>31.00</td>\n      <td>프리랜서</td>\n      <td>0.00</td>\n      <td>0.00</td>\n      <td>1.00</td>\n      <td>1.00</td>\n      <td>1.00</td>\n      <td>1.00</td>\n      <td>0.00</td>\n      <td>0.00</td>\n      <td>5060.44</td>\n      <td>0.00</td>\n      <td>0.00</td>\n      <td>0.00</td>\n      <td>574308247.40</td>\n    </tr>\n    <tr>\n      <th>33020</th>\n      <td>0xb2d2bc56</td>\n      <td>504.00</td>\n      <td>187</td>\n      <td>188</td>\n      <td>2019-09-30 16:18:00</td>\n      <td>2019-03-27 00:00:00</td>\n      <td>4246717.19</td>\n      <td>1.00</td>\n      <td>1.00</td>\n      <td>37.00</td>\n      <td>프리랜서</td>\n      <td>0.00</td>\n      <td>0.00</td>\n      <td>1.00</td>\n      <td>1.00</td>\n      <td>1.00</td>\n      <td>1.00</td>\n      <td>0.00</td>\n      <td>0.00</td>\n      <td>4246717.19</td>\n      <td>0.00</td>\n      <td>0.00</td>\n      <td>0.00</td>\n      <td>546100329.41</td>\n    </tr>\n    <tr>\n      <th>28676</th>\n      <td>0xb2d6e7c9</td>\n      <td>1072.00</td>\n      <td>94</td>\n      <td>95</td>\n      <td>2019-09-30 17:38:00</td>\n      <td>2019-06-28 00:00:00</td>\n      <td>848566.55</td>\n      <td>1.00</td>\n      <td>1.00</td>\n      <td>29.00</td>\n      <td>서비스직</td>\n      <td>0.00</td>\n      <td>0.00</td>\n      <td>1.00</td>\n      <td>1.00</td>\n      <td>1.00</td>\n      <td>1.00</td>\n      <td>1.00</td>\n      <td>0.00</td>\n      <td>798088.73</td>\n      <td>0.00</td>\n      <td>0.00</td>\n      <td>0.00</td>\n      <td>425795439.71</td>\n    </tr>\n    <tr>\n      <th>38428</th>\n      <td>0xb2d6e26f</td>\n      <td>57.00</td>\n      <td>99</td>\n      <td>103</td>\n      <td>2019-09-27 15:03:00</td>\n      <td>2019-06-20 00:00:00</td>\n      <td>15543809.12</td>\n      <td>1.00</td>\n      <td>1.00</td>\n      <td>33.00</td>\n      <td>판매원</td>\n      <td>0.00</td>\n      <td>0.00</td>\n      <td>1.00</td>\n      <td>1.00</td>\n      <td>1.00</td>\n      <td>1.00</td>\n      <td>1.00</td>\n      <td>0.00</td>\n      <td>1087618.24</td>\n      <td>0.00</td>\n      <td>0.00</td>\n      <td>20000000.00</td>\n      <td>411271605.03</td>\n    </tr>\n  </tbody>\n</table>\n</div>"
     },
     "execution_count": 91,
     "metadata": {},
     "output_type": "execute_result"
    }
   ],
   "source": [
    "train_RFTM.sort_values(by = 'ltv', ascending=False).head(10)"
   ]
  },
  {
   "attachments": {},
   "cell_type": "markdown",
   "metadata": {},
   "source": [
    "### **2-4. 인사이트 : 예상 거래횟수**\n",
    "고객마다 일정한 기간(1일)동안의 거래하는 횟수의 분포 \n",
    "\n",
    "X축 : lambda*T = 거래횟수(일정기간 T =1일단위)   \n",
    "y축 : gamma분포에 따른 확률, gamma(r, alpha) = 평균 거래소요시간이 alpha(일)이며, r번의 거래가 발생할때까지 걸리는 시간에 대한 연속 확률분포   \n",
    "\n",
    "그래프 해석)  \n",
    "λ에 대한 분포는 1일 단위로, x축에서 1.0쯤 확률이 0으로 수렴하는것으로 보아 1일 평균 거래횟수는 최대 1번 정도로, \n",
    "1일 평균 1번 정도의 거래가 발생하고 있음을 알수있다.  "
   ]
  },
  {
   "cell_type": "code",
   "execution_count": 92,
   "metadata": {},
   "outputs": [
    {
     "data": {
      "text/plain": "[<matplotlib.lines.Line2D at 0x7fc6e924fa90>]"
     },
     "execution_count": 92,
     "metadata": {},
     "output_type": "execute_result"
    },
    {
     "data": {
      "text/plain": "<Figure size 640x480 with 1 Axes>",
      "image/png": "[encoded data removed]"
     },
     "metadata": {},
     "output_type": "display_data"
    }
   ],
   "source": [
    "# 고객별 lambda (구매율)의 분포   \n",
    "\n",
    "from scipy.stats import gamma  \n",
    "import matplotlib.pyplot as plt  \n",
    "\n",
    "coefs = lifetimes_model.summary['coef']  \n",
    "\n",
    "x = np.linspace(0,2,100)  \n",
    "y = gamma.pdf(x, a=coefs['r'], scale=1/coefs['alpha'])  \n",
    "\n",
    "plt.plot(x,y)"
   ]
  },
  {
   "attachments": {},
   "cell_type": "markdown",
   "metadata": {},
   "source": [
    "### **2-4. 인사이트 : 3개월 내 가장 많이 거래할 고객 추출**\n",
    "\n",
    "90일(약 3개월) 동안의 예상 거래횟수가 많은 고객순으로 정렬하면  \n",
    "다음과 같이 () 행 고객이 가장 많이 거래할 것으로 예상되며 그 횟수는 ()번으로 에상된다.   \n"
   ]
  },
  {
   "cell_type": "code",
   "execution_count": 93,
   "metadata": {},
   "outputs": [
    {
     "data": {
      "text/plain": "          cust_no  Frequency  Recency  Time            last_Date  \\\n46737  0xb2d625b4    2158.00      183   184  2019-09-30 16:49:00   \n28676  0xb2d6e7c9    1072.00       94    95  2019-09-30 17:38:00   \n87661  0xb2d6929e    1213.00       95    96  2019-12-31 22:52:00   \n14759  0xb2d412d0    1007.00       96    97  2019-09-30 22:51:00   \n34152  0xb2d6929e     942.00       96    97  2019-09-30 16:22:00   \n\n                first_Date  Monetary  이탈여부   I1    I2    I5   I7  I11  I16  \\\n46737  2019-03-31 00:00:00   4482.46  1.00 1.00 61.00   판매원 0.00 0.00 0.00   \n28676  2019-06-28 00:00:00 848566.55  1.00 1.00 29.00  서비스직 0.00 0.00 1.00   \n87661  2019-09-27 00:00:00   6267.44  1.00 1.00 34.00  서비스직 0.00 0.00 0.00   \n14759  2019-06-26 00:00:00  37802.67  1.00 1.00 36.00   판매원 0.00 0.00 0.00   \n34152  2019-06-26 00:00:00   5346.73  1.00 1.00 34.00  서비스직 0.00 0.00 0.00   \n\n       I17  I18  I19  I20  X2_mean   X3_mean  X4_mean  X5_mean  X7_mean  \\\n46737 1.00 1.00 1.00 1.00     0.00   4482.46     0.00     0.00     0.00   \n28676 1.00 1.00 1.00 1.00     0.00 798088.73     0.00     0.00     0.00   \n87661 1.00 1.00 1.00 1.00     0.00   6267.44     0.00     0.00     0.00   \n14759 1.00 1.00 1.00 1.00     0.00  37802.67     0.00     0.00     0.00   \n34152 1.00 1.00 1.00 1.00     0.00   5346.73     0.00     0.00     0.00   \n\n               ltv  predicted_transactions  \n46737   2392761.49                  982.11  \n28676 425795439.71                  922.95  \n87661   3143283.85                  922.52  \n14759  17994236.74                  875.52  \n34152   2406995.65                  828.00  ",
      "text/html": "<div>\n<style scoped>\n    .dataframe tbody tr th:only-of-type {\n        vertical-align: middle;\n    }\n\n    .dataframe tbody tr th {\n        vertical-align: top;\n    }\n\n    .dataframe thead th {\n        text-align: right;\n    }\n</style>\n<table border=\"1\" class=\"dataframe\">\n  <thead>\n    <tr style=\"text-align: right;\">\n      <th></th>\n      <th>cust_no</th>\n      <th>Frequency</th>\n      <th>Recency</th>\n      <th>Time</th>\n      <th>last_Date</th>\n      <th>first_Date</th>\n      <th>Monetary</th>\n      <th>이탈여부</th>\n      <th>I1</th>\n      <th>I2</th>\n      <th>I5</th>\n      <th>I7</th>\n      <th>I11</th>\n      <th>I16</th>\n      <th>I17</th>\n      <th>I18</th>\n      <th>I19</th>\n      <th>I20</th>\n      <th>X2_mean</th>\n      <th>X3_mean</th>\n      <th>X4_mean</th>\n      <th>X5_mean</th>\n      <th>X7_mean</th>\n      <th>ltv</th>\n      <th>predicted_transactions</th>\n    </tr>\n  </thead>\n  <tbody>\n    <tr>\n      <th>46737</th>\n      <td>0xb2d625b4</td>\n      <td>2158.00</td>\n      <td>183</td>\n      <td>184</td>\n      <td>2019-09-30 16:49:00</td>\n      <td>2019-03-31 00:00:00</td>\n      <td>4482.46</td>\n      <td>1.00</td>\n      <td>1.00</td>\n      <td>61.00</td>\n      <td>판매원</td>\n      <td>0.00</td>\n      <td>0.00</td>\n      <td>0.00</td>\n      <td>1.00</td>\n      <td>1.00</td>\n      <td>1.00</td>\n      <td>1.00</td>\n      <td>0.00</td>\n      <td>4482.46</td>\n      <td>0.00</td>\n      <td>0.00</td>\n      <td>0.00</td>\n      <td>2392761.49</td>\n      <td>982.11</td>\n    </tr>\n    <tr>\n      <th>28676</th>\n      <td>0xb2d6e7c9</td>\n      <td>1072.00</td>\n      <td>94</td>\n      <td>95</td>\n      <td>2019-09-30 17:38:00</td>\n      <td>2019-06-28 00:00:00</td>\n      <td>848566.55</td>\n      <td>1.00</td>\n      <td>1.00</td>\n      <td>29.00</td>\n      <td>서비스직</td>\n      <td>0.00</td>\n      <td>0.00</td>\n      <td>1.00</td>\n      <td>1.00</td>\n      <td>1.00</td>\n      <td>1.00</td>\n      <td>1.00</td>\n      <td>0.00</td>\n      <td>798088.73</td>\n      <td>0.00</td>\n      <td>0.00</td>\n      <td>0.00</td>\n      <td>425795439.71</td>\n      <td>922.95</td>\n    </tr>\n    <tr>\n      <th>87661</th>\n      <td>0xb2d6929e</td>\n      <td>1213.00</td>\n      <td>95</td>\n      <td>96</td>\n      <td>2019-12-31 22:52:00</td>\n      <td>2019-09-27 00:00:00</td>\n      <td>6267.44</td>\n      <td>1.00</td>\n      <td>1.00</td>\n      <td>34.00</td>\n      <td>서비스직</td>\n      <td>0.00</td>\n      <td>0.00</td>\n      <td>0.00</td>\n      <td>1.00</td>\n      <td>1.00</td>\n      <td>1.00</td>\n      <td>1.00</td>\n      <td>0.00</td>\n      <td>6267.44</td>\n      <td>0.00</td>\n      <td>0.00</td>\n      <td>0.00</td>\n      <td>3143283.85</td>\n      <td>922.52</td>\n    </tr>\n    <tr>\n      <th>14759</th>\n      <td>0xb2d412d0</td>\n      <td>1007.00</td>\n      <td>96</td>\n      <td>97</td>\n      <td>2019-09-30 22:51:00</td>\n      <td>2019-06-26 00:00:00</td>\n      <td>37802.67</td>\n      <td>1.00</td>\n      <td>1.00</td>\n      <td>36.00</td>\n      <td>판매원</td>\n      <td>0.00</td>\n      <td>0.00</td>\n      <td>0.00</td>\n      <td>1.00</td>\n      <td>1.00</td>\n      <td>1.00</td>\n      <td>1.00</td>\n      <td>0.00</td>\n      <td>37802.67</td>\n      <td>0.00</td>\n      <td>0.00</td>\n      <td>0.00</td>\n      <td>17994236.74</td>\n      <td>875.52</td>\n    </tr>\n    <tr>\n      <th>34152</th>\n      <td>0xb2d6929e</td>\n      <td>942.00</td>\n      <td>96</td>\n      <td>97</td>\n      <td>2019-09-30 16:22:00</td>\n      <td>2019-06-26 00:00:00</td>\n      <td>5346.73</td>\n      <td>1.00</td>\n      <td>1.00</td>\n      <td>34.00</td>\n      <td>서비스직</td>\n      <td>0.00</td>\n      <td>0.00</td>\n      <td>0.00</td>\n      <td>1.00</td>\n      <td>1.00</td>\n      <td>1.00</td>\n      <td>1.00</td>\n      <td>0.00</td>\n      <td>5346.73</td>\n      <td>0.00</td>\n      <td>0.00</td>\n      <td>0.00</td>\n      <td>2406995.65</td>\n      <td>828.00</td>\n    </tr>\n  </tbody>\n</table>\n</div>"
     },
     "execution_count": 93,
     "metadata": {},
     "output_type": "execute_result"
    }
   ],
   "source": [
    "t = 90\n",
    "train_RFTM['predicted_transactions'] = lifetimes_model.conditional_expected_number_of_purchases_up_to_time(t,\n",
    "                                                        train_RFTM['Frequency'],\n",
    "                                                        train_RFTM['Recency'],\n",
    "                                                        train_RFTM['Time'])  \n",
    "\n",
    "train_RFTM.sort_values(by='predicted_transactions', ascending= False).head(5) "
   ]
  },
  {
   "attachments": {},
   "cell_type": "markdown",
   "metadata": {},
   "source": [
    "### **2-5. 인사이트 : 예상 평균 거래 금액이 가장 높은 고객 추출**  \n",
    "\n",
    "() 행, ()번 고객이 평균 거래 금액수가 가장 높을 것으로 예상된다. "
   ]
  },
  {
   "cell_type": "code",
   "execution_count": 94,
   "metadata": {},
   "outputs": [
    {
     "data": {
      "text/plain": "          cust_no  Frequency  Recency  Time            last_Date  \\\n46145  0x3b9aeb08      17.00      233   240  2019-09-24 10:23:00   \n47919  0xb2d26881       2.00      636   638  2019-09-29 15:36:00   \n68964  0xb2d25ed7      16.00      545   552  2019-12-25 14:55:00   \n95696  0xb2d1151e       9.00      271   273  2019-12-30 17:56:00   \n42331  0xb2d3f682      26.00      106   120  2019-09-17 10:24:00   \n\n                first_Date     Monetary  이탈여부   I1    I2    I5   I7  I11  I16  \\\n46145  2019-02-03 00:00:00 108768144.78  1.00 0.00 51.00  프리랜서 0.00 0.00 1.00   \n47919  2018-01-01 00:00:00  82533840.12  1.00 1.00 54.00   사무원 0.00 0.00 1.00   \n68964  2018-06-28 00:00:00  88615089.65  1.00 1.00 29.00   판매원 0.00 0.00 1.00   \n95696  2019-04-03 00:00:00  62448194.21  1.00 1.00 53.00  서비스직 0.00 0.00 1.00   \n42331  2019-06-03 00:00:00  54169196.88 -1.00 1.00 31.00  프리랜서 0.00 0.00 1.00   \n\n       I17  I18  I19  I20      X2_mean    X3_mean  X4_mean     X5_mean  \\\n46145 1.00 1.00 1.00 0.00 214657980.00 2878309.55     0.00 72296580.00   \n47919 1.00 1.00 1.00 0.00 137548927.32    7472.88     0.00 68774463.66   \n68964 1.00 1.00 1.00 1.00         0.00 7372786.20     0.00        0.00   \n95696 1.00 1.00 1.00 0.00         0.00 5806388.42     0.00        0.00   \n42331 1.00 1.00 1.00 0.00         0.00    5060.44     0.00        0.00   \n\n          X7_mean          ltv  predicted_transactions  \\\n46145 72296580.00 390587421.39                    6.44   \n47919 68774463.66  19735839.70                    0.35   \n68964        0.00 131872064.05                    2.67   \n95696        0.00 109583557.68                    3.08   \n42331        0.00 574308247.40                   19.19   \n\n       predicted_monetary_value  \n46145              111585961.87  \n47919              105091216.41  \n68964               91058247.16  \n95696               65576111.98  \n42331               55078611.26  ",
      "text/html": "<div>\n<style scoped>\n    .dataframe tbody tr th:only-of-type {\n        vertical-align: middle;\n    }\n\n    .dataframe tbody tr th {\n        vertical-align: top;\n    }\n\n    .dataframe thead th {\n        text-align: right;\n    }\n</style>\n<table border=\"1\" class=\"dataframe\">\n  <thead>\n    <tr style=\"text-align: right;\">\n      <th></th>\n      <th>cust_no</th>\n      <th>Frequency</th>\n      <th>Recency</th>\n      <th>Time</th>\n      <th>last_Date</th>\n      <th>first_Date</th>\n      <th>Monetary</th>\n      <th>이탈여부</th>\n      <th>I1</th>\n      <th>I2</th>\n      <th>I5</th>\n      <th>I7</th>\n      <th>I11</th>\n      <th>I16</th>\n      <th>I17</th>\n      <th>I18</th>\n      <th>I19</th>\n      <th>I20</th>\n      <th>X2_mean</th>\n      <th>X3_mean</th>\n      <th>X4_mean</th>\n      <th>X5_mean</th>\n      <th>X7_mean</th>\n      <th>ltv</th>\n      <th>predicted_transactions</th>\n      <th>predicted_monetary_value</th>\n    </tr>\n  </thead>\n  <tbody>\n    <tr>\n      <th>46145</th>\n      <td>0x3b9aeb08</td>\n      <td>17.00</td>\n      <td>233</td>\n      <td>240</td>\n      <td>2019-09-24 10:23:00</td>\n      <td>2019-02-03 00:00:00</td>\n      <td>108768144.78</td>\n      <td>1.00</td>\n      <td>0.00</td>\n      <td>51.00</td>\n      <td>프리랜서</td>\n      <td>0.00</td>\n      <td>0.00</td>\n      <td>1.00</td>\n      <td>1.00</td>\n      <td>1.00</td>\n      <td>1.00</td>\n      <td>0.00</td>\n      <td>214657980.00</td>\n      <td>2878309.55</td>\n      <td>0.00</td>\n      <td>72296580.00</td>\n      <td>72296580.00</td>\n      <td>390587421.39</td>\n      <td>6.44</td>\n      <td>111585961.87</td>\n    </tr>\n    <tr>\n      <th>47919</th>\n      <td>0xb2d26881</td>\n      <td>2.00</td>\n      <td>636</td>\n      <td>638</td>\n      <td>2019-09-29 15:36:00</td>\n      <td>2018-01-01 00:00:00</td>\n      <td>82533840.12</td>\n      <td>1.00</td>\n      <td>1.00</td>\n      <td>54.00</td>\n      <td>사무원</td>\n      <td>0.00</td>\n      <td>0.00</td>\n      <td>1.00</td>\n      <td>1.00</td>\n      <td>1.00</td>\n      <td>1.00</td>\n      <td>0.00</td>\n      <td>137548927.32</td>\n      <td>7472.88</td>\n      <td>0.00</td>\n      <td>68774463.66</td>\n      <td>68774463.66</td>\n      <td>19735839.70</td>\n      <td>0.35</td>\n      <td>105091216.41</td>\n    </tr>\n    <tr>\n      <th>68964</th>\n      <td>0xb2d25ed7</td>\n      <td>16.00</td>\n      <td>545</td>\n      <td>552</td>\n      <td>2019-12-25 14:55:00</td>\n      <td>2018-06-28 00:00:00</td>\n      <td>88615089.65</td>\n      <td>1.00</td>\n      <td>1.00</td>\n      <td>29.00</td>\n      <td>판매원</td>\n      <td>0.00</td>\n      <td>0.00</td>\n      <td>1.00</td>\n      <td>1.00</td>\n      <td>1.00</td>\n      <td>1.00</td>\n      <td>1.00</td>\n      <td>0.00</td>\n      <td>7372786.20</td>\n      <td>0.00</td>\n      <td>0.00</td>\n      <td>0.00</td>\n      <td>131872064.05</td>\n      <td>2.67</td>\n      <td>91058247.16</td>\n    </tr>\n    <tr>\n      <th>95696</th>\n      <td>0xb2d1151e</td>\n      <td>9.00</td>\n      <td>271</td>\n      <td>273</td>\n      <td>2019-12-30 17:56:00</td>\n      <td>2019-04-03 00:00:00</td>\n      <td>62448194.21</td>\n      <td>1.00</td>\n      <td>1.00</td>\n      <td>53.00</td>\n      <td>서비스직</td>\n      <td>0.00</td>\n      <td>0.00</td>\n      <td>1.00</td>\n      <td>1.00</td>\n      <td>1.00</td>\n      <td>1.00</td>\n      <td>0.00</td>\n      <td>0.00</td>\n      <td>5806388.42</td>\n      <td>0.00</td>\n      <td>0.00</td>\n      <td>0.00</td>\n      <td>109583557.68</td>\n      <td>3.08</td>\n      <td>65576111.98</td>\n    </tr>\n    <tr>\n      <th>42331</th>\n      <td>0xb2d3f682</td>\n      <td>26.00</td>\n      <td>106</td>\n      <td>120</td>\n      <td>2019-09-17 10:24:00</td>\n      <td>2019-06-03 00:00:00</td>\n      <td>54169196.88</td>\n      <td>-1.00</td>\n      <td>1.00</td>\n      <td>31.00</td>\n      <td>프리랜서</td>\n      <td>0.00</td>\n      <td>0.00</td>\n      <td>1.00</td>\n      <td>1.00</td>\n      <td>1.00</td>\n      <td>1.00</td>\n      <td>0.00</td>\n      <td>0.00</td>\n      <td>5060.44</td>\n      <td>0.00</td>\n      <td>0.00</td>\n      <td>0.00</td>\n      <td>574308247.40</td>\n      <td>19.19</td>\n      <td>55078611.26</td>\n    </tr>\n  </tbody>\n</table>\n</div>"
     },
     "execution_count": 94,
     "metadata": {},
     "output_type": "execute_result"
    }
   ],
   "source": [
    "\n",
    "# 예상 평균 구매금액 \n",
    "train_RFTM['predicted_monetary_value'] = spend_model.conditional_expected_average_profit(train_RFTM['Frequency']\n",
    "                                                                                      ,train_RFTM['Monetary'])\n",
    "\n",
    "# LTV 해석\n",
    "train_RFTM.sort_values(by='predicted_monetary_value', ascending= False).head(5)                                          \n",
    "                                    "
   ]
  },
  {
   "attachments": {},
   "cell_type": "markdown",
   "metadata": {},
   "source": [
    "## LTV segmentation"
   ]
  },
  {
   "cell_type": "code",
   "execution_count": 95,
   "metadata": {},
   "outputs": [
    {
     "data": {
      "text/plain": "MinMaxScaler()"
     },
     "execution_count": 95,
     "metadata": {},
     "output_type": "execute_result"
    }
   ],
   "source": [
    "from sklearn.preprocessing import MinMaxScaler\n",
    "\n",
    "scaler = MinMaxScaler(feature_range = (0,1))  \n",
    "scaler.fit(train_RFTM[['ltv']])  \n",
    "train_RFTM['scaled_ltv'] = scaler.transform(train_RFTM[['ltv']])   \n",
    "\n",
    "train_RFTM[\"segment\"] = pd.qcut(train_RFTM[\"scaled_ltv\"], 4, labels=[\"4등급\", \"3등급\", \"2등급\", \"1등급\"])"
   ]
  },
  {
   "cell_type": "code",
   "execution_count": 96,
   "metadata": {},
   "outputs": [
    {
     "data": {
      "text/plain": "      cust_no  Frequency  Recency  Time            last_Date  \\\n0  0xb2d30bf6       3.00      149   169  2019-09-11 18:00:00   \n1  0xb2d0c143      21.00      342   354  2019-09-19 05:04:00   \n3  0xb2d5a839       4.00      313   333  2019-09-11 15:40:00   \n5  0xb2d6d3ac       4.00      127   155  2019-09-03 14:33:00   \n6  0xb2d58f97      55.00      286   293  2019-09-24 09:21:00   \n\n            first_Date  Monetary  이탈여부   I1    I2    I5   I7  I11  I16  I17  \\\n0  2019-04-15 00:00:00  19455.15  1.00 1.00 58.00  서비스직 0.00 0.00 0.00 1.00   \n1  2018-10-12 00:00:00  71682.53  1.00 0.00 29.00  프리랜서 0.00 0.00 1.00 1.00   \n3  2018-11-02 00:00:00 107453.08  1.00 0.00 29.00   판매원 0.00 0.00 1.00 1.00   \n5  2019-04-29 00:00:00 167044.04 -1.00 1.00 48.00  프리랜서 0.00 0.00 1.00 1.00   \n6  2018-12-12 00:00:00   2005.83 -1.00 0.00 28.00   전문직 0.00 0.00 0.00 1.00   \n\n   I18  I19  I20  X2_mean   X3_mean  X4_mean  X5_mean  X7_mean       ltv  \\\n0 1.00 1.00 0.00     0.00  19455.15     0.00     0.00     0.00  22237.11   \n1 1.00 1.00 0.00     0.00   6698.39     0.00     0.00     0.00 214562.77   \n3 1.00 1.00 0.00     0.00  14270.77     0.00     0.00     0.00  77995.24   \n5 1.00 1.00 0.00     0.00 167044.04     0.00     0.00     0.00 256905.29   \n6 1.00 1.00 0.00     0.00   2005.83     0.00     0.00     0.00  18462.13   \n\n   predicted_transactions  predicted_monetary_value  scaled_ltv segment  \n0                    1.80                  22704.85        0.00     4등급  \n1                    5.40                  73178.58        0.00     2등급  \n3                    1.19                 120372.30        0.00     3등급  \n5                    2.53                 187127.64        0.00     2등급  \n6                   16.81                   2021.65        0.00     4등급  ",
      "text/html": "<div>\n<style scoped>\n    .dataframe tbody tr th:only-of-type {\n        vertical-align: middle;\n    }\n\n    .dataframe tbody tr th {\n        vertical-align: top;\n    }\n\n    .dataframe thead th {\n        text-align: right;\n    }\n</style>\n<table border=\"1\" class=\"dataframe\">\n  <thead>\n    <tr style=\"text-align: right;\">\n      <th></th>\n      <th>cust_no</th>\n      <th>Frequency</th>\n      <th>Recency</th>\n      <th>Time</th>\n      <th>last_Date</th>\n      <th>first_Date</th>\n      <th>Monetary</th>\n      <th>이탈여부</th>\n      <th>I1</th>\n      <th>I2</th>\n      <th>I5</th>\n      <th>I7</th>\n      <th>I11</th>\n      <th>I16</th>\n      <th>I17</th>\n      <th>I18</th>\n      <th>I19</th>\n      <th>I20</th>\n      <th>X2_mean</th>\n      <th>X3_mean</th>\n      <th>X4_mean</th>\n      <th>X5_mean</th>\n      <th>X7_mean</th>\n      <th>ltv</th>\n      <th>predicted_transactions</th>\n      <th>predicted_monetary_value</th>\n      <th>scaled_ltv</th>\n      <th>segment</th>\n    </tr>\n  </thead>\n  <tbody>\n    <tr>\n      <th>0</th>\n      <td>0xb2d30bf6</td>\n      <td>3.00</td>\n      <td>149</td>\n      <td>169</td>\n      <td>2019-09-11 18:00:00</td>\n      <td>2019-04-15 00:00:00</td>\n      <td>19455.15</td>\n      <td>1.00</td>\n      <td>1.00</td>\n      <td>58.00</td>\n      <td>서비스직</td>\n      <td>0.00</td>\n      <td>0.00</td>\n      <td>0.00</td>\n      <td>1.00</td>\n      <td>1.00</td>\n      <td>1.00</td>\n      <td>0.00</td>\n      <td>0.00</td>\n      <td>19455.15</td>\n      <td>0.00</td>\n      <td>0.00</td>\n      <td>0.00</td>\n      <td>22237.11</td>\n      <td>1.80</td>\n      <td>22704.85</td>\n      <td>0.00</td>\n      <td>4등급</td>\n    </tr>\n    <tr>\n      <th>1</th>\n      <td>0xb2d0c143</td>\n      <td>21.00</td>\n      <td>342</td>\n      <td>354</td>\n      <td>2019-09-19 05:04:00</td>\n      <td>2018-10-12 00:00:00</td>\n      <td>71682.53</td>\n      <td>1.00</td>\n      <td>0.00</td>\n      <td>29.00</td>\n      <td>프리랜서</td>\n      <td>0.00</td>\n      <td>0.00</td>\n      <td>1.00</td>\n      <td>1.00</td>\n      <td>1.00</td>\n      <td>1.00</td>\n      <td>0.00</td>\n      <td>0.00</td>\n      <td>6698.39</td>\n      <td>0.00</td>\n      <td>0.00</td>\n      <td>0.00</td>\n      <td>214562.77</td>\n      <td>5.40</td>\n      <td>73178.58</td>\n      <td>0.00</td>\n      <td>2등급</td>\n    </tr>\n    <tr>\n      <th>3</th>\n      <td>0xb2d5a839</td>\n      <td>4.00</td>\n      <td>313</td>\n      <td>333</td>\n      <td>2019-09-11 15:40:00</td>\n      <td>2018-11-02 00:00:00</td>\n      <td>107453.08</td>\n      <td>1.00</td>\n      <td>0.00</td>\n      <td>29.00</td>\n      <td>판매원</td>\n      <td>0.00</td>\n      <td>0.00</td>\n      <td>1.00</td>\n      <td>1.00</td>\n      <td>1.00</td>\n      <td>1.00</td>\n      <td>0.00</td>\n      <td>0.00</td>\n      <td>14270.77</td>\n      <td>0.00</td>\n      <td>0.00</td>\n      <td>0.00</td>\n      <td>77995.24</td>\n      <td>1.19</td>\n      <td>120372.30</td>\n      <td>0.00</td>\n      <td>3등급</td>\n    </tr>\n    <tr>\n      <th>5</th>\n      <td>0xb2d6d3ac</td>\n      <td>4.00</td>\n      <td>127</td>\n      <td>155</td>\n      <td>2019-09-03 14:33:00</td>\n      <td>2019-04-29 00:00:00</td>\n      <td>167044.04</td>\n      <td>-1.00</td>\n      <td>1.00</td>\n      <td>48.00</td>\n      <td>프리랜서</td>\n      <td>0.00</td>\n      <td>0.00</td>\n      <td>1.00</td>\n      <td>1.00</td>\n      <td>1.00</td>\n      <td>1.00</td>\n      <td>0.00</td>\n      <td>0.00</td>\n      <td>167044.04</td>\n      <td>0.00</td>\n      <td>0.00</td>\n      <td>0.00</td>\n      <td>256905.29</td>\n      <td>2.53</td>\n      <td>187127.64</td>\n      <td>0.00</td>\n      <td>2등급</td>\n    </tr>\n    <tr>\n      <th>6</th>\n      <td>0xb2d58f97</td>\n      <td>55.00</td>\n      <td>286</td>\n      <td>293</td>\n      <td>2019-09-24 09:21:00</td>\n      <td>2018-12-12 00:00:00</td>\n      <td>2005.83</td>\n      <td>-1.00</td>\n      <td>0.00</td>\n      <td>28.00</td>\n      <td>전문직</td>\n      <td>0.00</td>\n      <td>0.00</td>\n      <td>0.00</td>\n      <td>1.00</td>\n      <td>1.00</td>\n      <td>1.00</td>\n      <td>0.00</td>\n      <td>0.00</td>\n      <td>2005.83</td>\n      <td>0.00</td>\n      <td>0.00</td>\n      <td>0.00</td>\n      <td>18462.13</td>\n      <td>16.81</td>\n      <td>2021.65</td>\n      <td>0.00</td>\n      <td>4등급</td>\n    </tr>\n  </tbody>\n</table>\n</div>"
     },
     "execution_count": 96,
     "metadata": {},
     "output_type": "execute_result"
    }
   ],
   "source": [
    "train_RFTM.head()"
   ]
  },
  {
   "attachments": {},
   "cell_type": "markdown",
   "metadata": {},
   "source": [
    "### **데이터 프레임 추출 for 첫 화면dashboard**"
   ]
  },
  {
   "cell_type": "code",
   "execution_count": 97,
   "metadata": {},
   "outputs": [],
   "source": [
    "# 1. 전체 데이터 프레임 (for dashboard)\n",
    "\n",
    "train_RFTM.rename(columns = {'I1' : '성별', 'I2' : '나이', 'I5' : '직업', \n",
    "                             'I7' : '보유 제품 수', 'I11' : '가구 연간 소득', 'I16' : 'VIP 여부', \n",
    "                             'I17' : '온라인 뱅킹 사용여부', 'I18' : '모바일 뱅킹 시용여부',\n",
    "                             'I19' : '문자 사용 고객', 'I20': '위챗 사용 고객',\n",
    "                             'X2_mean' : '정기 예금 평균잔액', 'X3_mean' : '입출금 통장 평균잔액', 'X4_mean' : '금융 상품 평균잔액',\n",
    "                             'X5_mean' : '펀드 평균잔액', 'X7_mean' : '대출 평균잔액'},\n",
    "                             inplace = True)  \n",
    "\n",
    "train_RFTM.to_csv('./data/full_df(for dashboard).csv')\n",
    "#train_RFTM.to_csv('../data/tableau_data/rfm.csv', index = None)"
   ]
  },
  {
   "cell_type": "code",
   "execution_count": 98,
   "metadata": {},
   "outputs": [
    {
     "data": {
      "text/html": [
       "<div>\n",
       "<style scoped>\n",
       "    .dataframe tbody tr th:only-of-type {\n",
       "        vertical-align: middle;\n",
       "    }\n",
       "\n",
       "    .dataframe tbody tr th {\n",
       "        vertical-align: top;\n",
       "    }\n",
       "\n",
       "    .dataframe thead th {\n",
       "        text-align: right;\n",
       "    }\n",
       "</style>\n",
       "<table border=\"1\" class=\"dataframe\">\n",
       "  <thead>\n",
       "    <tr style=\"text-align: right;\">\n",
       "      <th></th>\n",
       "      <th>cust_no</th>\n",
       "      <th>Frequency</th>\n",
       "      <th>Recency</th>\n",
       "      <th>Time</th>\n",
       "      <th>last_Date</th>\n",
       "      <th>first_Date</th>\n",
       "      <th>Monetary</th>\n",
       "      <th>이탈여부</th>\n",
       "      <th>성별</th>\n",
       "      <th>나이</th>\n",
       "      <th>직업</th>\n",
       "      <th>보유 제품 수</th>\n",
       "      <th>가구 연간 소득</th>\n",
       "      <th>VIP 여부</th>\n",
       "      <th>온라인 뱅킹 사용여부</th>\n",
       "      <th>모바일 뱅킹 시용여부</th>\n",
       "      <th>문자 사용 고객</th>\n",
       "      <th>위챗 사용 고객</th>\n",
       "      <th>정기 예금 평균잔액</th>\n",
       "      <th>입출금 통장 평균잔액</th>\n",
       "      <th>금융 상품 평균잔액</th>\n",
       "      <th>펀드 평균잔액</th>\n",
       "      <th>대출 평균잔액</th>\n",
       "      <th>ltv</th>\n",
       "      <th>predicted_transactions</th>\n",
       "      <th>predicted_monetary_value</th>\n",
       "      <th>scaled_ltv</th>\n",
       "      <th>segment</th>\n",
       "    </tr>\n",
       "  </thead>\n",
       "  <tbody>\n",
       "    <tr>\n",
       "      <th>0</th>\n",
       "      <td>0xb2d30bf6</td>\n",
       "      <td>3.00</td>\n",
       "      <td>149</td>\n",
       "      <td>169</td>\n",
       "      <td>2019-09-11 18:00:00</td>\n",
       "      <td>2019-04-15</td>\n",
       "      <td>19455.15</td>\n",
       "      <td>1.00</td>\n",
       "      <td>1.00</td>\n",
       "      <td>58.00</td>\n",
       "      <td>서비스직</td>\n",
       "      <td>0.00</td>\n",
       "      <td>0.00</td>\n",
       "      <td>0.00</td>\n",
       "      <td>1.00</td>\n",
       "      <td>1.00</td>\n",
       "      <td>1.00</td>\n",
       "      <td>0.00</td>\n",
       "      <td>0.00</td>\n",
       "      <td>19455.15</td>\n",
       "      <td>0.00</td>\n",
       "      <td>0.00</td>\n",
       "      <td>0.00</td>\n",
       "      <td>22237.11</td>\n",
       "      <td>1.80</td>\n",
       "      <td>22704.85</td>\n",
       "      <td>0.00</td>\n",
       "      <td>4등급</td>\n",
       "    </tr>\n",
       "    <tr>\n",
       "      <th>1</th>\n",
       "      <td>0xb2d0c143</td>\n",
       "      <td>21.00</td>\n",
       "      <td>342</td>\n",
       "      <td>354</td>\n",
       "      <td>2019-09-19 05:04:00</td>\n",
       "      <td>2018-10-12</td>\n",
       "      <td>71682.53</td>\n",
       "      <td>1.00</td>\n",
       "      <td>0.00</td>\n",
       "      <td>29.00</td>\n",
       "      <td>프리랜서</td>\n",
       "      <td>0.00</td>\n",
       "      <td>0.00</td>\n",
       "      <td>1.00</td>\n",
       "      <td>1.00</td>\n",
       "      <td>1.00</td>\n",
       "      <td>1.00</td>\n",
       "      <td>0.00</td>\n",
       "      <td>0.00</td>\n",
       "      <td>6698.39</td>\n",
       "      <td>0.00</td>\n",
       "      <td>0.00</td>\n",
       "      <td>0.00</td>\n",
       "      <td>214562.77</td>\n",
       "      <td>5.40</td>\n",
       "      <td>73178.58</td>\n",
       "      <td>0.00</td>\n",
       "      <td>2등급</td>\n",
       "    </tr>\n",
       "    <tr>\n",
       "      <th>3</th>\n",
       "      <td>0xb2d5a839</td>\n",
       "      <td>4.00</td>\n",
       "      <td>313</td>\n",
       "      <td>333</td>\n",
       "      <td>2019-09-11 15:40:00</td>\n",
       "      <td>2018-11-02</td>\n",
       "      <td>107453.08</td>\n",
       "      <td>1.00</td>\n",
       "      <td>0.00</td>\n",
       "      <td>29.00</td>\n",
       "      <td>판매원</td>\n",
       "      <td>0.00</td>\n",
       "      <td>0.00</td>\n",
       "      <td>1.00</td>\n",
       "      <td>1.00</td>\n",
       "      <td>1.00</td>\n",
       "      <td>1.00</td>\n",
       "      <td>0.00</td>\n",
       "      <td>0.00</td>\n",
       "      <td>14270.77</td>\n",
       "      <td>0.00</td>\n",
       "      <td>0.00</td>\n",
       "      <td>0.00</td>\n",
       "      <td>77995.24</td>\n",
       "      <td>1.19</td>\n",
       "      <td>120372.30</td>\n",
       "      <td>0.00</td>\n",
       "      <td>3등급</td>\n",
       "    </tr>\n",
       "    <tr>\n",
       "      <th>5</th>\n",
       "      <td>0xb2d6d3ac</td>\n",
       "      <td>4.00</td>\n",
       "      <td>127</td>\n",
       "      <td>155</td>\n",
       "      <td>2019-09-03 14:33:00</td>\n",
       "      <td>2019-04-29</td>\n",
       "      <td>167044.04</td>\n",
       "      <td>-1.00</td>\n",
       "      <td>1.00</td>\n",
       "      <td>48.00</td>\n",
       "      <td>프리랜서</td>\n",
       "      <td>0.00</td>\n",
       "      <td>0.00</td>\n",
       "      <td>1.00</td>\n",
       "      <td>1.00</td>\n",
       "      <td>1.00</td>\n",
       "      <td>1.00</td>\n",
       "      <td>0.00</td>\n",
       "      <td>0.00</td>\n",
       "      <td>167044.04</td>\n",
       "      <td>0.00</td>\n",
       "      <td>0.00</td>\n",
       "      <td>0.00</td>\n",
       "      <td>256905.29</td>\n",
       "      <td>2.53</td>\n",
       "      <td>187127.64</td>\n",
       "      <td>0.00</td>\n",
       "      <td>2등급</td>\n",
       "    </tr>\n",
       "    <tr>\n",
       "      <th>6</th>\n",
       "      <td>0xb2d58f97</td>\n",
       "      <td>55.00</td>\n",
       "      <td>286</td>\n",
       "      <td>293</td>\n",
       "      <td>2019-09-24 09:21:00</td>\n",
       "      <td>2018-12-12</td>\n",
       "      <td>2005.83</td>\n",
       "      <td>-1.00</td>\n",
       "      <td>0.00</td>\n",
       "      <td>28.00</td>\n",
       "      <td>전문직</td>\n",
       "      <td>0.00</td>\n",
       "      <td>0.00</td>\n",
       "      <td>0.00</td>\n",
       "      <td>1.00</td>\n",
       "      <td>1.00</td>\n",
       "      <td>1.00</td>\n",
       "      <td>0.00</td>\n",
       "      <td>0.00</td>\n",
       "      <td>2005.83</td>\n",
       "      <td>0.00</td>\n",
       "      <td>0.00</td>\n",
       "      <td>0.00</td>\n",
       "      <td>18462.13</td>\n",
       "      <td>16.81</td>\n",
       "      <td>2021.65</td>\n",
       "      <td>0.00</td>\n",
       "      <td>4등급</td>\n",
       "    </tr>\n",
       "  </tbody>\n",
       "</table>\n",
       "</div>"
      ],
      "text/plain": [
       "      cust_no  Frequency  Recency  Time            last_Date  first_Date  \\\n",
       "0  0xb2d30bf6       3.00      149   169  2019-09-11 18:00:00  2019-04-15   \n",
       "1  0xb2d0c143      21.00      342   354  2019-09-19 05:04:00  2018-10-12   \n",
       "3  0xb2d5a839       4.00      313   333  2019-09-11 15:40:00  2018-11-02   \n",
       "5  0xb2d6d3ac       4.00      127   155  2019-09-03 14:33:00  2019-04-29   \n",
       "6  0xb2d58f97      55.00      286   293  2019-09-24 09:21:00  2018-12-12   \n",
       "\n",
       "   Monetary  이탈여부   성별    나이    직업  보유 제품 수  가구 연간 소득  VIP 여부  온라인 뱅킹 사용여부  \\\n",
       "0  19455.15  1.00 1.00 58.00  서비스직     0.00      0.00    0.00         1.00   \n",
       "1  71682.53  1.00 0.00 29.00  프리랜서     0.00      0.00    1.00         1.00   \n",
       "3 107453.08  1.00 0.00 29.00   판매원     0.00      0.00    1.00         1.00   \n",
       "5 167044.04 -1.00 1.00 48.00  프리랜서     0.00      0.00    1.00         1.00   \n",
       "6   2005.83 -1.00 0.00 28.00   전문직     0.00      0.00    0.00         1.00   \n",
       "\n",
       "   모바일 뱅킹 시용여부  문자 사용 고객  위챗 사용 고객  정기 예금 평균잔액  입출금 통장 평균잔액  금융 상품 평균잔액  \\\n",
       "0         1.00      1.00      0.00        0.00     19455.15        0.00   \n",
       "1         1.00      1.00      0.00        0.00      6698.39        0.00   \n",
       "3         1.00      1.00      0.00        0.00     14270.77        0.00   \n",
       "5         1.00      1.00      0.00        0.00    167044.04        0.00   \n",
       "6         1.00      1.00      0.00        0.00      2005.83        0.00   \n",
       "\n",
       "   펀드 평균잔액  대출 평균잔액       ltv  predicted_transactions  \\\n",
       "0     0.00     0.00  22237.11                    1.80   \n",
       "1     0.00     0.00 214562.77                    5.40   \n",
       "3     0.00     0.00  77995.24                    1.19   \n",
       "5     0.00     0.00 256905.29                    2.53   \n",
       "6     0.00     0.00  18462.13                   16.81   \n",
       "\n",
       "   predicted_monetary_value  scaled_ltv segment  \n",
       "0                  22704.85        0.00     4등급  \n",
       "1                  73178.58        0.00     2등급  \n",
       "3                 120372.30        0.00     3등급  \n",
       "5                 187127.64        0.00     2등급  \n",
       "6                   2021.65        0.00     4등급  "
      ]
     },
     "execution_count": 98,
     "metadata": {},
     "output_type": "execute_result"
    }
   ],
   "source": [
    "train_RFTM.head()"
   ]
  },
  {
   "cell_type": "code",
   "execution_count": 99,
   "metadata": {},
   "outputs": [
    {
     "data": {
      "text/html": [
       "<div>\n",
       "<style scoped>\n",
       "    .dataframe tbody tr th:only-of-type {\n",
       "        vertical-align: middle;\n",
       "    }\n",
       "\n",
       "    .dataframe tbody tr th {\n",
       "        vertical-align: top;\n",
       "    }\n",
       "\n",
       "    .dataframe thead th {\n",
       "        text-align: right;\n",
       "    }\n",
       "</style>\n",
       "<table border=\"1\" class=\"dataframe\">\n",
       "  <thead>\n",
       "    <tr style=\"text-align: right;\">\n",
       "      <th></th>\n",
       "      <th>cust_no</th>\n",
       "      <th>Recency</th>\n",
       "      <th>Frequency</th>\n",
       "      <th>Monetary</th>\n",
       "    </tr>\n",
       "  </thead>\n",
       "  <tbody>\n",
       "    <tr>\n",
       "      <th>0</th>\n",
       "      <td>0xb2d30bf6</td>\n",
       "      <td>149</td>\n",
       "      <td>3.00</td>\n",
       "      <td>19455.15</td>\n",
       "    </tr>\n",
       "    <tr>\n",
       "      <th>1</th>\n",
       "      <td>0xb2d0c143</td>\n",
       "      <td>342</td>\n",
       "      <td>21.00</td>\n",
       "      <td>71682.53</td>\n",
       "    </tr>\n",
       "    <tr>\n",
       "      <th>3</th>\n",
       "      <td>0xb2d5a839</td>\n",
       "      <td>313</td>\n",
       "      <td>4.00</td>\n",
       "      <td>107453.08</td>\n",
       "    </tr>\n",
       "    <tr>\n",
       "      <th>5</th>\n",
       "      <td>0xb2d6d3ac</td>\n",
       "      <td>127</td>\n",
       "      <td>4.00</td>\n",
       "      <td>167044.04</td>\n",
       "    </tr>\n",
       "    <tr>\n",
       "      <th>6</th>\n",
       "      <td>0xb2d58f97</td>\n",
       "      <td>286</td>\n",
       "      <td>55.00</td>\n",
       "      <td>2005.83</td>\n",
       "    </tr>\n",
       "  </tbody>\n",
       "</table>\n",
       "</div>"
      ],
      "text/plain": [
       "      cust_no  Recency  Frequency  Monetary\n",
       "0  0xb2d30bf6      149       3.00  19455.15\n",
       "1  0xb2d0c143      342      21.00  71682.53\n",
       "3  0xb2d5a839      313       4.00 107453.08\n",
       "5  0xb2d6d3ac      127       4.00 167044.04\n",
       "6  0xb2d58f97      286      55.00   2005.83"
      ]
     },
     "execution_count": 99,
     "metadata": {},
     "output_type": "execute_result"
    }
   ],
   "source": [
    "# 1. RFM\n",
    "\n",
    "final_RFM= train_RFTM[['cust_no',  'Recency', 'Frequency','Monetary']]  \n",
    "\n",
    "final_RFM.head()  \n",
    "\n",
    "final_RFM.to_csv('./data/RFM열.csv')  \n"
   ]
  },
  {
   "cell_type": "code",
   "execution_count": 100,
   "metadata": {},
   "outputs": [
    {
     "data": {
      "text/html": [
       "<div>\n",
       "<style scoped>\n",
       "    .dataframe tbody tr th:only-of-type {\n",
       "        vertical-align: middle;\n",
       "    }\n",
       "\n",
       "    .dataframe tbody tr th {\n",
       "        vertical-align: top;\n",
       "    }\n",
       "\n",
       "    .dataframe thead th {\n",
       "        text-align: right;\n",
       "    }\n",
       "</style>\n",
       "<table border=\"1\" class=\"dataframe\">\n",
       "  <thead>\n",
       "    <tr style=\"text-align: right;\">\n",
       "      <th></th>\n",
       "      <th>cust_no</th>\n",
       "      <th>ltv</th>\n",
       "    </tr>\n",
       "  </thead>\n",
       "  <tbody>\n",
       "    <tr>\n",
       "      <th>0</th>\n",
       "      <td>0xb2d30bf6</td>\n",
       "      <td>22237.11</td>\n",
       "    </tr>\n",
       "    <tr>\n",
       "      <th>1</th>\n",
       "      <td>0xb2d0c143</td>\n",
       "      <td>214562.77</td>\n",
       "    </tr>\n",
       "    <tr>\n",
       "      <th>3</th>\n",
       "      <td>0xb2d5a839</td>\n",
       "      <td>77995.24</td>\n",
       "    </tr>\n",
       "    <tr>\n",
       "      <th>5</th>\n",
       "      <td>0xb2d6d3ac</td>\n",
       "      <td>256905.29</td>\n",
       "    </tr>\n",
       "    <tr>\n",
       "      <th>6</th>\n",
       "      <td>0xb2d58f97</td>\n",
       "      <td>18462.13</td>\n",
       "    </tr>\n",
       "  </tbody>\n",
       "</table>\n",
       "</div>"
      ],
      "text/plain": [
       "      cust_no       ltv\n",
       "0  0xb2d30bf6  22237.11\n",
       "1  0xb2d0c143 214562.77\n",
       "3  0xb2d5a839  77995.24\n",
       "5  0xb2d6d3ac 256905.29\n",
       "6  0xb2d58f97  18462.13"
      ]
     },
     "execution_count": 100,
     "metadata": {},
     "output_type": "execute_result"
    }
   ],
   "source": [
    "# 2. ltv \n",
    "\n",
    "final_LTV = train_RFTM[['cust_no', 'ltv']]  \n",
    "\n",
    "final_LTV.head()  \n",
    "\n",
    "final_LTV.to_csv('./data/ltv열.csv', index = False)\n"
   ]
  },
  {
   "attachments": {},
   "cell_type": "markdown",
   "metadata": {},
   "source": [
    "### **데이터 프레임 추출 for 개인 화면dashboard**"
   ]
  },
  {
   "cell_type": "code",
   "execution_count": 101,
   "metadata": {},
   "outputs": [
    {
     "data": {
      "text/html": [
       "<div>\n",
       "<style scoped>\n",
       "    .dataframe tbody tr th:only-of-type {\n",
       "        vertical-align: middle;\n",
       "    }\n",
       "\n",
       "    .dataframe tbody tr th {\n",
       "        vertical-align: top;\n",
       "    }\n",
       "\n",
       "    .dataframe thead th {\n",
       "        text-align: right;\n",
       "    }\n",
       "</style>\n",
       "<table border=\"1\" class=\"dataframe\">\n",
       "  <thead>\n",
       "    <tr style=\"text-align: right;\">\n",
       "      <th></th>\n",
       "      <th>cust_no</th>\n",
       "      <th>ltv</th>\n",
       "      <th>segment</th>\n",
       "    </tr>\n",
       "  </thead>\n",
       "  <tbody>\n",
       "    <tr>\n",
       "      <th>0</th>\n",
       "      <td>0xb2d30bf6</td>\n",
       "      <td>22237.11</td>\n",
       "      <td>4등급</td>\n",
       "    </tr>\n",
       "    <tr>\n",
       "      <th>1</th>\n",
       "      <td>0xb2d0c143</td>\n",
       "      <td>214562.77</td>\n",
       "      <td>2등급</td>\n",
       "    </tr>\n",
       "    <tr>\n",
       "      <th>3</th>\n",
       "      <td>0xb2d5a839</td>\n",
       "      <td>77995.24</td>\n",
       "      <td>3등급</td>\n",
       "    </tr>\n",
       "    <tr>\n",
       "      <th>5</th>\n",
       "      <td>0xb2d6d3ac</td>\n",
       "      <td>256905.29</td>\n",
       "      <td>2등급</td>\n",
       "    </tr>\n",
       "    <tr>\n",
       "      <th>6</th>\n",
       "      <td>0xb2d58f97</td>\n",
       "      <td>18462.13</td>\n",
       "      <td>4등급</td>\n",
       "    </tr>\n",
       "  </tbody>\n",
       "</table>\n",
       "</div>"
      ],
      "text/plain": [
       "      cust_no       ltv segment\n",
       "0  0xb2d30bf6  22237.11     4등급\n",
       "1  0xb2d0c143 214562.77     2등급\n",
       "3  0xb2d5a839  77995.24     3등급\n",
       "5  0xb2d6d3ac 256905.29     2등급\n",
       "6  0xb2d58f97  18462.13     4등급"
      ]
     },
     "execution_count": 101,
     "metadata": {},
     "output_type": "execute_result"
    }
   ],
   "source": [
    "# 3. 고객번호, ltv값, 등급 \n",
    "\n",
    "final_LTV = train_RFTM[['cust_no', 'ltv', 'segment']]  \n",
    "\n",
    "final_LTV.head()  \n",
    "\n",
    "final_LTV.to_csv('./data/ltv+segment열.csv', index = False)"
   ]
  },
  {
   "cell_type": "code",
   "execution_count": 104,
   "metadata": {},
   "outputs": [
    {
     "data": {
      "text/plain": [
       "Index(['cust_no', 'Frequency', 'Recency', 'Time', 'last_Date', 'first_Date',\n",
       "       'Monetary', '이탈여부', '성별', '나이', '직업', '보유 제품 수', '가구 연간 소득', 'VIP 여부',\n",
       "       '온라인 뱅킹 사용여부', '모바일 뱅킹 시용여부', '문자 사용 고객', '위챗 사용 고객', '정기 예금 평균잔액',\n",
       "       '입출금 통장 평균잔액', '금융 상품 평균잔액', '펀드 평균잔액', '대출 평균잔액', 'ltv',\n",
       "       'predicted_transactions', 'predicted_monetary_value', 'scaled_ltv',\n",
       "       'segment'],\n",
       "      dtype='object')"
      ]
     },
     "execution_count": 104,
     "metadata": {},
     "output_type": "execute_result"
    }
   ],
   "source": [
    "train_RFTM.columns"
   ]
  },
  {
   "cell_type": "code",
   "execution_count": 112,
   "metadata": {},
   "outputs": [
    {
     "data": {
      "text/html": [
       "<div>\n",
       "<style scoped>\n",
       "    .dataframe tbody tr th:only-of-type {\n",
       "        vertical-align: middle;\n",
       "    }\n",
       "\n",
       "    .dataframe tbody tr th {\n",
       "        vertical-align: top;\n",
       "    }\n",
       "\n",
       "    .dataframe thead th {\n",
       "        text-align: right;\n",
       "    }\n",
       "</style>\n",
       "<table border=\"1\" class=\"dataframe\">\n",
       "  <thead>\n",
       "    <tr style=\"text-align: right;\">\n",
       "      <th></th>\n",
       "      <th>cust_no</th>\n",
       "      <th>나이</th>\n",
       "      <th>직업</th>\n",
       "      <th>보유 제품 수</th>\n",
       "      <th>가구 연간 소득</th>\n",
       "      <th>VIP 여부</th>\n",
       "      <th>온라인 뱅킹 사용여부</th>\n",
       "      <th>모바일 뱅킹 시용여부</th>\n",
       "      <th>문자 사용 고객</th>\n",
       "      <th>위챗 사용 고객</th>\n",
       "      <th>정기 예금 평균잔액</th>\n",
       "      <th>predicted_transactions</th>\n",
       "      <th>predicted_monetary_value</th>\n",
       "    </tr>\n",
       "  </thead>\n",
       "  <tbody>\n",
       "    <tr>\n",
       "      <th>0</th>\n",
       "      <td>0xb2d30bf6</td>\n",
       "      <td>58.00</td>\n",
       "      <td>서비스직</td>\n",
       "      <td>0.00</td>\n",
       "      <td>0.00</td>\n",
       "      <td>0.00</td>\n",
       "      <td>1.00</td>\n",
       "      <td>1.00</td>\n",
       "      <td>1.00</td>\n",
       "      <td>0.00</td>\n",
       "      <td>0.00</td>\n",
       "      <td>1.80</td>\n",
       "      <td>22704.85</td>\n",
       "    </tr>\n",
       "    <tr>\n",
       "      <th>1</th>\n",
       "      <td>0xb2d0c143</td>\n",
       "      <td>29.00</td>\n",
       "      <td>프리랜서</td>\n",
       "      <td>0.00</td>\n",
       "      <td>0.00</td>\n",
       "      <td>1.00</td>\n",
       "      <td>1.00</td>\n",
       "      <td>1.00</td>\n",
       "      <td>1.00</td>\n",
       "      <td>0.00</td>\n",
       "      <td>0.00</td>\n",
       "      <td>5.40</td>\n",
       "      <td>73178.58</td>\n",
       "    </tr>\n",
       "    <tr>\n",
       "      <th>3</th>\n",
       "      <td>0xb2d5a839</td>\n",
       "      <td>29.00</td>\n",
       "      <td>판매원</td>\n",
       "      <td>0.00</td>\n",
       "      <td>0.00</td>\n",
       "      <td>1.00</td>\n",
       "      <td>1.00</td>\n",
       "      <td>1.00</td>\n",
       "      <td>1.00</td>\n",
       "      <td>0.00</td>\n",
       "      <td>0.00</td>\n",
       "      <td>1.19</td>\n",
       "      <td>120372.30</td>\n",
       "    </tr>\n",
       "    <tr>\n",
       "      <th>5</th>\n",
       "      <td>0xb2d6d3ac</td>\n",
       "      <td>48.00</td>\n",
       "      <td>프리랜서</td>\n",
       "      <td>0.00</td>\n",
       "      <td>0.00</td>\n",
       "      <td>1.00</td>\n",
       "      <td>1.00</td>\n",
       "      <td>1.00</td>\n",
       "      <td>1.00</td>\n",
       "      <td>0.00</td>\n",
       "      <td>0.00</td>\n",
       "      <td>2.53</td>\n",
       "      <td>187127.64</td>\n",
       "    </tr>\n",
       "    <tr>\n",
       "      <th>6</th>\n",
       "      <td>0xb2d58f97</td>\n",
       "      <td>28.00</td>\n",
       "      <td>전문직</td>\n",
       "      <td>0.00</td>\n",
       "      <td>0.00</td>\n",
       "      <td>0.00</td>\n",
       "      <td>1.00</td>\n",
       "      <td>1.00</td>\n",
       "      <td>1.00</td>\n",
       "      <td>0.00</td>\n",
       "      <td>0.00</td>\n",
       "      <td>16.81</td>\n",
       "      <td>2021.65</td>\n",
       "    </tr>\n",
       "  </tbody>\n",
       "</table>\n",
       "</div>"
      ],
      "text/plain": [
       "      cust_no    나이    직업  보유 제품 수  가구 연간 소득  VIP 여부  온라인 뱅킹 사용여부  \\\n",
       "0  0xb2d30bf6 58.00  서비스직     0.00      0.00    0.00         1.00   \n",
       "1  0xb2d0c143 29.00  프리랜서     0.00      0.00    1.00         1.00   \n",
       "3  0xb2d5a839 29.00   판매원     0.00      0.00    1.00         1.00   \n",
       "5  0xb2d6d3ac 48.00  프리랜서     0.00      0.00    1.00         1.00   \n",
       "6  0xb2d58f97 28.00   전문직     0.00      0.00    0.00         1.00   \n",
       "\n",
       "   모바일 뱅킹 시용여부  문자 사용 고객  위챗 사용 고객  정기 예금 평균잔액  predicted_transactions  \\\n",
       "0         1.00      1.00      0.00        0.00                    1.80   \n",
       "1         1.00      1.00      0.00        0.00                    5.40   \n",
       "3         1.00      1.00      0.00        0.00                    1.19   \n",
       "5         1.00      1.00      0.00        0.00                    2.53   \n",
       "6         1.00      1.00      0.00        0.00                   16.81   \n",
       "\n",
       "   predicted_monetary_value  \n",
       "0                  22704.85  \n",
       "1                  73178.58  \n",
       "3                 120372.30  \n",
       "5                 187127.64  \n",
       "6                   2021.65  "
      ]
     },
     "execution_count": 112,
     "metadata": {},
     "output_type": "execute_result"
    }
   ],
   "source": [
    "\n",
    "# 3. 고객번호별 인구통계학적 정보 \n",
    "\n",
    "final_LTV = train_RFTM.iloc[:, [0,9,10,11,12,13,14,15,16,17,18,24,25]]\n",
    "\n",
    "final_LTV.head()  \n",
    "\n",
    "final_LTV.to_csv('./data/인구통계학적(I열).csv', index = False)"
   ]
  },
  {
   "cell_type": "code",
   "execution_count": 116,
   "metadata": {},
   "outputs": [
    {
     "data": {
      "text/html": [
       "<div>\n",
       "<style scoped>\n",
       "    .dataframe tbody tr th:only-of-type {\n",
       "        vertical-align: middle;\n",
       "    }\n",
       "\n",
       "    .dataframe tbody tr th {\n",
       "        vertical-align: top;\n",
       "    }\n",
       "\n",
       "    .dataframe thead th {\n",
       "        text-align: right;\n",
       "    }\n",
       "</style>\n",
       "<table border=\"1\" class=\"dataframe\">\n",
       "  <thead>\n",
       "    <tr style=\"text-align: right;\">\n",
       "      <th></th>\n",
       "      <th>입출금 통장 평균잔액</th>\n",
       "      <th>금융 상품 평균잔액</th>\n",
       "      <th>펀드 평균잔액</th>\n",
       "      <th>대출 평균잔액</th>\n",
       "      <th>ltv</th>\n",
       "    </tr>\n",
       "  </thead>\n",
       "  <tbody>\n",
       "    <tr>\n",
       "      <th>0</th>\n",
       "      <td>19455.15</td>\n",
       "      <td>0.00</td>\n",
       "      <td>0.00</td>\n",
       "      <td>0.00</td>\n",
       "      <td>22237.11</td>\n",
       "    </tr>\n",
       "    <tr>\n",
       "      <th>1</th>\n",
       "      <td>6698.39</td>\n",
       "      <td>0.00</td>\n",
       "      <td>0.00</td>\n",
       "      <td>0.00</td>\n",
       "      <td>214562.77</td>\n",
       "    </tr>\n",
       "    <tr>\n",
       "      <th>3</th>\n",
       "      <td>14270.77</td>\n",
       "      <td>0.00</td>\n",
       "      <td>0.00</td>\n",
       "      <td>0.00</td>\n",
       "      <td>77995.24</td>\n",
       "    </tr>\n",
       "    <tr>\n",
       "      <th>5</th>\n",
       "      <td>167044.04</td>\n",
       "      <td>0.00</td>\n",
       "      <td>0.00</td>\n",
       "      <td>0.00</td>\n",
       "      <td>256905.29</td>\n",
       "    </tr>\n",
       "    <tr>\n",
       "      <th>6</th>\n",
       "      <td>2005.83</td>\n",
       "      <td>0.00</td>\n",
       "      <td>0.00</td>\n",
       "      <td>0.00</td>\n",
       "      <td>18462.13</td>\n",
       "    </tr>\n",
       "  </tbody>\n",
       "</table>\n",
       "</div>"
      ],
      "text/plain": [
       "   입출금 통장 평균잔액  금융 상품 평균잔액  펀드 평균잔액  대출 평균잔액       ltv\n",
       "0     19455.15        0.00     0.00     0.00  22237.11\n",
       "1      6698.39        0.00     0.00     0.00 214562.77\n",
       "3     14270.77        0.00     0.00     0.00  77995.24\n",
       "5    167044.04        0.00     0.00     0.00 256905.29\n",
       "6      2005.83        0.00     0.00     0.00  18462.13"
      ]
     },
     "execution_count": 116,
     "metadata": {},
     "output_type": "execute_result"
    }
   ],
   "source": [
    "# 4. 고객번호별 평균잔액(X열)  \n",
    "\n",
    "final_LTV = train_RFTM.iloc[:, [19,20,21,22,23]]\n",
    "\n",
    "final_LTV.head()  \n",
    "\n",
    "final_LTV.to_csv('./data/평균잔액(X열).csv', index = False)"
   ]
  },
  {
   "cell_type": "code",
   "execution_count": 118,
   "metadata": {},
   "outputs": [
    {
     "data": {
      "text/html": [
       "<div>\n",
       "<style scoped>\n",
       "    .dataframe tbody tr th:only-of-type {\n",
       "        vertical-align: middle;\n",
       "    }\n",
       "\n",
       "    .dataframe tbody tr th {\n",
       "        vertical-align: top;\n",
       "    }\n",
       "\n",
       "    .dataframe thead th {\n",
       "        text-align: right;\n",
       "    }\n",
       "</style>\n",
       "<table border=\"1\" class=\"dataframe\">\n",
       "  <thead>\n",
       "    <tr style=\"text-align: right;\">\n",
       "      <th></th>\n",
       "      <th>입출금 통장 평균잔액</th>\n",
       "      <th>금융 상품 평균잔액</th>\n",
       "      <th>펀드 평균잔액</th>\n",
       "      <th>대출 평균잔액</th>\n",
       "      <th>ltv</th>\n",
       "    </tr>\n",
       "  </thead>\n",
       "  <tbody>\n",
       "    <tr>\n",
       "      <th>count</th>\n",
       "      <td>54719.00</td>\n",
       "      <td>54719.00</td>\n",
       "      <td>54719.00</td>\n",
       "      <td>54719.00</td>\n",
       "      <td>54719.00</td>\n",
       "    </tr>\n",
       "    <tr>\n",
       "      <th>mean</th>\n",
       "      <td>39905.25</td>\n",
       "      <td>38965.96</td>\n",
       "      <td>6287.57</td>\n",
       "      <td>232768.93</td>\n",
       "      <td>1442779.51</td>\n",
       "    </tr>\n",
       "    <tr>\n",
       "      <th>std</th>\n",
       "      <td>352713.93</td>\n",
       "      <td>290662.91</td>\n",
       "      <td>448484.83</td>\n",
       "      <td>1123883.11</td>\n",
       "      <td>15124239.24</td>\n",
       "    </tr>\n",
       "    <tr>\n",
       "      <th>min</th>\n",
       "      <td>0.00</td>\n",
       "      <td>0.00</td>\n",
       "      <td>0.00</td>\n",
       "      <td>0.00</td>\n",
       "      <td>0.00</td>\n",
       "    </tr>\n",
       "    <tr>\n",
       "      <th>25%</th>\n",
       "      <td>283.23</td>\n",
       "      <td>0.00</td>\n",
       "      <td>0.00</td>\n",
       "      <td>0.00</td>\n",
       "      <td>29324.27</td>\n",
       "    </tr>\n",
       "    <tr>\n",
       "      <th>50%</th>\n",
       "      <td>2680.02</td>\n",
       "      <td>0.00</td>\n",
       "      <td>0.00</td>\n",
       "      <td>0.00</td>\n",
       "      <td>137528.07</td>\n",
       "    </tr>\n",
       "    <tr>\n",
       "      <th>75%</th>\n",
       "      <td>16853.74</td>\n",
       "      <td>0.00</td>\n",
       "      <td>0.00</td>\n",
       "      <td>0.00</td>\n",
       "      <td>561033.88</td>\n",
       "    </tr>\n",
       "    <tr>\n",
       "      <th>max</th>\n",
       "      <td>36950024.09</td>\n",
       "      <td>25333333.33</td>\n",
       "      <td>72296580.00</td>\n",
       "      <td>72296580.00</td>\n",
       "      <td>1768115363.47</td>\n",
       "    </tr>\n",
       "  </tbody>\n",
       "</table>\n",
       "</div>"
      ],
      "text/plain": [
       "       입출금 통장 평균잔액  금융 상품 평균잔액     펀드 평균잔액     대출 평균잔액           ltv\n",
       "count     54719.00    54719.00    54719.00    54719.00      54719.00\n",
       "mean      39905.25    38965.96     6287.57   232768.93    1442779.51\n",
       "std      352713.93   290662.91   448484.83  1123883.11   15124239.24\n",
       "min           0.00        0.00        0.00        0.00          0.00\n",
       "25%         283.23        0.00        0.00        0.00      29324.27\n",
       "50%        2680.02        0.00        0.00        0.00     137528.07\n",
       "75%       16853.74        0.00        0.00        0.00     561033.88\n",
       "max    36950024.09 25333333.33 72296580.00 72296580.00 1768115363.47"
      ]
     },
     "execution_count": 118,
     "metadata": {},
     "output_type": "execute_result"
    }
   ],
   "source": [
    "final_LTV.describe()"
   ]
  },
  {
   "attachments": {},
   "cell_type": "markdown",
   "metadata": {},
   "source": [
    "### label (이탈여부)와 ltv의 상관관계 "
   ]
  },
  {
   "cell_type": "code",
   "execution_count": 119,
   "metadata": {},
   "outputs": [
    {
     "data": {
      "text/html": [
       "<div>\n",
       "<style scoped>\n",
       "    .dataframe tbody tr th:only-of-type {\n",
       "        vertical-align: middle;\n",
       "    }\n",
       "\n",
       "    .dataframe tbody tr th {\n",
       "        vertical-align: top;\n",
       "    }\n",
       "\n",
       "    .dataframe thead th {\n",
       "        text-align: right;\n",
       "    }\n",
       "</style>\n",
       "<table border=\"1\" class=\"dataframe\">\n",
       "  <thead>\n",
       "    <tr style=\"text-align: right;\">\n",
       "      <th></th>\n",
       "      <th>ltv</th>\n",
       "      <th>이탈여부</th>\n",
       "    </tr>\n",
       "  </thead>\n",
       "  <tbody>\n",
       "    <tr>\n",
       "      <th>ltv</th>\n",
       "      <td>1.00</td>\n",
       "      <td>-0.01</td>\n",
       "    </tr>\n",
       "    <tr>\n",
       "      <th>이탈여부</th>\n",
       "      <td>-0.01</td>\n",
       "      <td>1.00</td>\n",
       "    </tr>\n",
       "  </tbody>\n",
       "</table>\n",
       "</div>"
      ],
      "text/plain": [
       "       ltv  이탈여부\n",
       "ltv   1.00 -0.01\n",
       "이탈여부 -0.01  1.00"
      ]
     },
     "execution_count": 119,
     "metadata": {},
     "output_type": "execute_result"
    },
    {
     "data": {
      "text/html": [
       "<div>\n",
       "<style scoped>\n",
       "    .dataframe tbody tr th:only-of-type {\n",
       "        vertical-align: middle;\n",
       "    }\n",
       "\n",
       "    .dataframe tbody tr th {\n",
       "        vertical-align: top;\n",
       "    }\n",
       "\n",
       "    .dataframe thead th {\n",
       "        text-align: right;\n",
       "    }\n",
       "</style>\n",
       "<table border=\"1\" class=\"dataframe\">\n",
       "  <thead>\n",
       "    <tr style=\"text-align: right;\">\n",
       "      <th></th>\n",
       "      <th>ltv</th>\n",
       "      <th>이탈여부</th>\n",
       "    </tr>\n",
       "  </thead>\n",
       "  <tbody>\n",
       "    <tr>\n",
       "      <th>0</th>\n",
       "      <td>22237.11</td>\n",
       "      <td>1.00</td>\n",
       "    </tr>\n",
       "    <tr>\n",
       "      <th>1</th>\n",
       "      <td>214562.77</td>\n",
       "      <td>1.00</td>\n",
       "    </tr>\n",
       "    <tr>\n",
       "      <th>3</th>\n",
       "      <td>77995.24</td>\n",
       "      <td>1.00</td>\n",
       "    </tr>\n",
       "    <tr>\n",
       "      <th>5</th>\n",
       "      <td>256905.29</td>\n",
       "      <td>-1.00</td>\n",
       "    </tr>\n",
       "    <tr>\n",
       "      <th>6</th>\n",
       "      <td>18462.13</td>\n",
       "      <td>-1.00</td>\n",
       "    </tr>\n",
       "  </tbody>\n",
       "</table>\n",
       "</div>"
      ],
      "text/plain": [
       "        ltv  이탈여부\n",
       "0  22237.11  1.00\n",
       "1 214562.77  1.00\n",
       "3  77995.24  1.00\n",
       "5 256905.29 -1.00\n",
       "6  18462.13 -1.00"
      ]
     },
     "execution_count": 119,
     "metadata": {},
     "output_type": "execute_result"
    },
    {
     "data": {
      "text/plain": [
       "<AxesSubplot:xlabel='이탈여부', ylabel='ltv'>"
      ]
     },
     "execution_count": 119,
     "metadata": {},
     "output_type": "execute_result"
    },
    {
     "name": "stderr",
     "output_type": "stream",
     "text": [
      "/Users/park_jinyoung/opt/anaconda3/lib/python3.9/site-packages/IPython/core/pylabtools.py:151: UserWarning: Glyph 51060 (\\N{HANGUL SYLLABLE I}) missing from current font.\n",
      "  fig.canvas.print_figure(bytes_io, **kw)\n",
      "/Users/park_jinyoung/opt/anaconda3/lib/python3.9/site-packages/IPython/core/pylabtools.py:151: UserWarning: Glyph 53448 (\\N{HANGUL SYLLABLE TAL}) missing from current font.\n",
      "  fig.canvas.print_figure(bytes_io, **kw)\n",
      "/Users/park_jinyoung/opt/anaconda3/lib/python3.9/site-packages/IPython/core/pylabtools.py:151: UserWarning: Glyph 50668 (\\N{HANGUL SYLLABLE YEO}) missing from current font.\n",
      "  fig.canvas.print_figure(bytes_io, **kw)\n",
      "/Users/park_jinyoung/opt/anaconda3/lib/python3.9/site-packages/IPython/core/pylabtools.py:151: UserWarning: Glyph 48512 (\\N{HANGUL SYLLABLE BU}) missing from current font.\n",
      "  fig.canvas.print_figure(bytes_io, **kw)\n"
     ]
    },
    {
     "data": {
      "image/png": "[encoded data removed]",
      "text/plain": [
       "<Figure size 640x480 with 1 Axes>"
      ]
     },
     "metadata": {},
     "output_type": "display_data"
    }
   ],
   "source": [
    "X = train_RFTM['이탈여부']\n",
    "Y = train_RFTM['ltv']\n",
    "\n",
    "train_corr = train_RFTM[['ltv', '이탈여부']]  \n",
    "\n",
    "train_corr.corr()  \n",
    "\n",
    "train_corr.head()  \n",
    "\n",
    "import seaborn as sns \n",
    "sns.boxplot(x= X, y = Y)  \n",
    "plt.show()"
   ]
  },
  {
   "attachments": {},
   "cell_type": "markdown",
   "metadata": {},
   "source": [
    "## **3. 한계점** \n",
    "\n",
    "1. 온라인 구매데이터를 이용한 ltv(고객생애가치)계산원리를 금융고객의 거래데이터에 적용하고자 했으나, 결과적으로 ltv와 label(실제 이탈여부)의 상관관계가 -값이 나오는 것이 맞으나 값의 크기가 0.5이하로 유의미하지 않음을 알 수 있다. \n",
    "\n",
    "2. Recency, frequency, monetary의 데이터가 산정된 기간이 다르다는 점이다.\n",
    "기존 데이터에는 '최초 거래 날짜'가 존재하지 않아 '최초 입출금 날짜'로 대체했다. 이에 따라 Recency의 데이터는 frequency의 데이터 기간(2019-07-01~12-31)과 달라지면서 해석의 오류가 발생할 수 있다. \n",
    "그러나, 기간을 2019-07-01 ~ ‘2019-12-31’로 맞춰서 설정해보았지만, \n",
    " recency =2인데 freqeucny = 4000인 해석불가능한 행들이 많이 존재한다. \n",
    "\n",
    "3. Monetary는 원래 ltv계산할 때, 각 고객의 거래금액에 해당되지만 \n",
    "고객 등급별 산정을 위한 기준으로 평균 잔고금액으로 가정하고, ltv에 적용시켰다.\n"
   ]
  }
 ],
 "metadata": {
  "kernelspec": {
   "display_name": "base",
   "language": "python",
   "name": "python3"
  },
  "language_info": {
   "codemirror_mode": {
    "name": "ipython",
    "version": 3
   },
   "file_extension": ".py",
   "mimetype": "text/x-python",
   "name": "python",
   "nbconvert_exporter": "python",
   "pygments_lexer": "ipython3",
   "version": "3.9.13"
  },
  "vscode": {
   "interpreter": {
    "hash": "9fe36526c98aceda771cbf79aae68e351d16e16ed2d4755316062ce542df8244"
   }
  }
 },
 "nbformat": 4,
 "nbformat_minor": 0
}
