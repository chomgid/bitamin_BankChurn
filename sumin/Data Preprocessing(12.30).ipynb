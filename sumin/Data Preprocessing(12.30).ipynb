{
 "cells": [
  {
   "cell_type": "code",
   "execution_count": 1,
   "id": "759c3691",
   "metadata": {},
   "outputs": [],
   "source": [
    "import pandas as pd\n",
    "from matplotlib import pyplot as plt\n",
    "import seaborn as sns\n",
    "import csv\n",
    "import glob\n",
    "import re\n",
    "import os"
   ]
  },
  {
   "cell_type": "markdown",
   "id": "47ef4a5b",
   "metadata": {},
   "source": [
    "## 데이터 불러오기"
   ]
  },
  {
   "cell_type": "markdown",
   "id": "52c6584d",
   "metadata": {},
   "source": [
    "### 데이터 병합"
   ]
  },
  {
   "cell_type": "code",
   "execution_count": 2,
   "id": "8dda0e59",
   "metadata": {},
   "outputs": [],
   "source": [
    "def merge_file(path):\n",
    "    '''Concatenate files from path\n",
    "    Param: path: file path from which data are imported and concatenated\n",
    "    '''\n",
    "    file_names = [name for name in glob.glob(path)]\n",
    "    df_temp = (pd.read_csv(file) for file in file_names)\n",
    "    return(pd.concat(df_temp, ignore_index=True, axis='index'))"
   ]
  },
  {
   "cell_type": "markdown",
   "id": "6811f51e",
   "metadata": {},
   "source": [
    "### y_train"
   ]
  },
  {
   "cell_type": "code",
   "execution_count": 3,
   "id": "88c13c3b",
   "metadata": {},
   "outputs": [],
   "source": [
    "path = 'bank-churn-prediction/data/raw/y_train_3/y_Q[34]_3.csv'\n",
    "y_train = merge_file(path)"
   ]
  },
  {
   "cell_type": "code",
   "execution_count": 4,
   "id": "321283e6",
   "metadata": {},
   "outputs": [],
   "source": [
    "y_train.to_csv('bank-churn-prediction/data/preprocess/y_train.csv', index=False)"
   ]
  },
  {
   "cell_type": "code",
   "execution_count": 5,
   "id": "9244cd6d",
   "metadata": {},
   "outputs": [
    {
     "data": {
      "text/plain": [
       "62397"
      ]
     },
     "execution_count": 5,
     "metadata": {},
     "output_type": "execute_result"
    }
   ],
   "source": [
    "y_train['cust_no'].duplicated().sum() # id 중복 확인"
   ]
  },
  {
   "cell_type": "code",
   "execution_count": 6,
   "id": "1ad4fd5c",
   "metadata": {},
   "outputs": [
    {
     "data": {
      "text/plain": [
       "40090"
      ]
     },
     "execution_count": 6,
     "metadata": {},
     "output_type": "execute_result"
    }
   ],
   "source": [
    "y_train.duplicated().sum() # 모든 값 중복"
   ]
  },
  {
   "cell_type": "markdown",
   "id": "9917b298",
   "metadata": {},
   "source": [
    "=> 22307명의 고객은 3분기 -> 4분기에 따라 이탈 선호가 변화함  \n",
    "=> 확인해본 결과 같은 분기 내에 cust_no 중복은 없음  \n",
    "=> 분기에 따라 중복 판단, 같은 분기 안에서는 마지막 기록이 정확하다고 판단해 마지막 기록을 남겨두기로 결정\n",
    "=> "
   ]
  },
  {
   "cell_type": "markdown",
   "id": "dc59d991",
   "metadata": {},
   "source": [
    "### X_train  \n"
   ]
  },
  {
   "cell_type": "code",
   "execution_count": 7,
   "id": "082a7c90",
   "metadata": {},
   "outputs": [],
   "source": [
    "path = 'bank-churn-prediction/data/raw/y_train_3/'\n",
    "y_Q3_3 = pd.read_csv(path + 'y_Q3_3.csv')\n",
    "y_Q4_3 = pd.read_csv(path + 'y_Q4_3.csv')"
   ]
  },
  {
   "cell_type": "code",
   "execution_count": 8,
   "id": "7a0a9b93",
   "metadata": {},
   "outputs": [],
   "source": [
    "# cust_no 열만 남기기\n",
    "X_train_Q3 = y_Q3_3.drop('label', axis=1).copy()\n",
    "X_train_Q4 = y_Q4_3.drop('label', axis=1).copy()"
   ]
  },
  {
   "cell_type": "markdown",
   "id": "bf8346c5",
   "metadata": {},
   "source": [
    "1. Customer Assets (aum)  \n",
    "  \n",
    "aum_m(Y)  \n",
    "This set includes customer's asset at the end of month Y."
   ]
  },
  {
   "cell_type": "code",
   "execution_count": 9,
   "id": "4167c45d",
   "metadata": {},
   "outputs": [],
   "source": [
    "# Q3\n",
    "path = 'bank-churn-prediction/data/raw/x_train/aum_m[789].csv'\n",
    "aum_Q3 = merge_file(path)"
   ]
  },
  {
   "cell_type": "code",
   "execution_count": 10,
   "id": "34132387",
   "metadata": {},
   "outputs": [],
   "source": [
    "# Q4\n",
    "path = 'bank-churn-prediction/data/raw/x_train/aum_m1[012].csv'\n",
    "aum_Q4 = merge_file(path)"
   ]
  },
  {
   "cell_type": "code",
   "execution_count": 11,
   "id": "3ec4af55",
   "metadata": {
    "scrolled": true
   },
   "outputs": [],
   "source": [
    "# Drop duplicated customer IDs except for the last occurrance\n",
    "## 잔고 --> 마지막 기록만 남기기\n",
    "aum_Q3 = aum_Q3.drop_duplicates(subset=['cust_no'], keep='last')\n",
    "aum_Q4 = aum_Q4.drop_duplicates(subset=['cust_no'], keep='last')"
   ]
  },
  {
   "cell_type": "code",
   "execution_count": 12,
   "id": "38479c28",
   "metadata": {},
   "outputs": [],
   "source": [
    "# # Trim by the customer IDs in `y_train` set, separated by quarter\n",
    "# aum_Q3 = trim_by_quarter(aum_Q3, True)\n",
    "# aum_Q4 = trim_by_quarter(aum_Q4, False)"
   ]
  },
  {
   "cell_type": "code",
   "execution_count": 13,
   "id": "8d07060f",
   "metadata": {},
   "outputs": [],
   "source": [
    "# Merge to X_train\n",
    "X_train_Q3 = X_train_Q3.merge(aum_Q3, how='left', on='cust_no')\n",
    "X_train_Q4 = X_train_Q4.merge(aum_Q4, how='left', on='cust_no')"
   ]
  },
  {
   "cell_type": "markdown",
   "id": "183d97c8",
   "metadata": {},
   "source": [
    "* Customer Behavior (behavior)  \n",
    "  \n",
    "behavior_m(Y)  \n",
    "This set records customers' behaviors in month Y.  \n",
    "Column B6 and B7 only have data if month == [3, 6, 9, 12]. "
   ]
  },
  {
   "cell_type": "code",
   "execution_count": 14,
   "id": "bfd033cb",
   "metadata": {},
   "outputs": [],
   "source": [
    "# Q3\n",
    "path = 'bank-churn-prediction/data/raw/x_train/behavior_m[789].csv'\n",
    "behavior_Q3 = merge_file(path)"
   ]
  },
  {
   "cell_type": "code",
   "execution_count": 15,
   "id": "1b4958b7",
   "metadata": {},
   "outputs": [],
   "source": [
    "# Q4\n",
    "path = 'bank-churn-prediction/data/raw/x_train/behavior_m1[012].csv'\n",
    "behavior_Q4 = merge_file(path)"
   ]
  },
  {
   "cell_type": "code",
   "execution_count": 16,
   "id": "6ff3f82f",
   "metadata": {},
   "outputs": [],
   "source": [
    "# Drop duplicated customer IDs except for the last occurrance\n",
    "## 로그인 횟수, 입금 횟수, 금액 등 -> 마지막만 남겨두기\n",
    "behavior_Q3 = behavior_Q3.drop_duplicates(subset=['cust_no'], keep='last')\n",
    "behavior_Q4 = behavior_Q4.drop_duplicates(subset=['cust_no'], keep='last')"
   ]
  },
  {
   "cell_type": "code",
   "execution_count": 17,
   "id": "99779ed3",
   "metadata": {},
   "outputs": [],
   "source": [
    "# Merge to X_train\n",
    "X_train_Q3 = X_train_Q3.merge(behavior_Q3, how='left', on='cust_no')\n",
    "X_train_Q4 = X_train_Q4.merge(behavior_Q4, how='left', on='cust_no')"
   ]
  },
  {
   "cell_type": "markdown",
   "id": "ecfe5c8f",
   "metadata": {},
   "source": [
    "* Important Customer Behavior (big_event) \n",
    "  \n",
    "big_event_Q(Z)  \n",
    "This set records customers' important behaviors in the season Z."
   ]
  },
  {
   "cell_type": "code",
   "execution_count": 18,
   "id": "7cf5f253",
   "metadata": {},
   "outputs": [
    {
     "name": "stderr",
     "output_type": "stream",
     "text": [
      "C:\\ProgramData\\Anaconda3\\lib\\site-packages\\pandas\\core\\reshape\\concat.py:348: DtypeWarning: Columns (9) have mixed types.Specify dtype option on import or set low_memory=False.\n",
      "  objs = list(objs)\n"
     ]
    }
   ],
   "source": [
    "# Q3\n",
    "path = 'bank-churn-prediction/data/raw/x_train/big_event_Q3.csv'\n",
    "big_event_Q3 = merge_file(path)"
   ]
  },
  {
   "cell_type": "code",
   "execution_count": 19,
   "id": "cdb2abee",
   "metadata": {},
   "outputs": [],
   "source": [
    "# Q4\n",
    "path = 'bank-churn-prediction/data/raw/x_train/big_event_Q4.csv'\n",
    "big_event_Q4 = merge_file(path)"
   ]
  },
  {
   "cell_type": "code",
   "execution_count": 20,
   "id": "91d714da",
   "metadata": {},
   "outputs": [],
   "source": [
    "## cust_no 중복없음"
   ]
  },
  {
   "cell_type": "code",
   "execution_count": 21,
   "id": "8935d921",
   "metadata": {},
   "outputs": [],
   "source": [
    "# Merge to X_train\n",
    "X_train_Q3 = X_train_Q3.merge(big_event_Q3, how='left', on='cust_no')\n",
    "X_train_Q4 = X_train_Q4.merge(big_event_Q4, how='left', on='cust_no')"
   ]
  },
  {
   "cell_type": "markdown",
   "id": "98b5c687",
   "metadata": {},
   "source": [
    "* Customer Deposits (cunkuan)  \n",
    "  \n",
    "cunkuan_m(Y)  \n",
    "This set contains customers' deposits in month Y."
   ]
  },
  {
   "cell_type": "code",
   "execution_count": 22,
   "id": "da69272a",
   "metadata": {},
   "outputs": [],
   "source": [
    "# Q3\n",
    "path = 'bank-churn-prediction/data/raw/x_train/cunkuan_m[789].csv'\n",
    "savings_Q3 = merge_file(path)"
   ]
  },
  {
   "cell_type": "code",
   "execution_count": 23,
   "id": "014be6cb",
   "metadata": {},
   "outputs": [],
   "source": [
    "# Q4\n",
    "path = 'bank-churn-prediction/data/raw/x_train/cunkuan_m1[012].csv'\n",
    "savings_Q4 = merge_file(path)"
   ]
  },
  {
   "cell_type": "code",
   "execution_count": 24,
   "id": "f1eaccbe",
   "metadata": {},
   "outputs": [],
   "source": [
    "# Drop duplicated customer IDs except for the last occurrance\n",
    "## 예금 상품 가치, 예금 상품 수 -> 마지막만 남기기\n",
    "savings_Q3 = savings_Q3.drop_duplicates(subset=['cust_no'], keep='last')\n",
    "savings_Q4 = savings_Q4.drop_duplicates(subset=['cust_no'], keep='last')"
   ]
  },
  {
   "cell_type": "code",
   "execution_count": 25,
   "id": "429c6147",
   "metadata": {},
   "outputs": [],
   "source": [
    "# Merge to X_train\n",
    "X_train_Q3 = X_train_Q3.merge(savings_Q3, how='left', on='cust_no')\n",
    "X_train_Q4 = X_train_Q4.merge(savings_Q4, how='left', on='cust_no')"
   ]
  },
  {
   "cell_type": "markdown",
   "id": "c60e09d7",
   "metadata": {},
   "source": [
    "* Valid Customer (cust_avli)  \n",
    "  \n",
    "cust_avli_Q(Z)  \n",
    "This set contains valid customer IDs in the season Z."
   ]
  },
  {
   "cell_type": "code",
   "execution_count": 26,
   "id": "0e2b501b",
   "metadata": {},
   "outputs": [],
   "source": [
    "# Q3\n",
    "path = 'bank-churn-prediction/data/raw/x_train/cust_avli_Q3.csv'\n",
    "cust_avli_Q3 = merge_file(path)"
   ]
  },
  {
   "cell_type": "code",
   "execution_count": 27,
   "id": "367c8ad4",
   "metadata": {},
   "outputs": [],
   "source": [
    "# Q4\n",
    "path = 'bank-churn-prediction/data/raw/x_train/cust_avli_Q4.csv'\n",
    "cust_avli_Q4 = merge_file(path)"
   ]
  },
  {
   "cell_type": "code",
   "execution_count": 28,
   "id": "3d113aca",
   "metadata": {},
   "outputs": [
    {
     "name": "stdout",
     "output_type": "stream",
     "text": [
      "True\n",
      "True\n"
     ]
    }
   ],
   "source": [
    "print(len(cust_avli_Q3.value_counts()) == y_Q3_3.shape[0]) # cust_no 개수 같은지 확인\n",
    "print(len(cust_avli_Q4.value_counts()) == y_Q4_3.shape[0])"
   ]
  },
  {
   "cell_type": "markdown",
   "id": "77d5da47",
   "metadata": {},
   "source": [
    "* Customer Trivias (cust_info)  \n",
    "  \n",
    "cust_info_q(Z)  \n",
    "This set contains customer information in the season Z."
   ]
  },
  {
   "cell_type": "code",
   "execution_count": 29,
   "id": "b6c77221",
   "metadata": {},
   "outputs": [],
   "source": [
    "# Q3\n",
    "path = 'bank-churn-prediction/data/raw/x_train/cust_info_q3.csv'\n",
    "cust_info_Q3 = merge_file(path)"
   ]
  },
  {
   "cell_type": "code",
   "execution_count": 30,
   "id": "c27a1ebd",
   "metadata": {},
   "outputs": [],
   "source": [
    "# Q4\n",
    "path = 'bank-churn-prediction/data/raw/x_train/cust_info_q4.csv'\n",
    "cust_info_Q4 = merge_file(path)"
   ]
  },
  {
   "cell_type": "code",
   "execution_count": 31,
   "id": "60b72cbc",
   "metadata": {},
   "outputs": [],
   "source": [
    "## cust_no 중복없음"
   ]
  },
  {
   "cell_type": "code",
   "execution_count": 32,
   "id": "08c628ee",
   "metadata": {},
   "outputs": [],
   "source": [
    "# Merge to X_train\n",
    "X_train_Q3 = X_train_Q3.merge(cust_info_Q3, how='left', on='cust_no')\n",
    "X_train_Q4 = X_train_Q4.merge(cust_info_Q4, how='left', on='cust_no')"
   ]
  },
  {
   "cell_type": "markdown",
   "id": "026cd940",
   "metadata": {},
   "source": [
    "X_train ready"
   ]
  },
  {
   "cell_type": "code",
   "execution_count": 33,
   "id": "fe742398",
   "metadata": {},
   "outputs": [
    {
     "name": "stdout",
     "output_type": "stream",
     "text": [
      "(69126, 56)\n",
      "(76170, 56)\n"
     ]
    }
   ],
   "source": [
    "print(X_train_Q3.shape)\n",
    "print(X_train_Q4.shape)"
   ]
  },
  {
   "cell_type": "code",
   "execution_count": 34,
   "id": "79b7225b",
   "metadata": {},
   "outputs": [
    {
     "data": {
      "text/plain": [
       "(145296, 56)"
      ]
     },
     "execution_count": 34,
     "metadata": {},
     "output_type": "execute_result"
    }
   ],
   "source": [
    "X_train = X_train_Q3.append(X_train_Q4)\n",
    "X_train.shape"
   ]
  },
  {
   "cell_type": "code",
   "execution_count": 35,
   "id": "8e5dcc90",
   "metadata": {},
   "outputs": [],
   "source": [
    "X_train.to_csv('bank-churn-prediction/data/preprocess/X_train.csv', index=False)"
   ]
  },
  {
   "cell_type": "markdown",
   "id": "07f66b8f",
   "metadata": {},
   "source": [
    "## X_test"
   ]
  },
  {
   "cell_type": "markdown",
   "id": "b304038b",
   "metadata": {},
   "source": [
    "* Customer Assets (aum)"
   ]
  },
  {
   "cell_type": "code",
   "execution_count": 36,
   "id": "e6d5a997",
   "metadata": {},
   "outputs": [],
   "source": [
    "# Q1\n",
    "path = 'bank-churn-prediction/data/raw/x_test/aum_m[123].csv'\n",
    "aum_Q1 = merge_file(path)"
   ]
  },
  {
   "cell_type": "code",
   "execution_count": 37,
   "id": "b7e83bce",
   "metadata": {},
   "outputs": [
    {
     "data": {
      "text/plain": [
       "1159826"
      ]
     },
     "execution_count": 37,
     "metadata": {},
     "output_type": "execute_result"
    }
   ],
   "source": [
    "aum_Q1['cust_no'].duplicated().sum()"
   ]
  },
  {
   "cell_type": "code",
   "execution_count": 38,
   "id": "dc67a756",
   "metadata": {},
   "outputs": [],
   "source": [
    "# Drop duplicated customer IDs except for the last occurrance\n",
    "aum_Q1 = aum_Q1.drop_duplicates(subset=['cust_no'], keep='last')"
   ]
  },
  {
   "cell_type": "markdown",
   "id": "a256c268",
   "metadata": {},
   "source": [
    "* Customer Behavior (behavior)"
   ]
  },
  {
   "cell_type": "code",
   "execution_count": 39,
   "id": "de46eb82",
   "metadata": {},
   "outputs": [],
   "source": [
    "# Q1\n",
    "path = 'bank-churn-prediction/data/raw/x_test/behavior_m[123].csv'\n",
    "behavior_Q1 = merge_file(path)"
   ]
  },
  {
   "cell_type": "code",
   "execution_count": 40,
   "id": "7fbbe84c",
   "metadata": {},
   "outputs": [
    {
     "data": {
      "text/plain": [
       "460169"
      ]
     },
     "execution_count": 40,
     "metadata": {},
     "output_type": "execute_result"
    }
   ],
   "source": [
    "behavior_Q1.duplicated().sum()"
   ]
  },
  {
   "cell_type": "code",
   "execution_count": 41,
   "id": "0d2aadf3",
   "metadata": {},
   "outputs": [],
   "source": [
    "# Drop duplicated customer IDs except for the last occurrance\n",
    "behavior_Q1 = behavior_Q1.drop_duplicates(subset=['cust_no'], keep='last')"
   ]
  },
  {
   "cell_type": "markdown",
   "id": "f6b602fa",
   "metadata": {},
   "source": [
    "* Important Customer Behavior (big_event)"
   ]
  },
  {
   "cell_type": "code",
   "execution_count": 42,
   "id": "9769da7b",
   "metadata": {},
   "outputs": [],
   "source": [
    "# Q1\n",
    "path = 'bank-churn-prediction/data/raw/x_test/big_event_Q1.csv'\n",
    "big_event_Q1 = merge_file(path)"
   ]
  },
  {
   "cell_type": "code",
   "execution_count": 43,
   "id": "b6c5cdea",
   "metadata": {},
   "outputs": [
    {
     "data": {
      "text/plain": [
       "0"
      ]
     },
     "execution_count": 43,
     "metadata": {},
     "output_type": "execute_result"
    }
   ],
   "source": [
    "big_event_Q1['cust_no'].duplicated().sum()"
   ]
  },
  {
   "cell_type": "markdown",
   "id": "b694778a",
   "metadata": {},
   "source": [
    "* Customer Deposits (cunkuan)"
   ]
  },
  {
   "cell_type": "code",
   "execution_count": 44,
   "id": "f0cdfdb7",
   "metadata": {},
   "outputs": [],
   "source": [
    "# Q1\n",
    "path = 'bank-churn-prediction/data/raw/x_test/cunkuan_m[123].csv'\n",
    "savings_Q1 = merge_file(path)"
   ]
  },
  {
   "cell_type": "code",
   "execution_count": 45,
   "id": "731660cf",
   "metadata": {},
   "outputs": [
    {
     "data": {
      "text/plain": [
       "247240"
      ]
     },
     "execution_count": 45,
     "metadata": {},
     "output_type": "execute_result"
    }
   ],
   "source": [
    "savings_Q1.duplicated().sum()"
   ]
  },
  {
   "cell_type": "code",
   "execution_count": 46,
   "id": "abefa79c",
   "metadata": {},
   "outputs": [],
   "source": [
    "# Drop duplicated customer IDs except for the last occurrance\n",
    "savings_Q1 = savings_Q1.drop_duplicates(subset=['cust_no'], keep='last')"
   ]
  },
  {
   "cell_type": "markdown",
   "id": "e4469cf0",
   "metadata": {},
   "source": [
    "* Valid Customer (cust_avli)"
   ]
  },
  {
   "cell_type": "code",
   "execution_count": 47,
   "id": "3b2fdcb7",
   "metadata": {},
   "outputs": [],
   "source": [
    "# Q1\n",
    "path = 'bank-churn-prediction/data/raw/x_test/cust_avli_Q1.csv'\n",
    "cust_avli_Q1 = merge_file(path)"
   ]
  },
  {
   "cell_type": "markdown",
   "id": "4324a6ff",
   "metadata": {},
   "source": [
    "* Customer Trivias (cust_info)"
   ]
  },
  {
   "cell_type": "code",
   "execution_count": 48,
   "id": "c4c5941e",
   "metadata": {},
   "outputs": [],
   "source": [
    "# Q1\n",
    "path = 'bank-churn-prediction/data/raw/x_test/cust_info_q1.csv'\n",
    "cust_info_Q1 = merge_file(path)"
   ]
  },
  {
   "cell_type": "code",
   "execution_count": 49,
   "id": "6aed29c8",
   "metadata": {},
   "outputs": [
    {
     "data": {
      "text/plain": [
       "0"
      ]
     },
     "execution_count": 49,
     "metadata": {},
     "output_type": "execute_result"
    }
   ],
   "source": [
    "cust_info_Q1['cust_no'].duplicated().sum()"
   ]
  },
  {
   "cell_type": "markdown",
   "id": "bb59eaf8",
   "metadata": {},
   "source": [
    "X_test Ready"
   ]
  },
  {
   "cell_type": "code",
   "execution_count": 50,
   "id": "129236ca",
   "metadata": {},
   "outputs": [],
   "source": [
    "X_test = cust_avli_Q1.copy()"
   ]
  },
  {
   "cell_type": "code",
   "execution_count": 51,
   "id": "ddd68988",
   "metadata": {},
   "outputs": [
    {
     "data": {
      "text/plain": [
       "(76722, 56)"
      ]
     },
     "execution_count": 51,
     "metadata": {},
     "output_type": "execute_result"
    }
   ],
   "source": [
    "X_test = X_test.merge(aum_Q1, how='left', on='cust_no')\n",
    "X_test = X_test.merge(behavior_Q1, how='left', on='cust_no')\n",
    "X_test = X_test.merge(big_event_Q1, how='left', on='cust_no')\n",
    "X_test = X_test.merge(savings_Q1, how='left', on='cust_no')\n",
    "X_test = X_test.merge(cust_info_Q1, how='left', on='cust_no')\n",
    "X_test.shape"
   ]
  },
  {
   "cell_type": "code",
   "execution_count": 52,
   "id": "a59f4028",
   "metadata": {},
   "outputs": [],
   "source": [
    "X_test.to_csv('bank-churn-prediction/data/preprocess/X_test.csv', index=False)"
   ]
  },
  {
   "cell_type": "code",
   "execution_count": null,
   "id": "423f2374",
   "metadata": {},
   "outputs": [],
   "source": []
  },
  {
   "cell_type": "code",
   "execution_count": null,
   "id": "707edc7e",
   "metadata": {},
   "outputs": [],
   "source": []
  },
  {
   "cell_type": "markdown",
   "id": "fa7e2df2",
   "metadata": {},
   "source": [
    "## 전처리  \n",
    "  \n",
    "-> 고려해야할 것:  \n",
    "어떤 열을 선택할 지, 결측치 어떻게 처리할 지"
   ]
  },
  {
   "cell_type": "code",
   "execution_count": 121,
   "id": "915a1fd5",
   "metadata": {},
   "outputs": [],
   "source": [
    "import pandas as pd\n",
    "import numpy as np\n",
    "from datetime import datetime, date\n",
    "from sklearn.preprocessing import OneHotEncoder, LabelBinarizer"
   ]
  },
  {
   "cell_type": "code",
   "execution_count": 118,
   "id": "1b00f759",
   "metadata": {},
   "outputs": [],
   "source": [
    "X = pd.read_csv('bank-churn-prediction/data/preprocess/X_train.csv')\n",
    "y = pd.read_csv('bank-churn-prediction/data/preprocess/y_train.csv')\n",
    "X_true = pd.read_csv('bank-churn-prediction/data/preprocess/X_test.csv')"
   ]
  },
  {
   "cell_type": "markdown",
   "id": "ff536b7b",
   "metadata": {},
   "source": [
    "### y (Label for Validation)"
   ]
  },
  {
   "cell_type": "code",
   "execution_count": 119,
   "id": "b9f26640",
   "metadata": {},
   "outputs": [
    {
     "data": {
      "text/plain": [
       " 1    63.882006\n",
       " 0    20.810621\n",
       "-1    15.307373\n",
       "Name: label, dtype: float64"
      ]
     },
     "execution_count": 119,
     "metadata": {},
     "output_type": "execute_result"
    }
   ],
   "source": [
    "y['label'].value_counts() / len(y) * 100"
   ]
  },
  {
   "cell_type": "code",
   "execution_count": 122,
   "id": "6627b335",
   "metadata": {
    "scrolled": true
   },
   "outputs": [
    {
     "data": {
      "text/plain": [
       "LabelBinarizer()"
      ]
     },
     "execution_count": 122,
     "metadata": {},
     "output_type": "execute_result"
    }
   ],
   "source": [
    "lb = LabelBinarizer()\n",
    "lb.fit(y['label'])"
   ]
  },
  {
   "cell_type": "code",
   "execution_count": 123,
   "id": "3c9be4c5",
   "metadata": {
    "scrolled": true
   },
   "outputs": [
    {
     "data": {
      "text/plain": [
       "array([-1,  0,  1], dtype=int64)"
      ]
     },
     "execution_count": 123,
     "metadata": {},
     "output_type": "execute_result"
    }
   ],
   "source": [
    "lb.classes_"
   ]
  },
  {
   "cell_type": "code",
   "execution_count": 124,
   "id": "98d39b17",
   "metadata": {},
   "outputs": [],
   "source": [
    "y_label = lb.transform(y['label'])"
   ]
  },
  {
   "cell_type": "markdown",
   "id": "14142704",
   "metadata": {},
   "source": [
    "### X (Feature for Training)"
   ]
  },
  {
   "cell_type": "markdown",
   "id": "110b07e6",
   "metadata": {},
   "source": [
    "1. 열별 결측치 비율 확인  \n",
    "결측치 50% 이상이면 의미 없지 않을까...?  "
   ]
  },
  {
   "cell_type": "markdown",
   "id": "6b10efa5",
   "metadata": {},
   "source": [
    "**E4**(58.15%) : first online banking login date  \n",
    "**E7**(98%) : first time deposit date (최초 입금 일)   \n",
    "**E8**(87.67%) : first loan date (최초 대출 일)  \n",
    "**E9**(99.95%) : first overdue date (최초 연체 날짜)  \n",
    "**E11**(100%) : first bank-securities transfer date (최초 은행 - 증권 이체 날짜)  \n",
    "**E12**(83.5%) : first transfer at counter date (최초 카운터에서 이체 날짜)  \n",
    "**E13**(87.75%) : first transfer via online banking date (온라인 뱅킹을 이용한 최초 이체 날짜)  \n",
    "**E14**(61.95%) : first transfer via mobile banking date (모바일 뱅킹을 이용한 최초 이체 날짜)   \n",
    "**I9**(100%) : contribution (기부금)  \n",
    "**I10**(88.43%) : education level (교육 수준)  \n",
    "**I13**(98.49%) : marriage description\n",
    "**I14**(89.23%) : occupation description"
   ]
  },
  {
   "cell_type": "code",
   "execution_count": 127,
   "id": "21b4105d",
   "metadata": {
    "scrolled": true
   },
   "outputs": [
    {
     "data": {
      "text/plain": [
       "cust_no      0.000000\n",
       "X1           0.000000\n",
       "X2           0.000000\n",
       "X3           0.000000\n",
       "X4           0.000000\n",
       "X5           0.000000\n",
       "X6           0.000000\n",
       "X7           0.000000\n",
       "X8           0.000000\n",
       "B1           0.000000\n",
       "B2           0.000000\n",
       "B3           0.000000\n",
       "B4           0.000000\n",
       "B5           0.000000\n",
       "B6           6.110285\n",
       "B7           0.000000\n",
       "E1           0.000000\n",
       "E2           4.384154\n",
       "E3           4.384154\n",
       "E4          58.145441\n",
       "E5          37.942545\n",
       "E6           5.188030\n",
       "E7          98.008204\n",
       "E8          87.669998\n",
       "E9          99.952511\n",
       "E10          0.561612\n",
       "E11        100.000000\n",
       "E12         83.501266\n",
       "E13         87.753276\n",
       "E14         61.949400\n",
       "E15          0.000000\n",
       "E16         47.165786\n",
       "E17          0.000000\n",
       "E18         42.772685\n",
       "C1           0.004818\n",
       "C2           0.004818\n",
       "I1           0.044048\n",
       "I2           0.000000\n",
       "I3           0.000000\n",
       "I4           0.000000\n",
       "I5           7.986455\n",
       "I6           0.000000\n",
       "I7           0.000000\n",
       "I8           0.000000\n",
       "I9         100.000000\n",
       "I10         88.431203\n",
       "I11          0.000000\n",
       "I12          0.000000\n",
       "I13         98.494109\n",
       "I14         89.231637\n",
       "I15          0.000000\n",
       "I16          0.000000\n",
       "I17          0.000000\n",
       "I18          0.000000\n",
       "I19          0.000000\n",
       "I20          0.000000\n",
       "dtype: float64"
      ]
     },
     "execution_count": 127,
     "metadata": {},
     "output_type": "execute_result"
    }
   ],
   "source": [
    "X.isnull().sum()/len(X) * 100"
   ]
  },
  {
   "cell_type": "code",
   "execution_count": 131,
   "id": "22436483",
   "metadata": {},
   "outputs": [],
   "source": [
    "# Drop columns with large portion of missing values\n",
    "col_to_drop = ['E4', 'E7', 'E8', 'E9', 'E11', 'E12', 'E13', 'E14', 'I9', 'I10', 'I13', 'I14']\n",
    "X = X.drop(col_to_drop, axis=1)"
   ]
  },
  {
   "cell_type": "code",
   "execution_count": 133,
   "id": "bedc723c",
   "metadata": {
    "scrolled": true
   },
   "outputs": [
    {
     "data": {
      "text/plain": [
       "cust_no     0.000000\n",
       "X1          0.000000\n",
       "X2          0.000000\n",
       "X3          0.000000\n",
       "X4          0.000000\n",
       "X5          0.000000\n",
       "X6          0.000000\n",
       "X7          0.000000\n",
       "X8          0.000000\n",
       "B1          0.000000\n",
       "B2          0.000000\n",
       "B3          0.000000\n",
       "B4          0.000000\n",
       "B5          0.000000\n",
       "B6          6.110285\n",
       "B7          0.000000\n",
       "E1          0.000000\n",
       "E2          4.384154\n",
       "E3          4.384154\n",
       "E5         37.942545\n",
       "E6          5.188030\n",
       "E10         0.561612\n",
       "E15         0.000000\n",
       "E16        47.165786\n",
       "E17         0.000000\n",
       "E18        42.772685\n",
       "C1          0.004818\n",
       "C2          0.004818\n",
       "I1          0.044048\n",
       "I2          0.000000\n",
       "I3          0.000000\n",
       "I4          0.000000\n",
       "I5          7.986455\n",
       "I6          0.000000\n",
       "I7          0.000000\n",
       "I8          0.000000\n",
       "I11         0.000000\n",
       "I12         0.000000\n",
       "I15         0.000000\n",
       "I16         0.000000\n",
       "I17         0.000000\n",
       "I18         0.000000\n",
       "I19         0.000000\n",
       "I20         0.000000\n",
       "dtype: float64"
      ]
     },
     "execution_count": 133,
     "metadata": {},
     "output_type": "execute_result"
    }
   ],
   "source": [
    "X.isnull().sum()/len(X) * 100"
   ]
  },
  {
   "cell_type": "markdown",
   "id": "28092c19",
   "metadata": {},
   "source": [
    "**결측치 존재: ['B6', 'E2', 'E3', 'E5', 'E6', 'E10', 'E16', 'E18', 'C1', 'C2', 'I1', 'I5']**\n",
    "\n",
    "#### customer's asset at the end of month Y.\n",
    "\n",
    "- X1 : structured deposit balance(구조화 예금 잔액)\n",
    "- X2 : time deposit balance (정기 예금 잔액)\n",
    "- X3 : demand deposit balance (입출금 통장 잔액)\n",
    "- X4 : financial products balance (금융 상품 잔액)\n",
    "- X5 : fund balance (펀드 잔액)\n",
    "- X6 : asset management balance (자산 관리 잔액)\n",
    "- X7 : loan balance (대출 잔액)\n",
    "- X8 : large deposit certificate balance (거액 예금 증서 잔액)\n",
    "\n",
    "#### customers' behaviors in month Y.  \n",
    "  \n",
    "Column B6 and B7 only have data if month == [3, 6, 9, 12].\n",
    "\n",
    "- B1 : mobile banking login times (로그인 횟수)\n",
    "- B2 : transfer-in times (입금 횟수)\n",
    "- B3 : transfer-in money amount (입금 금액)\n",
    "- B4 : transfer-out times (출금 횟수)\n",
    "- B5 : transfer-out money amount (출금 금액)\n",
    "- **B6(6.11%) : latest transfer time (마지막 거래 시간)**\n",
    "    - min값으로 대체?\n",
    "- B7 : number of transfers in a season (거래 횟수?)\n",
    "\n",
    "#### customers' important behaviors in the season Z.\n",
    "\n",
    "- E1 : account opening date \n",
    "- **E2(4.38%) : online banking opening date** \n",
    "    - max값으로 대체?\n",
    "- **E3(4.38%) : mobile banking opening date** \n",
    "    - max값으로 대체?\n",
    "- ~~E4 : first online banking login date~~ \n",
    "- **E5(37.94%) : first mobile banking login date**\n",
    "    - max값으로 대체?\n",
    "- **E6(5.19%) : first demand deposit date**\n",
    "    - 평균값으로 대체?\n",
    "- ~~E7 : first time deposit date (최초 입금 일)~~\n",
    "- ~~E8 : first loan date (최초 대출 일)~~\n",
    "- ~~E9 : first overdue date (최초 연체 날짜)~~\n",
    "- **E10(0.56%) : first cash transaction date (최초 현금 거래일)** \n",
    "    - 평균값으로 대체?\n",
    "- ~~E11 : first bank-securities transfer date (최초 은행 - 증권 이체 날짜)~~\n",
    "- ~~E12 : first transfer at counter date (최초 카운터에서 이체 날짜)~~\n",
    "- ~~E13 : first transfer via online banking date (온라인 뱅킹을 이용한 최초 이체 날짜)~~\n",
    "- ~~E14 : first transfer via mobile banking date (모바일 뱅킹을 이용한 최초 이체 날짜)~~\n",
    "- E15 : maximum amount transferred out of another bank (다른 은행에서 이체된 최대 금액)\n",
    "- **E16(47.17%) : maximum amount transferred out of another bank date (다른 은행에서 이체된 최대 금액이 이체된 날짜)** \n",
    "    - 평균값으로 대체?\n",
    "- E17 : Maximum transfer amount from other bank (타 은행 최대 이체 금액)\n",
    "- **E18(42.77%) : Maximum transfer amount from other bank date (타 은행 최대 이체 금액 이체 날짜)** \n",
    "    - 평균값으로 대체?  \n",
    "    \n",
    "#### customers' deposits in month Y.\n",
    "\n",
    "- **C1(0.005%) : deposit products value (예금 상품 가치)**  \n",
    "    - 0으로 대체\n",
    "- **C2(0.005%) : number of deposit products (예금 상품 수)**\n",
    "    - 0으로 대체  \n",
    "    \n",
    "#### valid customer IDs in the season Z.\n",
    "\n",
    "####  customer information in the season Z.\n",
    "\n",
    "- **l1(0.044%) : gender (성별)**\n",
    "    - '여자'로 대체?\n",
    "- l2 : age (나이)\n",
    "- l3 : class\n",
    "- l4 : tag\n",
    "- **I5(7.99%) : occupation (직업)**\n",
    "    - '무직'으로 대체?\n",
    "- I6 : deposit customer tag (예금 고객 태그)\n",
    "- I7 : number of products owning (보유 제품 수)\n",
    "- I8 : constellation (별자리)\n",
    "- ~~I9 : contribution (기부금)~~\n",
    "- I10 : education level (교육 수준)\n",
    "- I11 : family annual income (가구 연간 소득)\n",
    "- I12 : field description\n",
    "- ~~I13 : marriage description~~\n",
    "- ~~I14 : occupation description~~\n",
    "- I15 : QR code recipient\n",
    "- I16 : VIP (vip 여부)\n",
    "- I17 : online banking client\n",
    "- I18 : mobile banking client\n",
    "- I19 : SMS client\n",
    "- I20 : WeChat Pay client"
   ]
  },
  {
   "cell_type": "code",
   "execution_count": null,
   "id": "07b8658c",
   "metadata": {},
   "outputs": [],
   "source": []
  },
  {
   "cell_type": "code",
   "execution_count": null,
   "id": "a32cdf59",
   "metadata": {},
   "outputs": [],
   "source": []
  }
 ],
 "metadata": {
  "kernelspec": {
   "display_name": "Python 3 (ipykernel)",
   "language": "python",
   "name": "python3"
  },
  "language_info": {
   "codemirror_mode": {
    "name": "ipython",
    "version": 3
   },
   "file_extension": ".py",
   "mimetype": "text/x-python",
   "name": "python",
   "nbconvert_exporter": "python",
   "pygments_lexer": "ipython3",
   "version": "3.9.7"
  }
 },
 "nbformat": 4,
 "nbformat_minor": 5
}
